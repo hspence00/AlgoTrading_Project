{
 "cells": [
  {
   "cell_type": "code",
   "execution_count": 1,
   "id": "c81d8810-d393-4df6-9783-9e77f3d9c6a0",
   "metadata": {},
   "outputs": [],
   "source": [
    "import pandas as pd\n",
    "import yfinance as yf"
   ]
  },
  {
   "cell_type": "code",
   "execution_count": 2,
   "id": "3b83be16-eff9-4694-bc96-7a85e118e972",
   "metadata": {},
   "outputs": [
    {
     "name": "stdout",
     "output_type": "stream",
     "text": [
      "[*********************100%***********************]  1 of 1 completed\n"
     ]
    },
    {
     "data": {
      "text/html": [
       "<div>\n",
       "<style scoped>\n",
       "    .dataframe tbody tr th:only-of-type {\n",
       "        vertical-align: middle;\n",
       "    }\n",
       "\n",
       "    .dataframe tbody tr th {\n",
       "        vertical-align: top;\n",
       "    }\n",
       "\n",
       "    .dataframe thead th {\n",
       "        text-align: right;\n",
       "    }\n",
       "</style>\n",
       "<table border=\"1\" class=\"dataframe\">\n",
       "  <thead>\n",
       "    <tr style=\"text-align: right;\">\n",
       "      <th></th>\n",
       "      <th>Open</th>\n",
       "      <th>High</th>\n",
       "      <th>Low</th>\n",
       "      <th>Close</th>\n",
       "      <th>Volume</th>\n",
       "    </tr>\n",
       "    <tr>\n",
       "      <th>Date</th>\n",
       "      <th></th>\n",
       "      <th></th>\n",
       "      <th></th>\n",
       "      <th></th>\n",
       "      <th></th>\n",
       "    </tr>\n",
       "  </thead>\n",
       "  <tbody>\n",
       "    <tr>\n",
       "      <th>2022-11-01</th>\n",
       "      <td>390.140015</td>\n",
       "      <td>390.390015</td>\n",
       "      <td>383.290009</td>\n",
       "      <td>384.519989</td>\n",
       "      <td>85407600</td>\n",
       "    </tr>\n",
       "    <tr>\n",
       "      <th>2022-11-02</th>\n",
       "      <td>383.899994</td>\n",
       "      <td>388.630005</td>\n",
       "      <td>374.760010</td>\n",
       "      <td>374.869995</td>\n",
       "      <td>126990400</td>\n",
       "    </tr>\n",
       "    <tr>\n",
       "      <th>2022-11-03</th>\n",
       "      <td>371.470001</td>\n",
       "      <td>374.200012</td>\n",
       "      <td>368.790009</td>\n",
       "      <td>371.010010</td>\n",
       "      <td>87100100</td>\n",
       "    </tr>\n",
       "    <tr>\n",
       "      <th>2022-11-04</th>\n",
       "      <td>377.000000</td>\n",
       "      <td>378.869995</td>\n",
       "      <td>370.000000</td>\n",
       "      <td>376.350006</td>\n",
       "      <td>103449600</td>\n",
       "    </tr>\n",
       "    <tr>\n",
       "      <th>2022-11-07</th>\n",
       "      <td>377.709991</td>\n",
       "      <td>380.570007</td>\n",
       "      <td>375.529999</td>\n",
       "      <td>379.950012</td>\n",
       "      <td>68286900</td>\n",
       "    </tr>\n",
       "    <tr>\n",
       "      <th>2022-11-08</th>\n",
       "      <td>381.109985</td>\n",
       "      <td>385.119995</td>\n",
       "      <td>377.720001</td>\n",
       "      <td>382.000000</td>\n",
       "      <td>84641100</td>\n",
       "    </tr>\n",
       "    <tr>\n",
       "      <th>2022-11-09</th>\n",
       "      <td>379.929993</td>\n",
       "      <td>381.140015</td>\n",
       "      <td>373.609985</td>\n",
       "      <td>374.130005</td>\n",
       "      <td>78495500</td>\n",
       "    </tr>\n",
       "    <tr>\n",
       "      <th>2022-11-10</th>\n",
       "      <td>388.049988</td>\n",
       "      <td>395.040009</td>\n",
       "      <td>385.640015</td>\n",
       "      <td>394.690002</td>\n",
       "      <td>141455800</td>\n",
       "    </tr>\n",
       "    <tr>\n",
       "      <th>2022-11-11</th>\n",
       "      <td>395.589996</td>\n",
       "      <td>399.350006</td>\n",
       "      <td>393.609985</td>\n",
       "      <td>398.510010</td>\n",
       "      <td>93758600</td>\n",
       "    </tr>\n",
       "    <tr>\n",
       "      <th>2022-11-14</th>\n",
       "      <td>396.660004</td>\n",
       "      <td>400.179993</td>\n",
       "      <td>394.829987</td>\n",
       "      <td>395.119995</td>\n",
       "      <td>71903500</td>\n",
       "    </tr>\n",
       "  </tbody>\n",
       "</table>\n",
       "</div>"
      ],
      "text/plain": [
       "                  Open        High         Low       Close     Volume\n",
       "Date                                                                 \n",
       "2022-11-01  390.140015  390.390015  383.290009  384.519989   85407600\n",
       "2022-11-02  383.899994  388.630005  374.760010  374.869995  126990400\n",
       "2022-11-03  371.470001  374.200012  368.790009  371.010010   87100100\n",
       "2022-11-04  377.000000  378.869995  370.000000  376.350006  103449600\n",
       "2022-11-07  377.709991  380.570007  375.529999  379.950012   68286900\n",
       "2022-11-08  381.109985  385.119995  377.720001  382.000000   84641100\n",
       "2022-11-09  379.929993  381.140015  373.609985  374.130005   78495500\n",
       "2022-11-10  388.049988  395.040009  385.640015  394.690002  141455800\n",
       "2022-11-11  395.589996  399.350006  393.609985  398.510010   93758600\n",
       "2022-11-14  396.660004  400.179993  394.829987  395.119995   71903500"
      ]
     },
     "execution_count": 2,
     "metadata": {},
     "output_type": "execute_result"
    }
   ],
   "source": [
    "ticker = ['SPY'] #Change ticker symbol to review any instrument in yahoo finance \n",
    "df =yf.download(ticker, interval = '1D',auto_adjust=True, period=\"1Y\")\n",
    "#2 min data only available in last 60 days \n",
    "\n",
    "# df = df.drop(columns = ['Volume', 'Open', 'High', 'Low', 'Adj Close'])\n",
    "df.tail(10)"
   ]
  },
  {
   "cell_type": "code",
   "execution_count": 3,
   "id": "20b0b03c-c66e-4c69-b68e-01be5a83cd71",
   "metadata": {},
   "outputs": [],
   "source": [
    "sr_df = df.copy()\n",
    "sr_df.to_csv('data.csv')"
   ]
  },
  {
   "cell_type": "code",
   "execution_count": 4,
   "id": "ded84ac4-3e44-4db6-b9b9-137bd040157d",
   "metadata": {},
   "outputs": [
    {
     "data": {
      "text/html": [
       "<div>\n",
       "<style scoped>\n",
       "    .dataframe tbody tr th:only-of-type {\n",
       "        vertical-align: middle;\n",
       "    }\n",
       "\n",
       "    .dataframe tbody tr th {\n",
       "        vertical-align: top;\n",
       "    }\n",
       "\n",
       "    .dataframe thead th {\n",
       "        text-align: right;\n",
       "    }\n",
       "</style>\n",
       "<table border=\"1\" class=\"dataframe\">\n",
       "  <thead>\n",
       "    <tr style=\"text-align: right;\">\n",
       "      <th></th>\n",
       "      <th>Open</th>\n",
       "      <th>High</th>\n",
       "      <th>Low</th>\n",
       "      <th>Close</th>\n",
       "      <th>Volume</th>\n",
       "    </tr>\n",
       "    <tr>\n",
       "      <th>Date</th>\n",
       "      <th></th>\n",
       "      <th></th>\n",
       "      <th></th>\n",
       "      <th></th>\n",
       "      <th></th>\n",
       "    </tr>\n",
       "  </thead>\n",
       "  <tbody>\n",
       "    <tr>\n",
       "      <th>2022-11-01</th>\n",
       "      <td>390.140015</td>\n",
       "      <td>390.390015</td>\n",
       "      <td>383.290009</td>\n",
       "      <td>384.519989</td>\n",
       "      <td>85407600</td>\n",
       "    </tr>\n",
       "    <tr>\n",
       "      <th>2022-11-02</th>\n",
       "      <td>383.899994</td>\n",
       "      <td>388.630005</td>\n",
       "      <td>374.760010</td>\n",
       "      <td>374.869995</td>\n",
       "      <td>126990400</td>\n",
       "    </tr>\n",
       "    <tr>\n",
       "      <th>2022-11-03</th>\n",
       "      <td>371.470001</td>\n",
       "      <td>374.200012</td>\n",
       "      <td>368.790009</td>\n",
       "      <td>371.010010</td>\n",
       "      <td>87100100</td>\n",
       "    </tr>\n",
       "    <tr>\n",
       "      <th>2022-11-04</th>\n",
       "      <td>377.000000</td>\n",
       "      <td>378.869995</td>\n",
       "      <td>370.000000</td>\n",
       "      <td>376.350006</td>\n",
       "      <td>103449600</td>\n",
       "    </tr>\n",
       "    <tr>\n",
       "      <th>2022-11-07</th>\n",
       "      <td>377.709991</td>\n",
       "      <td>380.570007</td>\n",
       "      <td>375.529999</td>\n",
       "      <td>379.950012</td>\n",
       "      <td>68286900</td>\n",
       "    </tr>\n",
       "    <tr>\n",
       "      <th>2022-11-08</th>\n",
       "      <td>381.109985</td>\n",
       "      <td>385.119995</td>\n",
       "      <td>377.720001</td>\n",
       "      <td>382.000000</td>\n",
       "      <td>84641100</td>\n",
       "    </tr>\n",
       "    <tr>\n",
       "      <th>2022-11-09</th>\n",
       "      <td>379.929993</td>\n",
       "      <td>381.140015</td>\n",
       "      <td>373.609985</td>\n",
       "      <td>374.130005</td>\n",
       "      <td>78495500</td>\n",
       "    </tr>\n",
       "    <tr>\n",
       "      <th>2022-11-10</th>\n",
       "      <td>388.049988</td>\n",
       "      <td>395.040009</td>\n",
       "      <td>385.640015</td>\n",
       "      <td>394.690002</td>\n",
       "      <td>141455800</td>\n",
       "    </tr>\n",
       "    <tr>\n",
       "      <th>2022-11-11</th>\n",
       "      <td>395.589996</td>\n",
       "      <td>399.350006</td>\n",
       "      <td>393.609985</td>\n",
       "      <td>398.510010</td>\n",
       "      <td>93758600</td>\n",
       "    </tr>\n",
       "    <tr>\n",
       "      <th>2022-11-14</th>\n",
       "      <td>396.660004</td>\n",
       "      <td>400.179993</td>\n",
       "      <td>394.829987</td>\n",
       "      <td>395.119995</td>\n",
       "      <td>71903500</td>\n",
       "    </tr>\n",
       "  </tbody>\n",
       "</table>\n",
       "</div>"
      ],
      "text/plain": [
       "                  Open        High         Low       Close     Volume\n",
       "Date                                                                 \n",
       "2022-11-01  390.140015  390.390015  383.290009  384.519989   85407600\n",
       "2022-11-02  383.899994  388.630005  374.760010  374.869995  126990400\n",
       "2022-11-03  371.470001  374.200012  368.790009  371.010010   87100100\n",
       "2022-11-04  377.000000  378.869995  370.000000  376.350006  103449600\n",
       "2022-11-07  377.709991  380.570007  375.529999  379.950012   68286900\n",
       "2022-11-08  381.109985  385.119995  377.720001  382.000000   84641100\n",
       "2022-11-09  379.929993  381.140015  373.609985  374.130005   78495500\n",
       "2022-11-10  388.049988  395.040009  385.640015  394.690002  141455800\n",
       "2022-11-11  395.589996  399.350006  393.609985  398.510010   93758600\n",
       "2022-11-14  396.660004  400.179993  394.829987  395.119995   71903500"
      ]
     },
     "execution_count": 4,
     "metadata": {},
     "output_type": "execute_result"
    }
   ],
   "source": [
    "sr_df.tail(10)"
   ]
  },
  {
   "cell_type": "code",
   "execution_count": 5,
   "id": "c1b225fb-a513-4d96-98d3-c295c917092b",
   "metadata": {},
   "outputs": [
    {
     "data": {
      "text/html": [
       "<div>\n",
       "<style scoped>\n",
       "    .dataframe tbody tr th:only-of-type {\n",
       "        vertical-align: middle;\n",
       "    }\n",
       "\n",
       "    .dataframe tbody tr th {\n",
       "        vertical-align: top;\n",
       "    }\n",
       "\n",
       "    .dataframe thead th {\n",
       "        text-align: right;\n",
       "    }\n",
       "</style>\n",
       "<table border=\"1\" class=\"dataframe\">\n",
       "  <thead>\n",
       "    <tr style=\"text-align: right;\">\n",
       "      <th></th>\n",
       "      <th>Open</th>\n",
       "      <th>High</th>\n",
       "      <th>Low</th>\n",
       "      <th>Close</th>\n",
       "      <th>Volume</th>\n",
       "    </tr>\n",
       "  </thead>\n",
       "  <tbody>\n",
       "    <tr>\n",
       "      <th>247</th>\n",
       "      <td>381.109985</td>\n",
       "      <td>385.119995</td>\n",
       "      <td>377.720001</td>\n",
       "      <td>382.000000</td>\n",
       "      <td>84641100</td>\n",
       "    </tr>\n",
       "    <tr>\n",
       "      <th>248</th>\n",
       "      <td>379.929993</td>\n",
       "      <td>381.140015</td>\n",
       "      <td>373.609985</td>\n",
       "      <td>374.130005</td>\n",
       "      <td>78495500</td>\n",
       "    </tr>\n",
       "    <tr>\n",
       "      <th>249</th>\n",
       "      <td>388.049988</td>\n",
       "      <td>395.040009</td>\n",
       "      <td>385.640015</td>\n",
       "      <td>394.690002</td>\n",
       "      <td>141455800</td>\n",
       "    </tr>\n",
       "    <tr>\n",
       "      <th>250</th>\n",
       "      <td>395.589996</td>\n",
       "      <td>399.350006</td>\n",
       "      <td>393.609985</td>\n",
       "      <td>398.510010</td>\n",
       "      <td>93758600</td>\n",
       "    </tr>\n",
       "    <tr>\n",
       "      <th>251</th>\n",
       "      <td>396.660004</td>\n",
       "      <td>400.179993</td>\n",
       "      <td>394.829987</td>\n",
       "      <td>395.119995</td>\n",
       "      <td>71903500</td>\n",
       "    </tr>\n",
       "  </tbody>\n",
       "</table>\n",
       "</div>"
      ],
      "text/plain": [
       "           Open        High         Low       Close     Volume\n",
       "247  381.109985  385.119995  377.720001  382.000000   84641100\n",
       "248  379.929993  381.140015  373.609985  374.130005   78495500\n",
       "249  388.049988  395.040009  385.640015  394.690002  141455800\n",
       "250  395.589996  399.350006  393.609985  398.510010   93758600\n",
       "251  396.660004  400.179993  394.829987  395.119995   71903500"
      ]
     },
     "execution_count": 5,
     "metadata": {},
     "output_type": "execute_result"
    }
   ],
   "source": [
    "#Check if NA values are in data\n",
    "sr_df=sr_df[sr_df['Volume']!=0]\n",
    "sr_df.reset_index(drop=True, inplace=True)\n",
    "sr_df.isna().sum()\n",
    "sr_df.tail()"
   ]
  },
  {
   "cell_type": "code",
   "execution_count": 6,
   "id": "b5745394-18ae-4eec-8bbf-e099ae161ad6",
   "metadata": {},
   "outputs": [],
   "source": [
    "def support(df1, l, n1, n2): #n1 n2 before and after candle l\n",
    "    for i in range(l-n1+1, l+1):\n",
    "        if(df1.Low[i]>df1.Low[i-1]):\n",
    "            return 0\n",
    "    for i in range(l+1,l+n2+1):\n",
    "        if(df1.Low[i]<df1.Low[i-1]):\n",
    "            return 0\n",
    "    return 1\n",
    "\n",
    "#support(df,46,3,2)\n",
    "\n",
    "def resistance(df1, l, n1, n2): #n1 n2 before and after candle l\n",
    "    for i in range(l-n1+1, l+1):\n",
    "        if(df1.High[i]<df1.High[i-1]):\n",
    "            return 0\n",
    "    for i in range(l+1,l+n2+1):\n",
    "        if(df1.High[i]>df1.High[i-1]):\n",
    "            return 0\n",
    "    return 1\n",
    "#resistance(df, 30, 3, 5)"
   ]
  },
  {
   "cell_type": "code",
   "execution_count": 7,
   "id": "e7a520a2-5a1b-40c6-a72d-4c37f05cd926",
   "metadata": {},
   "outputs": [
    {
     "data": {
      "application/vnd.plotly.v1+json": {
       "config": {
        "plotlyServerURL": "https://plot.ly"
       },
       "data": [
        {
         "close": [
          460.4622497558594,
          462.28466796875,
          461.16168212890625,
          462.7279968261719,
          461.9005432128906,
          460.6001892089844,
          461.2109375,
          462.4422912597656,
          452.12835693359375,
          457.6744689941406,
          448.76922607421875,
          443.7846374511719,
          450.5817565917969,
          446.6611022949219,
          451.9510498046875,
          461.2995910644531,
          462.5210876464844,
          459.39837646484375,
          463.722900390625,
          459.6150817871094,
          456.452880859375,
          463.58502197265625,
          459.49688720703125,
          454.60650634765625,
          449.7724609375,
          457.760009765625,
          462.3370056152344,
          465.2137145996094,
          471.7974853515625,
          471.4118957519531,
          472.01495361328125,
          470.7100524902344,
          469.5237731933594,
          472.2423095703125,
          472.0841369628906,
          463.01910400390625,
          462.58416748046875,
          460.7553405761719,
          460.18194580078125,
          464.3734436035156,
          465.6288757324219,
          459.213134765625,
          459.4010009765625,
          451.26519775390625,
          446.5794372558594,
          441.63665771484375,
          432.967041015625,
          434.8057556152344,
          429.4972229003906,
          428.4197082519531
         ],
         "high": [
          461.8216836025759,
          463.476622664264,
          462.1960182712331,
          463.0038218133507,
          463.91997302707,
          466.4811987877852,
          462.1073762106545,
          462.5703582237442,
          456.9848605880097,
          459.60524393312346,
          457.1129698467912,
          457.74342606760996,
          452.2268759486868,
          453.43852023575164,
          453.92123678080793,
          461.89065318734845,
          462.9939433473569,
          462.62948205998595,
          463.88051895672453,
          463.5455952344251,
          458.797408051111,
          463.8411258482515,
          465.8211708085714,
          459.4207614407518,
          450.1876368627965,
          457.9082868957625,
          462.45562731524785,
          466.78551250219414,
          471.8469010045365,
          473.32969355435415,
          473.08257906373285,
          473.51754328114333,
          471.4020204549628,
          472.3807216657983,
          474.4863470589239,
          472.5092320583563,
          465.43120909713906,
          463.8297606071574,
          460.4092939939143,
          464.47230508019663,
          467.78394722040724,
          467.46756932998835,
          459.76676127684203,
          454.6954827997249,
          454.3494601338673,
          453.4894147672063,
          442.93165549618703,
          435.3395834284582,
          434.6871333979894,
          438.9577017159584
         ],
         "low": [
          459.28015558764304,
          460.10761979136737,
          460.51151681616716,
          459.388515313826,
          461.5163422865618,
          460.3834674297967,
          457.526697355524,
          458.2556439190348,
          450.9462327293489,
          454.84725531781993,
          448.51309212497694,
          443.57777622640015,
          443.5974473509027,
          442.2281816015183,
          446.7990000395724,
          451.8131356831209,
          459.87118373592966,
          459.19151523985863,
          459.555974163287,
          459.31953569933046,
          453.38925469822925,
          453.8719841187196,
          457.8714588390697,
          452.8172253000845,
          445.9764159219401,
          451.0872673948548,
          457.2854769888965,
          463.2761563897189,
          466.6075747212709,
          470.6111691628179,
          470.4728112024703,
          470.2256705027333,
          469.2371141484059,
          468.42650410269573,
          470.1366836075056,
          462.92024253253254,
          460.1028861799993,
          459.33181975286794,
          451.37392290910174,
          456.76156242338106,
          463.57269588491556,
          458.13561418240937,
          454.6361615385267,
          450.0987107781213,
          446.2927480410489,
          439.41241041801464,
          432.9373855921343,
          415.9441512869428,
          422.26099759477876,
          423.95142308177117
         ],
         "open": [
          461.6542345418459,
          460.18641404234324,
          462.008848102596,
          462.24528055160727,
          462.60978173041406,
          463.87070694484504,
          460.2553955831633,
          459.11267044699287,
          455.4481171600917,
          457.1523706155449,
          455.11323109448887,
          454.7585938595128,
          444.01119984453203,
          452.3253898476043,
          449.33069751892725,
          457.4872839626471,
          461.71333382699515,
          461.1715328043396,
          462.23542966164496,
          463.1811154492322,
          456.1869164537576,
          456.51205763097414,
          465.5256547758522,
          456.26727049651515,
          449.2781837713862,
          453.3609305057284,
          457.49309513220595,
          463.384882894794,
          466.65699037424486,
          472.25217296117563,
          471.520676426014,
          472.45978286474065,
          470.19601309008607,
          470.84844425912456,
          473.7350360685361,
          471.69861022869173,
          462.53475182573953,
          462.5940675430594,
          457.4041104866488,
          459.90518843943073,
          466.1923589724666,
          466.78546443913797,
          455.911405158876,
          454.4779996204865,
          452.88641897197675,
          448.5565381938676,
          440.4602696443499,
          427.0851483078244,
          428.10335760369844,
          435.67569388631534
         ],
         "type": "candlestick",
         "x": [
          0,
          1,
          2,
          3,
          4,
          5,
          6,
          7,
          8,
          9,
          10,
          11,
          12,
          13,
          14,
          15,
          16,
          17,
          18,
          19,
          20,
          21,
          22,
          23,
          24,
          25,
          26,
          27,
          28,
          29,
          30,
          31,
          32,
          33,
          34,
          35,
          36,
          37,
          38,
          39,
          40,
          41,
          42,
          43,
          44,
          45,
          46,
          47,
          48,
          49
         ]
        }
       ],
       "layout": {
        "template": {
         "data": {
          "bar": [
           {
            "error_x": {
             "color": "#2a3f5f"
            },
            "error_y": {
             "color": "#2a3f5f"
            },
            "marker": {
             "line": {
              "color": "#E5ECF6",
              "width": 0.5
             },
             "pattern": {
              "fillmode": "overlay",
              "size": 10,
              "solidity": 0.2
             }
            },
            "type": "bar"
           }
          ],
          "barpolar": [
           {
            "marker": {
             "line": {
              "color": "#E5ECF6",
              "width": 0.5
             },
             "pattern": {
              "fillmode": "overlay",
              "size": 10,
              "solidity": 0.2
             }
            },
            "type": "barpolar"
           }
          ],
          "carpet": [
           {
            "aaxis": {
             "endlinecolor": "#2a3f5f",
             "gridcolor": "white",
             "linecolor": "white",
             "minorgridcolor": "white",
             "startlinecolor": "#2a3f5f"
            },
            "baxis": {
             "endlinecolor": "#2a3f5f",
             "gridcolor": "white",
             "linecolor": "white",
             "minorgridcolor": "white",
             "startlinecolor": "#2a3f5f"
            },
            "type": "carpet"
           }
          ],
          "choropleth": [
           {
            "colorbar": {
             "outlinewidth": 0,
             "ticks": ""
            },
            "type": "choropleth"
           }
          ],
          "contour": [
           {
            "colorbar": {
             "outlinewidth": 0,
             "ticks": ""
            },
            "colorscale": [
             [
              0,
              "#0d0887"
             ],
             [
              0.1111111111111111,
              "#46039f"
             ],
             [
              0.2222222222222222,
              "#7201a8"
             ],
             [
              0.3333333333333333,
              "#9c179e"
             ],
             [
              0.4444444444444444,
              "#bd3786"
             ],
             [
              0.5555555555555556,
              "#d8576b"
             ],
             [
              0.6666666666666666,
              "#ed7953"
             ],
             [
              0.7777777777777778,
              "#fb9f3a"
             ],
             [
              0.8888888888888888,
              "#fdca26"
             ],
             [
              1,
              "#f0f921"
             ]
            ],
            "type": "contour"
           }
          ],
          "contourcarpet": [
           {
            "colorbar": {
             "outlinewidth": 0,
             "ticks": ""
            },
            "type": "contourcarpet"
           }
          ],
          "heatmap": [
           {
            "colorbar": {
             "outlinewidth": 0,
             "ticks": ""
            },
            "colorscale": [
             [
              0,
              "#0d0887"
             ],
             [
              0.1111111111111111,
              "#46039f"
             ],
             [
              0.2222222222222222,
              "#7201a8"
             ],
             [
              0.3333333333333333,
              "#9c179e"
             ],
             [
              0.4444444444444444,
              "#bd3786"
             ],
             [
              0.5555555555555556,
              "#d8576b"
             ],
             [
              0.6666666666666666,
              "#ed7953"
             ],
             [
              0.7777777777777778,
              "#fb9f3a"
             ],
             [
              0.8888888888888888,
              "#fdca26"
             ],
             [
              1,
              "#f0f921"
             ]
            ],
            "type": "heatmap"
           }
          ],
          "heatmapgl": [
           {
            "colorbar": {
             "outlinewidth": 0,
             "ticks": ""
            },
            "colorscale": [
             [
              0,
              "#0d0887"
             ],
             [
              0.1111111111111111,
              "#46039f"
             ],
             [
              0.2222222222222222,
              "#7201a8"
             ],
             [
              0.3333333333333333,
              "#9c179e"
             ],
             [
              0.4444444444444444,
              "#bd3786"
             ],
             [
              0.5555555555555556,
              "#d8576b"
             ],
             [
              0.6666666666666666,
              "#ed7953"
             ],
             [
              0.7777777777777778,
              "#fb9f3a"
             ],
             [
              0.8888888888888888,
              "#fdca26"
             ],
             [
              1,
              "#f0f921"
             ]
            ],
            "type": "heatmapgl"
           }
          ],
          "histogram": [
           {
            "marker": {
             "pattern": {
              "fillmode": "overlay",
              "size": 10,
              "solidity": 0.2
             }
            },
            "type": "histogram"
           }
          ],
          "histogram2d": [
           {
            "colorbar": {
             "outlinewidth": 0,
             "ticks": ""
            },
            "colorscale": [
             [
              0,
              "#0d0887"
             ],
             [
              0.1111111111111111,
              "#46039f"
             ],
             [
              0.2222222222222222,
              "#7201a8"
             ],
             [
              0.3333333333333333,
              "#9c179e"
             ],
             [
              0.4444444444444444,
              "#bd3786"
             ],
             [
              0.5555555555555556,
              "#d8576b"
             ],
             [
              0.6666666666666666,
              "#ed7953"
             ],
             [
              0.7777777777777778,
              "#fb9f3a"
             ],
             [
              0.8888888888888888,
              "#fdca26"
             ],
             [
              1,
              "#f0f921"
             ]
            ],
            "type": "histogram2d"
           }
          ],
          "histogram2dcontour": [
           {
            "colorbar": {
             "outlinewidth": 0,
             "ticks": ""
            },
            "colorscale": [
             [
              0,
              "#0d0887"
             ],
             [
              0.1111111111111111,
              "#46039f"
             ],
             [
              0.2222222222222222,
              "#7201a8"
             ],
             [
              0.3333333333333333,
              "#9c179e"
             ],
             [
              0.4444444444444444,
              "#bd3786"
             ],
             [
              0.5555555555555556,
              "#d8576b"
             ],
             [
              0.6666666666666666,
              "#ed7953"
             ],
             [
              0.7777777777777778,
              "#fb9f3a"
             ],
             [
              0.8888888888888888,
              "#fdca26"
             ],
             [
              1,
              "#f0f921"
             ]
            ],
            "type": "histogram2dcontour"
           }
          ],
          "mesh3d": [
           {
            "colorbar": {
             "outlinewidth": 0,
             "ticks": ""
            },
            "type": "mesh3d"
           }
          ],
          "parcoords": [
           {
            "line": {
             "colorbar": {
              "outlinewidth": 0,
              "ticks": ""
             }
            },
            "type": "parcoords"
           }
          ],
          "pie": [
           {
            "automargin": true,
            "type": "pie"
           }
          ],
          "scatter": [
           {
            "marker": {
             "colorbar": {
              "outlinewidth": 0,
              "ticks": ""
             }
            },
            "type": "scatter"
           }
          ],
          "scatter3d": [
           {
            "line": {
             "colorbar": {
              "outlinewidth": 0,
              "ticks": ""
             }
            },
            "marker": {
             "colorbar": {
              "outlinewidth": 0,
              "ticks": ""
             }
            },
            "type": "scatter3d"
           }
          ],
          "scattercarpet": [
           {
            "marker": {
             "colorbar": {
              "outlinewidth": 0,
              "ticks": ""
             }
            },
            "type": "scattercarpet"
           }
          ],
          "scattergeo": [
           {
            "marker": {
             "colorbar": {
              "outlinewidth": 0,
              "ticks": ""
             }
            },
            "type": "scattergeo"
           }
          ],
          "scattergl": [
           {
            "marker": {
             "colorbar": {
              "outlinewidth": 0,
              "ticks": ""
             }
            },
            "type": "scattergl"
           }
          ],
          "scattermapbox": [
           {
            "marker": {
             "colorbar": {
              "outlinewidth": 0,
              "ticks": ""
             }
            },
            "type": "scattermapbox"
           }
          ],
          "scatterpolar": [
           {
            "marker": {
             "colorbar": {
              "outlinewidth": 0,
              "ticks": ""
             }
            },
            "type": "scatterpolar"
           }
          ],
          "scatterpolargl": [
           {
            "marker": {
             "colorbar": {
              "outlinewidth": 0,
              "ticks": ""
             }
            },
            "type": "scatterpolargl"
           }
          ],
          "scatterternary": [
           {
            "marker": {
             "colorbar": {
              "outlinewidth": 0,
              "ticks": ""
             }
            },
            "type": "scatterternary"
           }
          ],
          "surface": [
           {
            "colorbar": {
             "outlinewidth": 0,
             "ticks": ""
            },
            "colorscale": [
             [
              0,
              "#0d0887"
             ],
             [
              0.1111111111111111,
              "#46039f"
             ],
             [
              0.2222222222222222,
              "#7201a8"
             ],
             [
              0.3333333333333333,
              "#9c179e"
             ],
             [
              0.4444444444444444,
              "#bd3786"
             ],
             [
              0.5555555555555556,
              "#d8576b"
             ],
             [
              0.6666666666666666,
              "#ed7953"
             ],
             [
              0.7777777777777778,
              "#fb9f3a"
             ],
             [
              0.8888888888888888,
              "#fdca26"
             ],
             [
              1,
              "#f0f921"
             ]
            ],
            "type": "surface"
           }
          ],
          "table": [
           {
            "cells": {
             "fill": {
              "color": "#EBF0F8"
             },
             "line": {
              "color": "white"
             }
            },
            "header": {
             "fill": {
              "color": "#C8D4E3"
             },
             "line": {
              "color": "white"
             }
            },
            "type": "table"
           }
          ]
         },
         "layout": {
          "annotationdefaults": {
           "arrowcolor": "#2a3f5f",
           "arrowhead": 0,
           "arrowwidth": 1
          },
          "autotypenumbers": "strict",
          "coloraxis": {
           "colorbar": {
            "outlinewidth": 0,
            "ticks": ""
           }
          },
          "colorscale": {
           "diverging": [
            [
             0,
             "#8e0152"
            ],
            [
             0.1,
             "#c51b7d"
            ],
            [
             0.2,
             "#de77ae"
            ],
            [
             0.3,
             "#f1b6da"
            ],
            [
             0.4,
             "#fde0ef"
            ],
            [
             0.5,
             "#f7f7f7"
            ],
            [
             0.6,
             "#e6f5d0"
            ],
            [
             0.7,
             "#b8e186"
            ],
            [
             0.8,
             "#7fbc41"
            ],
            [
             0.9,
             "#4d9221"
            ],
            [
             1,
             "#276419"
            ]
           ],
           "sequential": [
            [
             0,
             "#0d0887"
            ],
            [
             0.1111111111111111,
             "#46039f"
            ],
            [
             0.2222222222222222,
             "#7201a8"
            ],
            [
             0.3333333333333333,
             "#9c179e"
            ],
            [
             0.4444444444444444,
             "#bd3786"
            ],
            [
             0.5555555555555556,
             "#d8576b"
            ],
            [
             0.6666666666666666,
             "#ed7953"
            ],
            [
             0.7777777777777778,
             "#fb9f3a"
            ],
            [
             0.8888888888888888,
             "#fdca26"
            ],
            [
             1,
             "#f0f921"
            ]
           ],
           "sequentialminus": [
            [
             0,
             "#0d0887"
            ],
            [
             0.1111111111111111,
             "#46039f"
            ],
            [
             0.2222222222222222,
             "#7201a8"
            ],
            [
             0.3333333333333333,
             "#9c179e"
            ],
            [
             0.4444444444444444,
             "#bd3786"
            ],
            [
             0.5555555555555556,
             "#d8576b"
            ],
            [
             0.6666666666666666,
             "#ed7953"
            ],
            [
             0.7777777777777778,
             "#fb9f3a"
            ],
            [
             0.8888888888888888,
             "#fdca26"
            ],
            [
             1,
             "#f0f921"
            ]
           ]
          },
          "colorway": [
           "#636efa",
           "#EF553B",
           "#00cc96",
           "#ab63fa",
           "#FFA15A",
           "#19d3f3",
           "#FF6692",
           "#B6E880",
           "#FF97FF",
           "#FECB52"
          ],
          "font": {
           "color": "#2a3f5f"
          },
          "geo": {
           "bgcolor": "white",
           "lakecolor": "white",
           "landcolor": "#E5ECF6",
           "showlakes": true,
           "showland": true,
           "subunitcolor": "white"
          },
          "hoverlabel": {
           "align": "left"
          },
          "hovermode": "closest",
          "mapbox": {
           "style": "light"
          },
          "paper_bgcolor": "white",
          "plot_bgcolor": "#E5ECF6",
          "polar": {
           "angularaxis": {
            "gridcolor": "white",
            "linecolor": "white",
            "ticks": ""
           },
           "bgcolor": "#E5ECF6",
           "radialaxis": {
            "gridcolor": "white",
            "linecolor": "white",
            "ticks": ""
           }
          },
          "scene": {
           "xaxis": {
            "backgroundcolor": "#E5ECF6",
            "gridcolor": "white",
            "gridwidth": 2,
            "linecolor": "white",
            "showbackground": true,
            "ticks": "",
            "zerolinecolor": "white"
           },
           "yaxis": {
            "backgroundcolor": "#E5ECF6",
            "gridcolor": "white",
            "gridwidth": 2,
            "linecolor": "white",
            "showbackground": true,
            "ticks": "",
            "zerolinecolor": "white"
           },
           "zaxis": {
            "backgroundcolor": "#E5ECF6",
            "gridcolor": "white",
            "gridwidth": 2,
            "linecolor": "white",
            "showbackground": true,
            "ticks": "",
            "zerolinecolor": "white"
           }
          },
          "shapedefaults": {
           "line": {
            "color": "#2a3f5f"
           }
          },
          "ternary": {
           "aaxis": {
            "gridcolor": "white",
            "linecolor": "white",
            "ticks": ""
           },
           "baxis": {
            "gridcolor": "white",
            "linecolor": "white",
            "ticks": ""
           },
           "bgcolor": "#E5ECF6",
           "caxis": {
            "gridcolor": "white",
            "linecolor": "white",
            "ticks": ""
           }
          },
          "title": {
           "x": 0.05
          },
          "xaxis": {
           "automargin": true,
           "gridcolor": "white",
           "linecolor": "white",
           "ticks": "",
           "title": {
            "standoff": 15
           },
           "zerolinecolor": "white",
           "zerolinewidth": 2
          },
          "yaxis": {
           "automargin": true,
           "gridcolor": "white",
           "linecolor": "white",
           "ticks": "",
           "title": {
            "standoff": 15
           },
           "zerolinecolor": "white",
           "zerolinewidth": 2
          }
         }
        }
       }
      }
     },
     "metadata": {},
     "output_type": "display_data"
    }
   ],
   "source": [
    "dfpl = sr_df[0:50]\n",
    "import plotly.graph_objects as go\n",
    "from datetime import datetime\n",
    "\n",
    "fig = go.Figure(data=[go.Candlestick(x=dfpl.index,\n",
    "                open=dfpl['Open'],\n",
    "                high=dfpl['High'],\n",
    "                low=dfpl['Low'],\n",
    "                close=dfpl['Close'])])\n",
    "\n",
    "fig.show()"
   ]
  },
  {
   "cell_type": "code",
   "execution_count": 8,
   "id": "c696cd53-f539-4b13-9990-71f9b130db3d",
   "metadata": {},
   "outputs": [
    {
     "name": "stdout",
     "output_type": "stream",
     "text": [
      "[(47, 415.9441512869428, 1), (123, 381.9245319583339, 1), (161, 389.0418979580837, 2), (188, 429.963802202433, 2)]\n"
     ]
    }
   ],
   "source": [
    "sr = []\n",
    "n1=5\n",
    "n2=3\n",
    "for row in range(n1, (len(sr_df)-n2)): #len(df)-n2\n",
    "    if support(sr_df, row, n1, n2):\n",
    "        sr.append((row,sr_df.Low[row],1))\n",
    "    if resistance(sr_df, row, n1, n2):\n",
    "        sr.append((row,sr_df.High[row],2))\n",
    "print(sr)"
   ]
  },
  {
   "cell_type": "code",
   "execution_count": 9,
   "id": "6e50b9d7-736f-4c3b-b36a-3e70b3b653b1",
   "metadata": {},
   "outputs": [
    {
     "data": {
      "application/vnd.plotly.v1+json": {
       "config": {
        "plotlyServerURL": "https://plot.ly"
       },
       "data": [
        {
         "close": [
          460.4622497558594,
          462.28466796875,
          461.16168212890625,
          462.7279968261719,
          461.9005432128906,
          460.6001892089844,
          461.2109375,
          462.4422912597656,
          452.12835693359375,
          457.6744689941406,
          448.76922607421875,
          443.7846374511719,
          450.5817565917969,
          446.6611022949219,
          451.9510498046875,
          461.2995910644531,
          462.5210876464844,
          459.39837646484375,
          463.722900390625,
          459.6150817871094,
          456.452880859375,
          463.58502197265625,
          459.49688720703125,
          454.60650634765625,
          449.7724609375,
          457.760009765625,
          462.3370056152344,
          465.2137145996094,
          471.7974853515625,
          471.4118957519531,
          472.01495361328125,
          470.7100524902344,
          469.5237731933594,
          472.2423095703125,
          472.0841369628906,
          463.01910400390625,
          462.58416748046875,
          460.7553405761719,
          460.18194580078125,
          464.3734436035156,
          465.6288757324219,
          459.213134765625,
          459.4010009765625,
          451.26519775390625,
          446.5794372558594,
          441.63665771484375,
          432.967041015625,
          434.8057556152344,
          429.4972229003906,
          428.4197082519531,
          426.3041687011719,
          436.8916320800781,
          444.760498046875,
          447.76568603515625,
          452.1153564453125,
          441.4883728027344,
          443.5643615722656,
          442.14080810546875,
          445.7787170410156,
          452.3031921386719,
          444.17724609375,
          435.41864013671875,
          433.9951477050781,
          440.9941101074219,
          441.4883728027344,
          432.0575866699219,
          429.2599792480469,
          424.6533203125,
          417.12054443359375,
          423.3978271484375,
          432.73968505859375,
          431.63250732421875,
          425.0586242675781,
          432.8780822753906,
          430.7229919433594,
          427.2235412597656,
          414.6293640136719,
          411.48577880859375,
          422.5180358886719,
          420.6101379394531,
          415.2620544433594,
          412.2271728515625,
          421.292236328125,
          430.634033203125,
          436.0216979980469,
          440.7973327636719,
          440.66845703125,
          445.82489013671875,
          440.0833435058594,
          446.7173156738281,
          448.89892578125,
          452.0919494628906,
          457.6846923828125,
          454.8586120605469,
          447.85772705078125,
          449.12701416015625,
          452.9744873046875,
          447.2528076171875,
          442.78057861328125,
          445.0117492675781,
          443.8218078613281,
          436.2358703613281,
          434.6195373535156,
          439.59747314453125,
          434.12371826171875,
          434.3022155761719,
          441.31298828125,
          440.9857482910156,
          434.3914489746094,
          422.47210693359375,
          424.9214172363281,
          412.6153564453125,
          413.7755432128906,
          424.227294921875,
          408.5496826171875,
          411.0089111328125,
          412.89300537109375,
          425.4668273925781,
          410.3445129394531,
          407.89520263671875,
          394.83551025390625,
          395.7477722167969,
          389.46087646484375,
          389.0543212890625,
          398.35577392578125,
          396.73944091796875,
          404.9005126953125,
          388.57830810546875,
          386.1984558105469,
          386.3670349121094,
          393.5959777832031,
          390.5913391113281,
          394.0422058105469,
          401.91571044921875,
          411.7823791503906,
          409.4718933105469,
          406.1598815917969,
          413.8945617675781,
          407.1019287109375,
          408.3414611816406,
          412.25836181640625,
          407.7762145996094,
          398.078125,
          386.53558349609375,
          371.85955810546875,
          370.739013671875,
          376.0243835449219,
          363.5794677734375,
          364.3632507324219,
          373.53558349609375,
          372.8583679199219,
          376.5133361816406,
          388.4841613769531,
          387.0002746582031,
          379.0927429199219,
          378.7840270996094,
          375.7066650390625,
          379.6803283691406,
          380.3973693847656,
          381.68212890625,
          387.39862060546875,
          387.0799560546875,
          382.6581115722656,
          379.2720031738281,
          377.2801818847656,
          376.36395263671875,
          383.554443359375,
          380.387451171875,
          390.6651916503906,
          393.15496826171875,
          397.1585388183594,
          393.4736633300781,
          393.95172119140625,
          389.2908630371094,
          399.39935302734375,
          404.40875244140625,
          410.3045349121094,
          409.0895080566406,
          406.390625,
          412.7544860839844,
          412.47564697265625,
          411.7784729003906,
          411.3004455566406,
          409.66717529296875,
          418.27178955078125,
          418.27178955078125,
          425.35272216796875,
          427.1054992675781,
          427.9421081542969,
          424.9045715332031,
          426.1394958496094,
          420.41302490234375,
          411.6589660644531,
          410.6630859375,
          411.9776916503906,
          417.7937927246094,
          403.65185546875,
          400.98284912109375,
          396.5809020996094,
          393.56329345703125
         ],
         "high": [
          461.8216836025759,
          463.476622664264,
          462.1960182712331,
          463.0038218133507,
          463.91997302707,
          466.4811987877852,
          462.1073762106545,
          462.5703582237442,
          456.9848605880097,
          459.60524393312346,
          457.1129698467912,
          457.74342606760996,
          452.2268759486868,
          453.43852023575164,
          453.92123678080793,
          461.89065318734845,
          462.9939433473569,
          462.62948205998595,
          463.88051895672453,
          463.5455952344251,
          458.797408051111,
          463.8411258482515,
          465.8211708085714,
          459.4207614407518,
          450.1876368627965,
          457.9082868957625,
          462.45562731524785,
          466.78551250219414,
          471.8469010045365,
          473.32969355435415,
          473.08257906373285,
          473.51754328114333,
          471.4020204549628,
          472.3807216657983,
          474.4863470589239,
          472.5092320583563,
          465.43120909713906,
          463.8297606071574,
          460.4092939939143,
          464.47230508019663,
          467.78394722040724,
          467.46756932998835,
          459.76676127684203,
          454.6954827997249,
          454.3494601338673,
          453.4894147672063,
          442.93165549618703,
          435.3395834284582,
          434.6871333979894,
          438.9577017159584,
          436.53571226839364,
          436.94104773309544,
          445.1262583350566,
          448.43789572444734,
          452.87653246527395,
          447.78545910057164,
          447.5976501613361,
          445.8280963553951,
          446.74751119945404,
          452.6392970170899,
          452.47120137121067,
          446.44101509500166,
          436.54563498586,
          441.17204265347874,
          442.9316536871931,
          441.45874873347236,
          433.6392679106509,
          430.5154406567137,
          428.30109237221666,
          423.8525838825361,
          432.8286513336713,
          433.18454495400056,
          432.1663326915444,
          434.6871234763599,
          436.0611792082466,
          428.40978836365167,
          427.35205429210276,
          422.32032684373695,
          424.59400614348385,
          421.54924652064017,
          423.86245963056786,
          419.6907462879158,
          421.95455087309057,
          430.69334404957186,
          436.0216979980468,
          441.13448178417855,
          442.72109875452185,
          446.8065896653376,
          444.7340690854814,
          446.72724161164575,
          449.18650563408687,
          452.0919494628906,
          458.2003569597553,
          457.33767571847,
          454.9180953227963,
          449.6624701169323,
          453.0835818389499,
          453.9958483027275,
          445.1703995445369,
          446.91568347666197,
          446.8561793032968,
          441.27331420596965,
          442.01705491416277,
          440.39076139490294,
          441.00560136960956,
          436.06730773183745,
          442.06660302722275,
          443.8218128328768,
          446.2413853915548,
          434.41125532958233,
          425.0999025485545,
          422.47211585475065,
          419.3782512500081,
          426.0419865001822,
          422.30352267308285,
          412.43685414522116,
          415.4216381372007,
          426.06180873488825,
          421.44080381860226,
          411.32621816707115,
          403.0064941024103,
          402.67922399071955,
          400.65633572187966,
          392.48533683625664,
          399.8035385983029,
          400.5869526829617,
          405.1484190588463,
          400.4183176009376,
          390.83928611427115,
          393.70505730340926,
          394.39919195807806,
          391.84076652366394,
          396.1048037225104,
          403.6312333794285,
          411.9013693581638,
          412.97232996852904,
          412.75418506046395,
          413.9441309353551,
          410.57261785409406,
          413.12107295279543,
          412.7343529347155,
          412.33769767547756,
          408.291855079743,
          392.4655145076387,
          378.6125252597034,
          374.7749366416902,
          380.68500501263463,
          367.83354945752603,
          367.8688698501164,
          374.98960207775144,
          377.1706403184424,
          377.28017513374607,
          388.49413019242246,
          389.75893164678683,
          391.5515738460968,
          380.7061241839131,
          379.10271832908796,
          380.1384683809683,
          380.41730701486875,
          384.2914056552444,
          388.23518049333734,
          389.0418979580837,
          385.2872954288367,
          384.5802150528634,
          380.35756734891146,
          377.49927302854667,
          383.67394757819767,
          387.4982255615694,
          391.2627430970632,
          394.6388932756416,
          397.208322108785,
          398.5428362374419,
          394.8480331918537,
          392.4478773804343,
          401.23182193635006,
          405.1357465196418,
          411.34028877128935,
          411.71872227062175,
          411.31041790220996,
          413.97943466962624,
          413.391866239546,
          412.4556836890572,
          415.9115090600188,
          411.0614418214487,
          418.4212002072381,
          423.21151981805826,
          425.4622575648715,
          427.6532674277152,
          429.963802202433,
          427.74291828019767,
          426.85652111767564,
          423.5202560090412,
          415.52309761108154,
          413.7205338893691,
          413.41177265690214,
          417.8435760173275,
          418.2419155574279,
          404.17970852973673,
          402.4468205164776,
          399.59849929160004
         ],
         "low": [
          459.28015558764304,
          460.10761979136737,
          460.51151681616716,
          459.388515313826,
          461.5163422865618,
          460.3834674297967,
          457.526697355524,
          458.2556439190348,
          450.9462327293489,
          454.84725531781993,
          448.51309212497694,
          443.57777622640015,
          443.5974473509027,
          442.2281816015183,
          446.7990000395724,
          451.8131356831209,
          459.87118373592966,
          459.19151523985863,
          459.555974163287,
          459.31953569933046,
          453.38925469822925,
          453.8719841187196,
          457.8714588390697,
          452.8172253000845,
          445.9764159219401,
          451.0872673948548,
          457.2854769888965,
          463.2761563897189,
          466.6075747212709,
          470.6111691628179,
          470.4728112024703,
          470.2256705027333,
          469.2371141484059,
          468.42650410269573,
          470.1366836075056,
          462.92024253253254,
          460.1028861799993,
          459.33181975286794,
          451.37392290910174,
          456.76156242338106,
          463.57269588491556,
          458.13561418240937,
          454.6361615385267,
          450.0987107781213,
          446.2927480410489,
          439.41241041801464,
          432.9373855921343,
          415.9441512869428,
          422.26099759477876,
          423.95142308177117,
          424.5346781339232,
          422.9233534873862,
          434.7760929251571,
          441.8244649881127,
          447.8645544659762,
          440.60854496229723,
          438.75007640900003,
          440.7469429152332,
          440.1241847488413,
          449.8021506939638,
          442.0815157066429,
          433.9160483867408,
          430.3572747041986,
          438.10751807548485,
          436.8817059735302,
          431.4249275370094,
          426.87755957227427,
          420.98576177196225,
          416.5274057552635,
          405.9399834174015,
          422.9628676418268,
          425.77038704288657,
          422.22144784831204,
          426.63041149287534,
          428.83484958238404,
          422.98263470528383,
          414.56015796540635,
          410.3687074830403,
          417.9805748540562,
          415.62781530487996,
          414.7282266197315,
          411.0310305093529,
          413.6309398298518,
          419.9378680923793,
          428.23188447143536,
          433.55847910607173,
          436.98950474980444,
          442.1261162499913,
          439.9941008506733,
          441.0353215133547,
          444.6745916954664,
          446.2909346958001,
          453.3512942161517,
          452.64727638335665,
          447.3817359465305,
          445.37867115268716,
          448.4725296114604,
          446.0529493440323,
          439.7561331394801,
          439.81564151209,
          442.2054535434022,
          435.71031009646197,
          432.9932570508383,
          434.17328075554553,
          434.01462372496155,
          431.96196369155433,
          434.0146094059943,
          439.7660683471935,
          433.43949700113836,
          421.87712562282195,
          415.332386136087,
          412.58560889224606,
          411.53449026005103,
          414.1028072266803,
          407.7662900436615,
          401.62811295868255,
          409.8982771759006,
          410.24537017335183,
          406.01111469269813,
          402.33219847437874,
          393.1794824727231,
          391.5135427070195,
          388.67748392424545,
          381.9245319583339,
          392.29692673655927,
          394.2703031176753,
          399.20856201041227,
          387.2792812745358,
          383.86812985092183,
          377.3531630633819,
          387.1107390175401,
          383.71935216445735,
          388.6081176351974,
          395.11317435868995,
          404.2856934406207,
          406.5961855333333,
          403.5221541519284,
          403.63123229115416,
          406.0805556878603,
          407.1118250194197,
          404.19644193071485,
          406.9432528615476,
          398.078125,
          386.4860143290133,
          370.1737826705873,
          367.486483305269,
          369.0036583972589,
          361.03098308594804,
          360.6883744980465,
          370.2889105384422,
          368.66556934032934,
          371.3645039167214,
          379.8098026748832,
          385.85498538676313,
          378.9732387064949,
          376.87189883102377,
          371.0358494624268,
          372.27076315463177,
          371.3744368394161,
          378.047067090451,
          381.7020200800238,
          384.08226030366467,
          381.9310870883159,
          377.4395342992379,
          373.127258498116,
          369.52206305495616,
          378.98322463302077,
          379.10272006385037,
          383.8133636257635,
          389.4302784858606,
          390.0278270867561,
          391.1432400346693,
          391.60136020227054,
          388.35470619513643,
          392.43792846497354,
          396.5211402271115,
          405.10588877053,
          406.7292087102475,
          405.155707562965,
          408.3226789963226,
          410.75271344845027,
          407.9243101442471,
          410.14518747689357,
          408.54179325446074,
          415.0151782306003,
          417.49498178666795,
          419.3075474968399,
          422.972483188537,
          425.13363748859143,
          422.8032181180557,
          423.7592588669933,
          419.49677528211595,
          410.7128404151961,
          410.08544169235375,
          409.70702033371197,
          412.3959525923642,
          403.5921033629647,
          399.55870653260496,
          394.3799517877281,
          393.4238820075808
         ],
         "open": [
          461.6542345418459,
          460.18641404234324,
          462.008848102596,
          462.24528055160727,
          462.60978173041406,
          463.87070694484504,
          460.2553955831633,
          459.11267044699287,
          455.4481171600917,
          457.1523706155449,
          455.11323109448887,
          454.7585938595128,
          444.01119984453203,
          452.3253898476043,
          449.33069751892725,
          457.4872839626471,
          461.71333382699515,
          461.1715328043396,
          462.23542966164496,
          463.1811154492322,
          456.1869164537576,
          456.51205763097414,
          465.5256547758522,
          456.26727049651515,
          449.2781837713862,
          453.3609305057284,
          457.49309513220595,
          463.384882894794,
          466.65699037424486,
          472.25217296117563,
          471.520676426014,
          472.45978286474065,
          470.19601309008607,
          470.84844425912456,
          473.7350360685361,
          471.69861022869173,
          462.53475182573953,
          462.5940675430594,
          457.4041104866488,
          459.90518843943073,
          466.1923589724666,
          466.78546443913797,
          455.911405158876,
          454.4779996204865,
          452.88641897197675,
          448.5565381938676,
          440.4602696443499,
          427.0851483078244,
          428.10335760369844,
          435.67569388631534,
          433.2438395533789,
          427.72771342285955,
          436.1897184269397,
          445.5216484474969,
          450.28652478956815,
          445.7885902010251,
          441.2412527498039,
          444.36505529170523,
          441.6169115248988,
          450.0097386724572,
          446.17411501257595,
          444.266213628056,
          434.8848708117567,
          438.6512410794835,
          438.8489194497072,
          438.147085436672,
          432.32447369113333,
          426.94677375799444,
          427.7079536938864,
          406.3156087388995,
          424.6928378276693,
          427.08515110507835,
          430.06070702979645,
          427.4212429119066,
          435.42852013444514,
          426.8083351640208,
          426.6106384934223,
          414.81720238907917,
          420.2740282816254,
          417.6839951875607,
          423.2199053036139,
          416.07266383687795,
          414.9654641175031,
          424.9696361894637,
          428.6273001991835,
          434.331945744177,
          440.6188576005574,
          442.1261162499913,
          443.1673142577607,
          442.2054322196226,
          447.3817400586387,
          448.2741855384289,
          456.1675067275879,
          456.4848620839005,
          454.0553860342224,
          449.5137323511612,
          449.33523889932536,
          451.40772050749126,
          443.14750544454176,
          441.85838755010286,
          444.2184519870874,
          440.39075305179466,
          439.3694015840261,
          434.36169201086005,
          439.835460328614,
          433.1519263802762,
          434.1930947198821,
          443.17726233854705,
          444.78369474686116,
          433.25107052248364,
          420.1219538482033,
          422.2638527212785,
          413.74579565968503,
          418.75353315699766,
          420.04261787296315,
          408.6190902615176,
          411.5344833608006,
          413.5871432097497,
          420.9945602744624,
          407.657222216257,
          401.70746721179637,
          401.10254325623094,
          394.7363308640535,
          386.1091925233651,
          393.38772077558525,
          396.6303766392127,
          403.12549465904874,
          400.1208420908022,
          385.3654940283421,
          389.95671425480964,
          389.5402031563818,
          389.2724603968558,
          389.02458338337726,
          395.33133316910966,
          404.49392630422375,
          410.0866962528882,
          411.693168783268,
          405.9913057078747,
          408.94633755839413,
          411.3064116561258,
          404.6823589875329,
          410.46351106833333,
          405.9119600405998,
          391.5730576661437,
          376.66894777603443,
          373.6940684990385,
          374.1997660824731,
          367.40715777387805,
          364.01470689796395,
          370.36860027572,
          369.10377171155864,
          375.09916248890295,
          379.839678728561,
          389.45020228820897,
          388.63356786157743,
          379.6704007020671,
          374.7007872373399,
          375.01948165467763,
          374.3422564155411,
          380.54677804388876,
          383.5444577535018,
          385.6856591705736,
          384.2714792285503,
          382.0804737894117,
          373.5654608765115,
          372.08152594230745,
          380.9849810837629,
          386.79113868810555,
          384.50051283779845,
          390.86438981626435,
          392.54747551542175,
          397.2880116277475,
          394.13097751294976,
          392.2287761962975,
          392.7466578229037,
          400.24586034709495,
          405.9125726207121,
          407.47614042202906,
          407.4462861108971,
          408.6214395311792,
          412.6748105385001,
          407.98406224955716,
          413.551209607935,
          410.53361126449806,
          417.0667482330721,
          421.25951639625225,
          420.3034564551387,
          423.0322352943368,
          425.9801662145605,
          424.1676085940869,
          425.1136804525352,
          423.241402714664,
          415.3438109035657,
          411.21082373535467,
          410.4240456406023,
          413.5412418594565,
          417.6742705524675,
          400.554615541517,
          402.19784327418733,
          398.2938609922522
         ],
         "type": "candlestick",
         "x": [
          0,
          1,
          2,
          3,
          4,
          5,
          6,
          7,
          8,
          9,
          10,
          11,
          12,
          13,
          14,
          15,
          16,
          17,
          18,
          19,
          20,
          21,
          22,
          23,
          24,
          25,
          26,
          27,
          28,
          29,
          30,
          31,
          32,
          33,
          34,
          35,
          36,
          37,
          38,
          39,
          40,
          41,
          42,
          43,
          44,
          45,
          46,
          47,
          48,
          49,
          50,
          51,
          52,
          53,
          54,
          55,
          56,
          57,
          58,
          59,
          60,
          61,
          62,
          63,
          64,
          65,
          66,
          67,
          68,
          69,
          70,
          71,
          72,
          73,
          74,
          75,
          76,
          77,
          78,
          79,
          80,
          81,
          82,
          83,
          84,
          85,
          86,
          87,
          88,
          89,
          90,
          91,
          92,
          93,
          94,
          95,
          96,
          97,
          98,
          99,
          100,
          101,
          102,
          103,
          104,
          105,
          106,
          107,
          108,
          109,
          110,
          111,
          112,
          113,
          114,
          115,
          116,
          117,
          118,
          119,
          120,
          121,
          122,
          123,
          124,
          125,
          126,
          127,
          128,
          129,
          130,
          131,
          132,
          133,
          134,
          135,
          136,
          137,
          138,
          139,
          140,
          141,
          142,
          143,
          144,
          145,
          146,
          147,
          148,
          149,
          150,
          151,
          152,
          153,
          154,
          155,
          156,
          157,
          158,
          159,
          160,
          161,
          162,
          163,
          164,
          165,
          166,
          167,
          168,
          169,
          170,
          171,
          172,
          173,
          174,
          175,
          176,
          177,
          178,
          179,
          180,
          181,
          182,
          183,
          184,
          185,
          186,
          187,
          188,
          189,
          190,
          191,
          192,
          193,
          194,
          195,
          196,
          197,
          198,
          199
         ]
        }
       ],
       "layout": {
        "shapes": [
         {
          "type": "line",
          "x0": 0,
          "x1": 200,
          "y0": 415.9441512869428,
          "y1": 415.9441512869428
         },
         {
          "type": "line",
          "x0": 0,
          "x1": 200,
          "y0": 381.9245319583339,
          "y1": 381.9245319583339
         },
         {
          "type": "line",
          "x0": 0,
          "x1": 200,
          "y0": 389.0418979580837,
          "y1": 389.0418979580837
         },
         {
          "type": "line",
          "x0": 0,
          "x1": 200,
          "y0": 429.963802202433,
          "y1": 429.963802202433
         }
        ],
        "template": {
         "data": {
          "bar": [
           {
            "error_x": {
             "color": "#2a3f5f"
            },
            "error_y": {
             "color": "#2a3f5f"
            },
            "marker": {
             "line": {
              "color": "#E5ECF6",
              "width": 0.5
             },
             "pattern": {
              "fillmode": "overlay",
              "size": 10,
              "solidity": 0.2
             }
            },
            "type": "bar"
           }
          ],
          "barpolar": [
           {
            "marker": {
             "line": {
              "color": "#E5ECF6",
              "width": 0.5
             },
             "pattern": {
              "fillmode": "overlay",
              "size": 10,
              "solidity": 0.2
             }
            },
            "type": "barpolar"
           }
          ],
          "carpet": [
           {
            "aaxis": {
             "endlinecolor": "#2a3f5f",
             "gridcolor": "white",
             "linecolor": "white",
             "minorgridcolor": "white",
             "startlinecolor": "#2a3f5f"
            },
            "baxis": {
             "endlinecolor": "#2a3f5f",
             "gridcolor": "white",
             "linecolor": "white",
             "minorgridcolor": "white",
             "startlinecolor": "#2a3f5f"
            },
            "type": "carpet"
           }
          ],
          "choropleth": [
           {
            "colorbar": {
             "outlinewidth": 0,
             "ticks": ""
            },
            "type": "choropleth"
           }
          ],
          "contour": [
           {
            "colorbar": {
             "outlinewidth": 0,
             "ticks": ""
            },
            "colorscale": [
             [
              0,
              "#0d0887"
             ],
             [
              0.1111111111111111,
              "#46039f"
             ],
             [
              0.2222222222222222,
              "#7201a8"
             ],
             [
              0.3333333333333333,
              "#9c179e"
             ],
             [
              0.4444444444444444,
              "#bd3786"
             ],
             [
              0.5555555555555556,
              "#d8576b"
             ],
             [
              0.6666666666666666,
              "#ed7953"
             ],
             [
              0.7777777777777778,
              "#fb9f3a"
             ],
             [
              0.8888888888888888,
              "#fdca26"
             ],
             [
              1,
              "#f0f921"
             ]
            ],
            "type": "contour"
           }
          ],
          "contourcarpet": [
           {
            "colorbar": {
             "outlinewidth": 0,
             "ticks": ""
            },
            "type": "contourcarpet"
           }
          ],
          "heatmap": [
           {
            "colorbar": {
             "outlinewidth": 0,
             "ticks": ""
            },
            "colorscale": [
             [
              0,
              "#0d0887"
             ],
             [
              0.1111111111111111,
              "#46039f"
             ],
             [
              0.2222222222222222,
              "#7201a8"
             ],
             [
              0.3333333333333333,
              "#9c179e"
             ],
             [
              0.4444444444444444,
              "#bd3786"
             ],
             [
              0.5555555555555556,
              "#d8576b"
             ],
             [
              0.6666666666666666,
              "#ed7953"
             ],
             [
              0.7777777777777778,
              "#fb9f3a"
             ],
             [
              0.8888888888888888,
              "#fdca26"
             ],
             [
              1,
              "#f0f921"
             ]
            ],
            "type": "heatmap"
           }
          ],
          "heatmapgl": [
           {
            "colorbar": {
             "outlinewidth": 0,
             "ticks": ""
            },
            "colorscale": [
             [
              0,
              "#0d0887"
             ],
             [
              0.1111111111111111,
              "#46039f"
             ],
             [
              0.2222222222222222,
              "#7201a8"
             ],
             [
              0.3333333333333333,
              "#9c179e"
             ],
             [
              0.4444444444444444,
              "#bd3786"
             ],
             [
              0.5555555555555556,
              "#d8576b"
             ],
             [
              0.6666666666666666,
              "#ed7953"
             ],
             [
              0.7777777777777778,
              "#fb9f3a"
             ],
             [
              0.8888888888888888,
              "#fdca26"
             ],
             [
              1,
              "#f0f921"
             ]
            ],
            "type": "heatmapgl"
           }
          ],
          "histogram": [
           {
            "marker": {
             "pattern": {
              "fillmode": "overlay",
              "size": 10,
              "solidity": 0.2
             }
            },
            "type": "histogram"
           }
          ],
          "histogram2d": [
           {
            "colorbar": {
             "outlinewidth": 0,
             "ticks": ""
            },
            "colorscale": [
             [
              0,
              "#0d0887"
             ],
             [
              0.1111111111111111,
              "#46039f"
             ],
             [
              0.2222222222222222,
              "#7201a8"
             ],
             [
              0.3333333333333333,
              "#9c179e"
             ],
             [
              0.4444444444444444,
              "#bd3786"
             ],
             [
              0.5555555555555556,
              "#d8576b"
             ],
             [
              0.6666666666666666,
              "#ed7953"
             ],
             [
              0.7777777777777778,
              "#fb9f3a"
             ],
             [
              0.8888888888888888,
              "#fdca26"
             ],
             [
              1,
              "#f0f921"
             ]
            ],
            "type": "histogram2d"
           }
          ],
          "histogram2dcontour": [
           {
            "colorbar": {
             "outlinewidth": 0,
             "ticks": ""
            },
            "colorscale": [
             [
              0,
              "#0d0887"
             ],
             [
              0.1111111111111111,
              "#46039f"
             ],
             [
              0.2222222222222222,
              "#7201a8"
             ],
             [
              0.3333333333333333,
              "#9c179e"
             ],
             [
              0.4444444444444444,
              "#bd3786"
             ],
             [
              0.5555555555555556,
              "#d8576b"
             ],
             [
              0.6666666666666666,
              "#ed7953"
             ],
             [
              0.7777777777777778,
              "#fb9f3a"
             ],
             [
              0.8888888888888888,
              "#fdca26"
             ],
             [
              1,
              "#f0f921"
             ]
            ],
            "type": "histogram2dcontour"
           }
          ],
          "mesh3d": [
           {
            "colorbar": {
             "outlinewidth": 0,
             "ticks": ""
            },
            "type": "mesh3d"
           }
          ],
          "parcoords": [
           {
            "line": {
             "colorbar": {
              "outlinewidth": 0,
              "ticks": ""
             }
            },
            "type": "parcoords"
           }
          ],
          "pie": [
           {
            "automargin": true,
            "type": "pie"
           }
          ],
          "scatter": [
           {
            "marker": {
             "colorbar": {
              "outlinewidth": 0,
              "ticks": ""
             }
            },
            "type": "scatter"
           }
          ],
          "scatter3d": [
           {
            "line": {
             "colorbar": {
              "outlinewidth": 0,
              "ticks": ""
             }
            },
            "marker": {
             "colorbar": {
              "outlinewidth": 0,
              "ticks": ""
             }
            },
            "type": "scatter3d"
           }
          ],
          "scattercarpet": [
           {
            "marker": {
             "colorbar": {
              "outlinewidth": 0,
              "ticks": ""
             }
            },
            "type": "scattercarpet"
           }
          ],
          "scattergeo": [
           {
            "marker": {
             "colorbar": {
              "outlinewidth": 0,
              "ticks": ""
             }
            },
            "type": "scattergeo"
           }
          ],
          "scattergl": [
           {
            "marker": {
             "colorbar": {
              "outlinewidth": 0,
              "ticks": ""
             }
            },
            "type": "scattergl"
           }
          ],
          "scattermapbox": [
           {
            "marker": {
             "colorbar": {
              "outlinewidth": 0,
              "ticks": ""
             }
            },
            "type": "scattermapbox"
           }
          ],
          "scatterpolar": [
           {
            "marker": {
             "colorbar": {
              "outlinewidth": 0,
              "ticks": ""
             }
            },
            "type": "scatterpolar"
           }
          ],
          "scatterpolargl": [
           {
            "marker": {
             "colorbar": {
              "outlinewidth": 0,
              "ticks": ""
             }
            },
            "type": "scatterpolargl"
           }
          ],
          "scatterternary": [
           {
            "marker": {
             "colorbar": {
              "outlinewidth": 0,
              "ticks": ""
             }
            },
            "type": "scatterternary"
           }
          ],
          "surface": [
           {
            "colorbar": {
             "outlinewidth": 0,
             "ticks": ""
            },
            "colorscale": [
             [
              0,
              "#0d0887"
             ],
             [
              0.1111111111111111,
              "#46039f"
             ],
             [
              0.2222222222222222,
              "#7201a8"
             ],
             [
              0.3333333333333333,
              "#9c179e"
             ],
             [
              0.4444444444444444,
              "#bd3786"
             ],
             [
              0.5555555555555556,
              "#d8576b"
             ],
             [
              0.6666666666666666,
              "#ed7953"
             ],
             [
              0.7777777777777778,
              "#fb9f3a"
             ],
             [
              0.8888888888888888,
              "#fdca26"
             ],
             [
              1,
              "#f0f921"
             ]
            ],
            "type": "surface"
           }
          ],
          "table": [
           {
            "cells": {
             "fill": {
              "color": "#EBF0F8"
             },
             "line": {
              "color": "white"
             }
            },
            "header": {
             "fill": {
              "color": "#C8D4E3"
             },
             "line": {
              "color": "white"
             }
            },
            "type": "table"
           }
          ]
         },
         "layout": {
          "annotationdefaults": {
           "arrowcolor": "#2a3f5f",
           "arrowhead": 0,
           "arrowwidth": 1
          },
          "autotypenumbers": "strict",
          "coloraxis": {
           "colorbar": {
            "outlinewidth": 0,
            "ticks": ""
           }
          },
          "colorscale": {
           "diverging": [
            [
             0,
             "#8e0152"
            ],
            [
             0.1,
             "#c51b7d"
            ],
            [
             0.2,
             "#de77ae"
            ],
            [
             0.3,
             "#f1b6da"
            ],
            [
             0.4,
             "#fde0ef"
            ],
            [
             0.5,
             "#f7f7f7"
            ],
            [
             0.6,
             "#e6f5d0"
            ],
            [
             0.7,
             "#b8e186"
            ],
            [
             0.8,
             "#7fbc41"
            ],
            [
             0.9,
             "#4d9221"
            ],
            [
             1,
             "#276419"
            ]
           ],
           "sequential": [
            [
             0,
             "#0d0887"
            ],
            [
             0.1111111111111111,
             "#46039f"
            ],
            [
             0.2222222222222222,
             "#7201a8"
            ],
            [
             0.3333333333333333,
             "#9c179e"
            ],
            [
             0.4444444444444444,
             "#bd3786"
            ],
            [
             0.5555555555555556,
             "#d8576b"
            ],
            [
             0.6666666666666666,
             "#ed7953"
            ],
            [
             0.7777777777777778,
             "#fb9f3a"
            ],
            [
             0.8888888888888888,
             "#fdca26"
            ],
            [
             1,
             "#f0f921"
            ]
           ],
           "sequentialminus": [
            [
             0,
             "#0d0887"
            ],
            [
             0.1111111111111111,
             "#46039f"
            ],
            [
             0.2222222222222222,
             "#7201a8"
            ],
            [
             0.3333333333333333,
             "#9c179e"
            ],
            [
             0.4444444444444444,
             "#bd3786"
            ],
            [
             0.5555555555555556,
             "#d8576b"
            ],
            [
             0.6666666666666666,
             "#ed7953"
            ],
            [
             0.7777777777777778,
             "#fb9f3a"
            ],
            [
             0.8888888888888888,
             "#fdca26"
            ],
            [
             1,
             "#f0f921"
            ]
           ]
          },
          "colorway": [
           "#636efa",
           "#EF553B",
           "#00cc96",
           "#ab63fa",
           "#FFA15A",
           "#19d3f3",
           "#FF6692",
           "#B6E880",
           "#FF97FF",
           "#FECB52"
          ],
          "font": {
           "color": "#2a3f5f"
          },
          "geo": {
           "bgcolor": "white",
           "lakecolor": "white",
           "landcolor": "#E5ECF6",
           "showlakes": true,
           "showland": true,
           "subunitcolor": "white"
          },
          "hoverlabel": {
           "align": "left"
          },
          "hovermode": "closest",
          "mapbox": {
           "style": "light"
          },
          "paper_bgcolor": "white",
          "plot_bgcolor": "#E5ECF6",
          "polar": {
           "angularaxis": {
            "gridcolor": "white",
            "linecolor": "white",
            "ticks": ""
           },
           "bgcolor": "#E5ECF6",
           "radialaxis": {
            "gridcolor": "white",
            "linecolor": "white",
            "ticks": ""
           }
          },
          "scene": {
           "xaxis": {
            "backgroundcolor": "#E5ECF6",
            "gridcolor": "white",
            "gridwidth": 2,
            "linecolor": "white",
            "showbackground": true,
            "ticks": "",
            "zerolinecolor": "white"
           },
           "yaxis": {
            "backgroundcolor": "#E5ECF6",
            "gridcolor": "white",
            "gridwidth": 2,
            "linecolor": "white",
            "showbackground": true,
            "ticks": "",
            "zerolinecolor": "white"
           },
           "zaxis": {
            "backgroundcolor": "#E5ECF6",
            "gridcolor": "white",
            "gridwidth": 2,
            "linecolor": "white",
            "showbackground": true,
            "ticks": "",
            "zerolinecolor": "white"
           }
          },
          "shapedefaults": {
           "line": {
            "color": "#2a3f5f"
           }
          },
          "ternary": {
           "aaxis": {
            "gridcolor": "white",
            "linecolor": "white",
            "ticks": ""
           },
           "baxis": {
            "gridcolor": "white",
            "linecolor": "white",
            "ticks": ""
           },
           "bgcolor": "#E5ECF6",
           "caxis": {
            "gridcolor": "white",
            "linecolor": "white",
            "ticks": ""
           }
          },
          "title": {
           "x": 0.05
          },
          "xaxis": {
           "automargin": true,
           "gridcolor": "white",
           "linecolor": "white",
           "ticks": "",
           "title": {
            "standoff": 15
           },
           "zerolinecolor": "white",
           "zerolinewidth": 2
          },
          "yaxis": {
           "automargin": true,
           "gridcolor": "white",
           "linecolor": "white",
           "ticks": "",
           "title": {
            "standoff": 15
           },
           "zerolinecolor": "white",
           "zerolinewidth": 2
          }
         }
        }
       }
      }
     },
     "metadata": {},
     "output_type": "display_data"
    }
   ],
   "source": [
    "s = 0\n",
    "e = 200\n",
    "dfpl = sr_df[s:e]\n",
    "import plotly.graph_objects as go\n",
    "from datetime import datetime\n",
    "import matplotlib.pyplot as plt\n",
    "\n",
    "fig = go.Figure(data=[go.Candlestick(x=dfpl.index,\n",
    "                open=dfpl['Open'],\n",
    "                high=dfpl['High'],\n",
    "                low=dfpl['Low'],\n",
    "                close=dfpl['Close'])])\n",
    "\n",
    "c=0\n",
    "while (1):\n",
    "    if(c>len(sr)-1 ):#or sr[c][0]>e\n",
    "        break\n",
    "    fig.add_shape(type='line', x0=s, y0=sr[c][1],\n",
    "                  x1=e,\n",
    "                  y1=sr[c][1]\n",
    "                  )#x0=sr[c][0]-5 x1=sr[c][0]+5\n",
    "    c+=1\n",
    "fig.show()"
   ]
  },
  {
   "cell_type": "code",
   "execution_count": 10,
   "id": "f31d0df3-5943-4cb2-8eeb-395c71c7d31c",
   "metadata": {},
   "outputs": [
    {
     "data": {
      "text/plain": [
       "[389.0418979580837, 429.963802202433]"
      ]
     },
     "execution_count": 10,
     "metadata": {},
     "output_type": "execute_result"
    }
   ],
   "source": [
    "plotlist1 = [x[1] for x in sr if x[2]==1]\n",
    "plotlist2 = [x[1] for x in sr if x[2]==2]\n",
    "plotlist1.sort()\n",
    "plotlist2.sort()\n",
    "\n",
    "for i in range(1,len(plotlist1)):\n",
    "    if(i>=len(plotlist1)):\n",
    "        break\n",
    "    if abs(plotlist1[i]-plotlist1[i-1])<=0.005:\n",
    "        plotlist1.pop(i)\n",
    "\n",
    "for i in range(1,len(plotlist2)):\n",
    "    if(i>=len(plotlist2)):\n",
    "        break\n",
    "    if abs(plotlist2[i]-plotlist2[i-1])<=0.005:\n",
    "        plotlist2.pop(i)\n",
    "plotlist2\n",
    "#plt.hist(plotlist, bins=10, alpha=0.5)"
   ]
  },
  {
   "cell_type": "code",
   "execution_count": 11,
   "id": "d37280cb-021d-4a9b-81f7-b6acb44fced0",
   "metadata": {},
   "outputs": [
    {
     "data": {
      "application/vnd.plotly.v1+json": {
       "config": {
        "plotlyServerURL": "https://plot.ly"
       },
       "data": [
        {
         "close": [
          460.4622497558594,
          462.28466796875,
          461.16168212890625,
          462.7279968261719,
          461.9005432128906,
          460.6001892089844,
          461.2109375,
          462.4422912597656,
          452.12835693359375,
          457.6744689941406,
          448.76922607421875,
          443.7846374511719,
          450.5817565917969,
          446.6611022949219,
          451.9510498046875,
          461.2995910644531,
          462.5210876464844,
          459.39837646484375,
          463.722900390625,
          459.6150817871094,
          456.452880859375,
          463.58502197265625,
          459.49688720703125,
          454.60650634765625,
          449.7724609375,
          457.760009765625,
          462.3370056152344,
          465.2137145996094,
          471.7974853515625,
          471.4118957519531,
          472.01495361328125,
          470.7100524902344,
          469.5237731933594,
          472.2423095703125,
          472.0841369628906,
          463.01910400390625,
          462.58416748046875,
          460.7553405761719,
          460.18194580078125,
          464.3734436035156,
          465.6288757324219,
          459.213134765625,
          459.4010009765625,
          451.26519775390625,
          446.5794372558594,
          441.63665771484375,
          432.967041015625,
          434.8057556152344,
          429.4972229003906,
          428.4197082519531,
          426.3041687011719,
          436.8916320800781,
          444.760498046875,
          447.76568603515625,
          452.1153564453125,
          441.4883728027344,
          443.5643615722656,
          442.14080810546875,
          445.7787170410156,
          452.3031921386719,
          444.17724609375,
          435.41864013671875,
          433.9951477050781,
          440.9941101074219,
          441.4883728027344,
          432.0575866699219,
          429.2599792480469,
          424.6533203125,
          417.12054443359375,
          423.3978271484375,
          432.73968505859375,
          431.63250732421875,
          425.0586242675781,
          432.8780822753906,
          430.7229919433594,
          427.2235412597656,
          414.6293640136719,
          411.48577880859375,
          422.5180358886719,
          420.6101379394531,
          415.2620544433594,
          412.2271728515625,
          421.292236328125,
          430.634033203125,
          436.0216979980469,
          440.7973327636719,
          440.66845703125,
          445.82489013671875,
          440.0833435058594,
          446.7173156738281,
          448.89892578125,
          452.0919494628906,
          457.6846923828125,
          454.8586120605469,
          447.85772705078125,
          449.12701416015625,
          452.9744873046875,
          447.2528076171875,
          442.78057861328125,
          445.0117492675781,
          443.8218078613281,
          436.2358703613281,
          434.6195373535156,
          439.59747314453125,
          434.12371826171875,
          434.3022155761719,
          441.31298828125,
          440.9857482910156,
          434.3914489746094,
          422.47210693359375,
          424.9214172363281,
          412.6153564453125,
          413.7755432128906,
          424.227294921875,
          408.5496826171875,
          411.0089111328125,
          412.89300537109375,
          425.4668273925781,
          410.3445129394531,
          407.89520263671875,
          394.83551025390625,
          395.7477722167969,
          389.46087646484375,
          389.0543212890625,
          398.35577392578125,
          396.73944091796875,
          404.9005126953125,
          388.57830810546875,
          386.1984558105469,
          386.3670349121094,
          393.5959777832031,
          390.5913391113281,
          394.0422058105469,
          401.91571044921875,
          411.7823791503906,
          409.4718933105469,
          406.1598815917969,
          413.8945617675781,
          407.1019287109375,
          408.3414611816406,
          412.25836181640625,
          407.7762145996094,
          398.078125,
          386.53558349609375,
          371.85955810546875,
          370.739013671875,
          376.0243835449219,
          363.5794677734375,
          364.3632507324219,
          373.53558349609375,
          372.8583679199219,
          376.5133361816406,
          388.4841613769531,
          387.0002746582031,
          379.0927429199219,
          378.7840270996094,
          375.7066650390625,
          379.6803283691406,
          380.3973693847656,
          381.68212890625,
          387.39862060546875,
          387.0799560546875,
          382.6581115722656,
          379.2720031738281,
          377.2801818847656,
          376.36395263671875,
          383.554443359375,
          380.387451171875,
          390.6651916503906,
          393.15496826171875,
          397.1585388183594,
          393.4736633300781,
          393.95172119140625,
          389.2908630371094,
          399.39935302734375,
          404.40875244140625,
          410.3045349121094,
          409.0895080566406,
          406.390625,
          412.7544860839844,
          412.47564697265625,
          411.7784729003906,
          411.3004455566406,
          409.66717529296875,
          418.27178955078125,
          418.27178955078125,
          425.35272216796875,
          427.1054992675781,
          427.9421081542969,
          424.9045715332031,
          426.1394958496094,
          420.41302490234375,
          411.6589660644531,
          410.6630859375,
          411.9776916503906,
          417.7937927246094,
          403.65185546875,
          400.98284912109375,
          396.5809020996094,
          393.56329345703125
         ],
         "high": [
          461.8216836025759,
          463.476622664264,
          462.1960182712331,
          463.0038218133507,
          463.91997302707,
          466.4811987877852,
          462.1073762106545,
          462.5703582237442,
          456.9848605880097,
          459.60524393312346,
          457.1129698467912,
          457.74342606760996,
          452.2268759486868,
          453.43852023575164,
          453.92123678080793,
          461.89065318734845,
          462.9939433473569,
          462.62948205998595,
          463.88051895672453,
          463.5455952344251,
          458.797408051111,
          463.8411258482515,
          465.8211708085714,
          459.4207614407518,
          450.1876368627965,
          457.9082868957625,
          462.45562731524785,
          466.78551250219414,
          471.8469010045365,
          473.32969355435415,
          473.08257906373285,
          473.51754328114333,
          471.4020204549628,
          472.3807216657983,
          474.4863470589239,
          472.5092320583563,
          465.43120909713906,
          463.8297606071574,
          460.4092939939143,
          464.47230508019663,
          467.78394722040724,
          467.46756932998835,
          459.76676127684203,
          454.6954827997249,
          454.3494601338673,
          453.4894147672063,
          442.93165549618703,
          435.3395834284582,
          434.6871333979894,
          438.9577017159584,
          436.53571226839364,
          436.94104773309544,
          445.1262583350566,
          448.43789572444734,
          452.87653246527395,
          447.78545910057164,
          447.5976501613361,
          445.8280963553951,
          446.74751119945404,
          452.6392970170899,
          452.47120137121067,
          446.44101509500166,
          436.54563498586,
          441.17204265347874,
          442.9316536871931,
          441.45874873347236,
          433.6392679106509,
          430.5154406567137,
          428.30109237221666,
          423.8525838825361,
          432.8286513336713,
          433.18454495400056,
          432.1663326915444,
          434.6871234763599,
          436.0611792082466,
          428.40978836365167,
          427.35205429210276,
          422.32032684373695,
          424.59400614348385,
          421.54924652064017,
          423.86245963056786,
          419.6907462879158,
          421.95455087309057,
          430.69334404957186,
          436.0216979980468,
          441.13448178417855,
          442.72109875452185,
          446.8065896653376,
          444.7340690854814,
          446.72724161164575,
          449.18650563408687,
          452.0919494628906,
          458.2003569597553,
          457.33767571847,
          454.9180953227963,
          449.6624701169323,
          453.0835818389499,
          453.9958483027275,
          445.1703995445369,
          446.91568347666197,
          446.8561793032968,
          441.27331420596965,
          442.01705491416277,
          440.39076139490294,
          441.00560136960956,
          436.06730773183745,
          442.06660302722275,
          443.8218128328768,
          446.2413853915548,
          434.41125532958233,
          425.0999025485545,
          422.47211585475065,
          419.3782512500081,
          426.0419865001822,
          422.30352267308285,
          412.43685414522116,
          415.4216381372007,
          426.06180873488825,
          421.44080381860226,
          411.32621816707115,
          403.0064941024103,
          402.67922399071955,
          400.65633572187966,
          392.48533683625664,
          399.8035385983029,
          400.5869526829617,
          405.1484190588463,
          400.4183176009376,
          390.83928611427115,
          393.70505730340926,
          394.39919195807806,
          391.84076652366394,
          396.1048037225104,
          403.6312333794285,
          411.9013693581638,
          412.97232996852904,
          412.75418506046395,
          413.9441309353551,
          410.57261785409406,
          413.12107295279543,
          412.7343529347155,
          412.33769767547756,
          408.291855079743,
          392.4655145076387,
          378.6125252597034,
          374.7749366416902,
          380.68500501263463,
          367.83354945752603,
          367.8688698501164,
          374.98960207775144,
          377.1706403184424,
          377.28017513374607,
          388.49413019242246,
          389.75893164678683,
          391.5515738460968,
          380.7061241839131,
          379.10271832908796,
          380.1384683809683,
          380.41730701486875,
          384.2914056552444,
          388.23518049333734,
          389.0418979580837,
          385.2872954288367,
          384.5802150528634,
          380.35756734891146,
          377.49927302854667,
          383.67394757819767,
          387.4982255615694,
          391.2627430970632,
          394.6388932756416,
          397.208322108785,
          398.5428362374419,
          394.8480331918537,
          392.4478773804343,
          401.23182193635006,
          405.1357465196418,
          411.34028877128935,
          411.71872227062175,
          411.31041790220996,
          413.97943466962624,
          413.391866239546,
          412.4556836890572,
          415.9115090600188,
          411.0614418214487,
          418.4212002072381,
          423.21151981805826,
          425.4622575648715,
          427.6532674277152,
          429.963802202433,
          427.74291828019767,
          426.85652111767564,
          423.5202560090412,
          415.52309761108154,
          413.7205338893691,
          413.41177265690214,
          417.8435760173275,
          418.2419155574279,
          404.17970852973673,
          402.4468205164776,
          399.59849929160004
         ],
         "low": [
          459.28015558764304,
          460.10761979136737,
          460.51151681616716,
          459.388515313826,
          461.5163422865618,
          460.3834674297967,
          457.526697355524,
          458.2556439190348,
          450.9462327293489,
          454.84725531781993,
          448.51309212497694,
          443.57777622640015,
          443.5974473509027,
          442.2281816015183,
          446.7990000395724,
          451.8131356831209,
          459.87118373592966,
          459.19151523985863,
          459.555974163287,
          459.31953569933046,
          453.38925469822925,
          453.8719841187196,
          457.8714588390697,
          452.8172253000845,
          445.9764159219401,
          451.0872673948548,
          457.2854769888965,
          463.2761563897189,
          466.6075747212709,
          470.6111691628179,
          470.4728112024703,
          470.2256705027333,
          469.2371141484059,
          468.42650410269573,
          470.1366836075056,
          462.92024253253254,
          460.1028861799993,
          459.33181975286794,
          451.37392290910174,
          456.76156242338106,
          463.57269588491556,
          458.13561418240937,
          454.6361615385267,
          450.0987107781213,
          446.2927480410489,
          439.41241041801464,
          432.9373855921343,
          415.9441512869428,
          422.26099759477876,
          423.95142308177117,
          424.5346781339232,
          422.9233534873862,
          434.7760929251571,
          441.8244649881127,
          447.8645544659762,
          440.60854496229723,
          438.75007640900003,
          440.7469429152332,
          440.1241847488413,
          449.8021506939638,
          442.0815157066429,
          433.9160483867408,
          430.3572747041986,
          438.10751807548485,
          436.8817059735302,
          431.4249275370094,
          426.87755957227427,
          420.98576177196225,
          416.5274057552635,
          405.9399834174015,
          422.9628676418268,
          425.77038704288657,
          422.22144784831204,
          426.63041149287534,
          428.83484958238404,
          422.98263470528383,
          414.56015796540635,
          410.3687074830403,
          417.9805748540562,
          415.62781530487996,
          414.7282266197315,
          411.0310305093529,
          413.6309398298518,
          419.9378680923793,
          428.23188447143536,
          433.55847910607173,
          436.98950474980444,
          442.1261162499913,
          439.9941008506733,
          441.0353215133547,
          444.6745916954664,
          446.2909346958001,
          453.3512942161517,
          452.64727638335665,
          447.3817359465305,
          445.37867115268716,
          448.4725296114604,
          446.0529493440323,
          439.7561331394801,
          439.81564151209,
          442.2054535434022,
          435.71031009646197,
          432.9932570508383,
          434.17328075554553,
          434.01462372496155,
          431.96196369155433,
          434.0146094059943,
          439.7660683471935,
          433.43949700113836,
          421.87712562282195,
          415.332386136087,
          412.58560889224606,
          411.53449026005103,
          414.1028072266803,
          407.7662900436615,
          401.62811295868255,
          409.8982771759006,
          410.24537017335183,
          406.01111469269813,
          402.33219847437874,
          393.1794824727231,
          391.5135427070195,
          388.67748392424545,
          381.9245319583339,
          392.29692673655927,
          394.2703031176753,
          399.20856201041227,
          387.2792812745358,
          383.86812985092183,
          377.3531630633819,
          387.1107390175401,
          383.71935216445735,
          388.6081176351974,
          395.11317435868995,
          404.2856934406207,
          406.5961855333333,
          403.5221541519284,
          403.63123229115416,
          406.0805556878603,
          407.1118250194197,
          404.19644193071485,
          406.9432528615476,
          398.078125,
          386.4860143290133,
          370.1737826705873,
          367.486483305269,
          369.0036583972589,
          361.03098308594804,
          360.6883744980465,
          370.2889105384422,
          368.66556934032934,
          371.3645039167214,
          379.8098026748832,
          385.85498538676313,
          378.9732387064949,
          376.87189883102377,
          371.0358494624268,
          372.27076315463177,
          371.3744368394161,
          378.047067090451,
          381.7020200800238,
          384.08226030366467,
          381.9310870883159,
          377.4395342992379,
          373.127258498116,
          369.52206305495616,
          378.98322463302077,
          379.10272006385037,
          383.8133636257635,
          389.4302784858606,
          390.0278270867561,
          391.1432400346693,
          391.60136020227054,
          388.35470619513643,
          392.43792846497354,
          396.5211402271115,
          405.10588877053,
          406.7292087102475,
          405.155707562965,
          408.3226789963226,
          410.75271344845027,
          407.9243101442471,
          410.14518747689357,
          408.54179325446074,
          415.0151782306003,
          417.49498178666795,
          419.3075474968399,
          422.972483188537,
          425.13363748859143,
          422.8032181180557,
          423.7592588669933,
          419.49677528211595,
          410.7128404151961,
          410.08544169235375,
          409.70702033371197,
          412.3959525923642,
          403.5921033629647,
          399.55870653260496,
          394.3799517877281,
          393.4238820075808
         ],
         "open": [
          461.6542345418459,
          460.18641404234324,
          462.008848102596,
          462.24528055160727,
          462.60978173041406,
          463.87070694484504,
          460.2553955831633,
          459.11267044699287,
          455.4481171600917,
          457.1523706155449,
          455.11323109448887,
          454.7585938595128,
          444.01119984453203,
          452.3253898476043,
          449.33069751892725,
          457.4872839626471,
          461.71333382699515,
          461.1715328043396,
          462.23542966164496,
          463.1811154492322,
          456.1869164537576,
          456.51205763097414,
          465.5256547758522,
          456.26727049651515,
          449.2781837713862,
          453.3609305057284,
          457.49309513220595,
          463.384882894794,
          466.65699037424486,
          472.25217296117563,
          471.520676426014,
          472.45978286474065,
          470.19601309008607,
          470.84844425912456,
          473.7350360685361,
          471.69861022869173,
          462.53475182573953,
          462.5940675430594,
          457.4041104866488,
          459.90518843943073,
          466.1923589724666,
          466.78546443913797,
          455.911405158876,
          454.4779996204865,
          452.88641897197675,
          448.5565381938676,
          440.4602696443499,
          427.0851483078244,
          428.10335760369844,
          435.67569388631534,
          433.2438395533789,
          427.72771342285955,
          436.1897184269397,
          445.5216484474969,
          450.28652478956815,
          445.7885902010251,
          441.2412527498039,
          444.36505529170523,
          441.6169115248988,
          450.0097386724572,
          446.17411501257595,
          444.266213628056,
          434.8848708117567,
          438.6512410794835,
          438.8489194497072,
          438.147085436672,
          432.32447369113333,
          426.94677375799444,
          427.7079536938864,
          406.3156087388995,
          424.6928378276693,
          427.08515110507835,
          430.06070702979645,
          427.4212429119066,
          435.42852013444514,
          426.8083351640208,
          426.6106384934223,
          414.81720238907917,
          420.2740282816254,
          417.6839951875607,
          423.2199053036139,
          416.07266383687795,
          414.9654641175031,
          424.9696361894637,
          428.6273001991835,
          434.331945744177,
          440.6188576005574,
          442.1261162499913,
          443.1673142577607,
          442.2054322196226,
          447.3817400586387,
          448.2741855384289,
          456.1675067275879,
          456.4848620839005,
          454.0553860342224,
          449.5137323511612,
          449.33523889932536,
          451.40772050749126,
          443.14750544454176,
          441.85838755010286,
          444.2184519870874,
          440.39075305179466,
          439.3694015840261,
          434.36169201086005,
          439.835460328614,
          433.1519263802762,
          434.1930947198821,
          443.17726233854705,
          444.78369474686116,
          433.25107052248364,
          420.1219538482033,
          422.2638527212785,
          413.74579565968503,
          418.75353315699766,
          420.04261787296315,
          408.6190902615176,
          411.5344833608006,
          413.5871432097497,
          420.9945602744624,
          407.657222216257,
          401.70746721179637,
          401.10254325623094,
          394.7363308640535,
          386.1091925233651,
          393.38772077558525,
          396.6303766392127,
          403.12549465904874,
          400.1208420908022,
          385.3654940283421,
          389.95671425480964,
          389.5402031563818,
          389.2724603968558,
          389.02458338337726,
          395.33133316910966,
          404.49392630422375,
          410.0866962528882,
          411.693168783268,
          405.9913057078747,
          408.94633755839413,
          411.3064116561258,
          404.6823589875329,
          410.46351106833333,
          405.9119600405998,
          391.5730576661437,
          376.66894777603443,
          373.6940684990385,
          374.1997660824731,
          367.40715777387805,
          364.01470689796395,
          370.36860027572,
          369.10377171155864,
          375.09916248890295,
          379.839678728561,
          389.45020228820897,
          388.63356786157743,
          379.6704007020671,
          374.7007872373399,
          375.01948165467763,
          374.3422564155411,
          380.54677804388876,
          383.5444577535018,
          385.6856591705736,
          384.2714792285503,
          382.0804737894117,
          373.5654608765115,
          372.08152594230745,
          380.9849810837629,
          386.79113868810555,
          384.50051283779845,
          390.86438981626435,
          392.54747551542175,
          397.2880116277475,
          394.13097751294976,
          392.2287761962975,
          392.7466578229037,
          400.24586034709495,
          405.9125726207121,
          407.47614042202906,
          407.4462861108971,
          408.6214395311792,
          412.6748105385001,
          407.98406224955716,
          413.551209607935,
          410.53361126449806,
          417.0667482330721,
          421.25951639625225,
          420.3034564551387,
          423.0322352943368,
          425.9801662145605,
          424.1676085940869,
          425.1136804525352,
          423.241402714664,
          415.3438109035657,
          411.21082373535467,
          410.4240456406023,
          413.5412418594565,
          417.6742705524675,
          400.554615541517,
          402.19784327418733,
          398.2938609922522
         ],
         "type": "candlestick",
         "x": [
          0,
          1,
          2,
          3,
          4,
          5,
          6,
          7,
          8,
          9,
          10,
          11,
          12,
          13,
          14,
          15,
          16,
          17,
          18,
          19,
          20,
          21,
          22,
          23,
          24,
          25,
          26,
          27,
          28,
          29,
          30,
          31,
          32,
          33,
          34,
          35,
          36,
          37,
          38,
          39,
          40,
          41,
          42,
          43,
          44,
          45,
          46,
          47,
          48,
          49,
          50,
          51,
          52,
          53,
          54,
          55,
          56,
          57,
          58,
          59,
          60,
          61,
          62,
          63,
          64,
          65,
          66,
          67,
          68,
          69,
          70,
          71,
          72,
          73,
          74,
          75,
          76,
          77,
          78,
          79,
          80,
          81,
          82,
          83,
          84,
          85,
          86,
          87,
          88,
          89,
          90,
          91,
          92,
          93,
          94,
          95,
          96,
          97,
          98,
          99,
          100,
          101,
          102,
          103,
          104,
          105,
          106,
          107,
          108,
          109,
          110,
          111,
          112,
          113,
          114,
          115,
          116,
          117,
          118,
          119,
          120,
          121,
          122,
          123,
          124,
          125,
          126,
          127,
          128,
          129,
          130,
          131,
          132,
          133,
          134,
          135,
          136,
          137,
          138,
          139,
          140,
          141,
          142,
          143,
          144,
          145,
          146,
          147,
          148,
          149,
          150,
          151,
          152,
          153,
          154,
          155,
          156,
          157,
          158,
          159,
          160,
          161,
          162,
          163,
          164,
          165,
          166,
          167,
          168,
          169,
          170,
          171,
          172,
          173,
          174,
          175,
          176,
          177,
          178,
          179,
          180,
          181,
          182,
          183,
          184,
          185,
          186,
          187,
          188,
          189,
          190,
          191,
          192,
          193,
          194,
          195,
          196,
          197,
          198,
          199
         ]
        }
       ],
       "layout": {
        "shapes": [
         {
          "line": {
           "color": "MediumPurple",
           "width": 3
          },
          "type": "line",
          "x0": 0,
          "x1": 200,
          "y0": 381.9245319583339,
          "y1": 381.9245319583339
         },
         {
          "line": {
           "color": "MediumPurple",
           "width": 3
          },
          "type": "line",
          "x0": 0,
          "x1": 200,
          "y0": 415.9441512869428,
          "y1": 415.9441512869428
         },
         {
          "line": {
           "color": "RoyalBlue",
           "width": 1
          },
          "type": "line",
          "x0": 0,
          "x1": 200,
          "y0": 389.0418979580837,
          "y1": 389.0418979580837
         },
         {
          "line": {
           "color": "RoyalBlue",
           "width": 1
          },
          "type": "line",
          "x0": 0,
          "x1": 200,
          "y0": 429.963802202433,
          "y1": 429.963802202433
         }
        ],
        "template": {
         "data": {
          "bar": [
           {
            "error_x": {
             "color": "#2a3f5f"
            },
            "error_y": {
             "color": "#2a3f5f"
            },
            "marker": {
             "line": {
              "color": "#E5ECF6",
              "width": 0.5
             },
             "pattern": {
              "fillmode": "overlay",
              "size": 10,
              "solidity": 0.2
             }
            },
            "type": "bar"
           }
          ],
          "barpolar": [
           {
            "marker": {
             "line": {
              "color": "#E5ECF6",
              "width": 0.5
             },
             "pattern": {
              "fillmode": "overlay",
              "size": 10,
              "solidity": 0.2
             }
            },
            "type": "barpolar"
           }
          ],
          "carpet": [
           {
            "aaxis": {
             "endlinecolor": "#2a3f5f",
             "gridcolor": "white",
             "linecolor": "white",
             "minorgridcolor": "white",
             "startlinecolor": "#2a3f5f"
            },
            "baxis": {
             "endlinecolor": "#2a3f5f",
             "gridcolor": "white",
             "linecolor": "white",
             "minorgridcolor": "white",
             "startlinecolor": "#2a3f5f"
            },
            "type": "carpet"
           }
          ],
          "choropleth": [
           {
            "colorbar": {
             "outlinewidth": 0,
             "ticks": ""
            },
            "type": "choropleth"
           }
          ],
          "contour": [
           {
            "colorbar": {
             "outlinewidth": 0,
             "ticks": ""
            },
            "colorscale": [
             [
              0,
              "#0d0887"
             ],
             [
              0.1111111111111111,
              "#46039f"
             ],
             [
              0.2222222222222222,
              "#7201a8"
             ],
             [
              0.3333333333333333,
              "#9c179e"
             ],
             [
              0.4444444444444444,
              "#bd3786"
             ],
             [
              0.5555555555555556,
              "#d8576b"
             ],
             [
              0.6666666666666666,
              "#ed7953"
             ],
             [
              0.7777777777777778,
              "#fb9f3a"
             ],
             [
              0.8888888888888888,
              "#fdca26"
             ],
             [
              1,
              "#f0f921"
             ]
            ],
            "type": "contour"
           }
          ],
          "contourcarpet": [
           {
            "colorbar": {
             "outlinewidth": 0,
             "ticks": ""
            },
            "type": "contourcarpet"
           }
          ],
          "heatmap": [
           {
            "colorbar": {
             "outlinewidth": 0,
             "ticks": ""
            },
            "colorscale": [
             [
              0,
              "#0d0887"
             ],
             [
              0.1111111111111111,
              "#46039f"
             ],
             [
              0.2222222222222222,
              "#7201a8"
             ],
             [
              0.3333333333333333,
              "#9c179e"
             ],
             [
              0.4444444444444444,
              "#bd3786"
             ],
             [
              0.5555555555555556,
              "#d8576b"
             ],
             [
              0.6666666666666666,
              "#ed7953"
             ],
             [
              0.7777777777777778,
              "#fb9f3a"
             ],
             [
              0.8888888888888888,
              "#fdca26"
             ],
             [
              1,
              "#f0f921"
             ]
            ],
            "type": "heatmap"
           }
          ],
          "heatmapgl": [
           {
            "colorbar": {
             "outlinewidth": 0,
             "ticks": ""
            },
            "colorscale": [
             [
              0,
              "#0d0887"
             ],
             [
              0.1111111111111111,
              "#46039f"
             ],
             [
              0.2222222222222222,
              "#7201a8"
             ],
             [
              0.3333333333333333,
              "#9c179e"
             ],
             [
              0.4444444444444444,
              "#bd3786"
             ],
             [
              0.5555555555555556,
              "#d8576b"
             ],
             [
              0.6666666666666666,
              "#ed7953"
             ],
             [
              0.7777777777777778,
              "#fb9f3a"
             ],
             [
              0.8888888888888888,
              "#fdca26"
             ],
             [
              1,
              "#f0f921"
             ]
            ],
            "type": "heatmapgl"
           }
          ],
          "histogram": [
           {
            "marker": {
             "pattern": {
              "fillmode": "overlay",
              "size": 10,
              "solidity": 0.2
             }
            },
            "type": "histogram"
           }
          ],
          "histogram2d": [
           {
            "colorbar": {
             "outlinewidth": 0,
             "ticks": ""
            },
            "colorscale": [
             [
              0,
              "#0d0887"
             ],
             [
              0.1111111111111111,
              "#46039f"
             ],
             [
              0.2222222222222222,
              "#7201a8"
             ],
             [
              0.3333333333333333,
              "#9c179e"
             ],
             [
              0.4444444444444444,
              "#bd3786"
             ],
             [
              0.5555555555555556,
              "#d8576b"
             ],
             [
              0.6666666666666666,
              "#ed7953"
             ],
             [
              0.7777777777777778,
              "#fb9f3a"
             ],
             [
              0.8888888888888888,
              "#fdca26"
             ],
             [
              1,
              "#f0f921"
             ]
            ],
            "type": "histogram2d"
           }
          ],
          "histogram2dcontour": [
           {
            "colorbar": {
             "outlinewidth": 0,
             "ticks": ""
            },
            "colorscale": [
             [
              0,
              "#0d0887"
             ],
             [
              0.1111111111111111,
              "#46039f"
             ],
             [
              0.2222222222222222,
              "#7201a8"
             ],
             [
              0.3333333333333333,
              "#9c179e"
             ],
             [
              0.4444444444444444,
              "#bd3786"
             ],
             [
              0.5555555555555556,
              "#d8576b"
             ],
             [
              0.6666666666666666,
              "#ed7953"
             ],
             [
              0.7777777777777778,
              "#fb9f3a"
             ],
             [
              0.8888888888888888,
              "#fdca26"
             ],
             [
              1,
              "#f0f921"
             ]
            ],
            "type": "histogram2dcontour"
           }
          ],
          "mesh3d": [
           {
            "colorbar": {
             "outlinewidth": 0,
             "ticks": ""
            },
            "type": "mesh3d"
           }
          ],
          "parcoords": [
           {
            "line": {
             "colorbar": {
              "outlinewidth": 0,
              "ticks": ""
             }
            },
            "type": "parcoords"
           }
          ],
          "pie": [
           {
            "automargin": true,
            "type": "pie"
           }
          ],
          "scatter": [
           {
            "marker": {
             "colorbar": {
              "outlinewidth": 0,
              "ticks": ""
             }
            },
            "type": "scatter"
           }
          ],
          "scatter3d": [
           {
            "line": {
             "colorbar": {
              "outlinewidth": 0,
              "ticks": ""
             }
            },
            "marker": {
             "colorbar": {
              "outlinewidth": 0,
              "ticks": ""
             }
            },
            "type": "scatter3d"
           }
          ],
          "scattercarpet": [
           {
            "marker": {
             "colorbar": {
              "outlinewidth": 0,
              "ticks": ""
             }
            },
            "type": "scattercarpet"
           }
          ],
          "scattergeo": [
           {
            "marker": {
             "colorbar": {
              "outlinewidth": 0,
              "ticks": ""
             }
            },
            "type": "scattergeo"
           }
          ],
          "scattergl": [
           {
            "marker": {
             "colorbar": {
              "outlinewidth": 0,
              "ticks": ""
             }
            },
            "type": "scattergl"
           }
          ],
          "scattermapbox": [
           {
            "marker": {
             "colorbar": {
              "outlinewidth": 0,
              "ticks": ""
             }
            },
            "type": "scattermapbox"
           }
          ],
          "scatterpolar": [
           {
            "marker": {
             "colorbar": {
              "outlinewidth": 0,
              "ticks": ""
             }
            },
            "type": "scatterpolar"
           }
          ],
          "scatterpolargl": [
           {
            "marker": {
             "colorbar": {
              "outlinewidth": 0,
              "ticks": ""
             }
            },
            "type": "scatterpolargl"
           }
          ],
          "scatterternary": [
           {
            "marker": {
             "colorbar": {
              "outlinewidth": 0,
              "ticks": ""
             }
            },
            "type": "scatterternary"
           }
          ],
          "surface": [
           {
            "colorbar": {
             "outlinewidth": 0,
             "ticks": ""
            },
            "colorscale": [
             [
              0,
              "#0d0887"
             ],
             [
              0.1111111111111111,
              "#46039f"
             ],
             [
              0.2222222222222222,
              "#7201a8"
             ],
             [
              0.3333333333333333,
              "#9c179e"
             ],
             [
              0.4444444444444444,
              "#bd3786"
             ],
             [
              0.5555555555555556,
              "#d8576b"
             ],
             [
              0.6666666666666666,
              "#ed7953"
             ],
             [
              0.7777777777777778,
              "#fb9f3a"
             ],
             [
              0.8888888888888888,
              "#fdca26"
             ],
             [
              1,
              "#f0f921"
             ]
            ],
            "type": "surface"
           }
          ],
          "table": [
           {
            "cells": {
             "fill": {
              "color": "#EBF0F8"
             },
             "line": {
              "color": "white"
             }
            },
            "header": {
             "fill": {
              "color": "#C8D4E3"
             },
             "line": {
              "color": "white"
             }
            },
            "type": "table"
           }
          ]
         },
         "layout": {
          "annotationdefaults": {
           "arrowcolor": "#2a3f5f",
           "arrowhead": 0,
           "arrowwidth": 1
          },
          "autotypenumbers": "strict",
          "coloraxis": {
           "colorbar": {
            "outlinewidth": 0,
            "ticks": ""
           }
          },
          "colorscale": {
           "diverging": [
            [
             0,
             "#8e0152"
            ],
            [
             0.1,
             "#c51b7d"
            ],
            [
             0.2,
             "#de77ae"
            ],
            [
             0.3,
             "#f1b6da"
            ],
            [
             0.4,
             "#fde0ef"
            ],
            [
             0.5,
             "#f7f7f7"
            ],
            [
             0.6,
             "#e6f5d0"
            ],
            [
             0.7,
             "#b8e186"
            ],
            [
             0.8,
             "#7fbc41"
            ],
            [
             0.9,
             "#4d9221"
            ],
            [
             1,
             "#276419"
            ]
           ],
           "sequential": [
            [
             0,
             "#0d0887"
            ],
            [
             0.1111111111111111,
             "#46039f"
            ],
            [
             0.2222222222222222,
             "#7201a8"
            ],
            [
             0.3333333333333333,
             "#9c179e"
            ],
            [
             0.4444444444444444,
             "#bd3786"
            ],
            [
             0.5555555555555556,
             "#d8576b"
            ],
            [
             0.6666666666666666,
             "#ed7953"
            ],
            [
             0.7777777777777778,
             "#fb9f3a"
            ],
            [
             0.8888888888888888,
             "#fdca26"
            ],
            [
             1,
             "#f0f921"
            ]
           ],
           "sequentialminus": [
            [
             0,
             "#0d0887"
            ],
            [
             0.1111111111111111,
             "#46039f"
            ],
            [
             0.2222222222222222,
             "#7201a8"
            ],
            [
             0.3333333333333333,
             "#9c179e"
            ],
            [
             0.4444444444444444,
             "#bd3786"
            ],
            [
             0.5555555555555556,
             "#d8576b"
            ],
            [
             0.6666666666666666,
             "#ed7953"
            ],
            [
             0.7777777777777778,
             "#fb9f3a"
            ],
            [
             0.8888888888888888,
             "#fdca26"
            ],
            [
             1,
             "#f0f921"
            ]
           ]
          },
          "colorway": [
           "#636efa",
           "#EF553B",
           "#00cc96",
           "#ab63fa",
           "#FFA15A",
           "#19d3f3",
           "#FF6692",
           "#B6E880",
           "#FF97FF",
           "#FECB52"
          ],
          "font": {
           "color": "#2a3f5f"
          },
          "geo": {
           "bgcolor": "white",
           "lakecolor": "white",
           "landcolor": "#E5ECF6",
           "showlakes": true,
           "showland": true,
           "subunitcolor": "white"
          },
          "hoverlabel": {
           "align": "left"
          },
          "hovermode": "closest",
          "mapbox": {
           "style": "light"
          },
          "paper_bgcolor": "white",
          "plot_bgcolor": "#E5ECF6",
          "polar": {
           "angularaxis": {
            "gridcolor": "white",
            "linecolor": "white",
            "ticks": ""
           },
           "bgcolor": "#E5ECF6",
           "radialaxis": {
            "gridcolor": "white",
            "linecolor": "white",
            "ticks": ""
           }
          },
          "scene": {
           "xaxis": {
            "backgroundcolor": "#E5ECF6",
            "gridcolor": "white",
            "gridwidth": 2,
            "linecolor": "white",
            "showbackground": true,
            "ticks": "",
            "zerolinecolor": "white"
           },
           "yaxis": {
            "backgroundcolor": "#E5ECF6",
            "gridcolor": "white",
            "gridwidth": 2,
            "linecolor": "white",
            "showbackground": true,
            "ticks": "",
            "zerolinecolor": "white"
           },
           "zaxis": {
            "backgroundcolor": "#E5ECF6",
            "gridcolor": "white",
            "gridwidth": 2,
            "linecolor": "white",
            "showbackground": true,
            "ticks": "",
            "zerolinecolor": "white"
           }
          },
          "shapedefaults": {
           "line": {
            "color": "#2a3f5f"
           }
          },
          "ternary": {
           "aaxis": {
            "gridcolor": "white",
            "linecolor": "white",
            "ticks": ""
           },
           "baxis": {
            "gridcolor": "white",
            "linecolor": "white",
            "ticks": ""
           },
           "bgcolor": "#E5ECF6",
           "caxis": {
            "gridcolor": "white",
            "linecolor": "white",
            "ticks": ""
           }
          },
          "title": {
           "x": 0.05
          },
          "xaxis": {
           "automargin": true,
           "gridcolor": "white",
           "linecolor": "white",
           "ticks": "",
           "title": {
            "standoff": 15
           },
           "zerolinecolor": "white",
           "zerolinewidth": 2
          },
          "yaxis": {
           "automargin": true,
           "gridcolor": "white",
           "linecolor": "white",
           "ticks": "",
           "title": {
            "standoff": 15
           },
           "zerolinecolor": "white",
           "zerolinewidth": 2
          }
         }
        }
       }
      }
     },
     "metadata": {},
     "output_type": "display_data"
    }
   ],
   "source": [
    "s = 0\n",
    "e = 200\n",
    "dfpl = sr_df[s:e]\n",
    "import plotly.graph_objects as go\n",
    "from datetime import datetime\n",
    "import matplotlib.pyplot as plt\n",
    "\n",
    "fig = go.Figure(data=[go.Candlestick(x=dfpl.index,\n",
    "                open=dfpl['Open'],\n",
    "                high=dfpl['High'],\n",
    "                low=dfpl['Low'],\n",
    "                close=dfpl['Close'])])\n",
    "\n",
    "c=0\n",
    "while (1):\n",
    "    if(c>len(plotlist1)-1 ):#or sr[c][0]>e\n",
    "        break\n",
    "    fig.add_shape(type='line', x0=s, y0=plotlist1[c],\n",
    "                  x1=e,\n",
    "                  y1=plotlist1[c],\n",
    "                  line=dict(color=\"MediumPurple\",width=3)\n",
    "                  )\n",
    "    c+=1\n",
    "\n",
    "c=0\n",
    "while (1):\n",
    "    if(c>len(plotlist2)-1 ):#or sr[c][0]>e\n",
    "        break\n",
    "    fig.add_shape(type='line', x0=s, y0=plotlist2[c],\n",
    "                  x1=e,\n",
    "                  y1=plotlist2[c],\n",
    "                  line=dict(color=\"RoyalBlue\",width=1)\n",
    "                  )\n",
    "    c+=1    \n",
    "\n",
    "fig.show()"
   ]
  },
  {
   "cell_type": "code",
   "execution_count": 12,
   "id": "86a2d654-b2b0-472c-af42-3f59f57e7ec2",
   "metadata": {},
   "outputs": [],
   "source": [
    "ss = []\n",
    "rr = []\n",
    "n1=4\n",
    "n2=3\n",
    "for row in range(n1, (len(sr_df)-n2)): #len(df)-n2\n",
    "    if support(sr_df, row, n1, n2):\n",
    "        ss.append((row,sr_df.Low[row]))\n",
    "    if resistance(df, row, n1, n2):\n",
    "        rr.append((row,sr_df.High[row]))"
   ]
  },
  {
   "cell_type": "code",
   "execution_count": 13,
   "id": "8cddf318-62e7-438f-a68d-28abf735c70f",
   "metadata": {},
   "outputs": [
    {
     "data": {
      "application/vnd.plotly.v1+json": {
       "config": {
        "plotlyServerURL": "https://plot.ly"
       },
       "data": [
        {
         "close": [
          460.4622497558594,
          462.28466796875,
          461.16168212890625,
          462.7279968261719,
          461.9005432128906,
          460.6001892089844,
          461.2109375,
          462.4422912597656,
          452.12835693359375,
          457.6744689941406,
          448.76922607421875,
          443.7846374511719,
          450.5817565917969,
          446.6611022949219,
          451.9510498046875,
          461.2995910644531,
          462.5210876464844,
          459.39837646484375,
          463.722900390625,
          459.6150817871094,
          456.452880859375,
          463.58502197265625,
          459.49688720703125,
          454.60650634765625,
          449.7724609375,
          457.760009765625,
          462.3370056152344,
          465.2137145996094,
          471.7974853515625,
          471.4118957519531,
          472.01495361328125,
          470.7100524902344,
          469.5237731933594,
          472.2423095703125,
          472.0841369628906,
          463.01910400390625,
          462.58416748046875,
          460.7553405761719,
          460.18194580078125,
          464.3734436035156,
          465.6288757324219,
          459.213134765625,
          459.4010009765625,
          451.26519775390625,
          446.5794372558594,
          441.63665771484375,
          432.967041015625,
          434.8057556152344,
          429.4972229003906,
          428.4197082519531,
          426.3041687011719,
          436.8916320800781,
          444.760498046875,
          447.76568603515625,
          452.1153564453125,
          441.4883728027344,
          443.5643615722656,
          442.14080810546875,
          445.7787170410156,
          452.3031921386719,
          444.17724609375,
          435.41864013671875,
          433.9951477050781,
          440.9941101074219,
          441.4883728027344,
          432.0575866699219,
          429.2599792480469,
          424.6533203125,
          417.12054443359375,
          423.3978271484375,
          432.73968505859375,
          431.63250732421875,
          425.0586242675781,
          432.8780822753906,
          430.7229919433594,
          427.2235412597656,
          414.6293640136719,
          411.48577880859375,
          422.5180358886719,
          420.6101379394531,
          415.2620544433594,
          412.2271728515625,
          421.292236328125,
          430.634033203125,
          436.0216979980469,
          440.7973327636719,
          440.66845703125,
          445.82489013671875,
          440.0833435058594,
          446.7173156738281,
          448.89892578125,
          452.0919494628906,
          457.6846923828125,
          454.8586120605469,
          447.85772705078125,
          449.12701416015625,
          452.9744873046875,
          447.2528076171875,
          442.78057861328125,
          445.0117492675781,
          443.8218078613281,
          436.2358703613281,
          434.6195373535156,
          439.59747314453125,
          434.12371826171875,
          434.3022155761719,
          441.31298828125,
          440.9857482910156,
          434.3914489746094,
          422.47210693359375,
          424.9214172363281,
          412.6153564453125,
          413.7755432128906,
          424.227294921875,
          408.5496826171875,
          411.0089111328125,
          412.89300537109375,
          425.4668273925781,
          410.3445129394531,
          407.89520263671875,
          394.83551025390625,
          395.7477722167969,
          389.46087646484375,
          389.0543212890625,
          398.35577392578125,
          396.73944091796875,
          404.9005126953125,
          388.57830810546875,
          386.1984558105469,
          386.3670349121094,
          393.5959777832031,
          390.5913391113281,
          394.0422058105469,
          401.91571044921875,
          411.7823791503906,
          409.4718933105469,
          406.1598815917969,
          413.8945617675781,
          407.1019287109375,
          408.3414611816406,
          412.25836181640625,
          407.7762145996094,
          398.078125,
          386.53558349609375,
          371.85955810546875,
          370.739013671875,
          376.0243835449219,
          363.5794677734375,
          364.3632507324219,
          373.53558349609375,
          372.8583679199219,
          376.5133361816406,
          388.4841613769531,
          387.0002746582031,
          379.0927429199219,
          378.7840270996094,
          375.7066650390625,
          379.6803283691406,
          380.3973693847656,
          381.68212890625,
          387.39862060546875,
          387.0799560546875,
          382.6581115722656,
          379.2720031738281,
          377.2801818847656,
          376.36395263671875,
          383.554443359375,
          380.387451171875,
          390.6651916503906,
          393.15496826171875,
          397.1585388183594,
          393.4736633300781,
          393.95172119140625,
          389.2908630371094,
          399.39935302734375,
          404.40875244140625,
          410.3045349121094,
          409.0895080566406,
          406.390625,
          412.7544860839844,
          412.47564697265625,
          411.7784729003906,
          411.3004455566406,
          409.66717529296875,
          418.27178955078125,
          418.27178955078125,
          425.35272216796875,
          427.1054992675781,
          427.9421081542969,
          424.9045715332031,
          426.1394958496094,
          420.41302490234375,
          411.6589660644531,
          410.6630859375,
          411.9776916503906,
          417.7937927246094,
          403.65185546875,
          400.98284912109375,
          396.5809020996094,
          393.56329345703125
         ],
         "high": [
          461.8216836025759,
          463.476622664264,
          462.1960182712331,
          463.0038218133507,
          463.91997302707,
          466.4811987877852,
          462.1073762106545,
          462.5703582237442,
          456.9848605880097,
          459.60524393312346,
          457.1129698467912,
          457.74342606760996,
          452.2268759486868,
          453.43852023575164,
          453.92123678080793,
          461.89065318734845,
          462.9939433473569,
          462.62948205998595,
          463.88051895672453,
          463.5455952344251,
          458.797408051111,
          463.8411258482515,
          465.8211708085714,
          459.4207614407518,
          450.1876368627965,
          457.9082868957625,
          462.45562731524785,
          466.78551250219414,
          471.8469010045365,
          473.32969355435415,
          473.08257906373285,
          473.51754328114333,
          471.4020204549628,
          472.3807216657983,
          474.4863470589239,
          472.5092320583563,
          465.43120909713906,
          463.8297606071574,
          460.4092939939143,
          464.47230508019663,
          467.78394722040724,
          467.46756932998835,
          459.76676127684203,
          454.6954827997249,
          454.3494601338673,
          453.4894147672063,
          442.93165549618703,
          435.3395834284582,
          434.6871333979894,
          438.9577017159584,
          436.53571226839364,
          436.94104773309544,
          445.1262583350566,
          448.43789572444734,
          452.87653246527395,
          447.78545910057164,
          447.5976501613361,
          445.8280963553951,
          446.74751119945404,
          452.6392970170899,
          452.47120137121067,
          446.44101509500166,
          436.54563498586,
          441.17204265347874,
          442.9316536871931,
          441.45874873347236,
          433.6392679106509,
          430.5154406567137,
          428.30109237221666,
          423.8525838825361,
          432.8286513336713,
          433.18454495400056,
          432.1663326915444,
          434.6871234763599,
          436.0611792082466,
          428.40978836365167,
          427.35205429210276,
          422.32032684373695,
          424.59400614348385,
          421.54924652064017,
          423.86245963056786,
          419.6907462879158,
          421.95455087309057,
          430.69334404957186,
          436.0216979980468,
          441.13448178417855,
          442.72109875452185,
          446.8065896653376,
          444.7340690854814,
          446.72724161164575,
          449.18650563408687,
          452.0919494628906,
          458.2003569597553,
          457.33767571847,
          454.9180953227963,
          449.6624701169323,
          453.0835818389499,
          453.9958483027275,
          445.1703995445369,
          446.91568347666197,
          446.8561793032968,
          441.27331420596965,
          442.01705491416277,
          440.39076139490294,
          441.00560136960956,
          436.06730773183745,
          442.06660302722275,
          443.8218128328768,
          446.2413853915548,
          434.41125532958233,
          425.0999025485545,
          422.47211585475065,
          419.3782512500081,
          426.0419865001822,
          422.30352267308285,
          412.43685414522116,
          415.4216381372007,
          426.06180873488825,
          421.44080381860226,
          411.32621816707115,
          403.0064941024103,
          402.67922399071955,
          400.65633572187966,
          392.48533683625664,
          399.8035385983029,
          400.5869526829617,
          405.1484190588463,
          400.4183176009376,
          390.83928611427115,
          393.70505730340926,
          394.39919195807806,
          391.84076652366394,
          396.1048037225104,
          403.6312333794285,
          411.9013693581638,
          412.97232996852904,
          412.75418506046395,
          413.9441309353551,
          410.57261785409406,
          413.12107295279543,
          412.7343529347155,
          412.33769767547756,
          408.291855079743,
          392.4655145076387,
          378.6125252597034,
          374.7749366416902,
          380.68500501263463,
          367.83354945752603,
          367.8688698501164,
          374.98960207775144,
          377.1706403184424,
          377.28017513374607,
          388.49413019242246,
          389.75893164678683,
          391.5515738460968,
          380.7061241839131,
          379.10271832908796,
          380.1384683809683,
          380.41730701486875,
          384.2914056552444,
          388.23518049333734,
          389.0418979580837,
          385.2872954288367,
          384.5802150528634,
          380.35756734891146,
          377.49927302854667,
          383.67394757819767,
          387.4982255615694,
          391.2627430970632,
          394.6388932756416,
          397.208322108785,
          398.5428362374419,
          394.8480331918537,
          392.4478773804343,
          401.23182193635006,
          405.1357465196418,
          411.34028877128935,
          411.71872227062175,
          411.31041790220996,
          413.97943466962624,
          413.391866239546,
          412.4556836890572,
          415.9115090600188,
          411.0614418214487,
          418.4212002072381,
          423.21151981805826,
          425.4622575648715,
          427.6532674277152,
          429.963802202433,
          427.74291828019767,
          426.85652111767564,
          423.5202560090412,
          415.52309761108154,
          413.7205338893691,
          413.41177265690214,
          417.8435760173275,
          418.2419155574279,
          404.17970852973673,
          402.4468205164776,
          399.59849929160004
         ],
         "low": [
          459.28015558764304,
          460.10761979136737,
          460.51151681616716,
          459.388515313826,
          461.5163422865618,
          460.3834674297967,
          457.526697355524,
          458.2556439190348,
          450.9462327293489,
          454.84725531781993,
          448.51309212497694,
          443.57777622640015,
          443.5974473509027,
          442.2281816015183,
          446.7990000395724,
          451.8131356831209,
          459.87118373592966,
          459.19151523985863,
          459.555974163287,
          459.31953569933046,
          453.38925469822925,
          453.8719841187196,
          457.8714588390697,
          452.8172253000845,
          445.9764159219401,
          451.0872673948548,
          457.2854769888965,
          463.2761563897189,
          466.6075747212709,
          470.6111691628179,
          470.4728112024703,
          470.2256705027333,
          469.2371141484059,
          468.42650410269573,
          470.1366836075056,
          462.92024253253254,
          460.1028861799993,
          459.33181975286794,
          451.37392290910174,
          456.76156242338106,
          463.57269588491556,
          458.13561418240937,
          454.6361615385267,
          450.0987107781213,
          446.2927480410489,
          439.41241041801464,
          432.9373855921343,
          415.9441512869428,
          422.26099759477876,
          423.95142308177117,
          424.5346781339232,
          422.9233534873862,
          434.7760929251571,
          441.8244649881127,
          447.8645544659762,
          440.60854496229723,
          438.75007640900003,
          440.7469429152332,
          440.1241847488413,
          449.8021506939638,
          442.0815157066429,
          433.9160483867408,
          430.3572747041986,
          438.10751807548485,
          436.8817059735302,
          431.4249275370094,
          426.87755957227427,
          420.98576177196225,
          416.5274057552635,
          405.9399834174015,
          422.9628676418268,
          425.77038704288657,
          422.22144784831204,
          426.63041149287534,
          428.83484958238404,
          422.98263470528383,
          414.56015796540635,
          410.3687074830403,
          417.9805748540562,
          415.62781530487996,
          414.7282266197315,
          411.0310305093529,
          413.6309398298518,
          419.9378680923793,
          428.23188447143536,
          433.55847910607173,
          436.98950474980444,
          442.1261162499913,
          439.9941008506733,
          441.0353215133547,
          444.6745916954664,
          446.2909346958001,
          453.3512942161517,
          452.64727638335665,
          447.3817359465305,
          445.37867115268716,
          448.4725296114604,
          446.0529493440323,
          439.7561331394801,
          439.81564151209,
          442.2054535434022,
          435.71031009646197,
          432.9932570508383,
          434.17328075554553,
          434.01462372496155,
          431.96196369155433,
          434.0146094059943,
          439.7660683471935,
          433.43949700113836,
          421.87712562282195,
          415.332386136087,
          412.58560889224606,
          411.53449026005103,
          414.1028072266803,
          407.7662900436615,
          401.62811295868255,
          409.8982771759006,
          410.24537017335183,
          406.01111469269813,
          402.33219847437874,
          393.1794824727231,
          391.5135427070195,
          388.67748392424545,
          381.9245319583339,
          392.29692673655927,
          394.2703031176753,
          399.20856201041227,
          387.2792812745358,
          383.86812985092183,
          377.3531630633819,
          387.1107390175401,
          383.71935216445735,
          388.6081176351974,
          395.11317435868995,
          404.2856934406207,
          406.5961855333333,
          403.5221541519284,
          403.63123229115416,
          406.0805556878603,
          407.1118250194197,
          404.19644193071485,
          406.9432528615476,
          398.078125,
          386.4860143290133,
          370.1737826705873,
          367.486483305269,
          369.0036583972589,
          361.03098308594804,
          360.6883744980465,
          370.2889105384422,
          368.66556934032934,
          371.3645039167214,
          379.8098026748832,
          385.85498538676313,
          378.9732387064949,
          376.87189883102377,
          371.0358494624268,
          372.27076315463177,
          371.3744368394161,
          378.047067090451,
          381.7020200800238,
          384.08226030366467,
          381.9310870883159,
          377.4395342992379,
          373.127258498116,
          369.52206305495616,
          378.98322463302077,
          379.10272006385037,
          383.8133636257635,
          389.4302784858606,
          390.0278270867561,
          391.1432400346693,
          391.60136020227054,
          388.35470619513643,
          392.43792846497354,
          396.5211402271115,
          405.10588877053,
          406.7292087102475,
          405.155707562965,
          408.3226789963226,
          410.75271344845027,
          407.9243101442471,
          410.14518747689357,
          408.54179325446074,
          415.0151782306003,
          417.49498178666795,
          419.3075474968399,
          422.972483188537,
          425.13363748859143,
          422.8032181180557,
          423.7592588669933,
          419.49677528211595,
          410.7128404151961,
          410.08544169235375,
          409.70702033371197,
          412.3959525923642,
          403.5921033629647,
          399.55870653260496,
          394.3799517877281,
          393.4238820075808
         ],
         "open": [
          461.6542345418459,
          460.18641404234324,
          462.008848102596,
          462.24528055160727,
          462.60978173041406,
          463.87070694484504,
          460.2553955831633,
          459.11267044699287,
          455.4481171600917,
          457.1523706155449,
          455.11323109448887,
          454.7585938595128,
          444.01119984453203,
          452.3253898476043,
          449.33069751892725,
          457.4872839626471,
          461.71333382699515,
          461.1715328043396,
          462.23542966164496,
          463.1811154492322,
          456.1869164537576,
          456.51205763097414,
          465.5256547758522,
          456.26727049651515,
          449.2781837713862,
          453.3609305057284,
          457.49309513220595,
          463.384882894794,
          466.65699037424486,
          472.25217296117563,
          471.520676426014,
          472.45978286474065,
          470.19601309008607,
          470.84844425912456,
          473.7350360685361,
          471.69861022869173,
          462.53475182573953,
          462.5940675430594,
          457.4041104866488,
          459.90518843943073,
          466.1923589724666,
          466.78546443913797,
          455.911405158876,
          454.4779996204865,
          452.88641897197675,
          448.5565381938676,
          440.4602696443499,
          427.0851483078244,
          428.10335760369844,
          435.67569388631534,
          433.2438395533789,
          427.72771342285955,
          436.1897184269397,
          445.5216484474969,
          450.28652478956815,
          445.7885902010251,
          441.2412527498039,
          444.36505529170523,
          441.6169115248988,
          450.0097386724572,
          446.17411501257595,
          444.266213628056,
          434.8848708117567,
          438.6512410794835,
          438.8489194497072,
          438.147085436672,
          432.32447369113333,
          426.94677375799444,
          427.7079536938864,
          406.3156087388995,
          424.6928378276693,
          427.08515110507835,
          430.06070702979645,
          427.4212429119066,
          435.42852013444514,
          426.8083351640208,
          426.6106384934223,
          414.81720238907917,
          420.2740282816254,
          417.6839951875607,
          423.2199053036139,
          416.07266383687795,
          414.9654641175031,
          424.9696361894637,
          428.6273001991835,
          434.331945744177,
          440.6188576005574,
          442.1261162499913,
          443.1673142577607,
          442.2054322196226,
          447.3817400586387,
          448.2741855384289,
          456.1675067275879,
          456.4848620839005,
          454.0553860342224,
          449.5137323511612,
          449.33523889932536,
          451.40772050749126,
          443.14750544454176,
          441.85838755010286,
          444.2184519870874,
          440.39075305179466,
          439.3694015840261,
          434.36169201086005,
          439.835460328614,
          433.1519263802762,
          434.1930947198821,
          443.17726233854705,
          444.78369474686116,
          433.25107052248364,
          420.1219538482033,
          422.2638527212785,
          413.74579565968503,
          418.75353315699766,
          420.04261787296315,
          408.6190902615176,
          411.5344833608006,
          413.5871432097497,
          420.9945602744624,
          407.657222216257,
          401.70746721179637,
          401.10254325623094,
          394.7363308640535,
          386.1091925233651,
          393.38772077558525,
          396.6303766392127,
          403.12549465904874,
          400.1208420908022,
          385.3654940283421,
          389.95671425480964,
          389.5402031563818,
          389.2724603968558,
          389.02458338337726,
          395.33133316910966,
          404.49392630422375,
          410.0866962528882,
          411.693168783268,
          405.9913057078747,
          408.94633755839413,
          411.3064116561258,
          404.6823589875329,
          410.46351106833333,
          405.9119600405998,
          391.5730576661437,
          376.66894777603443,
          373.6940684990385,
          374.1997660824731,
          367.40715777387805,
          364.01470689796395,
          370.36860027572,
          369.10377171155864,
          375.09916248890295,
          379.839678728561,
          389.45020228820897,
          388.63356786157743,
          379.6704007020671,
          374.7007872373399,
          375.01948165467763,
          374.3422564155411,
          380.54677804388876,
          383.5444577535018,
          385.6856591705736,
          384.2714792285503,
          382.0804737894117,
          373.5654608765115,
          372.08152594230745,
          380.9849810837629,
          386.79113868810555,
          384.50051283779845,
          390.86438981626435,
          392.54747551542175,
          397.2880116277475,
          394.13097751294976,
          392.2287761962975,
          392.7466578229037,
          400.24586034709495,
          405.9125726207121,
          407.47614042202906,
          407.4462861108971,
          408.6214395311792,
          412.6748105385001,
          407.98406224955716,
          413.551209607935,
          410.53361126449806,
          417.0667482330721,
          421.25951639625225,
          420.3034564551387,
          423.0322352943368,
          425.9801662145605,
          424.1676085940869,
          425.1136804525352,
          423.241402714664,
          415.3438109035657,
          411.21082373535467,
          410.4240456406023,
          413.5412418594565,
          417.6742705524675,
          400.554615541517,
          402.19784327418733,
          398.2938609922522
         ],
         "type": "candlestick",
         "x": [
          0,
          1,
          2,
          3,
          4,
          5,
          6,
          7,
          8,
          9,
          10,
          11,
          12,
          13,
          14,
          15,
          16,
          17,
          18,
          19,
          20,
          21,
          22,
          23,
          24,
          25,
          26,
          27,
          28,
          29,
          30,
          31,
          32,
          33,
          34,
          35,
          36,
          37,
          38,
          39,
          40,
          41,
          42,
          43,
          44,
          45,
          46,
          47,
          48,
          49,
          50,
          51,
          52,
          53,
          54,
          55,
          56,
          57,
          58,
          59,
          60,
          61,
          62,
          63,
          64,
          65,
          66,
          67,
          68,
          69,
          70,
          71,
          72,
          73,
          74,
          75,
          76,
          77,
          78,
          79,
          80,
          81,
          82,
          83,
          84,
          85,
          86,
          87,
          88,
          89,
          90,
          91,
          92,
          93,
          94,
          95,
          96,
          97,
          98,
          99,
          100,
          101,
          102,
          103,
          104,
          105,
          106,
          107,
          108,
          109,
          110,
          111,
          112,
          113,
          114,
          115,
          116,
          117,
          118,
          119,
          120,
          121,
          122,
          123,
          124,
          125,
          126,
          127,
          128,
          129,
          130,
          131,
          132,
          133,
          134,
          135,
          136,
          137,
          138,
          139,
          140,
          141,
          142,
          143,
          144,
          145,
          146,
          147,
          148,
          149,
          150,
          151,
          152,
          153,
          154,
          155,
          156,
          157,
          158,
          159,
          160,
          161,
          162,
          163,
          164,
          165,
          166,
          167,
          168,
          169,
          170,
          171,
          172,
          173,
          174,
          175,
          176,
          177,
          178,
          179,
          180,
          181,
          182,
          183,
          184,
          185,
          186,
          187,
          188,
          189,
          190,
          191,
          192,
          193,
          194,
          195,
          196,
          197,
          198,
          199
         ]
        }
       ],
       "layout": {
        "shapes": [
         {
          "line": {
           "color": "MediumPurple",
           "width": 3
          },
          "type": "line",
          "x0": 47,
          "x1": 200,
          "y0": 415.9441512869428,
          "y1": 415.9441512869428
         },
         {
          "line": {
           "color": "MediumPurple",
           "width": 3
          },
          "type": "line",
          "x0": 123,
          "x1": 200,
          "y0": 381.9245319583339,
          "y1": 381.9245319583339
         },
         {
          "line": {
           "color": "MediumPurple",
           "width": 3
          },
          "type": "line",
          "x0": 165,
          "x1": 200,
          "y0": 369.52206305495616,
          "y1": 369.52206305495616
         },
         {
          "line": {
           "color": "RoyalBlue",
           "width": 1
          },
          "type": "line",
          "x0": 54,
          "x1": 200,
          "y0": 452.87653246527395,
          "y1": 452.87653246527395
         },
         {
          "line": {
           "color": "RoyalBlue",
           "width": 1
          },
          "type": "line",
          "x0": 92,
          "x1": 200,
          "y0": 458.2003569597553,
          "y1": 458.2003569597553
         },
         {
          "line": {
           "color": "RoyalBlue",
           "width": 1
          },
          "type": "line",
          "x0": 161,
          "x1": 200,
          "y0": 389.0418979580837,
          "y1": 389.0418979580837
         },
         {
          "line": {
           "color": "RoyalBlue",
           "width": 1
          },
          "type": "line",
          "x0": 188,
          "x1": 200,
          "y0": 429.963802202433,
          "y1": 429.963802202433
         },
         {
          "line": {
           "color": "RoyalBlue",
           "width": 1
          },
          "type": "line",
          "x0": 206,
          "x1": 200,
          "y0": 410.0456273794545,
          "y1": 410.0456273794545
         }
        ],
        "template": {
         "data": {
          "bar": [
           {
            "error_x": {
             "color": "#2a3f5f"
            },
            "error_y": {
             "color": "#2a3f5f"
            },
            "marker": {
             "line": {
              "color": "#E5ECF6",
              "width": 0.5
             },
             "pattern": {
              "fillmode": "overlay",
              "size": 10,
              "solidity": 0.2
             }
            },
            "type": "bar"
           }
          ],
          "barpolar": [
           {
            "marker": {
             "line": {
              "color": "#E5ECF6",
              "width": 0.5
             },
             "pattern": {
              "fillmode": "overlay",
              "size": 10,
              "solidity": 0.2
             }
            },
            "type": "barpolar"
           }
          ],
          "carpet": [
           {
            "aaxis": {
             "endlinecolor": "#2a3f5f",
             "gridcolor": "white",
             "linecolor": "white",
             "minorgridcolor": "white",
             "startlinecolor": "#2a3f5f"
            },
            "baxis": {
             "endlinecolor": "#2a3f5f",
             "gridcolor": "white",
             "linecolor": "white",
             "minorgridcolor": "white",
             "startlinecolor": "#2a3f5f"
            },
            "type": "carpet"
           }
          ],
          "choropleth": [
           {
            "colorbar": {
             "outlinewidth": 0,
             "ticks": ""
            },
            "type": "choropleth"
           }
          ],
          "contour": [
           {
            "colorbar": {
             "outlinewidth": 0,
             "ticks": ""
            },
            "colorscale": [
             [
              0,
              "#0d0887"
             ],
             [
              0.1111111111111111,
              "#46039f"
             ],
             [
              0.2222222222222222,
              "#7201a8"
             ],
             [
              0.3333333333333333,
              "#9c179e"
             ],
             [
              0.4444444444444444,
              "#bd3786"
             ],
             [
              0.5555555555555556,
              "#d8576b"
             ],
             [
              0.6666666666666666,
              "#ed7953"
             ],
             [
              0.7777777777777778,
              "#fb9f3a"
             ],
             [
              0.8888888888888888,
              "#fdca26"
             ],
             [
              1,
              "#f0f921"
             ]
            ],
            "type": "contour"
           }
          ],
          "contourcarpet": [
           {
            "colorbar": {
             "outlinewidth": 0,
             "ticks": ""
            },
            "type": "contourcarpet"
           }
          ],
          "heatmap": [
           {
            "colorbar": {
             "outlinewidth": 0,
             "ticks": ""
            },
            "colorscale": [
             [
              0,
              "#0d0887"
             ],
             [
              0.1111111111111111,
              "#46039f"
             ],
             [
              0.2222222222222222,
              "#7201a8"
             ],
             [
              0.3333333333333333,
              "#9c179e"
             ],
             [
              0.4444444444444444,
              "#bd3786"
             ],
             [
              0.5555555555555556,
              "#d8576b"
             ],
             [
              0.6666666666666666,
              "#ed7953"
             ],
             [
              0.7777777777777778,
              "#fb9f3a"
             ],
             [
              0.8888888888888888,
              "#fdca26"
             ],
             [
              1,
              "#f0f921"
             ]
            ],
            "type": "heatmap"
           }
          ],
          "heatmapgl": [
           {
            "colorbar": {
             "outlinewidth": 0,
             "ticks": ""
            },
            "colorscale": [
             [
              0,
              "#0d0887"
             ],
             [
              0.1111111111111111,
              "#46039f"
             ],
             [
              0.2222222222222222,
              "#7201a8"
             ],
             [
              0.3333333333333333,
              "#9c179e"
             ],
             [
              0.4444444444444444,
              "#bd3786"
             ],
             [
              0.5555555555555556,
              "#d8576b"
             ],
             [
              0.6666666666666666,
              "#ed7953"
             ],
             [
              0.7777777777777778,
              "#fb9f3a"
             ],
             [
              0.8888888888888888,
              "#fdca26"
             ],
             [
              1,
              "#f0f921"
             ]
            ],
            "type": "heatmapgl"
           }
          ],
          "histogram": [
           {
            "marker": {
             "pattern": {
              "fillmode": "overlay",
              "size": 10,
              "solidity": 0.2
             }
            },
            "type": "histogram"
           }
          ],
          "histogram2d": [
           {
            "colorbar": {
             "outlinewidth": 0,
             "ticks": ""
            },
            "colorscale": [
             [
              0,
              "#0d0887"
             ],
             [
              0.1111111111111111,
              "#46039f"
             ],
             [
              0.2222222222222222,
              "#7201a8"
             ],
             [
              0.3333333333333333,
              "#9c179e"
             ],
             [
              0.4444444444444444,
              "#bd3786"
             ],
             [
              0.5555555555555556,
              "#d8576b"
             ],
             [
              0.6666666666666666,
              "#ed7953"
             ],
             [
              0.7777777777777778,
              "#fb9f3a"
             ],
             [
              0.8888888888888888,
              "#fdca26"
             ],
             [
              1,
              "#f0f921"
             ]
            ],
            "type": "histogram2d"
           }
          ],
          "histogram2dcontour": [
           {
            "colorbar": {
             "outlinewidth": 0,
             "ticks": ""
            },
            "colorscale": [
             [
              0,
              "#0d0887"
             ],
             [
              0.1111111111111111,
              "#46039f"
             ],
             [
              0.2222222222222222,
              "#7201a8"
             ],
             [
              0.3333333333333333,
              "#9c179e"
             ],
             [
              0.4444444444444444,
              "#bd3786"
             ],
             [
              0.5555555555555556,
              "#d8576b"
             ],
             [
              0.6666666666666666,
              "#ed7953"
             ],
             [
              0.7777777777777778,
              "#fb9f3a"
             ],
             [
              0.8888888888888888,
              "#fdca26"
             ],
             [
              1,
              "#f0f921"
             ]
            ],
            "type": "histogram2dcontour"
           }
          ],
          "mesh3d": [
           {
            "colorbar": {
             "outlinewidth": 0,
             "ticks": ""
            },
            "type": "mesh3d"
           }
          ],
          "parcoords": [
           {
            "line": {
             "colorbar": {
              "outlinewidth": 0,
              "ticks": ""
             }
            },
            "type": "parcoords"
           }
          ],
          "pie": [
           {
            "automargin": true,
            "type": "pie"
           }
          ],
          "scatter": [
           {
            "marker": {
             "colorbar": {
              "outlinewidth": 0,
              "ticks": ""
             }
            },
            "type": "scatter"
           }
          ],
          "scatter3d": [
           {
            "line": {
             "colorbar": {
              "outlinewidth": 0,
              "ticks": ""
             }
            },
            "marker": {
             "colorbar": {
              "outlinewidth": 0,
              "ticks": ""
             }
            },
            "type": "scatter3d"
           }
          ],
          "scattercarpet": [
           {
            "marker": {
             "colorbar": {
              "outlinewidth": 0,
              "ticks": ""
             }
            },
            "type": "scattercarpet"
           }
          ],
          "scattergeo": [
           {
            "marker": {
             "colorbar": {
              "outlinewidth": 0,
              "ticks": ""
             }
            },
            "type": "scattergeo"
           }
          ],
          "scattergl": [
           {
            "marker": {
             "colorbar": {
              "outlinewidth": 0,
              "ticks": ""
             }
            },
            "type": "scattergl"
           }
          ],
          "scattermapbox": [
           {
            "marker": {
             "colorbar": {
              "outlinewidth": 0,
              "ticks": ""
             }
            },
            "type": "scattermapbox"
           }
          ],
          "scatterpolar": [
           {
            "marker": {
             "colorbar": {
              "outlinewidth": 0,
              "ticks": ""
             }
            },
            "type": "scatterpolar"
           }
          ],
          "scatterpolargl": [
           {
            "marker": {
             "colorbar": {
              "outlinewidth": 0,
              "ticks": ""
             }
            },
            "type": "scatterpolargl"
           }
          ],
          "scatterternary": [
           {
            "marker": {
             "colorbar": {
              "outlinewidth": 0,
              "ticks": ""
             }
            },
            "type": "scatterternary"
           }
          ],
          "surface": [
           {
            "colorbar": {
             "outlinewidth": 0,
             "ticks": ""
            },
            "colorscale": [
             [
              0,
              "#0d0887"
             ],
             [
              0.1111111111111111,
              "#46039f"
             ],
             [
              0.2222222222222222,
              "#7201a8"
             ],
             [
              0.3333333333333333,
              "#9c179e"
             ],
             [
              0.4444444444444444,
              "#bd3786"
             ],
             [
              0.5555555555555556,
              "#d8576b"
             ],
             [
              0.6666666666666666,
              "#ed7953"
             ],
             [
              0.7777777777777778,
              "#fb9f3a"
             ],
             [
              0.8888888888888888,
              "#fdca26"
             ],
             [
              1,
              "#f0f921"
             ]
            ],
            "type": "surface"
           }
          ],
          "table": [
           {
            "cells": {
             "fill": {
              "color": "#EBF0F8"
             },
             "line": {
              "color": "white"
             }
            },
            "header": {
             "fill": {
              "color": "#C8D4E3"
             },
             "line": {
              "color": "white"
             }
            },
            "type": "table"
           }
          ]
         },
         "layout": {
          "annotationdefaults": {
           "arrowcolor": "#2a3f5f",
           "arrowhead": 0,
           "arrowwidth": 1
          },
          "autotypenumbers": "strict",
          "coloraxis": {
           "colorbar": {
            "outlinewidth": 0,
            "ticks": ""
           }
          },
          "colorscale": {
           "diverging": [
            [
             0,
             "#8e0152"
            ],
            [
             0.1,
             "#c51b7d"
            ],
            [
             0.2,
             "#de77ae"
            ],
            [
             0.3,
             "#f1b6da"
            ],
            [
             0.4,
             "#fde0ef"
            ],
            [
             0.5,
             "#f7f7f7"
            ],
            [
             0.6,
             "#e6f5d0"
            ],
            [
             0.7,
             "#b8e186"
            ],
            [
             0.8,
             "#7fbc41"
            ],
            [
             0.9,
             "#4d9221"
            ],
            [
             1,
             "#276419"
            ]
           ],
           "sequential": [
            [
             0,
             "#0d0887"
            ],
            [
             0.1111111111111111,
             "#46039f"
            ],
            [
             0.2222222222222222,
             "#7201a8"
            ],
            [
             0.3333333333333333,
             "#9c179e"
            ],
            [
             0.4444444444444444,
             "#bd3786"
            ],
            [
             0.5555555555555556,
             "#d8576b"
            ],
            [
             0.6666666666666666,
             "#ed7953"
            ],
            [
             0.7777777777777778,
             "#fb9f3a"
            ],
            [
             0.8888888888888888,
             "#fdca26"
            ],
            [
             1,
             "#f0f921"
            ]
           ],
           "sequentialminus": [
            [
             0,
             "#0d0887"
            ],
            [
             0.1111111111111111,
             "#46039f"
            ],
            [
             0.2222222222222222,
             "#7201a8"
            ],
            [
             0.3333333333333333,
             "#9c179e"
            ],
            [
             0.4444444444444444,
             "#bd3786"
            ],
            [
             0.5555555555555556,
             "#d8576b"
            ],
            [
             0.6666666666666666,
             "#ed7953"
            ],
            [
             0.7777777777777778,
             "#fb9f3a"
            ],
            [
             0.8888888888888888,
             "#fdca26"
            ],
            [
             1,
             "#f0f921"
            ]
           ]
          },
          "colorway": [
           "#636efa",
           "#EF553B",
           "#00cc96",
           "#ab63fa",
           "#FFA15A",
           "#19d3f3",
           "#FF6692",
           "#B6E880",
           "#FF97FF",
           "#FECB52"
          ],
          "font": {
           "color": "#2a3f5f"
          },
          "geo": {
           "bgcolor": "white",
           "lakecolor": "white",
           "landcolor": "#E5ECF6",
           "showlakes": true,
           "showland": true,
           "subunitcolor": "white"
          },
          "hoverlabel": {
           "align": "left"
          },
          "hovermode": "closest",
          "mapbox": {
           "style": "light"
          },
          "paper_bgcolor": "white",
          "plot_bgcolor": "#E5ECF6",
          "polar": {
           "angularaxis": {
            "gridcolor": "white",
            "linecolor": "white",
            "ticks": ""
           },
           "bgcolor": "#E5ECF6",
           "radialaxis": {
            "gridcolor": "white",
            "linecolor": "white",
            "ticks": ""
           }
          },
          "scene": {
           "xaxis": {
            "backgroundcolor": "#E5ECF6",
            "gridcolor": "white",
            "gridwidth": 2,
            "linecolor": "white",
            "showbackground": true,
            "ticks": "",
            "zerolinecolor": "white"
           },
           "yaxis": {
            "backgroundcolor": "#E5ECF6",
            "gridcolor": "white",
            "gridwidth": 2,
            "linecolor": "white",
            "showbackground": true,
            "ticks": "",
            "zerolinecolor": "white"
           },
           "zaxis": {
            "backgroundcolor": "#E5ECF6",
            "gridcolor": "white",
            "gridwidth": 2,
            "linecolor": "white",
            "showbackground": true,
            "ticks": "",
            "zerolinecolor": "white"
           }
          },
          "shapedefaults": {
           "line": {
            "color": "#2a3f5f"
           }
          },
          "ternary": {
           "aaxis": {
            "gridcolor": "white",
            "linecolor": "white",
            "ticks": ""
           },
           "baxis": {
            "gridcolor": "white",
            "linecolor": "white",
            "ticks": ""
           },
           "bgcolor": "#E5ECF6",
           "caxis": {
            "gridcolor": "white",
            "linecolor": "white",
            "ticks": ""
           }
          },
          "title": {
           "x": 0.05
          },
          "xaxis": {
           "automargin": true,
           "gridcolor": "white",
           "linecolor": "white",
           "ticks": "",
           "title": {
            "standoff": 15
           },
           "zerolinecolor": "white",
           "zerolinewidth": 2
          },
          "yaxis": {
           "automargin": true,
           "gridcolor": "white",
           "linecolor": "white",
           "ticks": "",
           "title": {
            "standoff": 15
           },
           "zerolinecolor": "white",
           "zerolinewidth": 2
          }
         }
        }
       }
      }
     },
     "metadata": {},
     "output_type": "display_data"
    }
   ],
   "source": [
    "s = 0\n",
    "e = 200\n",
    "dfpl = sr_df[s:e]\n",
    "import plotly.graph_objects as go\n",
    "from datetime import datetime\n",
    "import matplotlib.pyplot as plt\n",
    "\n",
    "fig = go.Figure(data=[go.Candlestick(x=dfpl.index,\n",
    "                open=dfpl['Open'],\n",
    "                high=dfpl['High'],\n",
    "                low=dfpl['Low'],\n",
    "                close=dfpl['Close'])])\n",
    "\n",
    "c=0\n",
    "while (1):\n",
    "    if(c>len(ss)-1 ):\n",
    "        break\n",
    "    fig.add_shape(type='line', x0=ss[c][0], y0=ss[c][1],\n",
    "                  x1=e,\n",
    "                  y1=ss[c][1],\n",
    "                  line=dict(color=\"MediumPurple\",width=3)\n",
    "                  )\n",
    "    c+=1\n",
    "\n",
    "c=0\n",
    "while (1):\n",
    "    if(c>len(rr)-1 ):\n",
    "        break\n",
    "    fig.add_shape(type='line', x0=rr[c][0], y0=rr[c][1],\n",
    "                  x1=e,\n",
    "                  y1=rr[c][1],\n",
    "                  line=dict(color=\"RoyalBlue\",width=1)\n",
    "                  )\n",
    "    c+=1    \n",
    "\n",
    "    \n",
    "fig.show()"
   ]
  },
  {
   "cell_type": "code",
   "execution_count": 14,
   "id": "6c835cee-291d-4245-a1f0-246536301e39",
   "metadata": {},
   "outputs": [],
   "source": [
    "import MeanRevBacktester as MeanRev"
   ]
  },
  {
   "cell_type": "code",
   "execution_count": 15,
   "id": "e6d3c0ef-dba2-41e7-b6c1-396256761f72",
   "metadata": {},
   "outputs": [
    {
     "data": {
      "text/plain": [
       "Timestamp('2021-11-15 00:00:00')"
      ]
     },
     "metadata": {},
     "output_type": "display_data"
    },
    {
     "data": {
      "text/plain": [
       "Timestamp('2022-11-14 00:00:00')"
      ]
     },
     "metadata": {},
     "output_type": "display_data"
    }
   ],
   "source": [
    "date = df.copy()\n",
    "date = date.reset_index()\n",
    "beg = date.iloc[0][\"Date\"]\n",
    "end = date.iloc[-1][\"Date\"]\n",
    "display(beg)\n",
    "display(end)"
   ]
  },
  {
   "cell_type": "code",
   "execution_count": 16,
   "id": "d0107761-3bb5-456d-a7c4-56b5253d0cb4",
   "metadata": {},
   "outputs": [],
   "source": [
    "# Spread /fee \n",
    "trading_costs = 0.00007\n",
    "\n",
    "tester = MeanRev.MeanRevBacktester('Close', 30, 2, beg, end, trading_costs)"
   ]
  },
  {
   "cell_type": "code",
   "execution_count": 17,
   "id": "b27ae65a-e36e-48ab-8c17-ab54fa08a05e",
   "metadata": {},
   "outputs": [
    {
     "data": {
      "text/plain": [
       "(74, 2)"
      ]
     },
     "execution_count": 17,
     "metadata": {},
     "output_type": "execute_result"
    }
   ],
   "source": [
    "optimize = tester.optimize_parameters((25, 100, 1), (1, 5, 1))\n",
    "num = optimize[0]\n",
    "num"
   ]
  },
  {
   "cell_type": "code",
   "execution_count": 22,
   "id": "9e8edf1f-bb7d-4079-abd7-ae84abe29d53",
   "metadata": {},
   "outputs": [
    {
     "data": {
      "text/html": [
       "<div>\n",
       "<style scoped>\n",
       "    .dataframe tbody tr th:only-of-type {\n",
       "        vertical-align: middle;\n",
       "    }\n",
       "\n",
       "    .dataframe tbody tr th {\n",
       "        vertical-align: top;\n",
       "    }\n",
       "\n",
       "    .dataframe thead th {\n",
       "        text-align: right;\n",
       "    }\n",
       "</style>\n",
       "<table border=\"1\" class=\"dataframe\">\n",
       "  <thead>\n",
       "    <tr style=\"text-align: right;\">\n",
       "      <th></th>\n",
       "      <th>Open</th>\n",
       "      <th>High</th>\n",
       "      <th>Low</th>\n",
       "      <th>Close</th>\n",
       "      <th>Volume</th>\n",
       "    </tr>\n",
       "    <tr>\n",
       "      <th>Date</th>\n",
       "      <th></th>\n",
       "      <th></th>\n",
       "      <th></th>\n",
       "      <th></th>\n",
       "      <th></th>\n",
       "    </tr>\n",
       "  </thead>\n",
       "  <tbody>\n",
       "    <tr>\n",
       "      <th>2022-11-08</th>\n",
       "      <td>381.109985</td>\n",
       "      <td>385.119995</td>\n",
       "      <td>377.720001</td>\n",
       "      <td>382.000000</td>\n",
       "      <td>84641100</td>\n",
       "    </tr>\n",
       "    <tr>\n",
       "      <th>2022-11-09</th>\n",
       "      <td>379.929993</td>\n",
       "      <td>381.140015</td>\n",
       "      <td>373.609985</td>\n",
       "      <td>374.130005</td>\n",
       "      <td>78495500</td>\n",
       "    </tr>\n",
       "    <tr>\n",
       "      <th>2022-11-10</th>\n",
       "      <td>388.049988</td>\n",
       "      <td>395.040009</td>\n",
       "      <td>385.640015</td>\n",
       "      <td>394.690002</td>\n",
       "      <td>141455800</td>\n",
       "    </tr>\n",
       "    <tr>\n",
       "      <th>2022-11-11</th>\n",
       "      <td>395.589996</td>\n",
       "      <td>399.350006</td>\n",
       "      <td>393.609985</td>\n",
       "      <td>398.510010</td>\n",
       "      <td>93758600</td>\n",
       "    </tr>\n",
       "    <tr>\n",
       "      <th>2022-11-14</th>\n",
       "      <td>396.660004</td>\n",
       "      <td>400.179993</td>\n",
       "      <td>394.829987</td>\n",
       "      <td>395.119995</td>\n",
       "      <td>71903500</td>\n",
       "    </tr>\n",
       "  </tbody>\n",
       "</table>\n",
       "</div>"
      ],
      "text/plain": [
       "                  Open        High         Low       Close     Volume\n",
       "Date                                                                 \n",
       "2022-11-08  381.109985  385.119995  377.720001  382.000000   84641100\n",
       "2022-11-09  379.929993  381.140015  373.609985  374.130005   78495500\n",
       "2022-11-10  388.049988  395.040009  385.640015  394.690002  141455800\n",
       "2022-11-11  395.589996  399.350006  393.609985  398.510010   93758600\n",
       "2022-11-14  396.660004  400.179993  394.829987  395.119995   71903500"
      ]
     },
     "execution_count": 22,
     "metadata": {},
     "output_type": "execute_result"
    }
   ],
   "source": [
    "data = pd.read_csv(\"data.csv\", index_col=\"Date\")\n",
    "data.tail()"
   ]
  },
  {
   "cell_type": "code",
   "execution_count": 23,
   "id": "aecb242b-299f-49bd-9219-db9c5ab5f83d",
   "metadata": {},
   "outputs": [],
   "source": [
    "data = data.drop(columns = ['Volume', 'Open', 'High', 'Low'])"
   ]
  },
  {
   "cell_type": "code",
   "execution_count": 24,
   "id": "ad3389ae-0f1c-472b-8553-463c10a404b7",
   "metadata": {},
   "outputs": [
    {
     "data": {
      "text/html": [
       "<div>\n",
       "<style scoped>\n",
       "    .dataframe tbody tr th:only-of-type {\n",
       "        vertical-align: middle;\n",
       "    }\n",
       "\n",
       "    .dataframe tbody tr th {\n",
       "        vertical-align: top;\n",
       "    }\n",
       "\n",
       "    .dataframe thead th {\n",
       "        text-align: right;\n",
       "    }\n",
       "</style>\n",
       "<table border=\"1\" class=\"dataframe\">\n",
       "  <thead>\n",
       "    <tr style=\"text-align: right;\">\n",
       "      <th></th>\n",
       "      <th>Close</th>\n",
       "      <th>daily_returns</th>\n",
       "    </tr>\n",
       "    <tr>\n",
       "      <th>Date</th>\n",
       "      <th></th>\n",
       "      <th></th>\n",
       "    </tr>\n",
       "  </thead>\n",
       "  <tbody>\n",
       "    <tr>\n",
       "      <th>2021-11-15</th>\n",
       "      <td>460.462250</td>\n",
       "      <td>NaN</td>\n",
       "    </tr>\n",
       "    <tr>\n",
       "      <th>2021-11-16</th>\n",
       "      <td>462.284668</td>\n",
       "      <td>0.003958</td>\n",
       "    </tr>\n",
       "    <tr>\n",
       "      <th>2021-11-17</th>\n",
       "      <td>461.161682</td>\n",
       "      <td>-0.002429</td>\n",
       "    </tr>\n",
       "    <tr>\n",
       "      <th>2021-11-18</th>\n",
       "      <td>462.727997</td>\n",
       "      <td>0.003396</td>\n",
       "    </tr>\n",
       "    <tr>\n",
       "      <th>2021-11-19</th>\n",
       "      <td>461.900543</td>\n",
       "      <td>-0.001788</td>\n",
       "    </tr>\n",
       "  </tbody>\n",
       "</table>\n",
       "</div>"
      ],
      "text/plain": [
       "                 Close  daily_returns\n",
       "Date                                 \n",
       "2021-11-15  460.462250            NaN\n",
       "2021-11-16  462.284668       0.003958\n",
       "2021-11-17  461.161682      -0.002429\n",
       "2021-11-18  462.727997       0.003396\n",
       "2021-11-19  461.900543      -0.001788"
      ]
     },
     "execution_count": 24,
     "metadata": {},
     "output_type": "execute_result"
    }
   ],
   "source": [
    "data['daily_returns'] = data.Close.pct_change()\n",
    "data.head()"
   ]
  },
  {
   "cell_type": "code",
   "execution_count": 25,
   "id": "9eba3701-bb5c-41d9-b87b-212d7690d94a",
   "metadata": {},
   "outputs": [],
   "source": [
    "import numpy as np"
   ]
  },
  {
   "cell_type": "code",
   "execution_count": 26,
   "id": "42c52155-884e-45a3-b943-b6223c2ae636",
   "metadata": {},
   "outputs": [],
   "source": [
    "# Bollinger Bands Trading Strategy \n",
    "\n",
    "# Set SMA and standard deviations \n",
    "SMA = num[0]\n",
    "dev = num[1]\n",
    "\n",
    "\n",
    "# Creating column to hold SMA\n",
    "data[\"SMA\"] = data[\"Close\"].rolling(SMA).mean()\n",
    "\n",
    "# Creating the lower band \n",
    "data[\"Lower\"] = data[\"SMA\"] - data[\"Close\"].rolling(SMA).std() * dev \n",
    "\n",
    "# Creating the upper band\n",
    "data[\"Upper\"] = data[\"SMA\"] + data[\"Close\"].rolling(SMA).std() * dev \n",
    "\n",
    "# Creating a column for distance between closing price and the SMA\n",
    "data[\"distance\"] = data.Close - data.SMA # helper Column\n",
    "\n",
    "# Creating a column to add a 1 if oversold to go long \n",
    "data[\"position\"] = np.where(data.Close < data.Lower, 1, np.nan) # 1. oversold -> go long\n",
    "\n",
    "# Adding a -1 to the 'position' row if overbought to go short \n",
    "data[\"position\"] = np.where(data.Close > data.Upper, -1, data[\"position\"]) # 2. overbought -> go short\n",
    "\n",
    "# Adding a 0 to the 'position' column to close position when passes SMA \n",
    "data[\"position\"] = np.where(data.distance * data.distance.shift(1) < 0, 0, data[\"position\"])\n",
    "\n",
    "# If 1-3 isn't met the previous position is held \n",
    "data[\"position\"] = data.position.ffill().fillna(0) # where 1-3 isn´t applicable -> hold previous position\n",
    "\n",
    "# Creating a column for strategy returns\n",
    "data[\"strategy_returns\"] = data.position.shift(1) * data[\"daily_returns\"]"
   ]
  },
  {
   "cell_type": "code",
   "execution_count": 27,
   "id": "36eb4acd-1b34-4792-8932-ebcf01edde9e",
   "metadata": {},
   "outputs": [],
   "source": [
    "# data.dropna(inplace=True)"
   ]
  },
  {
   "cell_type": "code",
   "execution_count": 28,
   "id": "1287820e-e89f-43e0-b8a5-8a1d23bfb108",
   "metadata": {},
   "outputs": [
    {
     "data": {
      "text/html": [
       "<div>\n",
       "<style scoped>\n",
       "    .dataframe tbody tr th:only-of-type {\n",
       "        vertical-align: middle;\n",
       "    }\n",
       "\n",
       "    .dataframe tbody tr th {\n",
       "        vertical-align: top;\n",
       "    }\n",
       "\n",
       "    .dataframe thead th {\n",
       "        text-align: right;\n",
       "    }\n",
       "</style>\n",
       "<table border=\"1\" class=\"dataframe\">\n",
       "  <thead>\n",
       "    <tr style=\"text-align: right;\">\n",
       "      <th></th>\n",
       "      <th>Date</th>\n",
       "      <th>Close</th>\n",
       "      <th>daily_returns</th>\n",
       "      <th>SMA</th>\n",
       "      <th>Lower</th>\n",
       "      <th>Upper</th>\n",
       "      <th>distance</th>\n",
       "      <th>position</th>\n",
       "      <th>strategy_returns</th>\n",
       "    </tr>\n",
       "  </thead>\n",
       "  <tbody>\n",
       "    <tr>\n",
       "      <th>247</th>\n",
       "      <td>2022-11-08</td>\n",
       "      <td>382.000000</td>\n",
       "      <td>0.005395</td>\n",
       "      <td>389.823770</td>\n",
       "      <td>348.849504</td>\n",
       "      <td>430.798036</td>\n",
       "      <td>-7.823770</td>\n",
       "      <td>1.0</td>\n",
       "      <td>0.005395</td>\n",
       "    </tr>\n",
       "    <tr>\n",
       "      <th>248</th>\n",
       "      <td>2022-11-09</td>\n",
       "      <td>374.130005</td>\n",
       "      <td>-0.020602</td>\n",
       "      <td>389.482292</td>\n",
       "      <td>348.410538</td>\n",
       "      <td>430.554047</td>\n",
       "      <td>-15.352287</td>\n",
       "      <td>1.0</td>\n",
       "      <td>-0.020602</td>\n",
       "    </tr>\n",
       "    <tr>\n",
       "      <th>249</th>\n",
       "      <td>2022-11-10</td>\n",
       "      <td>394.690002</td>\n",
       "      <td>0.054954</td>\n",
       "      <td>389.350958</td>\n",
       "      <td>348.410795</td>\n",
       "      <td>430.291121</td>\n",
       "      <td>5.339045</td>\n",
       "      <td>0.0</td>\n",
       "      <td>0.054954</td>\n",
       "    </tr>\n",
       "    <tr>\n",
       "      <th>250</th>\n",
       "      <td>2022-11-11</td>\n",
       "      <td>398.510010</td>\n",
       "      <td>0.009679</td>\n",
       "      <td>389.191572</td>\n",
       "      <td>348.491046</td>\n",
       "      <td>429.892099</td>\n",
       "      <td>9.318437</td>\n",
       "      <td>0.0</td>\n",
       "      <td>0.000000</td>\n",
       "    </tr>\n",
       "    <tr>\n",
       "      <th>251</th>\n",
       "      <td>2022-11-14</td>\n",
       "      <td>395.119995</td>\n",
       "      <td>-0.008507</td>\n",
       "      <td>389.002795</td>\n",
       "      <td>348.547641</td>\n",
       "      <td>429.457949</td>\n",
       "      <td>6.117200</td>\n",
       "      <td>0.0</td>\n",
       "      <td>-0.000000</td>\n",
       "    </tr>\n",
       "  </tbody>\n",
       "</table>\n",
       "</div>"
      ],
      "text/plain": [
       "           Date       Close  daily_returns         SMA       Lower  \\\n",
       "247  2022-11-08  382.000000       0.005395  389.823770  348.849504   \n",
       "248  2022-11-09  374.130005      -0.020602  389.482292  348.410538   \n",
       "249  2022-11-10  394.690002       0.054954  389.350958  348.410795   \n",
       "250  2022-11-11  398.510010       0.009679  389.191572  348.491046   \n",
       "251  2022-11-14  395.119995      -0.008507  389.002795  348.547641   \n",
       "\n",
       "          Upper   distance  position  strategy_returns  \n",
       "247  430.798036  -7.823770       1.0          0.005395  \n",
       "248  430.554047 -15.352287       1.0         -0.020602  \n",
       "249  430.291121   5.339045       0.0          0.054954  \n",
       "250  429.892099   9.318437       0.0          0.000000  \n",
       "251  429.457949   6.117200       0.0         -0.000000  "
      ]
     },
     "execution_count": 28,
     "metadata": {},
     "output_type": "execute_result"
    }
   ],
   "source": [
    "data = data.reset_index()\n",
    "data.tail()"
   ]
  },
  {
   "cell_type": "code",
   "execution_count": 29,
   "id": "ebdb3c1a-1c65-4959-9670-335982f4a167",
   "metadata": {},
   "outputs": [
    {
     "data": {
      "application/vnd.plotly.v1+json": {
       "config": {
        "plotlyServerURL": "https://plot.ly"
       },
       "data": [
        {
         "close": [
          460.4622497558594,
          462.28466796875,
          461.16168212890625,
          462.7279968261719,
          461.9005432128906,
          460.6001892089844,
          461.2109375,
          462.4422912597656,
          452.12835693359375,
          457.6744689941406,
          448.76922607421875,
          443.7846374511719,
          450.5817565917969,
          446.6611022949219,
          451.9510498046875,
          461.2995910644531,
          462.5210876464844,
          459.39837646484375,
          463.722900390625,
          459.6150817871094,
          456.452880859375,
          463.58502197265625,
          459.49688720703125,
          454.60650634765625,
          449.7724609375,
          457.760009765625,
          462.3370056152344,
          465.2137145996094,
          471.7974853515625,
          471.4118957519531,
          472.01495361328125,
          470.7100524902344,
          469.5237731933594,
          472.2423095703125,
          472.0841369628906,
          463.01910400390625,
          462.58416748046875,
          460.7553405761719,
          460.18194580078125,
          464.3734436035156,
          465.6288757324219,
          459.213134765625,
          459.4010009765625,
          451.26519775390625,
          446.5794372558594,
          441.63665771484375,
          432.967041015625,
          434.8057556152344,
          429.4972229003906,
          428.4197082519531,
          426.3041687011719,
          436.8916320800781,
          444.760498046875,
          447.76568603515625,
          452.1153564453125,
          441.4883728027344,
          443.5643615722656,
          442.14080810546875,
          445.7787170410156,
          452.3031921386719,
          444.17724609375,
          435.41864013671875,
          433.9951477050781,
          440.9941101074219,
          441.4883728027344,
          432.0575866699219,
          429.2599792480469,
          424.6533203125,
          417.12054443359375,
          423.3978271484375,
          432.73968505859375,
          431.63250732421875,
          425.0586242675781,
          432.8780822753906,
          430.7229919433594,
          427.2235412597656,
          414.6293640136719,
          411.48577880859375,
          422.5180358886719,
          420.6101379394531,
          415.2620544433594,
          412.2271728515625,
          421.292236328125,
          430.634033203125,
          436.0216979980469,
          440.7973327636719,
          440.66845703125,
          445.82489013671875,
          440.0833435058594,
          446.7173156738281,
          448.89892578125,
          452.0919494628906,
          457.6846923828125,
          454.8586120605469,
          447.85772705078125,
          449.12701416015625,
          452.9744873046875,
          447.2528076171875,
          442.78057861328125,
          445.0117492675781,
          443.8218078613281,
          436.2358703613281,
          434.6195373535156,
          439.59747314453125,
          434.12371826171875,
          434.3022155761719,
          441.31298828125,
          440.9857482910156,
          434.3914489746094,
          422.47210693359375,
          424.9214172363281,
          412.6153564453125,
          413.7755432128906,
          424.227294921875,
          408.5496826171875,
          411.0089111328125,
          412.89300537109375,
          425.4668273925781,
          410.3445129394531,
          407.89520263671875,
          394.83551025390625,
          395.7477722167969,
          389.46087646484375,
          389.0543212890625,
          398.35577392578125,
          396.73944091796875,
          404.9005126953125,
          388.57830810546875,
          386.1984558105469,
          386.3670349121094,
          393.5959777832031,
          390.5913391113281,
          394.0422058105469,
          401.91571044921875,
          411.7823791503906,
          409.4718933105469,
          406.1598815917969,
          413.8945617675781,
          407.1019287109375,
          408.3414611816406,
          412.25836181640625,
          407.7762145996094,
          398.078125,
          386.53558349609375,
          371.85955810546875,
          370.739013671875,
          376.0243835449219,
          363.5794677734375,
          364.3632507324219,
          373.53558349609375,
          372.8583679199219,
          376.5133361816406,
          388.4841613769531,
          387.0002746582031,
          379.0927429199219,
          378.7840270996094,
          375.7066650390625,
          379.6803283691406,
          380.3973693847656,
          381.68212890625,
          387.39862060546875,
          387.0799560546875,
          382.6581115722656,
          379.2720031738281,
          377.2801818847656,
          376.36395263671875,
          383.554443359375,
          380.387451171875,
          390.6651916503906,
          393.15496826171875,
          397.1585388183594,
          393.4736633300781,
          393.95172119140625,
          389.2908630371094,
          399.39935302734375,
          404.40875244140625,
          410.3045349121094,
          409.0895080566406,
          406.390625,
          412.7544860839844,
          412.47564697265625,
          411.7784729003906,
          411.3004455566406,
          409.66717529296875,
          418.27178955078125,
          418.27178955078125,
          425.35272216796875,
          427.1054992675781,
          427.9421081542969,
          424.9045715332031,
          426.1394958496094,
          420.41302490234375,
          411.6589660644531,
          410.6630859375,
          411.9776916503906,
          417.7937927246094,
          403.65185546875,
          400.98284912109375,
          396.5809020996094,
          393.56329345703125,
          394.7982482910156,
          390.63531494140625,
          389.1614074707031,
          396.1526794433594,
          398.7420349121094,
          404.93658447265625,
          409.2887268066406,
          391.4918212890625,
          392.9856872558594,
          388.5240173339844,
          385.55999755859375,
          388.54998779296875,
          384.0899963378906,
          377.3900146484375,
          374.2200012207031,
          367.95001220703125,
          364.30999755859375,
          363.3800048828125,
          370.5299987792969,
          362.7900085449219,
          357.17999267578125,
          366.6099853515625,
          377.9700012207031,
          377.0899963378906,
          373.20001220703125,
          362.7900085449219,
          360.0199890136719,
          357.739990234375,
          356.55999755859375,
          365.9700012207031,
          357.6300048828125,
          366.82000732421875,
          371.1300048828125,
          368.5,
          365.4100036621094,
          374.2900085449219,
          378.8699951171875,
          384.9200134277344,
          382.0199890136719,
          379.9800109863281,
          389.0199890136719,
          386.2099914550781,
          384.5199890136719,
          374.8699951171875,
          371.010009765625,
          376.3500061035156,
          379.95001220703125,
          382,
          374.1300048828125,
          394.69000244140625,
          398.510009765625,
          395.1199951171875
         ],
         "high": [
          461.8216836025759,
          463.476622664264,
          462.1960182712331,
          463.0038218133507,
          463.91997302707,
          466.4811987877852,
          462.1073762106545,
          462.5703582237442,
          456.9848605880097,
          459.60524393312346,
          457.1129698467912,
          457.74342606760996,
          452.2268759486868,
          453.43852023575164,
          453.92123678080793,
          461.89065318734845,
          462.9939433473569,
          462.62948205998595,
          463.88051895672453,
          463.5455952344251,
          458.797408051111,
          463.8411258482515,
          465.8211708085714,
          459.4207614407518,
          450.1876368627965,
          457.9082868957625,
          462.45562731524785,
          466.78551250219414,
          471.8469010045365,
          473.32969355435415,
          473.08257906373285,
          473.51754328114333,
          471.4020204549628,
          472.3807216657983,
          474.4863470589239,
          472.5092320583563,
          465.43120909713906,
          463.8297606071574,
          460.4092939939143,
          464.47230508019663,
          467.78394722040724,
          467.46756932998835,
          459.76676127684203,
          454.6954827997249,
          454.3494601338673,
          453.4894147672063,
          442.93165549618703,
          435.3395834284582,
          434.6871333979894,
          438.9577017159584,
          436.53571226839364,
          436.94104773309544,
          445.1262583350566,
          448.43789572444734,
          452.87653246527395,
          447.78545910057164,
          447.5976501613361,
          445.8280963553951,
          446.74751119945404,
          452.6392970170899,
          452.47120137121067,
          446.44101509500166,
          436.54563498586,
          441.17204265347874,
          442.9316536871931,
          441.45874873347236,
          433.6392679106509,
          430.5154406567137,
          428.30109237221666,
          423.8525838825361,
          432.8286513336713,
          433.18454495400056,
          432.1663326915444,
          434.6871234763599,
          436.0611792082466,
          428.40978836365167,
          427.35205429210276,
          422.32032684373695,
          424.59400614348385,
          421.54924652064017,
          423.86245963056786,
          419.6907462879158,
          421.95455087309057,
          430.69334404957186,
          436.0216979980468,
          441.13448178417855,
          442.72109875452185,
          446.8065896653376,
          444.7340690854814,
          446.72724161164575,
          449.18650563408687,
          452.0919494628906,
          458.2003569597553,
          457.33767571847,
          454.9180953227963,
          449.6624701169323,
          453.0835818389499,
          453.9958483027275,
          445.1703995445369,
          446.91568347666197,
          446.8561793032968,
          441.27331420596965,
          442.01705491416277,
          440.39076139490294,
          441.00560136960956,
          436.06730773183745,
          442.06660302722275,
          443.8218128328768,
          446.2413853915548,
          434.41125532958233,
          425.0999025485545,
          422.47211585475065,
          419.3782512500081,
          426.0419865001822,
          422.30352267308285,
          412.43685414522116,
          415.4216381372007,
          426.06180873488825,
          421.44080381860226,
          411.32621816707115,
          403.0064941024103,
          402.67922399071955,
          400.65633572187966,
          392.48533683625664,
          399.8035385983029,
          400.5869526829617,
          405.1484190588463,
          400.4183176009376,
          390.83928611427115,
          393.70505730340926,
          394.39919195807806,
          391.84076652366394,
          396.1048037225104,
          403.6312333794285,
          411.9013693581638,
          412.97232996852904,
          412.75418506046395,
          413.9441309353551,
          410.57261785409406,
          413.12107295279543,
          412.7343529347155,
          412.33769767547756,
          408.291855079743,
          392.4655145076387,
          378.6125252597034,
          374.7749366416902,
          380.68500501263463,
          367.83354945752603,
          367.8688698501164,
          374.98960207775144,
          377.1706403184424,
          377.28017513374607,
          388.49413019242246,
          389.75893164678683,
          391.5515738460968,
          380.7061241839131,
          379.10271832908796,
          380.1384683809683,
          380.41730701486875,
          384.2914056552444,
          388.23518049333734,
          389.0418979580837,
          385.2872954288367,
          384.5802150528634,
          380.35756734891146,
          377.49927302854667,
          383.67394757819767,
          387.4982255615694,
          391.2627430970632,
          394.6388932756416,
          397.208322108785,
          398.5428362374419,
          394.8480331918537,
          392.4478773804343,
          401.23182193635006,
          405.1357465196418,
          411.34028877128935,
          411.71872227062175,
          411.31041790220996,
          413.97943466962624,
          413.391866239546,
          412.4556836890572,
          415.9115090600188,
          411.0614418214487,
          418.4212002072381,
          423.21151981805826,
          425.4622575648715,
          427.6532674277152,
          429.963802202433,
          427.74291828019767,
          426.85652111767564,
          423.5202560090412,
          415.52309761108154,
          413.7205338893691,
          413.41177265690214,
          417.8435760173275,
          418.2419155574279,
          404.17970852973673,
          402.4468205164776,
          399.59849929160004,
          395.1567609326414,
          399.91719360496876,
          392.50764709558,
          396.95936329916964,
          399.22005176233506,
          405.84286526277106,
          410.0456273794545,
          401.450910966257,
          394.579147692955,
          394.34012229351475,
          386.25,
          388.54998779296875,
          386.1199951171875,
          389.30999755859375,
          378.29998779296875,
          370.6199951171875,
          370.2099914550781,
          370.3999938964844,
          372.29998779296875,
          367.1099853515625,
          365.9100036621094,
          368.54998779296875,
          378,
          379.4599914550781,
          378.7200012207031,
          373.2900085449219,
          364.2099914550781,
          363.0299987792969,
          359.82000732421875,
          367.510009765625,
          370.260009765625,
          367.9800109863281,
          375.45001220703125,
          371.8500061035156,
          372.6700134277344,
          374.79998779296875,
          380.05999755859375,
          385.25,
          387.5799865722656,
          385,
          389.5199890136719,
          388.3999938964844,
          390.3900146484375,
          388.6300048828125,
          374.20001220703125,
          378.8699951171875,
          380.57000732421875,
          385.1199951171875,
          381.1400146484375,
          395.0400085449219,
          399.3500061035156,
          400.17999267578125
         ],
         "low": [
          459.28015558764304,
          460.10761979136737,
          460.51151681616716,
          459.388515313826,
          461.5163422865618,
          460.3834674297967,
          457.526697355524,
          458.2556439190348,
          450.9462327293489,
          454.84725531781993,
          448.51309212497694,
          443.57777622640015,
          443.5974473509027,
          442.2281816015183,
          446.7990000395724,
          451.8131356831209,
          459.87118373592966,
          459.19151523985863,
          459.555974163287,
          459.31953569933046,
          453.38925469822925,
          453.8719841187196,
          457.8714588390697,
          452.8172253000845,
          445.9764159219401,
          451.0872673948548,
          457.2854769888965,
          463.2761563897189,
          466.6075747212709,
          470.6111691628179,
          470.4728112024703,
          470.2256705027333,
          469.2371141484059,
          468.42650410269573,
          470.1366836075056,
          462.92024253253254,
          460.1028861799993,
          459.33181975286794,
          451.37392290910174,
          456.76156242338106,
          463.57269588491556,
          458.13561418240937,
          454.6361615385267,
          450.0987107781213,
          446.2927480410489,
          439.41241041801464,
          432.9373855921343,
          415.9441512869428,
          422.26099759477876,
          423.95142308177117,
          424.5346781339232,
          422.9233534873862,
          434.7760929251571,
          441.8244649881127,
          447.8645544659762,
          440.60854496229723,
          438.75007640900003,
          440.7469429152332,
          440.1241847488413,
          449.8021506939638,
          442.0815157066429,
          433.9160483867408,
          430.3572747041986,
          438.10751807548485,
          436.8817059735302,
          431.4249275370094,
          426.87755957227427,
          420.98576177196225,
          416.5274057552635,
          405.9399834174015,
          422.9628676418268,
          425.77038704288657,
          422.22144784831204,
          426.63041149287534,
          428.83484958238404,
          422.98263470528383,
          414.56015796540635,
          410.3687074830403,
          417.9805748540562,
          415.62781530487996,
          414.7282266197315,
          411.0310305093529,
          413.6309398298518,
          419.9378680923793,
          428.23188447143536,
          433.55847910607173,
          436.98950474980444,
          442.1261162499913,
          439.9941008506733,
          441.0353215133547,
          444.6745916954664,
          446.2909346958001,
          453.3512942161517,
          452.64727638335665,
          447.3817359465305,
          445.37867115268716,
          448.4725296114604,
          446.0529493440323,
          439.7561331394801,
          439.81564151209,
          442.2054535434022,
          435.71031009646197,
          432.9932570508383,
          434.17328075554553,
          434.01462372496155,
          431.96196369155433,
          434.0146094059943,
          439.7660683471935,
          433.43949700113836,
          421.87712562282195,
          415.332386136087,
          412.58560889224606,
          411.53449026005103,
          414.1028072266803,
          407.7662900436615,
          401.62811295868255,
          409.8982771759006,
          410.24537017335183,
          406.01111469269813,
          402.33219847437874,
          393.1794824727231,
          391.5135427070195,
          388.67748392424545,
          381.9245319583339,
          392.29692673655927,
          394.2703031176753,
          399.20856201041227,
          387.2792812745358,
          383.86812985092183,
          377.3531630633819,
          387.1107390175401,
          383.71935216445735,
          388.6081176351974,
          395.11317435868995,
          404.2856934406207,
          406.5961855333333,
          403.5221541519284,
          403.63123229115416,
          406.0805556878603,
          407.1118250194197,
          404.19644193071485,
          406.9432528615476,
          398.078125,
          386.4860143290133,
          370.1737826705873,
          367.486483305269,
          369.0036583972589,
          361.03098308594804,
          360.6883744980465,
          370.2889105384422,
          368.66556934032934,
          371.3645039167214,
          379.8098026748832,
          385.85498538676313,
          378.9732387064949,
          376.87189883102377,
          371.0358494624268,
          372.27076315463177,
          371.3744368394161,
          378.047067090451,
          381.7020200800238,
          384.08226030366467,
          381.9310870883159,
          377.4395342992379,
          373.127258498116,
          369.52206305495616,
          378.98322463302077,
          379.10272006385037,
          383.8133636257635,
          389.4302784858606,
          390.0278270867561,
          391.1432400346693,
          391.60136020227054,
          388.35470619513643,
          392.43792846497354,
          396.5211402271115,
          405.10588877053,
          406.7292087102475,
          405.155707562965,
          408.3226789963226,
          410.75271344845027,
          407.9243101442471,
          410.14518747689357,
          408.54179325446074,
          415.0151782306003,
          417.49498178666795,
          419.3075474968399,
          422.972483188537,
          425.13363748859143,
          422.8032181180557,
          423.7592588669933,
          419.49677528211595,
          410.7128404151961,
          410.08544169235375,
          409.70702033371197,
          412.3959525923642,
          403.5921033629647,
          399.55870653260496,
          394.3799517877281,
          393.4238820075808,
          388.4443441829889,
          388.73312520893785,
          386.8309840763645,
          388.60370262209443,
          392.5076350867595,
          400.81350683802816,
          406.78898546738606,
          390.3166560014087,
          389.519913084631,
          387.1895029104063,
          382.1099853515625,
          382.17999267578125,
          381.20001220703125,
          377.3800048828125,
          373.44000244140625,
          363.2900085449219,
          363.0299987792969,
          360.8699951171875,
          362.6000061035156,
          359.70001220703125,
          357.0400085449219,
          359.2099914550781,
          366.57000732421875,
          370.95001220703125,
          372.67999267578125,
          360.94000244140625,
          357.6700134277344,
          355.7099914550781,
          356.29998779296875,
          348.1099853515625,
          356.9599914550781,
          357.2799987792969,
          367.5199890136719,
          365.54998779296875,
          364.6099853515625,
          363.5400085449219,
          373.1099853515625,
          378.6700134277344,
          381.3500061035156,
          379.3299865722656,
          379.67999267578125,
          385.260009765625,
          383.2900085449219,
          374.760009765625,
          368.7900085449219,
          370,
          375.5299987792969,
          377.7200012207031,
          373.6099853515625,
          385.6400146484375,
          393.6099853515625,
          394.8299865722656
         ],
         "open": [
          461.6542345418459,
          460.18641404234324,
          462.008848102596,
          462.24528055160727,
          462.60978173041406,
          463.87070694484504,
          460.2553955831633,
          459.11267044699287,
          455.4481171600917,
          457.1523706155449,
          455.11323109448887,
          454.7585938595128,
          444.01119984453203,
          452.3253898476043,
          449.33069751892725,
          457.4872839626471,
          461.71333382699515,
          461.1715328043396,
          462.23542966164496,
          463.1811154492322,
          456.1869164537576,
          456.51205763097414,
          465.5256547758522,
          456.26727049651515,
          449.2781837713862,
          453.3609305057284,
          457.49309513220595,
          463.384882894794,
          466.65699037424486,
          472.25217296117563,
          471.520676426014,
          472.45978286474065,
          470.19601309008607,
          470.84844425912456,
          473.7350360685361,
          471.69861022869173,
          462.53475182573953,
          462.5940675430594,
          457.4041104866488,
          459.90518843943073,
          466.1923589724666,
          466.78546443913797,
          455.911405158876,
          454.4779996204865,
          452.88641897197675,
          448.5565381938676,
          440.4602696443499,
          427.0851483078244,
          428.10335760369844,
          435.67569388631534,
          433.2438395533789,
          427.72771342285955,
          436.1897184269397,
          445.5216484474969,
          450.28652478956815,
          445.7885902010251,
          441.2412527498039,
          444.36505529170523,
          441.6169115248988,
          450.0097386724572,
          446.17411501257595,
          444.266213628056,
          434.8848708117567,
          438.6512410794835,
          438.8489194497072,
          438.147085436672,
          432.32447369113333,
          426.94677375799444,
          427.7079536938864,
          406.3156087388995,
          424.6928378276693,
          427.08515110507835,
          430.06070702979645,
          427.4212429119066,
          435.42852013444514,
          426.8083351640208,
          426.6106384934223,
          414.81720238907917,
          420.2740282816254,
          417.6839951875607,
          423.2199053036139,
          416.07266383687795,
          414.9654641175031,
          424.9696361894637,
          428.6273001991835,
          434.331945744177,
          440.6188576005574,
          442.1261162499913,
          443.1673142577607,
          442.2054322196226,
          447.3817400586387,
          448.2741855384289,
          456.1675067275879,
          456.4848620839005,
          454.0553860342224,
          449.5137323511612,
          449.33523889932536,
          451.40772050749126,
          443.14750544454176,
          441.85838755010286,
          444.2184519870874,
          440.39075305179466,
          439.3694015840261,
          434.36169201086005,
          439.835460328614,
          433.1519263802762,
          434.1930947198821,
          443.17726233854705,
          444.78369474686116,
          433.25107052248364,
          420.1219538482033,
          422.2638527212785,
          413.74579565968503,
          418.75353315699766,
          420.04261787296315,
          408.6190902615176,
          411.5344833608006,
          413.5871432097497,
          420.9945602744624,
          407.657222216257,
          401.70746721179637,
          401.10254325623094,
          394.7363308640535,
          386.1091925233651,
          393.38772077558525,
          396.6303766392127,
          403.12549465904874,
          400.1208420908022,
          385.3654940283421,
          389.95671425480964,
          389.5402031563818,
          389.2724603968558,
          389.02458338337726,
          395.33133316910966,
          404.49392630422375,
          410.0866962528882,
          411.693168783268,
          405.9913057078747,
          408.94633755839413,
          411.3064116561258,
          404.6823589875329,
          410.46351106833333,
          405.9119600405998,
          391.5730576661437,
          376.66894777603443,
          373.6940684990385,
          374.1997660824731,
          367.40715777387805,
          364.01470689796395,
          370.36860027572,
          369.10377171155864,
          375.09916248890295,
          379.839678728561,
          389.45020228820897,
          388.63356786157743,
          379.6704007020671,
          374.7007872373399,
          375.01948165467763,
          374.3422564155411,
          380.54677804388876,
          383.5444577535018,
          385.6856591705736,
          384.2714792285503,
          382.0804737894117,
          373.5654608765115,
          372.08152594230745,
          380.9849810837629,
          386.79113868810555,
          384.50051283779845,
          390.86438981626435,
          392.54747551542175,
          397.2880116277475,
          394.13097751294976,
          392.2287761962975,
          392.7466578229037,
          400.24586034709495,
          405.9125726207121,
          407.47614042202906,
          407.4462861108971,
          408.6214395311792,
          412.6748105385001,
          407.98406224955716,
          413.551209607935,
          410.53361126449806,
          417.0667482330721,
          421.25951639625225,
          420.3034564551387,
          423.0322352943368,
          425.9801662145605,
          424.1676085940869,
          425.1136804525352,
          423.241402714664,
          415.3438109035657,
          411.21082373535467,
          410.4240456406023,
          413.5412418594565,
          417.6742705524675,
          400.554615541517,
          402.19784327418733,
          398.2938609922522,
          391.28269083344577,
          398.6424313708159,
          391.5217069190949,
          388.83274223995994,
          393.77245891935064,
          401.09236012785357,
          407.1076836446478,
          400.18608712590634,
          392.8562142263904,
          391.35239526954655,
          384.1400146484375,
          382.260009765625,
          385.05999755859375,
          386.1099853515625,
          376.5799865722656,
          370.5799865722656,
          366.4100036621094,
          368.0199890136719,
          364.3800048828125,
          366.80999755859375,
          361.79998779296875,
          361.0799865722656,
          372.3999938964844,
          373.3900146484375,
          375.6199951171875,
          368.9700012207031,
          363.9599914550781,
          358.239990234375,
          358.1700134277344,
          349.2099914550781,
          368.54998779296875,
          364.010009765625,
          375.1300048828125,
          368.989990234375,
          368.0299987792969,
          365.1199951171875,
          375.8900146484375,
          378.7900085449219,
          381.6199951171875,
          383.07000732421875,
          379.8699951171875,
          386.44000244140625,
          390.1400146484375,
          383.8999938964844,
          371.4700012207031,
          377,
          377.7099914550781,
          381.1099853515625,
          379.92999267578125,
          388.04998779296875,
          395.5899963378906,
          396.6600036621094
         ],
         "type": "candlestick",
         "x": [
          0,
          1,
          2,
          3,
          4,
          5,
          6,
          7,
          8,
          9,
          10,
          11,
          12,
          13,
          14,
          15,
          16,
          17,
          18,
          19,
          20,
          21,
          22,
          23,
          24,
          25,
          26,
          27,
          28,
          29,
          30,
          31,
          32,
          33,
          34,
          35,
          36,
          37,
          38,
          39,
          40,
          41,
          42,
          43,
          44,
          45,
          46,
          47,
          48,
          49,
          50,
          51,
          52,
          53,
          54,
          55,
          56,
          57,
          58,
          59,
          60,
          61,
          62,
          63,
          64,
          65,
          66,
          67,
          68,
          69,
          70,
          71,
          72,
          73,
          74,
          75,
          76,
          77,
          78,
          79,
          80,
          81,
          82,
          83,
          84,
          85,
          86,
          87,
          88,
          89,
          90,
          91,
          92,
          93,
          94,
          95,
          96,
          97,
          98,
          99,
          100,
          101,
          102,
          103,
          104,
          105,
          106,
          107,
          108,
          109,
          110,
          111,
          112,
          113,
          114,
          115,
          116,
          117,
          118,
          119,
          120,
          121,
          122,
          123,
          124,
          125,
          126,
          127,
          128,
          129,
          130,
          131,
          132,
          133,
          134,
          135,
          136,
          137,
          138,
          139,
          140,
          141,
          142,
          143,
          144,
          145,
          146,
          147,
          148,
          149,
          150,
          151,
          152,
          153,
          154,
          155,
          156,
          157,
          158,
          159,
          160,
          161,
          162,
          163,
          164,
          165,
          166,
          167,
          168,
          169,
          170,
          171,
          172,
          173,
          174,
          175,
          176,
          177,
          178,
          179,
          180,
          181,
          182,
          183,
          184,
          185,
          186,
          187,
          188,
          189,
          190,
          191,
          192,
          193,
          194,
          195,
          196,
          197,
          198,
          199,
          200,
          201,
          202,
          203,
          204,
          205,
          206,
          207,
          208,
          209,
          210,
          211,
          212,
          213,
          214,
          215,
          216,
          217,
          218,
          219,
          220,
          221,
          222,
          223,
          224,
          225,
          226,
          227,
          228,
          229,
          230,
          231,
          232,
          233,
          234,
          235,
          236,
          237,
          238,
          239,
          240,
          241,
          242,
          243,
          244,
          245,
          246,
          247,
          248,
          249,
          250,
          251
         ]
        },
        {
         "line": {
          "color": "yellow"
         },
         "mode": "lines",
         "name": "SMA",
         "type": "scatter",
         "x": [
          0,
          1,
          2,
          3,
          4,
          5,
          6,
          7,
          8,
          9,
          10,
          11,
          12,
          13,
          14,
          15,
          16,
          17,
          18,
          19,
          20,
          21,
          22,
          23,
          24,
          25,
          26,
          27,
          28,
          29,
          30,
          31,
          32,
          33,
          34,
          35,
          36,
          37,
          38,
          39,
          40,
          41,
          42,
          43,
          44,
          45,
          46,
          47,
          48,
          49,
          50,
          51,
          52,
          53,
          54,
          55,
          56,
          57,
          58,
          59,
          60,
          61,
          62,
          63,
          64,
          65,
          66,
          67,
          68,
          69,
          70,
          71,
          72,
          73,
          74,
          75,
          76,
          77,
          78,
          79,
          80,
          81,
          82,
          83,
          84,
          85,
          86,
          87,
          88,
          89,
          90,
          91,
          92,
          93,
          94,
          95,
          96,
          97,
          98,
          99,
          100,
          101,
          102,
          103,
          104,
          105,
          106,
          107,
          108,
          109,
          110,
          111,
          112,
          113,
          114,
          115,
          116,
          117,
          118,
          119,
          120,
          121,
          122,
          123,
          124,
          125,
          126,
          127,
          128,
          129,
          130,
          131,
          132,
          133,
          134,
          135,
          136,
          137,
          138,
          139,
          140,
          141,
          142,
          143,
          144,
          145,
          146,
          147,
          148,
          149,
          150,
          151,
          152,
          153,
          154,
          155,
          156,
          157,
          158,
          159,
          160,
          161,
          162,
          163,
          164,
          165,
          166,
          167,
          168,
          169,
          170,
          171,
          172,
          173,
          174,
          175,
          176,
          177,
          178,
          179,
          180,
          181,
          182,
          183,
          184,
          185,
          186,
          187,
          188,
          189,
          190,
          191,
          192,
          193,
          194,
          195,
          196,
          197,
          198,
          199,
          200,
          201,
          202,
          203,
          204,
          205,
          206,
          207,
          208,
          209,
          210,
          211,
          212,
          213,
          214,
          215,
          216,
          217,
          218,
          219,
          220,
          221,
          222,
          223,
          224,
          225,
          226,
          227,
          228,
          229,
          230,
          231,
          232,
          233,
          234,
          235,
          236,
          237,
          238,
          239,
          240,
          241,
          242,
          243,
          244,
          245,
          246,
          247,
          248,
          249,
          250,
          251
         ],
         "y": [
          null,
          null,
          null,
          null,
          null,
          null,
          null,
          null,
          null,
          null,
          null,
          null,
          null,
          null,
          null,
          null,
          null,
          null,
          null,
          null,
          null,
          null,
          null,
          null,
          null,
          null,
          null,
          null,
          null,
          null,
          null,
          null,
          null,
          null,
          null,
          null,
          null,
          null,
          null,
          null,
          null,
          null,
          null,
          null,
          null,
          null,
          null,
          null,
          null,
          null,
          null,
          null,
          null,
          null,
          null,
          null,
          null,
          null,
          null,
          null,
          null,
          null,
          null,
          null,
          null,
          null,
          null,
          null,
          null,
          null,
          null,
          null,
          null,
          450.7867538864548,
          450.38487202412375,
          449.91107301454286,
          449.28225790487755,
          448.5897954992346,
          448.0575994543127,
          447.5171933560758,
          446.89626250395906,
          446.2176798227671,
          445.8009754902608,
          445.4355641957876,
          445.26330030286636,
          445.2229313206028,
          445.08896781302786,
          445.0776676487278,
          444.9172932392842,
          444.7202354637352,
          444.5361521952861,
          444.4374166952597,
          444.35581928974875,
          444.2915426718222,
          444.17539194467906,
          443.98001346072635,
          443.89187292150547,
          443.792498614337,
          443.69801371806375,
          443.52573992754964,
          443.2755345524968,
          442.8839420627903,
          442.381537360114,
          441.951612730284,
          441.4395690093169,
          440.94757121318094,
          440.5663443900443,
          440.1439584268106,
          439.6345977783203,
          439.0866653854782,
          438.57770930109797,
          437.92716897500526,
          437.30005542652026,
          436.7575399037954,
          435.98619945629224,
          435.33479102882177,
          434.7063046017209,
          434.3576779752164,
          433.8680168358055,
          433.41205122664167,
          432.89676027040224,
          432.3689496839369,
          431.8279179753484,
          431.2959532866607,
          430.91827227618245,
          430.3756750983161,
          429.8370266476193,
          429.03719721613703,
          428.1464282886402,
          427.4015453441723,
          426.72629691459036,
          426.0296824687236,
          425.33054042506865,
          424.6496285103463,
          424.21186003813875,
          423.86122832427156,
          423.48507607949745,
          423.1188659667969,
          422.6541842898807,
          422.3336961076066,
          422.10394452069255,
          421.87587552457245,
          421.61854553222656,
          421.1204071044922,
          420.2977026862067,
          419.47481763685073,
          418.8121927622202,
          417.8757249986803,
          416.9789717390731,
          416.25345879632073,
          415.68898587613495,
          415.216385300095,
          414.7564680769637,
          414.30228073532516,
          413.8135062552787,
          413.3615718532253,
          412.7455506195893,
          412.05698704075166,
          411.305306924356,
          410.50645281817464,
          409.7865901637722,
          408.99273970320417,
          408.2167230554529,
          407.30529991356104,
          406.337479050095,
          405.31412774163323,
          404.3123676196949,
          403.3060005806588,
          402.5331284806535,
          401.776749482026,
          401.0224799078864,
          400.29573471481734,
          399.63588529019745,
          398.88290034113703,
          398.28259689743453,
          397.8525007093275,
          397.5239195952544,
          397.1116497967694,
          396.7368782662057,
          396.44569273252745,
          396.05599893105995,
          395.66130602037583,
          395.34926543364656,
          395.17622581688136,
          395.08636598329286,
          395.1628042685019,
          395.31925263275974,
          395.35814728608005,
          395.62020709063563,
          395.8079862852355,
          395.98699291332355,
          395.91869828507714,
          395.9364611651447,
          395.9738649935336,
          396.2055160934861,
          396.5034352895376,
          396.69520527607693,
          396.85640159813136,
          396.83241684372365,
          396.7894959320894,
          396.6529788455448,
          396.68077623521964,
          396.72081612251907,
          396.8530545621305,
          396.92259587468334,
          397.1164505417283,
          397.3224846092431,
          397.18162124221396,
          396.92761189228787,
          396.64453248719917,
          396.36615567593964,
          396.02366143303954,
          395.71268937394433,
          395.29442658295505,
          394.7803946830131,
          394.2422027587891,
          393.7858767122836,
          393.4729634877798,
          393.4549964698586,
          393.3475774816565,
          393.09292355099245,
          393.1338764912374,
          393.3177514978358,
          393.365784103806,
          393.37040091849667,
          393.1849505450275,
          392.8002995671453,
          392.4048903181747,
          392.1003937592378,
          391.9272312473607,
          391.68295205606,
          391.50916393383136,
          391.38392927839953,
          391.2057924012881,
          390.90864892908047,
          390.73581180057016,
          390.6846210376637,
          390.7609455005543,
          390.82499694824224,
          390.8738626016153,
          390.9477213266734,
          391.02640430347344,
          390.94336102459886,
          390.696266792916,
          390.3429082922034,
          390.11150751887146,
          389.9222952352988,
          389.82377005912167,
          389.48229238149287,
          389.3509579220334,
          389.19157244708094,
          389.0027952451964
         ]
        },
        {
         "line": {
          "color": "Black"
         },
         "mode": "lines",
         "name": "Lower Bound",
         "type": "scatter",
         "x": [
          0,
          1,
          2,
          3,
          4,
          5,
          6,
          7,
          8,
          9,
          10,
          11,
          12,
          13,
          14,
          15,
          16,
          17,
          18,
          19,
          20,
          21,
          22,
          23,
          24,
          25,
          26,
          27,
          28,
          29,
          30,
          31,
          32,
          33,
          34,
          35,
          36,
          37,
          38,
          39,
          40,
          41,
          42,
          43,
          44,
          45,
          46,
          47,
          48,
          49,
          50,
          51,
          52,
          53,
          54,
          55,
          56,
          57,
          58,
          59,
          60,
          61,
          62,
          63,
          64,
          65,
          66,
          67,
          68,
          69,
          70,
          71,
          72,
          73,
          74,
          75,
          76,
          77,
          78,
          79,
          80,
          81,
          82,
          83,
          84,
          85,
          86,
          87,
          88,
          89,
          90,
          91,
          92,
          93,
          94,
          95,
          96,
          97,
          98,
          99,
          100,
          101,
          102,
          103,
          104,
          105,
          106,
          107,
          108,
          109,
          110,
          111,
          112,
          113,
          114,
          115,
          116,
          117,
          118,
          119,
          120,
          121,
          122,
          123,
          124,
          125,
          126,
          127,
          128,
          129,
          130,
          131,
          132,
          133,
          134,
          135,
          136,
          137,
          138,
          139,
          140,
          141,
          142,
          143,
          144,
          145,
          146,
          147,
          148,
          149,
          150,
          151,
          152,
          153,
          154,
          155,
          156,
          157,
          158,
          159,
          160,
          161,
          162,
          163,
          164,
          165,
          166,
          167,
          168,
          169,
          170,
          171,
          172,
          173,
          174,
          175,
          176,
          177,
          178,
          179,
          180,
          181,
          182,
          183,
          184,
          185,
          186,
          187,
          188,
          189,
          190,
          191,
          192,
          193,
          194,
          195,
          196,
          197,
          198,
          199,
          200,
          201,
          202,
          203,
          204,
          205,
          206,
          207,
          208,
          209,
          210,
          211,
          212,
          213,
          214,
          215,
          216,
          217,
          218,
          219,
          220,
          221,
          222,
          223,
          224,
          225,
          226,
          227,
          228,
          229,
          230,
          231,
          232,
          233,
          234,
          235,
          236,
          237,
          238,
          239,
          240,
          241,
          242,
          243,
          244,
          245,
          246,
          247,
          248,
          249,
          250,
          251
         ],
         "y": [
          null,
          null,
          null,
          null,
          null,
          null,
          null,
          null,
          null,
          null,
          null,
          null,
          null,
          null,
          null,
          null,
          null,
          null,
          null,
          null,
          null,
          null,
          null,
          null,
          null,
          null,
          null,
          null,
          null,
          null,
          null,
          null,
          null,
          null,
          null,
          null,
          null,
          null,
          null,
          null,
          null,
          null,
          null,
          null,
          null,
          null,
          null,
          null,
          null,
          null,
          null,
          null,
          null,
          null,
          null,
          null,
          null,
          null,
          null,
          null,
          null,
          null,
          null,
          null,
          null,
          null,
          null,
          null,
          null,
          null,
          null,
          null,
          null,
          422.2892164295904,
          421.6032296586847,
          420.7716173197059,
          419.13632850216186,
          417.3615294445899,
          416.4096339553441,
          415.37579248441614,
          414.05970970834755,
          412.61724191921155,
          411.7361306922033,
          411.30710056599696,
          411.0744323084252,
          411.01993216763145,
          410.8934203866223,
          410.8836741525544,
          410.74269772830183,
          410.7611817935598,
          410.8215565958343,
          410.85677757064764,
          410.9362364873812,
          410.9728176495742,
          410.9688325840899,
          411.0676853716236,
          411.11337866831457,
          411.1012459580335,
          411.036439034507,
          411.0308535969803,
          411.0842499118989,
          411.0719826968389,
          411.25418703783345,
          411.5804346381012,
          411.8561380033696,
          412.13709756178383,
          412.55355728399917,
          413.1435239267812,
          413.6753089017775,
          413.418717952705,
          413.30847704503987,
          412.49487719547557,
          411.80436619567615,
          411.8971633301643,
          411.21624296173434,
          410.50631106921037,
          409.99371394412344,
          409.86538285096356,
          408.9218376636055,
          407.8166302831459,
          405.77517269145255,
          403.91073018447213,
          401.67640360692576,
          399.55353891889337,
          398.2825218136736,
          396.82043924479,
          395.94012569460756,
          394.07909839087654,
          392.22673635973973,
          390.33585454445637,
          389.0391326624871,
          387.5994569276082,
          386.47703691240963,
          385.947021750064,
          385.672371938484,
          385.263081902674,
          384.7451072586491,
          384.53800111222716,
          384.1421744761333,
          383.7443432914333,
          383.47936999828505,
          383.1132756646865,
          382.4769626831594,
          381.1413407316585,
          378.81096133080496,
          376.51037889049843,
          374.6998022374208,
          372.06453509123804,
          369.61580891119957,
          367.892324031386,
          366.2870803753993,
          364.9892069031065,
          364.17833788140234,
          363.33516104454634,
          362.1941540459086,
          361.104248248203,
          359.7971272674931,
          358.72794908968336,
          357.7782239893692,
          356.99957667480504,
          356.4921795506653,
          356.12662984942136,
          355.51550229026844,
          354.9723716542715,
          354.4767146828556,
          354.1300500847053,
          354.398427409526,
          354.53445625711475,
          354.82319399891736,
          355.3033283805679,
          356.1335859604317,
          356.71954334318684,
          357.20450239235646,
          357.7590982063292,
          358.5451751959284,
          359.1040785114194,
          359.6368973561294,
          360.43644881122384,
          361.041556598349,
          361.65277768881197,
          362.6837694009482,
          363.7864522735855,
          364.57882206146957,
          364.88394493083774,
          365.11410689098403,
          364.9811589872684,
          364.63063566949376,
          364.51406903976334,
          364.0018630579336,
          363.6584754375989,
          363.3085948648686,
          363.46979788178623,
          363.45411880908665,
          363.42937046912016,
          363.45052201961045,
          363.3665154361763,
          363.55929340004536,
          363.75516964142014,
          363.7330180750824,
          363.6813722515967,
          363.5971972887669,
          363.6490766713708,
          363.7334846461348,
          363.9556868464362,
          364.0313900034246,
          364.2074587320794,
          364.30081981027314,
          364.1504741453521,
          364.06306332951107,
          363.8573272720493,
          363.5567387290608,
          363.42773541078657,
          363.106234877597,
          362.5510577812664,
          361.92275819125393,
          360.9459509792801,
          359.78466777776197,
          358.7819951652026,
          358.71729332040826,
          358.27747695668006,
          357.24767362438087,
          357.4186609914101,
          358.06604169963344,
          358.21382382297,
          358.2292738232796,
          357.54185048711594,
          356.3463679720046,
          355.0717056865107,
          353.9679470430974,
          353.43490742729693,
          352.5491430807194,
          352.04638666444913,
          351.7198608181794,
          351.24773183301704,
          350.51117517414525,
          350.1628572775374,
          350.06081459885047,
          350.2029127486601,
          350.3383811188879,
          350.44933740241055,
          350.5574640538163,
          350.6969230914599,
          350.58556644332964,
          350.16982680389805,
          349.58958546081374,
          349.2359895891826,
          348.9892695292756,
          348.84950446217215,
          348.41053819047227,
          348.41079528050227,
          348.4910459092386,
          348.5476410234847
         ]
        },
        {
         "line": {
          "color": "Purple"
         },
         "mode": "lines",
         "name": "Upper Bound",
         "type": "scatter",
         "x": [
          0,
          1,
          2,
          3,
          4,
          5,
          6,
          7,
          8,
          9,
          10,
          11,
          12,
          13,
          14,
          15,
          16,
          17,
          18,
          19,
          20,
          21,
          22,
          23,
          24,
          25,
          26,
          27,
          28,
          29,
          30,
          31,
          32,
          33,
          34,
          35,
          36,
          37,
          38,
          39,
          40,
          41,
          42,
          43,
          44,
          45,
          46,
          47,
          48,
          49,
          50,
          51,
          52,
          53,
          54,
          55,
          56,
          57,
          58,
          59,
          60,
          61,
          62,
          63,
          64,
          65,
          66,
          67,
          68,
          69,
          70,
          71,
          72,
          73,
          74,
          75,
          76,
          77,
          78,
          79,
          80,
          81,
          82,
          83,
          84,
          85,
          86,
          87,
          88,
          89,
          90,
          91,
          92,
          93,
          94,
          95,
          96,
          97,
          98,
          99,
          100,
          101,
          102,
          103,
          104,
          105,
          106,
          107,
          108,
          109,
          110,
          111,
          112,
          113,
          114,
          115,
          116,
          117,
          118,
          119,
          120,
          121,
          122,
          123,
          124,
          125,
          126,
          127,
          128,
          129,
          130,
          131,
          132,
          133,
          134,
          135,
          136,
          137,
          138,
          139,
          140,
          141,
          142,
          143,
          144,
          145,
          146,
          147,
          148,
          149,
          150,
          151,
          152,
          153,
          154,
          155,
          156,
          157,
          158,
          159,
          160,
          161,
          162,
          163,
          164,
          165,
          166,
          167,
          168,
          169,
          170,
          171,
          172,
          173,
          174,
          175,
          176,
          177,
          178,
          179,
          180,
          181,
          182,
          183,
          184,
          185,
          186,
          187,
          188,
          189,
          190,
          191,
          192,
          193,
          194,
          195,
          196,
          197,
          198,
          199,
          200,
          201,
          202,
          203,
          204,
          205,
          206,
          207,
          208,
          209,
          210,
          211,
          212,
          213,
          214,
          215,
          216,
          217,
          218,
          219,
          220,
          221,
          222,
          223,
          224,
          225,
          226,
          227,
          228,
          229,
          230,
          231,
          232,
          233,
          234,
          235,
          236,
          237,
          238,
          239,
          240,
          241,
          242,
          243,
          244,
          245,
          246,
          247,
          248,
          249,
          250,
          251
         ],
         "y": [
          null,
          null,
          null,
          null,
          null,
          null,
          null,
          null,
          null,
          null,
          null,
          null,
          null,
          null,
          null,
          null,
          null,
          null,
          null,
          null,
          null,
          null,
          null,
          null,
          null,
          null,
          null,
          null,
          null,
          null,
          null,
          null,
          null,
          null,
          null,
          null,
          null,
          null,
          null,
          null,
          null,
          null,
          null,
          null,
          null,
          null,
          null,
          null,
          null,
          null,
          null,
          null,
          null,
          null,
          null,
          null,
          null,
          null,
          null,
          null,
          null,
          null,
          null,
          null,
          null,
          null,
          null,
          null,
          null,
          null,
          null,
          null,
          null,
          479.2842913433192,
          479.1665143895628,
          479.0505287093798,
          479.42818730759325,
          479.81806155387926,
          479.70556495328134,
          479.6585942277354,
          479.7328152995706,
          479.8181177263226,
          479.8658202883183,
          479.56402782557825,
          479.45216829730754,
          479.42593047357417,
          479.2845152394334,
          479.2716611449012,
          479.0918887502666,
          478.67928913391063,
          478.2507477947379,
          478.01805581987173,
          477.7754020921163,
          477.61026769407016,
          477.3819513052682,
          476.8923415498291,
          476.67036717469637,
          476.4837512706405,
          476.3595884016205,
          476.02062625811897,
          475.46681919309475,
          474.6959014287417,
          473.5088876823946,
          472.3227908224668,
          471.02300001526424,
          469.75804486457804,
          468.5791314960895,
          467.14439292684006,
          465.5938866548631,
          464.7546128182515,
          463.8469415571561,
          463.35946075453495,
          462.79574465736437,
          461.61791647742655,
          460.75615595085014,
          460.16327098843317,
          459.41889525931833,
          458.84997309946925,
          458.8141960080055,
          459.0074721701374,
          460.0183478493519,
          460.8271691834016,
          461.979432343771,
          463.038367654428,
          463.5540227386913,
          463.9309109518422,
          463.7339276006311,
          463.9952960413975,
          464.0661202175407,
          464.4672361438882,
          464.41346116669365,
          464.459908009839,
          464.18404393772767,
          463.3522352706286,
          462.7513481377935,
          462.4593747458691,
          462.2250449003458,
          461.6997308213666,
          461.1661941036281,
          460.9230489237799,
          460.72851904310005,
          460.6384753844584,
          460.7601283812937,
          461.0994734773259,
          461.7844440416085,
          462.43925638320303,
          462.92458328701963,
          463.6869149061226,
          464.3421345669466,
          464.61459356125545,
          465.0908913768706,
          465.4435636970835,
          465.33459827252506,
          465.26940042610397,
          465.4328584646488,
          465.6188954582476,
          465.6939739716855,
          465.38602499181997,
          464.83238985934275,
          464.01332896154423,
          463.0810007768791,
          461.85884955698697,
          460.9179438206374,
          459.6382281728506,
          458.1982434173344,
          456.49820539856114,
          454.2263078298638,
          452.07754490420285,
          450.2430629623896,
          448.2501705834841,
          445.91137385534114,
          443.87192608644784,
          442.06726818803844,
          440.00670247594485,
          438.0200185989407,
          436.6009229072356,
          435.41094183437946,
          433.786850782315,
          432.43219993406234,
          431.23860777624293,
          429.42822846117167,
          427.53615976716617,
          426.11970880582356,
          425.46850670292497,
          425.0586250756017,
          425.3444495497354,
          426.0078695960257,
          426.20222553239677,
          427.2385511233377,
          427.95749713287205,
          428.6653909617785,
          428.36759868836805,
          428.41880352120273,
          428.51835951794703,
          428.96051016736175,
          429.6403551428989,
          429.8311171521085,
          429.9576335548426,
          429.9318156123649,
          429.89761961258205,
          429.7087604023227,
          429.7124757990685,
          429.70814759890334,
          429.75042227782484,
          429.8138017459421,
          430.0254423513772,
          430.344149408213,
          430.2127683390758,
          429.7921604550647,
          429.43173770234904,
          429.1755726228185,
          428.6195874552925,
          428.31914387029167,
          428.0377953846437,
          427.6380311747723,
          427.53845453829814,
          427.7870856468052,
          428.163931810357,
          428.19269961930894,
          428.41767800663297,
          428.93817347760404,
          428.8490919910647,
          428.5694612960381,
          428.51774438464196,
          428.51152801371376,
          428.8280506029391,
          429.25423116228603,
          429.7380749498387,
          430.2328404753782,
          430.4195550674244,
          430.81676103140063,
          430.9719412032136,
          431.04799773861964,
          431.1638529695591,
          431.3061226840157,
          431.3087663236029,
          431.30842747647694,
          431.3189782524486,
          431.31161277759657,
          431.2983878008201,
          431.33797859953046,
          431.355885515487,
          431.3011556058681,
          431.22270678193394,
          431.09623112359304,
          430.9870254485603,
          430.855320941322,
          430.7980356560712,
          430.55404657251347,
          430.2911205635645,
          429.8920989849233,
          429.45794946690813
         ]
        }
       ],
       "layout": {
        "shapes": [
         {
          "line": {
           "color": "gray",
           "width": 1
          },
          "type": "line",
          "x0": 47,
          "x1": 253,
          "y0": 415.9441512869428,
          "y1": 415.9441512869428
         },
         {
          "line": {
           "color": "gray",
           "width": 1
          },
          "type": "line",
          "x0": 123,
          "x1": 253,
          "y0": 381.9245319583339,
          "y1": 381.9245319583339
         },
         {
          "line": {
           "color": "gray",
           "width": 1
          },
          "type": "line",
          "x0": 165,
          "x1": 253,
          "y0": 369.52206305495616,
          "y1": 369.52206305495616
         },
         {
          "line": {
           "color": "violet",
           "width": 1
          },
          "type": "line",
          "x0": 54,
          "x1": 253,
          "y0": 452.87653246527395,
          "y1": 452.87653246527395
         },
         {
          "line": {
           "color": "violet",
           "width": 1
          },
          "type": "line",
          "x0": 92,
          "x1": 253,
          "y0": 458.2003569597553,
          "y1": 458.2003569597553
         },
         {
          "line": {
           "color": "violet",
           "width": 1
          },
          "type": "line",
          "x0": 161,
          "x1": 253,
          "y0": 389.0418979580837,
          "y1": 389.0418979580837
         },
         {
          "line": {
           "color": "violet",
           "width": 1
          },
          "type": "line",
          "x0": 188,
          "x1": 253,
          "y0": 429.963802202433,
          "y1": 429.963802202433
         },
         {
          "line": {
           "color": "violet",
           "width": 1
          },
          "type": "line",
          "x0": 206,
          "x1": 253,
          "y0": 410.0456273794545,
          "y1": 410.0456273794545
         }
        ],
        "template": {
         "data": {
          "bar": [
           {
            "error_x": {
             "color": "#2a3f5f"
            },
            "error_y": {
             "color": "#2a3f5f"
            },
            "marker": {
             "line": {
              "color": "#E5ECF6",
              "width": 0.5
             },
             "pattern": {
              "fillmode": "overlay",
              "size": 10,
              "solidity": 0.2
             }
            },
            "type": "bar"
           }
          ],
          "barpolar": [
           {
            "marker": {
             "line": {
              "color": "#E5ECF6",
              "width": 0.5
             },
             "pattern": {
              "fillmode": "overlay",
              "size": 10,
              "solidity": 0.2
             }
            },
            "type": "barpolar"
           }
          ],
          "carpet": [
           {
            "aaxis": {
             "endlinecolor": "#2a3f5f",
             "gridcolor": "white",
             "linecolor": "white",
             "minorgridcolor": "white",
             "startlinecolor": "#2a3f5f"
            },
            "baxis": {
             "endlinecolor": "#2a3f5f",
             "gridcolor": "white",
             "linecolor": "white",
             "minorgridcolor": "white",
             "startlinecolor": "#2a3f5f"
            },
            "type": "carpet"
           }
          ],
          "choropleth": [
           {
            "colorbar": {
             "outlinewidth": 0,
             "ticks": ""
            },
            "type": "choropleth"
           }
          ],
          "contour": [
           {
            "colorbar": {
             "outlinewidth": 0,
             "ticks": ""
            },
            "colorscale": [
             [
              0,
              "#0d0887"
             ],
             [
              0.1111111111111111,
              "#46039f"
             ],
             [
              0.2222222222222222,
              "#7201a8"
             ],
             [
              0.3333333333333333,
              "#9c179e"
             ],
             [
              0.4444444444444444,
              "#bd3786"
             ],
             [
              0.5555555555555556,
              "#d8576b"
             ],
             [
              0.6666666666666666,
              "#ed7953"
             ],
             [
              0.7777777777777778,
              "#fb9f3a"
             ],
             [
              0.8888888888888888,
              "#fdca26"
             ],
             [
              1,
              "#f0f921"
             ]
            ],
            "type": "contour"
           }
          ],
          "contourcarpet": [
           {
            "colorbar": {
             "outlinewidth": 0,
             "ticks": ""
            },
            "type": "contourcarpet"
           }
          ],
          "heatmap": [
           {
            "colorbar": {
             "outlinewidth": 0,
             "ticks": ""
            },
            "colorscale": [
             [
              0,
              "#0d0887"
             ],
             [
              0.1111111111111111,
              "#46039f"
             ],
             [
              0.2222222222222222,
              "#7201a8"
             ],
             [
              0.3333333333333333,
              "#9c179e"
             ],
             [
              0.4444444444444444,
              "#bd3786"
             ],
             [
              0.5555555555555556,
              "#d8576b"
             ],
             [
              0.6666666666666666,
              "#ed7953"
             ],
             [
              0.7777777777777778,
              "#fb9f3a"
             ],
             [
              0.8888888888888888,
              "#fdca26"
             ],
             [
              1,
              "#f0f921"
             ]
            ],
            "type": "heatmap"
           }
          ],
          "heatmapgl": [
           {
            "colorbar": {
             "outlinewidth": 0,
             "ticks": ""
            },
            "colorscale": [
             [
              0,
              "#0d0887"
             ],
             [
              0.1111111111111111,
              "#46039f"
             ],
             [
              0.2222222222222222,
              "#7201a8"
             ],
             [
              0.3333333333333333,
              "#9c179e"
             ],
             [
              0.4444444444444444,
              "#bd3786"
             ],
             [
              0.5555555555555556,
              "#d8576b"
             ],
             [
              0.6666666666666666,
              "#ed7953"
             ],
             [
              0.7777777777777778,
              "#fb9f3a"
             ],
             [
              0.8888888888888888,
              "#fdca26"
             ],
             [
              1,
              "#f0f921"
             ]
            ],
            "type": "heatmapgl"
           }
          ],
          "histogram": [
           {
            "marker": {
             "pattern": {
              "fillmode": "overlay",
              "size": 10,
              "solidity": 0.2
             }
            },
            "type": "histogram"
           }
          ],
          "histogram2d": [
           {
            "colorbar": {
             "outlinewidth": 0,
             "ticks": ""
            },
            "colorscale": [
             [
              0,
              "#0d0887"
             ],
             [
              0.1111111111111111,
              "#46039f"
             ],
             [
              0.2222222222222222,
              "#7201a8"
             ],
             [
              0.3333333333333333,
              "#9c179e"
             ],
             [
              0.4444444444444444,
              "#bd3786"
             ],
             [
              0.5555555555555556,
              "#d8576b"
             ],
             [
              0.6666666666666666,
              "#ed7953"
             ],
             [
              0.7777777777777778,
              "#fb9f3a"
             ],
             [
              0.8888888888888888,
              "#fdca26"
             ],
             [
              1,
              "#f0f921"
             ]
            ],
            "type": "histogram2d"
           }
          ],
          "histogram2dcontour": [
           {
            "colorbar": {
             "outlinewidth": 0,
             "ticks": ""
            },
            "colorscale": [
             [
              0,
              "#0d0887"
             ],
             [
              0.1111111111111111,
              "#46039f"
             ],
             [
              0.2222222222222222,
              "#7201a8"
             ],
             [
              0.3333333333333333,
              "#9c179e"
             ],
             [
              0.4444444444444444,
              "#bd3786"
             ],
             [
              0.5555555555555556,
              "#d8576b"
             ],
             [
              0.6666666666666666,
              "#ed7953"
             ],
             [
              0.7777777777777778,
              "#fb9f3a"
             ],
             [
              0.8888888888888888,
              "#fdca26"
             ],
             [
              1,
              "#f0f921"
             ]
            ],
            "type": "histogram2dcontour"
           }
          ],
          "mesh3d": [
           {
            "colorbar": {
             "outlinewidth": 0,
             "ticks": ""
            },
            "type": "mesh3d"
           }
          ],
          "parcoords": [
           {
            "line": {
             "colorbar": {
              "outlinewidth": 0,
              "ticks": ""
             }
            },
            "type": "parcoords"
           }
          ],
          "pie": [
           {
            "automargin": true,
            "type": "pie"
           }
          ],
          "scatter": [
           {
            "marker": {
             "colorbar": {
              "outlinewidth": 0,
              "ticks": ""
             }
            },
            "type": "scatter"
           }
          ],
          "scatter3d": [
           {
            "line": {
             "colorbar": {
              "outlinewidth": 0,
              "ticks": ""
             }
            },
            "marker": {
             "colorbar": {
              "outlinewidth": 0,
              "ticks": ""
             }
            },
            "type": "scatter3d"
           }
          ],
          "scattercarpet": [
           {
            "marker": {
             "colorbar": {
              "outlinewidth": 0,
              "ticks": ""
             }
            },
            "type": "scattercarpet"
           }
          ],
          "scattergeo": [
           {
            "marker": {
             "colorbar": {
              "outlinewidth": 0,
              "ticks": ""
             }
            },
            "type": "scattergeo"
           }
          ],
          "scattergl": [
           {
            "marker": {
             "colorbar": {
              "outlinewidth": 0,
              "ticks": ""
             }
            },
            "type": "scattergl"
           }
          ],
          "scattermapbox": [
           {
            "marker": {
             "colorbar": {
              "outlinewidth": 0,
              "ticks": ""
             }
            },
            "type": "scattermapbox"
           }
          ],
          "scatterpolar": [
           {
            "marker": {
             "colorbar": {
              "outlinewidth": 0,
              "ticks": ""
             }
            },
            "type": "scatterpolar"
           }
          ],
          "scatterpolargl": [
           {
            "marker": {
             "colorbar": {
              "outlinewidth": 0,
              "ticks": ""
             }
            },
            "type": "scatterpolargl"
           }
          ],
          "scatterternary": [
           {
            "marker": {
             "colorbar": {
              "outlinewidth": 0,
              "ticks": ""
             }
            },
            "type": "scatterternary"
           }
          ],
          "surface": [
           {
            "colorbar": {
             "outlinewidth": 0,
             "ticks": ""
            },
            "colorscale": [
             [
              0,
              "#0d0887"
             ],
             [
              0.1111111111111111,
              "#46039f"
             ],
             [
              0.2222222222222222,
              "#7201a8"
             ],
             [
              0.3333333333333333,
              "#9c179e"
             ],
             [
              0.4444444444444444,
              "#bd3786"
             ],
             [
              0.5555555555555556,
              "#d8576b"
             ],
             [
              0.6666666666666666,
              "#ed7953"
             ],
             [
              0.7777777777777778,
              "#fb9f3a"
             ],
             [
              0.8888888888888888,
              "#fdca26"
             ],
             [
              1,
              "#f0f921"
             ]
            ],
            "type": "surface"
           }
          ],
          "table": [
           {
            "cells": {
             "fill": {
              "color": "#EBF0F8"
             },
             "line": {
              "color": "white"
             }
            },
            "header": {
             "fill": {
              "color": "#C8D4E3"
             },
             "line": {
              "color": "white"
             }
            },
            "type": "table"
           }
          ]
         },
         "layout": {
          "annotationdefaults": {
           "arrowcolor": "#2a3f5f",
           "arrowhead": 0,
           "arrowwidth": 1
          },
          "autotypenumbers": "strict",
          "coloraxis": {
           "colorbar": {
            "outlinewidth": 0,
            "ticks": ""
           }
          },
          "colorscale": {
           "diverging": [
            [
             0,
             "#8e0152"
            ],
            [
             0.1,
             "#c51b7d"
            ],
            [
             0.2,
             "#de77ae"
            ],
            [
             0.3,
             "#f1b6da"
            ],
            [
             0.4,
             "#fde0ef"
            ],
            [
             0.5,
             "#f7f7f7"
            ],
            [
             0.6,
             "#e6f5d0"
            ],
            [
             0.7,
             "#b8e186"
            ],
            [
             0.8,
             "#7fbc41"
            ],
            [
             0.9,
             "#4d9221"
            ],
            [
             1,
             "#276419"
            ]
           ],
           "sequential": [
            [
             0,
             "#0d0887"
            ],
            [
             0.1111111111111111,
             "#46039f"
            ],
            [
             0.2222222222222222,
             "#7201a8"
            ],
            [
             0.3333333333333333,
             "#9c179e"
            ],
            [
             0.4444444444444444,
             "#bd3786"
            ],
            [
             0.5555555555555556,
             "#d8576b"
            ],
            [
             0.6666666666666666,
             "#ed7953"
            ],
            [
             0.7777777777777778,
             "#fb9f3a"
            ],
            [
             0.8888888888888888,
             "#fdca26"
            ],
            [
             1,
             "#f0f921"
            ]
           ],
           "sequentialminus": [
            [
             0,
             "#0d0887"
            ],
            [
             0.1111111111111111,
             "#46039f"
            ],
            [
             0.2222222222222222,
             "#7201a8"
            ],
            [
             0.3333333333333333,
             "#9c179e"
            ],
            [
             0.4444444444444444,
             "#bd3786"
            ],
            [
             0.5555555555555556,
             "#d8576b"
            ],
            [
             0.6666666666666666,
             "#ed7953"
            ],
            [
             0.7777777777777778,
             "#fb9f3a"
            ],
            [
             0.8888888888888888,
             "#fdca26"
            ],
            [
             1,
             "#f0f921"
            ]
           ]
          },
          "colorway": [
           "#636efa",
           "#EF553B",
           "#00cc96",
           "#ab63fa",
           "#FFA15A",
           "#19d3f3",
           "#FF6692",
           "#B6E880",
           "#FF97FF",
           "#FECB52"
          ],
          "font": {
           "color": "#2a3f5f"
          },
          "geo": {
           "bgcolor": "white",
           "lakecolor": "white",
           "landcolor": "#E5ECF6",
           "showlakes": true,
           "showland": true,
           "subunitcolor": "white"
          },
          "hoverlabel": {
           "align": "left"
          },
          "hovermode": "closest",
          "mapbox": {
           "style": "light"
          },
          "paper_bgcolor": "white",
          "plot_bgcolor": "#E5ECF6",
          "polar": {
           "angularaxis": {
            "gridcolor": "white",
            "linecolor": "white",
            "ticks": ""
           },
           "bgcolor": "#E5ECF6",
           "radialaxis": {
            "gridcolor": "white",
            "linecolor": "white",
            "ticks": ""
           }
          },
          "scene": {
           "xaxis": {
            "backgroundcolor": "#E5ECF6",
            "gridcolor": "white",
            "gridwidth": 2,
            "linecolor": "white",
            "showbackground": true,
            "ticks": "",
            "zerolinecolor": "white"
           },
           "yaxis": {
            "backgroundcolor": "#E5ECF6",
            "gridcolor": "white",
            "gridwidth": 2,
            "linecolor": "white",
            "showbackground": true,
            "ticks": "",
            "zerolinecolor": "white"
           },
           "zaxis": {
            "backgroundcolor": "#E5ECF6",
            "gridcolor": "white",
            "gridwidth": 2,
            "linecolor": "white",
            "showbackground": true,
            "ticks": "",
            "zerolinecolor": "white"
           }
          },
          "shapedefaults": {
           "line": {
            "color": "#2a3f5f"
           }
          },
          "ternary": {
           "aaxis": {
            "gridcolor": "white",
            "linecolor": "white",
            "ticks": ""
           },
           "baxis": {
            "gridcolor": "white",
            "linecolor": "white",
            "ticks": ""
           },
           "bgcolor": "#E5ECF6",
           "caxis": {
            "gridcolor": "white",
            "linecolor": "white",
            "ticks": ""
           }
          },
          "title": {
           "x": 0.05
          },
          "xaxis": {
           "automargin": true,
           "gridcolor": "white",
           "linecolor": "white",
           "ticks": "",
           "title": {
            "standoff": 15
           },
           "zerolinecolor": "white",
           "zerolinewidth": 2
          },
          "yaxis": {
           "automargin": true,
           "gridcolor": "white",
           "linecolor": "white",
           "ticks": "",
           "title": {
            "standoff": 15
           },
           "zerolinecolor": "white",
           "zerolinewidth": 2
          }
         }
        }
       }
      }
     },
     "metadata": {},
     "output_type": "display_data"
    }
   ],
   "source": [
    "s = 0\n",
    "e = (len(data.index) + 1)\n",
    "dfpl = sr_df[s:e]\n",
    "import plotly.graph_objects as go\n",
    "from datetime import datetime\n",
    "import matplotlib.pyplot as plt\n",
    "\n",
    "fig = go.Figure(data=[go.Candlestick(x=dfpl.index,\n",
    "                open=dfpl['Open'],\n",
    "                high=dfpl['High'],\n",
    "                low=dfpl['Low'],\n",
    "                close=dfpl['Close'])])\n",
    "\n",
    "fig.add_trace(go.Scatter(\n",
    "    x=data.index,\n",
    "    y=data['SMA'],\n",
    "    mode=\"lines\",\n",
    "    name=\"SMA\",\n",
    "    line_color=\"yellow\", \n",
    "))\n",
    "\n",
    "fig.add_trace(go.Scatter(\n",
    "    x=data.index,\n",
    "    y=data['Lower'],\n",
    "    mode=\"lines\",\n",
    "    name=\"Lower Bound\",\n",
    "    line_color=\"Black\", \n",
    "    \n",
    "))\n",
    "\n",
    "fig.add_trace(go.Scatter(\n",
    "    x=data.index,\n",
    "    y=data['Upper'],\n",
    "    mode=\"lines\",\n",
    "    name=\"Upper Bound\",\n",
    "    line_color=\"Purple\"\n",
    "))\n",
    "\n",
    "c=0\n",
    "while (1):\n",
    "    if(c>len(ss)-1 ):\n",
    "        break\n",
    "    fig.add_shape(type='line', x0=ss[c][0], y0=ss[c][1],\n",
    "                  x1=e,\n",
    "                  y1=ss[c][1],\n",
    "                  line=dict(color=\"gray\",width=1)\n",
    "                  )\n",
    "    c+=1\n",
    "\n",
    "c=0\n",
    "while (1):\n",
    "    if(c>len(rr)-1 ):\n",
    "        break\n",
    "    fig.add_shape(type='line', x0=rr[c][0], y0=rr[c][1],\n",
    "                  x1=e,\n",
    "                  y1=rr[c][1],\n",
    "                  line=dict(color=\"violet\",width=1)\n",
    "                  )\n",
    "    c+=1    \n",
    "\n",
    "# fig.add_shape(go.Scatter(\n",
    "#     x=(data[data[\"position\"]==1].index),\n",
    "#     y=data['Close'],\n",
    "#     text=\"dot\",\n",
    "# ))\n",
    "    \n",
    "fig.show()"
   ]
  }
 ],
 "metadata": {
  "kernelspec": {
   "display_name": "Python 3.7.13 ('algotrading')",
   "language": "python",
   "name": "python3"
  },
  "language_info": {
   "codemirror_mode": {
    "name": "ipython",
    "version": 3
   },
   "file_extension": ".py",
   "mimetype": "text/x-python",
   "name": "python",
   "nbconvert_exporter": "python",
   "pygments_lexer": "ipython3",
   "version": "3.7.13"
  },
  "vscode": {
   "interpreter": {
    "hash": "d5d0b5e87294bee24eb987e4f842da484a54bbd23c069dfd5155a6ebb089ee5d"
   }
  }
 },
 "nbformat": 4,
 "nbformat_minor": 5
}
