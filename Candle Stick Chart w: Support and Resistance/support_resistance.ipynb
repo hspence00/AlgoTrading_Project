{
 "cells": [
  {
   "cell_type": "code",
   "execution_count": 1,
   "id": "c81d8810-d393-4df6-9783-9e77f3d9c6a0",
   "metadata": {},
   "outputs": [],
   "source": [
    "import pandas as pd\n",
    "import yfinance as yf"
   ]
  },
  {
   "cell_type": "code",
   "execution_count": 136,
   "id": "3b83be16-eff9-4694-bc96-7a85e118e972",
   "metadata": {},
   "outputs": [
    {
     "name": "stdout",
     "output_type": "stream",
     "text": [
      "[*********************100%***********************]  1 of 1 completed\n"
     ]
    },
    {
     "data": {
      "text/html": [
       "<div>\n",
       "<style scoped>\n",
       "    .dataframe tbody tr th:only-of-type {\n",
       "        vertical-align: middle;\n",
       "    }\n",
       "\n",
       "    .dataframe tbody tr th {\n",
       "        vertical-align: top;\n",
       "    }\n",
       "\n",
       "    .dataframe thead th {\n",
       "        text-align: right;\n",
       "    }\n",
       "</style>\n",
       "<table border=\"1\" class=\"dataframe\">\n",
       "  <thead>\n",
       "    <tr style=\"text-align: right;\">\n",
       "      <th></th>\n",
       "      <th>Open</th>\n",
       "      <th>High</th>\n",
       "      <th>Low</th>\n",
       "      <th>Close</th>\n",
       "      <th>Volume</th>\n",
       "    </tr>\n",
       "    <tr>\n",
       "      <th>Date</th>\n",
       "      <th></th>\n",
       "      <th></th>\n",
       "      <th></th>\n",
       "      <th></th>\n",
       "      <th></th>\n",
       "    </tr>\n",
       "  </thead>\n",
       "  <tbody>\n",
       "    <tr>\n",
       "      <th>2022-10-25</th>\n",
       "      <td>378.790009</td>\n",
       "      <td>385.250000</td>\n",
       "      <td>378.670013</td>\n",
       "      <td>384.920013</td>\n",
       "      <td>78846300</td>\n",
       "    </tr>\n",
       "    <tr>\n",
       "      <th>2022-10-26</th>\n",
       "      <td>381.619995</td>\n",
       "      <td>387.579987</td>\n",
       "      <td>381.350006</td>\n",
       "      <td>382.019989</td>\n",
       "      <td>104087300</td>\n",
       "    </tr>\n",
       "    <tr>\n",
       "      <th>2022-10-27</th>\n",
       "      <td>383.070007</td>\n",
       "      <td>385.000000</td>\n",
       "      <td>379.329987</td>\n",
       "      <td>379.980011</td>\n",
       "      <td>81971800</td>\n",
       "    </tr>\n",
       "    <tr>\n",
       "      <th>2022-10-28</th>\n",
       "      <td>379.869995</td>\n",
       "      <td>389.519989</td>\n",
       "      <td>379.679993</td>\n",
       "      <td>389.019989</td>\n",
       "      <td>100302000</td>\n",
       "    </tr>\n",
       "    <tr>\n",
       "      <th>2022-10-31</th>\n",
       "      <td>386.440002</td>\n",
       "      <td>388.399994</td>\n",
       "      <td>385.260010</td>\n",
       "      <td>386.209991</td>\n",
       "      <td>96631300</td>\n",
       "    </tr>\n",
       "    <tr>\n",
       "      <th>2022-11-01</th>\n",
       "      <td>390.140015</td>\n",
       "      <td>390.390015</td>\n",
       "      <td>383.290009</td>\n",
       "      <td>384.519989</td>\n",
       "      <td>85407600</td>\n",
       "    </tr>\n",
       "    <tr>\n",
       "      <th>2022-11-02</th>\n",
       "      <td>383.899994</td>\n",
       "      <td>388.630005</td>\n",
       "      <td>374.760010</td>\n",
       "      <td>374.869995</td>\n",
       "      <td>126990400</td>\n",
       "    </tr>\n",
       "    <tr>\n",
       "      <th>2022-11-03</th>\n",
       "      <td>371.470001</td>\n",
       "      <td>374.200012</td>\n",
       "      <td>368.790009</td>\n",
       "      <td>371.010010</td>\n",
       "      <td>87100100</td>\n",
       "    </tr>\n",
       "    <tr>\n",
       "      <th>2022-11-04</th>\n",
       "      <td>377.000000</td>\n",
       "      <td>378.869995</td>\n",
       "      <td>370.000000</td>\n",
       "      <td>376.350006</td>\n",
       "      <td>103449600</td>\n",
       "    </tr>\n",
       "    <tr>\n",
       "      <th>2022-11-07</th>\n",
       "      <td>377.709991</td>\n",
       "      <td>380.570007</td>\n",
       "      <td>375.529999</td>\n",
       "      <td>379.950012</td>\n",
       "      <td>68116400</td>\n",
       "    </tr>\n",
       "  </tbody>\n",
       "</table>\n",
       "</div>"
      ],
      "text/plain": [
       "                  Open        High         Low       Close     Volume\n",
       "Date                                                                 \n",
       "2022-10-25  378.790009  385.250000  378.670013  384.920013   78846300\n",
       "2022-10-26  381.619995  387.579987  381.350006  382.019989  104087300\n",
       "2022-10-27  383.070007  385.000000  379.329987  379.980011   81971800\n",
       "2022-10-28  379.869995  389.519989  379.679993  389.019989  100302000\n",
       "2022-10-31  386.440002  388.399994  385.260010  386.209991   96631300\n",
       "2022-11-01  390.140015  390.390015  383.290009  384.519989   85407600\n",
       "2022-11-02  383.899994  388.630005  374.760010  374.869995  126990400\n",
       "2022-11-03  371.470001  374.200012  368.790009  371.010010   87100100\n",
       "2022-11-04  377.000000  378.869995  370.000000  376.350006  103449600\n",
       "2022-11-07  377.709991  380.570007  375.529999  379.950012   68116400"
      ]
     },
     "execution_count": 136,
     "metadata": {},
     "output_type": "execute_result"
    }
   ],
   "source": [
    "ticker = ['SPY'] #Change ticker symbol to review any instrument in yahoo finance \n",
    "df =yf.download(ticker, interval = '1D',auto_adjust=True, period=\"1Y\")\n",
    "#2 min data only available in last 60 days \n",
    "\n",
    "# df = df.drop(columns = ['Volume', 'Open', 'High', 'Low', 'Adj Close'])\n",
    "df.tail(10)"
   ]
  },
  {
   "cell_type": "code",
   "execution_count": 137,
   "id": "20b0b03c-c66e-4c69-b68e-01be5a83cd71",
   "metadata": {},
   "outputs": [],
   "source": [
    "sr_df = df.copy()\n",
    "sr_df.to_csv('data.csv')"
   ]
  },
  {
   "cell_type": "code",
   "execution_count": 138,
   "id": "ded84ac4-3e44-4db6-b9b9-137bd040157d",
   "metadata": {},
   "outputs": [
    {
     "data": {
      "text/html": [
       "<div>\n",
       "<style scoped>\n",
       "    .dataframe tbody tr th:only-of-type {\n",
       "        vertical-align: middle;\n",
       "    }\n",
       "\n",
       "    .dataframe tbody tr th {\n",
       "        vertical-align: top;\n",
       "    }\n",
       "\n",
       "    .dataframe thead th {\n",
       "        text-align: right;\n",
       "    }\n",
       "</style>\n",
       "<table border=\"1\" class=\"dataframe\">\n",
       "  <thead>\n",
       "    <tr style=\"text-align: right;\">\n",
       "      <th></th>\n",
       "      <th>Open</th>\n",
       "      <th>High</th>\n",
       "      <th>Low</th>\n",
       "      <th>Close</th>\n",
       "      <th>Volume</th>\n",
       "    </tr>\n",
       "    <tr>\n",
       "      <th>Date</th>\n",
       "      <th></th>\n",
       "      <th></th>\n",
       "      <th></th>\n",
       "      <th></th>\n",
       "      <th></th>\n",
       "    </tr>\n",
       "  </thead>\n",
       "  <tbody>\n",
       "    <tr>\n",
       "      <th>2022-10-25</th>\n",
       "      <td>378.790009</td>\n",
       "      <td>385.250000</td>\n",
       "      <td>378.670013</td>\n",
       "      <td>384.920013</td>\n",
       "      <td>78846300</td>\n",
       "    </tr>\n",
       "    <tr>\n",
       "      <th>2022-10-26</th>\n",
       "      <td>381.619995</td>\n",
       "      <td>387.579987</td>\n",
       "      <td>381.350006</td>\n",
       "      <td>382.019989</td>\n",
       "      <td>104087300</td>\n",
       "    </tr>\n",
       "    <tr>\n",
       "      <th>2022-10-27</th>\n",
       "      <td>383.070007</td>\n",
       "      <td>385.000000</td>\n",
       "      <td>379.329987</td>\n",
       "      <td>379.980011</td>\n",
       "      <td>81971800</td>\n",
       "    </tr>\n",
       "    <tr>\n",
       "      <th>2022-10-28</th>\n",
       "      <td>379.869995</td>\n",
       "      <td>389.519989</td>\n",
       "      <td>379.679993</td>\n",
       "      <td>389.019989</td>\n",
       "      <td>100302000</td>\n",
       "    </tr>\n",
       "    <tr>\n",
       "      <th>2022-10-31</th>\n",
       "      <td>386.440002</td>\n",
       "      <td>388.399994</td>\n",
       "      <td>385.260010</td>\n",
       "      <td>386.209991</td>\n",
       "      <td>96631300</td>\n",
       "    </tr>\n",
       "    <tr>\n",
       "      <th>2022-11-01</th>\n",
       "      <td>390.140015</td>\n",
       "      <td>390.390015</td>\n",
       "      <td>383.290009</td>\n",
       "      <td>384.519989</td>\n",
       "      <td>85407600</td>\n",
       "    </tr>\n",
       "    <tr>\n",
       "      <th>2022-11-02</th>\n",
       "      <td>383.899994</td>\n",
       "      <td>388.630005</td>\n",
       "      <td>374.760010</td>\n",
       "      <td>374.869995</td>\n",
       "      <td>126990400</td>\n",
       "    </tr>\n",
       "    <tr>\n",
       "      <th>2022-11-03</th>\n",
       "      <td>371.470001</td>\n",
       "      <td>374.200012</td>\n",
       "      <td>368.790009</td>\n",
       "      <td>371.010010</td>\n",
       "      <td>87100100</td>\n",
       "    </tr>\n",
       "    <tr>\n",
       "      <th>2022-11-04</th>\n",
       "      <td>377.000000</td>\n",
       "      <td>378.869995</td>\n",
       "      <td>370.000000</td>\n",
       "      <td>376.350006</td>\n",
       "      <td>103449600</td>\n",
       "    </tr>\n",
       "    <tr>\n",
       "      <th>2022-11-07</th>\n",
       "      <td>377.709991</td>\n",
       "      <td>380.570007</td>\n",
       "      <td>375.529999</td>\n",
       "      <td>379.950012</td>\n",
       "      <td>68116400</td>\n",
       "    </tr>\n",
       "  </tbody>\n",
       "</table>\n",
       "</div>"
      ],
      "text/plain": [
       "                  Open        High         Low       Close     Volume\n",
       "Date                                                                 \n",
       "2022-10-25  378.790009  385.250000  378.670013  384.920013   78846300\n",
       "2022-10-26  381.619995  387.579987  381.350006  382.019989  104087300\n",
       "2022-10-27  383.070007  385.000000  379.329987  379.980011   81971800\n",
       "2022-10-28  379.869995  389.519989  379.679993  389.019989  100302000\n",
       "2022-10-31  386.440002  388.399994  385.260010  386.209991   96631300\n",
       "2022-11-01  390.140015  390.390015  383.290009  384.519989   85407600\n",
       "2022-11-02  383.899994  388.630005  374.760010  374.869995  126990400\n",
       "2022-11-03  371.470001  374.200012  368.790009  371.010010   87100100\n",
       "2022-11-04  377.000000  378.869995  370.000000  376.350006  103449600\n",
       "2022-11-07  377.709991  380.570007  375.529999  379.950012   68116400"
      ]
     },
     "execution_count": 138,
     "metadata": {},
     "output_type": "execute_result"
    }
   ],
   "source": [
    "sr_df.tail(10)"
   ]
  },
  {
   "cell_type": "code",
   "execution_count": 139,
   "id": "c1b225fb-a513-4d96-98d3-c295c917092b",
   "metadata": {},
   "outputs": [
    {
     "data": {
      "text/html": [
       "<div>\n",
       "<style scoped>\n",
       "    .dataframe tbody tr th:only-of-type {\n",
       "        vertical-align: middle;\n",
       "    }\n",
       "\n",
       "    .dataframe tbody tr th {\n",
       "        vertical-align: top;\n",
       "    }\n",
       "\n",
       "    .dataframe thead th {\n",
       "        text-align: right;\n",
       "    }\n",
       "</style>\n",
       "<table border=\"1\" class=\"dataframe\">\n",
       "  <thead>\n",
       "    <tr style=\"text-align: right;\">\n",
       "      <th></th>\n",
       "      <th>Open</th>\n",
       "      <th>High</th>\n",
       "      <th>Low</th>\n",
       "      <th>Close</th>\n",
       "      <th>Volume</th>\n",
       "    </tr>\n",
       "  </thead>\n",
       "  <tbody>\n",
       "    <tr>\n",
       "      <th>247</th>\n",
       "      <td>390.140015</td>\n",
       "      <td>390.390015</td>\n",
       "      <td>383.290009</td>\n",
       "      <td>384.519989</td>\n",
       "      <td>85407600</td>\n",
       "    </tr>\n",
       "    <tr>\n",
       "      <th>248</th>\n",
       "      <td>383.899994</td>\n",
       "      <td>388.630005</td>\n",
       "      <td>374.760010</td>\n",
       "      <td>374.869995</td>\n",
       "      <td>126990400</td>\n",
       "    </tr>\n",
       "    <tr>\n",
       "      <th>249</th>\n",
       "      <td>371.470001</td>\n",
       "      <td>374.200012</td>\n",
       "      <td>368.790009</td>\n",
       "      <td>371.010010</td>\n",
       "      <td>87100100</td>\n",
       "    </tr>\n",
       "    <tr>\n",
       "      <th>250</th>\n",
       "      <td>377.000000</td>\n",
       "      <td>378.869995</td>\n",
       "      <td>370.000000</td>\n",
       "      <td>376.350006</td>\n",
       "      <td>103449600</td>\n",
       "    </tr>\n",
       "    <tr>\n",
       "      <th>251</th>\n",
       "      <td>377.709991</td>\n",
       "      <td>380.570007</td>\n",
       "      <td>375.529999</td>\n",
       "      <td>379.950012</td>\n",
       "      <td>68116400</td>\n",
       "    </tr>\n",
       "  </tbody>\n",
       "</table>\n",
       "</div>"
      ],
      "text/plain": [
       "           Open        High         Low       Close     Volume\n",
       "247  390.140015  390.390015  383.290009  384.519989   85407600\n",
       "248  383.899994  388.630005  374.760010  374.869995  126990400\n",
       "249  371.470001  374.200012  368.790009  371.010010   87100100\n",
       "250  377.000000  378.869995  370.000000  376.350006  103449600\n",
       "251  377.709991  380.570007  375.529999  379.950012   68116400"
      ]
     },
     "execution_count": 139,
     "metadata": {},
     "output_type": "execute_result"
    }
   ],
   "source": [
    "#Check if NA values are in data\n",
    "sr_df=sr_df[sr_df['Volume']!=0]\n",
    "sr_df.reset_index(drop=True, inplace=True)\n",
    "sr_df.isna().sum()\n",
    "sr_df.tail()"
   ]
  },
  {
   "cell_type": "code",
   "execution_count": 140,
   "id": "b5745394-18ae-4eec-8bbf-e099ae161ad6",
   "metadata": {},
   "outputs": [],
   "source": [
    "def support(df1, l, n1, n2): #n1 n2 before and after candle l\n",
    "    for i in range(l-n1+1, l+1):\n",
    "        if(df1.Low[i]>df1.Low[i-1]):\n",
    "            return 0\n",
    "    for i in range(l+1,l+n2+1):\n",
    "        if(df1.Low[i]<df1.Low[i-1]):\n",
    "            return 0\n",
    "    return 1\n",
    "\n",
    "#support(df,46,3,2)\n",
    "\n",
    "def resistance(df1, l, n1, n2): #n1 n2 before and after candle l\n",
    "    for i in range(l-n1+1, l+1):\n",
    "        if(df1.High[i]<df1.High[i-1]):\n",
    "            return 0\n",
    "    for i in range(l+1,l+n2+1):\n",
    "        if(df1.High[i]>df1.High[i-1]):\n",
    "            return 0\n",
    "    return 1\n",
    "#resistance(df, 30, 3, 5)"
   ]
  },
  {
   "cell_type": "code",
   "execution_count": 141,
   "id": "e7a520a2-5a1b-40c6-a72d-4c37f05cd926",
   "metadata": {},
   "outputs": [
    {
     "data": {
      "application/vnd.plotly.v1+json": {
       "config": {
        "plotlyServerURL": "https://plot.ly"
       },
       "data": [
        {
         "close": [
          461.93988037109375,
          460.4129943847656,
          456.7090759277344,
          456.8568115234375,
          460.30462646484375,
          460.4622497558594,
          462.28466796875,
          461.16168212890625,
          462.72802734375,
          461.9005126953125,
          460.6001892089844,
          461.2109069824219,
          462.4422912597656,
          452.12835693359375,
          457.6744384765625,
          448.7691955566406,
          443.78460693359375,
          450.5817565917969,
          446.6611022949219,
          451.9510803222656,
          461.2995910644531,
          462.5211181640625,
          459.39837646484375,
          463.7229309082031,
          459.6150817871094,
          456.4529113769531,
          463.5849914550781,
          459.49688720703125,
          454.6064758300781,
          449.7724914550781,
          457.760009765625,
          462.3370056152344,
          465.21368408203125,
          471.7974548339844,
          471.4118957519531,
          472.01495361328125,
          470.7100524902344,
          469.5238037109375,
          472.2423095703125,
          472.0841064453125,
          463.01910400390625,
          462.5841369628906,
          460.75531005859375,
          460.18194580078125,
          464.3734436035156,
          465.6288757324219,
          459.213134765625,
          459.4010009765625,
          451.2651672363281,
          446.57940673828125
         ],
         "high": [
          463.22051993826574,
          462.57035150578884,
          460.4130373694832,
          458.35417291583184,
          460.8858280192206,
          461.8216836025759,
          463.476622664264,
          462.1960182712331,
          463.0038523491198,
          463.919942376069,
          466.4811987877852,
          462.1073456337604,
          462.5703582237442,
          456.9848605880097,
          459.6052132868019,
          457.11293876181486,
          457.7433945901328,
          452.2268759486868,
          453.43852023575164,
          453.9212674314211,
          461.89065318734845,
          462.99397389613455,
          462.62948205998595,
          463.88054948467556,
          463.5455952344251,
          458.7974387254398,
          463.8410953138141,
          465.8211708085714,
          459.4207305999944,
          450.1876674085448,
          457.9082868957625,
          462.45562731524785,
          466.78548188150756,
          471.8468704837619,
          473.32969355435415,
          473.08257906373285,
          473.51754328114333,
          471.40205109462113,
          472.3807216657983,
          474.48631638605656,
          472.5092320583563,
          465.43117839173607,
          463.8297298859487,
          460.4092939939143,
          464.47230508019663,
          467.78394722040724,
          467.46756932998835,
          459.76676127684203,
          454.6954520501679,
          454.3494290853147
         ],
         "low": [
          461.2207813676723,
          458.93535416832054,
          455.15264131534184,
          456.83712047557333,
          457.19172741394357,
          459.28015558764304,
          460.10761979136737,
          460.51151681616716,
          459.38854561116045,
          461.5163117943677,
          460.3834674297967,
          457.52666708172603,
          458.2556439190348,
          450.9462327293489,
          454.8472249887594,
          448.51306162481666,
          443.57774572304714,
          443.5974473509027,
          442.2281816015183,
          446.7990302092631,
          451.8131356831209,
          459.87121407866465,
          459.19151523985863,
          459.5560044066399,
          459.31953569933046,
          453.3892850109791,
          453.87195424054596,
          457.8714588390697,
          452.81719490262014,
          445.9764461819522,
          451.0872673948548,
          457.2854769888965,
          463.2761259992427,
          466.607544539395,
          470.6111691628179,
          470.4728112024703,
          470.2256705027333,
          469.23714464735207,
          468.42650410269573,
          470.1366532158194,
          462.92024253253254,
          460.1028558261161,
          459.331789329575,
          451.37392290910174,
          456.76156242338106,
          463.57269588491556,
          458.13561418240937,
          454.6361615385267,
          450.0986803394288,
          446.2927175430621
         ],
         "open": [
          462.698421594101,
          462.32407813638133,
          458.63985090660196,
          458.27534859903824,
          458.1866814636852,
          461.6542345418459,
          460.18641404234324,
          462.008848102596,
          462.2453110373495,
          462.6097511659769,
          463.87070694484504,
          460.25536512881183,
          459.11267044699287,
          455.4481171600917,
          457.15234013278007,
          455.11320014550046,
          454.7585625872926,
          444.01119984453203,
          452.3253898476043,
          449.3307278595685,
          457.4872839626471,
          461.71336429127695,
          461.1715328043396,
          462.23546008133275,
          463.1811154492322,
          456.18694695355384,
          456.51202757900575,
          465.5256547758522,
          456.2672398674505,
          449.27821425542703,
          453.3609305057284,
          457.49309513220595,
          463.3848524971854,
          466.6569601891726,
          472.25217296117563,
          471.520676426014,
          472.45978286474065,
          470.1960436513577,
          470.84844425912456,
          473.7350054442367,
          471.69861022869173,
          462.53472131142144,
          462.5940369036953,
          457.4041104866488,
          459.90518843943073,
          466.1923589724666,
          466.78546443913797,
          455.911405158876,
          454.4779688856371,
          452.88638802340296
         ],
         "type": "candlestick",
         "x": [
          0,
          1,
          2,
          3,
          4,
          5,
          6,
          7,
          8,
          9,
          10,
          11,
          12,
          13,
          14,
          15,
          16,
          17,
          18,
          19,
          20,
          21,
          22,
          23,
          24,
          25,
          26,
          27,
          28,
          29,
          30,
          31,
          32,
          33,
          34,
          35,
          36,
          37,
          38,
          39,
          40,
          41,
          42,
          43,
          44,
          45,
          46,
          47,
          48,
          49
         ]
        }
       ],
       "layout": {
        "autosize": true,
        "template": {
         "data": {
          "bar": [
           {
            "error_x": {
             "color": "#2a3f5f"
            },
            "error_y": {
             "color": "#2a3f5f"
            },
            "marker": {
             "line": {
              "color": "#E5ECF6",
              "width": 0.5
             },
             "pattern": {
              "fillmode": "overlay",
              "size": 10,
              "solidity": 0.2
             }
            },
            "type": "bar"
           }
          ],
          "barpolar": [
           {
            "marker": {
             "line": {
              "color": "#E5ECF6",
              "width": 0.5
             },
             "pattern": {
              "fillmode": "overlay",
              "size": 10,
              "solidity": 0.2
             }
            },
            "type": "barpolar"
           }
          ],
          "carpet": [
           {
            "aaxis": {
             "endlinecolor": "#2a3f5f",
             "gridcolor": "white",
             "linecolor": "white",
             "minorgridcolor": "white",
             "startlinecolor": "#2a3f5f"
            },
            "baxis": {
             "endlinecolor": "#2a3f5f",
             "gridcolor": "white",
             "linecolor": "white",
             "minorgridcolor": "white",
             "startlinecolor": "#2a3f5f"
            },
            "type": "carpet"
           }
          ],
          "choropleth": [
           {
            "colorbar": {
             "outlinewidth": 0,
             "ticks": ""
            },
            "type": "choropleth"
           }
          ],
          "contour": [
           {
            "colorbar": {
             "outlinewidth": 0,
             "ticks": ""
            },
            "colorscale": [
             [
              0,
              "#0d0887"
             ],
             [
              0.1111111111111111,
              "#46039f"
             ],
             [
              0.2222222222222222,
              "#7201a8"
             ],
             [
              0.3333333333333333,
              "#9c179e"
             ],
             [
              0.4444444444444444,
              "#bd3786"
             ],
             [
              0.5555555555555556,
              "#d8576b"
             ],
             [
              0.6666666666666666,
              "#ed7953"
             ],
             [
              0.7777777777777778,
              "#fb9f3a"
             ],
             [
              0.8888888888888888,
              "#fdca26"
             ],
             [
              1,
              "#f0f921"
             ]
            ],
            "type": "contour"
           }
          ],
          "contourcarpet": [
           {
            "colorbar": {
             "outlinewidth": 0,
             "ticks": ""
            },
            "type": "contourcarpet"
           }
          ],
          "heatmap": [
           {
            "colorbar": {
             "outlinewidth": 0,
             "ticks": ""
            },
            "colorscale": [
             [
              0,
              "#0d0887"
             ],
             [
              0.1111111111111111,
              "#46039f"
             ],
             [
              0.2222222222222222,
              "#7201a8"
             ],
             [
              0.3333333333333333,
              "#9c179e"
             ],
             [
              0.4444444444444444,
              "#bd3786"
             ],
             [
              0.5555555555555556,
              "#d8576b"
             ],
             [
              0.6666666666666666,
              "#ed7953"
             ],
             [
              0.7777777777777778,
              "#fb9f3a"
             ],
             [
              0.8888888888888888,
              "#fdca26"
             ],
             [
              1,
              "#f0f921"
             ]
            ],
            "type": "heatmap"
           }
          ],
          "heatmapgl": [
           {
            "colorbar": {
             "outlinewidth": 0,
             "ticks": ""
            },
            "colorscale": [
             [
              0,
              "#0d0887"
             ],
             [
              0.1111111111111111,
              "#46039f"
             ],
             [
              0.2222222222222222,
              "#7201a8"
             ],
             [
              0.3333333333333333,
              "#9c179e"
             ],
             [
              0.4444444444444444,
              "#bd3786"
             ],
             [
              0.5555555555555556,
              "#d8576b"
             ],
             [
              0.6666666666666666,
              "#ed7953"
             ],
             [
              0.7777777777777778,
              "#fb9f3a"
             ],
             [
              0.8888888888888888,
              "#fdca26"
             ],
             [
              1,
              "#f0f921"
             ]
            ],
            "type": "heatmapgl"
           }
          ],
          "histogram": [
           {
            "marker": {
             "pattern": {
              "fillmode": "overlay",
              "size": 10,
              "solidity": 0.2
             }
            },
            "type": "histogram"
           }
          ],
          "histogram2d": [
           {
            "colorbar": {
             "outlinewidth": 0,
             "ticks": ""
            },
            "colorscale": [
             [
              0,
              "#0d0887"
             ],
             [
              0.1111111111111111,
              "#46039f"
             ],
             [
              0.2222222222222222,
              "#7201a8"
             ],
             [
              0.3333333333333333,
              "#9c179e"
             ],
             [
              0.4444444444444444,
              "#bd3786"
             ],
             [
              0.5555555555555556,
              "#d8576b"
             ],
             [
              0.6666666666666666,
              "#ed7953"
             ],
             [
              0.7777777777777778,
              "#fb9f3a"
             ],
             [
              0.8888888888888888,
              "#fdca26"
             ],
             [
              1,
              "#f0f921"
             ]
            ],
            "type": "histogram2d"
           }
          ],
          "histogram2dcontour": [
           {
            "colorbar": {
             "outlinewidth": 0,
             "ticks": ""
            },
            "colorscale": [
             [
              0,
              "#0d0887"
             ],
             [
              0.1111111111111111,
              "#46039f"
             ],
             [
              0.2222222222222222,
              "#7201a8"
             ],
             [
              0.3333333333333333,
              "#9c179e"
             ],
             [
              0.4444444444444444,
              "#bd3786"
             ],
             [
              0.5555555555555556,
              "#d8576b"
             ],
             [
              0.6666666666666666,
              "#ed7953"
             ],
             [
              0.7777777777777778,
              "#fb9f3a"
             ],
             [
              0.8888888888888888,
              "#fdca26"
             ],
             [
              1,
              "#f0f921"
             ]
            ],
            "type": "histogram2dcontour"
           }
          ],
          "mesh3d": [
           {
            "colorbar": {
             "outlinewidth": 0,
             "ticks": ""
            },
            "type": "mesh3d"
           }
          ],
          "parcoords": [
           {
            "line": {
             "colorbar": {
              "outlinewidth": 0,
              "ticks": ""
             }
            },
            "type": "parcoords"
           }
          ],
          "pie": [
           {
            "automargin": true,
            "type": "pie"
           }
          ],
          "scatter": [
           {
            "marker": {
             "colorbar": {
              "outlinewidth": 0,
              "ticks": ""
             }
            },
            "type": "scatter"
           }
          ],
          "scatter3d": [
           {
            "line": {
             "colorbar": {
              "outlinewidth": 0,
              "ticks": ""
             }
            },
            "marker": {
             "colorbar": {
              "outlinewidth": 0,
              "ticks": ""
             }
            },
            "type": "scatter3d"
           }
          ],
          "scattercarpet": [
           {
            "marker": {
             "colorbar": {
              "outlinewidth": 0,
              "ticks": ""
             }
            },
            "type": "scattercarpet"
           }
          ],
          "scattergeo": [
           {
            "marker": {
             "colorbar": {
              "outlinewidth": 0,
              "ticks": ""
             }
            },
            "type": "scattergeo"
           }
          ],
          "scattergl": [
           {
            "marker": {
             "colorbar": {
              "outlinewidth": 0,
              "ticks": ""
             }
            },
            "type": "scattergl"
           }
          ],
          "scattermapbox": [
           {
            "marker": {
             "colorbar": {
              "outlinewidth": 0,
              "ticks": ""
             }
            },
            "type": "scattermapbox"
           }
          ],
          "scatterpolar": [
           {
            "marker": {
             "colorbar": {
              "outlinewidth": 0,
              "ticks": ""
             }
            },
            "type": "scatterpolar"
           }
          ],
          "scatterpolargl": [
           {
            "marker": {
             "colorbar": {
              "outlinewidth": 0,
              "ticks": ""
             }
            },
            "type": "scatterpolargl"
           }
          ],
          "scatterternary": [
           {
            "marker": {
             "colorbar": {
              "outlinewidth": 0,
              "ticks": ""
             }
            },
            "type": "scatterternary"
           }
          ],
          "surface": [
           {
            "colorbar": {
             "outlinewidth": 0,
             "ticks": ""
            },
            "colorscale": [
             [
              0,
              "#0d0887"
             ],
             [
              0.1111111111111111,
              "#46039f"
             ],
             [
              0.2222222222222222,
              "#7201a8"
             ],
             [
              0.3333333333333333,
              "#9c179e"
             ],
             [
              0.4444444444444444,
              "#bd3786"
             ],
             [
              0.5555555555555556,
              "#d8576b"
             ],
             [
              0.6666666666666666,
              "#ed7953"
             ],
             [
              0.7777777777777778,
              "#fb9f3a"
             ],
             [
              0.8888888888888888,
              "#fdca26"
             ],
             [
              1,
              "#f0f921"
             ]
            ],
            "type": "surface"
           }
          ],
          "table": [
           {
            "cells": {
             "fill": {
              "color": "#EBF0F8"
             },
             "line": {
              "color": "white"
             }
            },
            "header": {
             "fill": {
              "color": "#C8D4E3"
             },
             "line": {
              "color": "white"
             }
            },
            "type": "table"
           }
          ]
         },
         "layout": {
          "annotationdefaults": {
           "arrowcolor": "#2a3f5f",
           "arrowhead": 0,
           "arrowwidth": 1
          },
          "autotypenumbers": "strict",
          "coloraxis": {
           "colorbar": {
            "outlinewidth": 0,
            "ticks": ""
           }
          },
          "colorscale": {
           "diverging": [
            [
             0,
             "#8e0152"
            ],
            [
             0.1,
             "#c51b7d"
            ],
            [
             0.2,
             "#de77ae"
            ],
            [
             0.3,
             "#f1b6da"
            ],
            [
             0.4,
             "#fde0ef"
            ],
            [
             0.5,
             "#f7f7f7"
            ],
            [
             0.6,
             "#e6f5d0"
            ],
            [
             0.7,
             "#b8e186"
            ],
            [
             0.8,
             "#7fbc41"
            ],
            [
             0.9,
             "#4d9221"
            ],
            [
             1,
             "#276419"
            ]
           ],
           "sequential": [
            [
             0,
             "#0d0887"
            ],
            [
             0.1111111111111111,
             "#46039f"
            ],
            [
             0.2222222222222222,
             "#7201a8"
            ],
            [
             0.3333333333333333,
             "#9c179e"
            ],
            [
             0.4444444444444444,
             "#bd3786"
            ],
            [
             0.5555555555555556,
             "#d8576b"
            ],
            [
             0.6666666666666666,
             "#ed7953"
            ],
            [
             0.7777777777777778,
             "#fb9f3a"
            ],
            [
             0.8888888888888888,
             "#fdca26"
            ],
            [
             1,
             "#f0f921"
            ]
           ],
           "sequentialminus": [
            [
             0,
             "#0d0887"
            ],
            [
             0.1111111111111111,
             "#46039f"
            ],
            [
             0.2222222222222222,
             "#7201a8"
            ],
            [
             0.3333333333333333,
             "#9c179e"
            ],
            [
             0.4444444444444444,
             "#bd3786"
            ],
            [
             0.5555555555555556,
             "#d8576b"
            ],
            [
             0.6666666666666666,
             "#ed7953"
            ],
            [
             0.7777777777777778,
             "#fb9f3a"
            ],
            [
             0.8888888888888888,
             "#fdca26"
            ],
            [
             1,
             "#f0f921"
            ]
           ]
          },
          "colorway": [
           "#636efa",
           "#EF553B",
           "#00cc96",
           "#ab63fa",
           "#FFA15A",
           "#19d3f3",
           "#FF6692",
           "#B6E880",
           "#FF97FF",
           "#FECB52"
          ],
          "font": {
           "color": "#2a3f5f"
          },
          "geo": {
           "bgcolor": "white",
           "lakecolor": "white",
           "landcolor": "#E5ECF6",
           "showlakes": true,
           "showland": true,
           "subunitcolor": "white"
          },
          "hoverlabel": {
           "align": "left"
          },
          "hovermode": "closest",
          "mapbox": {
           "style": "light"
          },
          "paper_bgcolor": "white",
          "plot_bgcolor": "#E5ECF6",
          "polar": {
           "angularaxis": {
            "gridcolor": "white",
            "linecolor": "white",
            "ticks": ""
           },
           "bgcolor": "#E5ECF6",
           "radialaxis": {
            "gridcolor": "white",
            "linecolor": "white",
            "ticks": ""
           }
          },
          "scene": {
           "xaxis": {
            "backgroundcolor": "#E5ECF6",
            "gridcolor": "white",
            "gridwidth": 2,
            "linecolor": "white",
            "showbackground": true,
            "ticks": "",
            "zerolinecolor": "white"
           },
           "yaxis": {
            "backgroundcolor": "#E5ECF6",
            "gridcolor": "white",
            "gridwidth": 2,
            "linecolor": "white",
            "showbackground": true,
            "ticks": "",
            "zerolinecolor": "white"
           },
           "zaxis": {
            "backgroundcolor": "#E5ECF6",
            "gridcolor": "white",
            "gridwidth": 2,
            "linecolor": "white",
            "showbackground": true,
            "ticks": "",
            "zerolinecolor": "white"
           }
          },
          "shapedefaults": {
           "line": {
            "color": "#2a3f5f"
           }
          },
          "ternary": {
           "aaxis": {
            "gridcolor": "white",
            "linecolor": "white",
            "ticks": ""
           },
           "baxis": {
            "gridcolor": "white",
            "linecolor": "white",
            "ticks": ""
           },
           "bgcolor": "#E5ECF6",
           "caxis": {
            "gridcolor": "white",
            "linecolor": "white",
            "ticks": ""
           }
          },
          "title": {
           "x": 0.05
          },
          "xaxis": {
           "automargin": true,
           "gridcolor": "white",
           "linecolor": "white",
           "ticks": "",
           "title": {
            "standoff": 15
           },
           "zerolinecolor": "white",
           "zerolinewidth": 2
          },
          "yaxis": {
           "automargin": true,
           "gridcolor": "white",
           "linecolor": "white",
           "ticks": "",
           "title": {
            "standoff": 15
           },
           "zerolinecolor": "white",
           "zerolinewidth": 2
          }
         }
        },
        "xaxis": {
         "autorange": true,
         "range": [
          -0.5,
          49.5
         ],
         "rangeslider": {
          "autorange": true,
          "range": [
           -0.5,
           49.5
          ],
          "yaxis": {
           "_template": null,
           "rangemode": "match"
          }
         },
         "type": "linear"
        },
        "yaxis": {
         "autorange": true,
         "range": [
          440.4360630023773,
          476.2784349851976
         ]
        }
       }
      },
      "image/png": "[encoded data removed]",
      "text/html": [
       "<div>                            <div id=\"e1d2e94c-1ab3-46e0-a627-4c7a613a184d\" class=\"plotly-graph-div\" style=\"height:525px; width:100%;\"></div>            <script type=\"text/javascript\">                require([\"plotly\"], function(Plotly) {                    window.PLOTLYENV=window.PLOTLYENV || {};                                    if (document.getElementById(\"e1d2e94c-1ab3-46e0-a627-4c7a613a184d\")) {                    Plotly.newPlot(                        \"e1d2e94c-1ab3-46e0-a627-4c7a613a184d\",                        [{\"close\":[461.93988037109375,460.4129943847656,456.7090759277344,456.8568115234375,460.30462646484375,460.4622497558594,462.28466796875,461.16168212890625,462.72802734375,461.9005126953125,460.6001892089844,461.2109069824219,462.4422912597656,452.12835693359375,457.6744384765625,448.7691955566406,443.78460693359375,450.5817565917969,446.6611022949219,451.9510803222656,461.2995910644531,462.5211181640625,459.39837646484375,463.7229309082031,459.6150817871094,456.4529113769531,463.5849914550781,459.49688720703125,454.6064758300781,449.7724914550781,457.760009765625,462.3370056152344,465.21368408203125,471.7974548339844,471.4118957519531,472.01495361328125,470.7100524902344,469.5238037109375,472.2423095703125,472.0841064453125,463.01910400390625,462.5841369628906,460.75531005859375,460.18194580078125,464.3734436035156,465.6288757324219,459.213134765625,459.4010009765625,451.2651672363281,446.57940673828125],\"high\":[463.22051993826574,462.57035150578884,460.4130373694832,458.35417291583184,460.8858280192206,461.8216836025759,463.476622664264,462.1960182712331,463.0038523491198,463.919942376069,466.4811987877852,462.1073456337604,462.5703582237442,456.9848605880097,459.6052132868019,457.11293876181486,457.7433945901328,452.2268759486868,453.43852023575164,453.9212674314211,461.89065318734845,462.99397389613455,462.62948205998595,463.88054948467556,463.5455952344251,458.7974387254398,463.8410953138141,465.8211708085714,459.4207305999944,450.1876674085448,457.9082868957625,462.45562731524785,466.78548188150756,471.8468704837619,473.32969355435415,473.08257906373285,473.51754328114333,471.40205109462113,472.3807216657983,474.48631638605656,472.5092320583563,465.43117839173607,463.8297298859487,460.4092939939143,464.47230508019663,467.78394722040724,467.46756932998835,459.76676127684203,454.6954520501679,454.3494290853147],\"low\":[461.2207813676723,458.93535416832054,455.15264131534184,456.83712047557333,457.19172741394357,459.28015558764304,460.10761979136737,460.51151681616716,459.38854561116045,461.5163117943677,460.3834674297967,457.52666708172603,458.2556439190348,450.9462327293489,454.8472249887594,448.51306162481666,443.57774572304714,443.5974473509027,442.2281816015183,446.7990302092631,451.8131356831209,459.87121407866465,459.19151523985863,459.5560044066399,459.31953569933046,453.3892850109791,453.87195424054596,457.8714588390697,452.81719490262014,445.9764461819522,451.0872673948548,457.2854769888965,463.2761259992427,466.607544539395,470.6111691628179,470.4728112024703,470.2256705027333,469.23714464735207,468.42650410269573,470.1366532158194,462.92024253253254,460.1028558261161,459.331789329575,451.37392290910174,456.76156242338106,463.57269588491556,458.13561418240937,454.6361615385267,450.0986803394288,446.2927175430621],\"open\":[462.698421594101,462.32407813638133,458.63985090660196,458.27534859903824,458.1866814636852,461.6542345418459,460.18641404234324,462.008848102596,462.2453110373495,462.6097511659769,463.87070694484504,460.25536512881183,459.11267044699287,455.4481171600917,457.15234013278007,455.11320014550046,454.7585625872926,444.01119984453203,452.3253898476043,449.3307278595685,457.4872839626471,461.71336429127695,461.1715328043396,462.23546008133275,463.1811154492322,456.18694695355384,456.51202757900575,465.5256547758522,456.2672398674505,449.27821425542703,453.3609305057284,457.49309513220595,463.3848524971854,466.6569601891726,472.25217296117563,471.520676426014,472.45978286474065,470.1960436513577,470.84844425912456,473.7350054442367,471.69861022869173,462.53472131142144,462.5940369036953,457.4041104866488,459.90518843943073,466.1923589724666,466.78546443913797,455.911405158876,454.4779688856371,452.88638802340296],\"x\":[0,1,2,3,4,5,6,7,8,9,10,11,12,13,14,15,16,17,18,19,20,21,22,23,24,25,26,27,28,29,30,31,32,33,34,35,36,37,38,39,40,41,42,43,44,45,46,47,48,49],\"type\":\"candlestick\"}],                        {\"template\":{\"data\":{\"bar\":[{\"error_x\":{\"color\":\"#2a3f5f\"},\"error_y\":{\"color\":\"#2a3f5f\"},\"marker\":{\"line\":{\"color\":\"#E5ECF6\",\"width\":0.5},\"pattern\":{\"fillmode\":\"overlay\",\"size\":10,\"solidity\":0.2}},\"type\":\"bar\"}],\"barpolar\":[{\"marker\":{\"line\":{\"color\":\"#E5ECF6\",\"width\":0.5},\"pattern\":{\"fillmode\":\"overlay\",\"size\":10,\"solidity\":0.2}},\"type\":\"barpolar\"}],\"carpet\":[{\"aaxis\":{\"endlinecolor\":\"#2a3f5f\",\"gridcolor\":\"white\",\"linecolor\":\"white\",\"minorgridcolor\":\"white\",\"startlinecolor\":\"#2a3f5f\"},\"baxis\":{\"endlinecolor\":\"#2a3f5f\",\"gridcolor\":\"white\",\"linecolor\":\"white\",\"minorgridcolor\":\"white\",\"startlinecolor\":\"#2a3f5f\"},\"type\":\"carpet\"}],\"choropleth\":[{\"colorbar\":{\"outlinewidth\":0,\"ticks\":\"\"},\"type\":\"choropleth\"}],\"contour\":[{\"colorbar\":{\"outlinewidth\":0,\"ticks\":\"\"},\"colorscale\":[[0.0,\"#0d0887\"],[0.1111111111111111,\"#46039f\"],[0.2222222222222222,\"#7201a8\"],[0.3333333333333333,\"#9c179e\"],[0.4444444444444444,\"#bd3786\"],[0.5555555555555556,\"#d8576b\"],[0.6666666666666666,\"#ed7953\"],[0.7777777777777778,\"#fb9f3a\"],[0.8888888888888888,\"#fdca26\"],[1.0,\"#f0f921\"]],\"type\":\"contour\"}],\"contourcarpet\":[{\"colorbar\":{\"outlinewidth\":0,\"ticks\":\"\"},\"type\":\"contourcarpet\"}],\"heatmap\":[{\"colorbar\":{\"outlinewidth\":0,\"ticks\":\"\"},\"colorscale\":[[0.0,\"#0d0887\"],[0.1111111111111111,\"#46039f\"],[0.2222222222222222,\"#7201a8\"],[0.3333333333333333,\"#9c179e\"],[0.4444444444444444,\"#bd3786\"],[0.5555555555555556,\"#d8576b\"],[0.6666666666666666,\"#ed7953\"],[0.7777777777777778,\"#fb9f3a\"],[0.8888888888888888,\"#fdca26\"],[1.0,\"#f0f921\"]],\"type\":\"heatmap\"}],\"heatmapgl\":[{\"colorbar\":{\"outlinewidth\":0,\"ticks\":\"\"},\"colorscale\":[[0.0,\"#0d0887\"],[0.1111111111111111,\"#46039f\"],[0.2222222222222222,\"#7201a8\"],[0.3333333333333333,\"#9c179e\"],[0.4444444444444444,\"#bd3786\"],[0.5555555555555556,\"#d8576b\"],[0.6666666666666666,\"#ed7953\"],[0.7777777777777778,\"#fb9f3a\"],[0.8888888888888888,\"#fdca26\"],[1.0,\"#f0f921\"]],\"type\":\"heatmapgl\"}],\"histogram\":[{\"marker\":{\"pattern\":{\"fillmode\":\"overlay\",\"size\":10,\"solidity\":0.2}},\"type\":\"histogram\"}],\"histogram2d\":[{\"colorbar\":{\"outlinewidth\":0,\"ticks\":\"\"},\"colorscale\":[[0.0,\"#0d0887\"],[0.1111111111111111,\"#46039f\"],[0.2222222222222222,\"#7201a8\"],[0.3333333333333333,\"#9c179e\"],[0.4444444444444444,\"#bd3786\"],[0.5555555555555556,\"#d8576b\"],[0.6666666666666666,\"#ed7953\"],[0.7777777777777778,\"#fb9f3a\"],[0.8888888888888888,\"#fdca26\"],[1.0,\"#f0f921\"]],\"type\":\"histogram2d\"}],\"histogram2dcontour\":[{\"colorbar\":{\"outlinewidth\":0,\"ticks\":\"\"},\"colorscale\":[[0.0,\"#0d0887\"],[0.1111111111111111,\"#46039f\"],[0.2222222222222222,\"#7201a8\"],[0.3333333333333333,\"#9c179e\"],[0.4444444444444444,\"#bd3786\"],[0.5555555555555556,\"#d8576b\"],[0.6666666666666666,\"#ed7953\"],[0.7777777777777778,\"#fb9f3a\"],[0.8888888888888888,\"#fdca26\"],[1.0,\"#f0f921\"]],\"type\":\"histogram2dcontour\"}],\"mesh3d\":[{\"colorbar\":{\"outlinewidth\":0,\"ticks\":\"\"},\"type\":\"mesh3d\"}],\"parcoords\":[{\"line\":{\"colorbar\":{\"outlinewidth\":0,\"ticks\":\"\"}},\"type\":\"parcoords\"}],\"pie\":[{\"automargin\":true,\"type\":\"pie\"}],\"scatter\":[{\"marker\":{\"colorbar\":{\"outlinewidth\":0,\"ticks\":\"\"}},\"type\":\"scatter\"}],\"scatter3d\":[{\"line\":{\"colorbar\":{\"outlinewidth\":0,\"ticks\":\"\"}},\"marker\":{\"colorbar\":{\"outlinewidth\":0,\"ticks\":\"\"}},\"type\":\"scatter3d\"}],\"scattercarpet\":[{\"marker\":{\"colorbar\":{\"outlinewidth\":0,\"ticks\":\"\"}},\"type\":\"scattercarpet\"}],\"scattergeo\":[{\"marker\":{\"colorbar\":{\"outlinewidth\":0,\"ticks\":\"\"}},\"type\":\"scattergeo\"}],\"scattergl\":[{\"marker\":{\"colorbar\":{\"outlinewidth\":0,\"ticks\":\"\"}},\"type\":\"scattergl\"}],\"scattermapbox\":[{\"marker\":{\"colorbar\":{\"outlinewidth\":0,\"ticks\":\"\"}},\"type\":\"scattermapbox\"}],\"scatterpolar\":[{\"marker\":{\"colorbar\":{\"outlinewidth\":0,\"ticks\":\"\"}},\"type\":\"scatterpolar\"}],\"scatterpolargl\":[{\"marker\":{\"colorbar\":{\"outlinewidth\":0,\"ticks\":\"\"}},\"type\":\"scatterpolargl\"}],\"scatterternary\":[{\"marker\":{\"colorbar\":{\"outlinewidth\":0,\"ticks\":\"\"}},\"type\":\"scatterternary\"}],\"surface\":[{\"colorbar\":{\"outlinewidth\":0,\"ticks\":\"\"},\"colorscale\":[[0.0,\"#0d0887\"],[0.1111111111111111,\"#46039f\"],[0.2222222222222222,\"#7201a8\"],[0.3333333333333333,\"#9c179e\"],[0.4444444444444444,\"#bd3786\"],[0.5555555555555556,\"#d8576b\"],[0.6666666666666666,\"#ed7953\"],[0.7777777777777778,\"#fb9f3a\"],[0.8888888888888888,\"#fdca26\"],[1.0,\"#f0f921\"]],\"type\":\"surface\"}],\"table\":[{\"cells\":{\"fill\":{\"color\":\"#EBF0F8\"},\"line\":{\"color\":\"white\"}},\"header\":{\"fill\":{\"color\":\"#C8D4E3\"},\"line\":{\"color\":\"white\"}},\"type\":\"table\"}]},\"layout\":{\"annotationdefaults\":{\"arrowcolor\":\"#2a3f5f\",\"arrowhead\":0,\"arrowwidth\":1},\"autotypenumbers\":\"strict\",\"coloraxis\":{\"colorbar\":{\"outlinewidth\":0,\"ticks\":\"\"}},\"colorscale\":{\"diverging\":[[0,\"#8e0152\"],[0.1,\"#c51b7d\"],[0.2,\"#de77ae\"],[0.3,\"#f1b6da\"],[0.4,\"#fde0ef\"],[0.5,\"#f7f7f7\"],[0.6,\"#e6f5d0\"],[0.7,\"#b8e186\"],[0.8,\"#7fbc41\"],[0.9,\"#4d9221\"],[1,\"#276419\"]],\"sequential\":[[0.0,\"#0d0887\"],[0.1111111111111111,\"#46039f\"],[0.2222222222222222,\"#7201a8\"],[0.3333333333333333,\"#9c179e\"],[0.4444444444444444,\"#bd3786\"],[0.5555555555555556,\"#d8576b\"],[0.6666666666666666,\"#ed7953\"],[0.7777777777777778,\"#fb9f3a\"],[0.8888888888888888,\"#fdca26\"],[1.0,\"#f0f921\"]],\"sequentialminus\":[[0.0,\"#0d0887\"],[0.1111111111111111,\"#46039f\"],[0.2222222222222222,\"#7201a8\"],[0.3333333333333333,\"#9c179e\"],[0.4444444444444444,\"#bd3786\"],[0.5555555555555556,\"#d8576b\"],[0.6666666666666666,\"#ed7953\"],[0.7777777777777778,\"#fb9f3a\"],[0.8888888888888888,\"#fdca26\"],[1.0,\"#f0f921\"]]},\"colorway\":[\"#636efa\",\"#EF553B\",\"#00cc96\",\"#ab63fa\",\"#FFA15A\",\"#19d3f3\",\"#FF6692\",\"#B6E880\",\"#FF97FF\",\"#FECB52\"],\"font\":{\"color\":\"#2a3f5f\"},\"geo\":{\"bgcolor\":\"white\",\"lakecolor\":\"white\",\"landcolor\":\"#E5ECF6\",\"showlakes\":true,\"showland\":true,\"subunitcolor\":\"white\"},\"hoverlabel\":{\"align\":\"left\"},\"hovermode\":\"closest\",\"mapbox\":{\"style\":\"light\"},\"paper_bgcolor\":\"white\",\"plot_bgcolor\":\"#E5ECF6\",\"polar\":{\"angularaxis\":{\"gridcolor\":\"white\",\"linecolor\":\"white\",\"ticks\":\"\"},\"bgcolor\":\"#E5ECF6\",\"radialaxis\":{\"gridcolor\":\"white\",\"linecolor\":\"white\",\"ticks\":\"\"}},\"scene\":{\"xaxis\":{\"backgroundcolor\":\"#E5ECF6\",\"gridcolor\":\"white\",\"gridwidth\":2,\"linecolor\":\"white\",\"showbackground\":true,\"ticks\":\"\",\"zerolinecolor\":\"white\"},\"yaxis\":{\"backgroundcolor\":\"#E5ECF6\",\"gridcolor\":\"white\",\"gridwidth\":2,\"linecolor\":\"white\",\"showbackground\":true,\"ticks\":\"\",\"zerolinecolor\":\"white\"},\"zaxis\":{\"backgroundcolor\":\"#E5ECF6\",\"gridcolor\":\"white\",\"gridwidth\":2,\"linecolor\":\"white\",\"showbackground\":true,\"ticks\":\"\",\"zerolinecolor\":\"white\"}},\"shapedefaults\":{\"line\":{\"color\":\"#2a3f5f\"}},\"ternary\":{\"aaxis\":{\"gridcolor\":\"white\",\"linecolor\":\"white\",\"ticks\":\"\"},\"baxis\":{\"gridcolor\":\"white\",\"linecolor\":\"white\",\"ticks\":\"\"},\"bgcolor\":\"#E5ECF6\",\"caxis\":{\"gridcolor\":\"white\",\"linecolor\":\"white\",\"ticks\":\"\"}},\"title\":{\"x\":0.05},\"xaxis\":{\"automargin\":true,\"gridcolor\":\"white\",\"linecolor\":\"white\",\"ticks\":\"\",\"title\":{\"standoff\":15},\"zerolinecolor\":\"white\",\"zerolinewidth\":2},\"yaxis\":{\"automargin\":true,\"gridcolor\":\"white\",\"linecolor\":\"white\",\"ticks\":\"\",\"title\":{\"standoff\":15},\"zerolinecolor\":\"white\",\"zerolinewidth\":2}}}},                        {\"responsive\": true}                    ).then(function(){\n",
       "                            \n",
       "var gd = document.getElementById('e1d2e94c-1ab3-46e0-a627-4c7a613a184d');\n",
       "var x = new MutationObserver(function (mutations, observer) {{\n",
       "        var display = window.getComputedStyle(gd).display;\n",
       "        if (!display || display === 'none') {{\n",
       "            console.log([gd, 'removed!']);\n",
       "            Plotly.purge(gd);\n",
       "            observer.disconnect();\n",
       "        }}\n",
       "}});\n",
       "\n",
       "// Listen for the removal of the full notebook cells\n",
       "var notebookContainer = gd.closest('#notebook-container');\n",
       "if (notebookContainer) {{\n",
       "    x.observe(notebookContainer, {childList: true});\n",
       "}}\n",
       "\n",
       "// Listen for the clearing of the current output cell\n",
       "var outputEl = gd.closest('.output');\n",
       "if (outputEl) {{\n",
       "    x.observe(outputEl, {childList: true});\n",
       "}}\n",
       "\n",
       "                        })                };                });            </script>        </div>"
      ]
     },
     "metadata": {},
     "output_type": "display_data"
    }
   ],
   "source": [
    "dfpl = sr_df[0:50]\n",
    "import plotly.graph_objects as go\n",
    "from datetime import datetime\n",
    "\n",
    "fig = go.Figure(data=[go.Candlestick(x=dfpl.index,\n",
    "                open=dfpl['Open'],\n",
    "                high=dfpl['High'],\n",
    "                low=dfpl['Low'],\n",
    "                close=dfpl['Close'])])\n",
    "\n",
    "fig.show()"
   ]
  },
  {
   "cell_type": "code",
   "execution_count": 142,
   "id": "c696cd53-f539-4b13-9990-71f9b130db3d",
   "metadata": {},
   "outputs": [
    {
     "name": "stdout",
     "output_type": "stream",
     "text": [
      "[(52, 415.9441512869428, 1), (128, 381.9245319583339, 1), (166, 389.0418979580837, 2), (193, 429.963802202433, 2)]\n"
     ]
    }
   ],
   "source": [
    "sr = []\n",
    "n1=5\n",
    "n2=3\n",
    "for row in range(n1, (len(sr_df)-n2)): #len(df)-n2\n",
    "    if support(sr_df, row, n1, n2):\n",
    "        sr.append((row,sr_df.Low[row],1))\n",
    "    if resistance(sr_df, row, n1, n2):\n",
    "        sr.append((row,sr_df.High[row],2))\n",
    "print(sr)"
   ]
  },
  {
   "cell_type": "code",
   "execution_count": 143,
   "id": "6e50b9d7-736f-4c3b-b36a-3e70b3b653b1",
   "metadata": {},
   "outputs": [
    {
     "data": {
      "application/vnd.plotly.v1+json": {
       "config": {
        "plotlyServerURL": "https://plot.ly"
       },
       "data": [
        {
         "close": [
          461.93988037109375,
          460.4129943847656,
          456.7090759277344,
          456.8568115234375,
          460.30462646484375,
          460.4622497558594,
          462.28466796875,
          461.16168212890625,
          462.72802734375,
          461.9005126953125,
          460.6001892089844,
          461.2109069824219,
          462.4422912597656,
          452.12835693359375,
          457.6744384765625,
          448.7691955566406,
          443.78460693359375,
          450.5817565917969,
          446.6611022949219,
          451.9510803222656,
          461.2995910644531,
          462.5211181640625,
          459.39837646484375,
          463.7229309082031,
          459.6150817871094,
          456.4529113769531,
          463.5849914550781,
          459.49688720703125,
          454.6064758300781,
          449.7724914550781,
          457.760009765625,
          462.3370056152344,
          465.21368408203125,
          471.7974548339844,
          471.4118957519531,
          472.01495361328125,
          470.7100524902344,
          469.5238037109375,
          472.2423095703125,
          472.0841064453125,
          463.01910400390625,
          462.5841369628906,
          460.75531005859375,
          460.18194580078125,
          464.3734436035156,
          465.6288757324219,
          459.213134765625,
          459.4010009765625,
          451.2651672363281,
          446.57940673828125,
          441.6366882324219,
          432.9670715332031,
          434.8057556152344,
          429.4972229003906,
          428.4197082519531,
          426.3041687011719,
          436.8916320800781,
          444.760498046875,
          447.7657470703125,
          452.1153564453125,
          441.4884033203125,
          443.5643615722656,
          442.1408386230469,
          445.77874755859375,
          452.3031921386719,
          444.17724609375,
          435.41864013671875,
          433.9951477050781,
          440.9941101074219,
          441.4884033203125,
          432.0575866699219,
          429.2599792480469,
          424.6532897949219,
          417.1205139160156,
          423.3978271484375,
          432.7396545410156,
          431.63250732421875,
          425.05865478515625,
          432.87811279296875,
          430.7230224609375,
          427.2235412597656,
          414.6293640136719,
          411.48577880859375,
          422.51800537109375,
          420.610107421875,
          415.26202392578125,
          412.2271728515625,
          421.292236328125,
          430.634033203125,
          436.0216979980469,
          440.7973327636719,
          440.6684265136719,
          445.8248596191406,
          440.0833740234375,
          446.71734619140625,
          448.89892578125,
          452.0919494628906,
          457.6847229003906,
          454.8586120605469,
          447.8577575683594,
          449.12701416015625,
          452.9744873046875,
          447.2528076171875,
          442.78057861328125,
          445.01171875,
          443.8218078613281,
          436.23590087890625,
          434.6195068359375,
          439.59747314453125,
          434.12371826171875,
          434.30218505859375,
          441.31298828125,
          440.9857482910156,
          434.3914489746094,
          422.47210693359375,
          424.9214172363281,
          412.6153564453125,
          413.7755432128906,
          424.2272644042969,
          408.5496826171875,
          411.0089111328125,
          412.89300537109375,
          425.466796875,
          410.3445129394531,
          407.89520263671875,
          394.83551025390625,
          395.747802734375,
          389.46087646484375,
          389.0543212890625,
          398.35577392578125,
          396.7394104003906,
          404.9005126953125,
          388.57830810546875,
          386.19842529296875,
          386.36700439453125,
          393.5959777832031,
          390.5913391113281,
          394.0422058105469,
          401.91571044921875,
          411.7823791503906,
          409.4718933105469,
          406.1598815917969,
          413.8945617675781,
          407.1018981933594,
          408.3414611816406,
          412.25836181640625,
          407.7762145996094,
          398.078125,
          386.53558349609375,
          371.8595275878906,
          370.739013671875,
          376.02435302734375,
          363.5794677734375,
          364.3632507324219,
          373.53558349609375,
          372.8583679199219,
          376.5133361816406,
          388.4841613769531,
          387.0002746582031,
          379.0927429199219,
          378.7840270996094,
          375.7066650390625,
          379.6803283691406,
          380.3973693847656,
          381.68212890625,
          387.39862060546875,
          387.0799560546875,
          382.6581115722656,
          379.2720031738281,
          377.2801818847656,
          376.36395263671875,
          383.554443359375,
          380.387451171875,
          390.6651916503906,
          393.15496826171875,
          397.1585388183594,
          393.4736633300781,
          393.95172119140625,
          389.2908630371094,
          399.39935302734375,
          404.40875244140625,
          410.3045349121094,
          409.0895080566406,
          406.390625,
          412.7544860839844,
          412.47564697265625,
          411.7784729003906,
          411.3004455566406,
          409.66717529296875,
          418.27178955078125,
          418.27178955078125,
          425.35272216796875,
          427.1054992675781,
          427.9421081542969,
          424.9045715332031,
          426.1394958496094,
          420.41302490234375,
          411.6589660644531,
          410.6630859375,
          411.9776916503906
         ],
         "high": [
          463.22051993826574,
          462.57035150578884,
          460.4130373694832,
          458.35417291583184,
          460.8858280192206,
          461.8216836025759,
          463.476622664264,
          462.1960182712331,
          463.0038523491198,
          463.919942376069,
          466.4811987877852,
          462.1073456337604,
          462.5703582237442,
          456.9848605880097,
          459.6052132868019,
          457.11293876181486,
          457.7433945901328,
          452.2268759486868,
          453.43852023575164,
          453.9212674314211,
          461.89065318734845,
          462.99397389613455,
          462.62948205998595,
          463.88054948467556,
          463.5455952344251,
          458.7974387254398,
          463.8410953138141,
          465.8211708085714,
          459.4207305999944,
          450.1876674085448,
          457.9082868957625,
          462.45562731524785,
          466.78548188150756,
          471.8468704837619,
          473.32969355435415,
          473.08257906373285,
          473.51754328114333,
          471.40205109462113,
          472.3807216657983,
          474.48631638605656,
          472.5092320583563,
          465.43117839173607,
          463.8297298859487,
          460.4092939939143,
          464.47230508019663,
          467.78394722040724,
          467.46756932998835,
          459.76676127684203,
          454.6954520501679,
          454.3494290853147,
          453.489446103823,
          442.93168671611863,
          435.3395834284582,
          434.6871333979894,
          438.9577017159584,
          436.53571226839364,
          436.94104773309544,
          445.1262583350566,
          448.4379568512328,
          452.87653246527395,
          447.7854900534315,
          447.5976501613361,
          445.8281271274784,
          446.7475417833549,
          452.6392970170899,
          452.47120137121067,
          446.44101509500166,
          436.54563498586,
          441.17204265347874,
          442.931684304537,
          441.45874873347236,
          433.6392679106509,
          430.5154097178561,
          428.30106103664184,
          423.8525838825361,
          432.8286208098192,
          433.18454495400056,
          432.1663637194288,
          434.68715412147407,
          436.0612101040459,
          428.40978836365167,
          427.35205429210276,
          422.32032684373695,
          424.59397547596285,
          421.54921593492463,
          423.8624284809466,
          419.6907462879158,
          421.95455087309057,
          430.69334404957186,
          436.0216979980468,
          441.13448178417855,
          442.7210680947924,
          446.80655908056025,
          444.7340999255641,
          446.72727212990196,
          449.18650563408687,
          452.0919494628906,
          458.200387511717,
          457.33767571847,
          454.91812632147673,
          449.6624701169323,
          453.0835818389499,
          453.9958483027275,
          445.1703995445369,
          446.91565282851775,
          446.8561793032968,
          441.27334507595015,
          442.0170238771549,
          440.39076139490294,
          441.00560136960956,
          436.0672770902297,
          442.06660302722275,
          443.8218128328768,
          446.2413853915548,
          434.41125532958233,
          425.0999025485545,
          422.47211585475065,
          419.3782512500081,
          426.0419558520609,
          422.30352267308285,
          412.43685414522116,
          415.4216381372007,
          426.06177817463373,
          421.44080381860226,
          411.32621816707115,
          403.0064941024103,
          402.67925504280765,
          400.65633572187966,
          392.48533683625664,
          399.8035385983029,
          400.58692186942926,
          405.1484190588463,
          400.4183176009376,
          390.83925522997254,
          393.70502620623034,
          394.39919195807806,
          391.84076652366394,
          396.1048037225104,
          403.6312333794285,
          411.9013693581638,
          412.97232996852904,
          412.75418506046395,
          413.9441309353551,
          410.5725870763427,
          413.12107295279543,
          412.7343529347155,
          412.33769767547756,
          408.291855079743,
          392.4655145076387,
          378.61249418792625,
          374.7749366416902,
          380.68497411680744,
          367.83354945752603,
          367.8688698501164,
          374.98960207775144,
          377.1706403184424,
          377.28017513374607,
          388.49413019242246,
          389.75893164678683,
          391.5515738460968,
          380.7061241839131,
          379.10271832908796,
          380.1384683809683,
          380.41730701486875,
          384.2914056552444,
          388.23518049333734,
          389.0418979580837,
          385.2872954288367,
          384.5802150528634,
          380.35756734891146,
          377.49927302854667,
          383.67394757819767,
          387.4982255615694,
          391.2627430970632,
          394.6388932756416,
          397.208322108785,
          398.5428362374419,
          394.8480331918537,
          392.4478773804343,
          401.23182193635006,
          405.1357465196418,
          411.34028877128935,
          411.71872227062175,
          411.31041790220996,
          413.97943466962624,
          413.391866239546,
          412.4556836890572,
          415.9115090600188,
          411.0614418214487,
          418.4212002072381,
          423.21151981805826,
          425.4622575648715,
          427.6532674277152,
          429.963802202433,
          427.74291828019767,
          426.85652111767564,
          423.5202560090412,
          415.52309761108154,
          413.7205338893691,
          413.41177265690214
         ],
         "low": [
          461.2207813676723,
          458.93535416832054,
          455.15264131534184,
          456.83712047557333,
          457.19172741394357,
          459.28015558764304,
          460.10761979136737,
          460.51151681616716,
          459.38854561116045,
          461.5163117943677,
          460.3834674297967,
          457.52666708172603,
          458.2556439190348,
          450.9462327293489,
          454.8472249887594,
          448.51306162481666,
          443.57774572304714,
          443.5974473509027,
          442.2281816015183,
          446.7990302092631,
          451.8131356831209,
          459.87121407866465,
          459.19151523985863,
          459.5560044066399,
          459.31953569933046,
          453.3892850109791,
          453.87195424054596,
          457.8714588390697,
          452.81719490262014,
          445.9764461819522,
          451.0872673948548,
          457.2854769888965,
          463.2761259992427,
          466.607544539395,
          470.6111691628179,
          470.4728112024703,
          470.2256705027333,
          469.23714464735207,
          468.42650410269573,
          470.1366532158194,
          462.92024253253254,
          460.1028558261161,
          459.331789329575,
          451.37392290910174,
          456.76156242338106,
          463.57269588491556,
          458.13561418240937,
          454.6361615385267,
          450.0986803394288,
          446.2927175430621,
          439.4124407818949,
          432.93741610762225,
          415.9441512869428,
          422.26099759477876,
          423.95142308177117,
          424.5346781339232,
          422.9233534873862,
          434.7760929251571,
          441.8245252134182,
          447.8645544659762,
          440.6085754190579,
          438.75007640900003,
          440.74697333660356,
          440.12421487931573,
          449.8021506939638,
          442.0815157066429,
          433.9160483867408,
          430.3572747041986,
          438.10751807548485,
          436.8817361726757,
          431.4249275370094,
          426.87755957227427,
          420.98573151795205,
          416.5273752810809,
          405.9399834174015,
          422.96283781372745,
          425.77038704288657,
          422.22147816219183,
          426.6304415699974,
          428.8348799661836,
          422.98263470528383,
          414.56015796540635,
          410.3687074830403,
          417.9805446642092,
          415.6277851487968,
          414.7281961413844,
          411.0310305093529,
          413.6309398298518,
          419.9378680923793,
          428.23188447143536,
          433.55847910607173,
          436.9894744870046,
          442.1260859856014,
          439.99413136206294,
          441.0353516427663,
          444.6745916954664,
          446.2909346958001,
          453.3513244447868,
          452.64727638335665,
          447.38176643167407,
          445.37867115268716,
          448.4725296114604,
          446.0529493440323,
          439.7561331394801,
          439.81561135084553,
          442.2054535434022,
          435.7103405772736,
          432.9932266474523,
          434.17328075554553,
          434.01462372496155,
          431.9619333384212,
          434.0146094059943,
          439.7660683471935,
          433.43949700113836,
          421.87712562282195,
          415.332386136087,
          412.58560889224606,
          411.53449026005103,
          414.102777437426,
          407.7662900436615,
          401.62811295868255,
          409.8982771759006,
          410.2453407475674,
          406.01111469269813,
          402.33219847437874,
          393.1794824727231,
          391.5135728980805,
          388.67748392424545,
          381.9245319583339,
          392.29692673655927,
          394.2702727900256,
          399.20856201041227,
          387.2792812745358,
          383.8680995174872,
          377.35313325777327,
          387.1107390175401,
          383.71935216445735,
          388.6081176351974,
          395.11317435868995,
          404.2856934406207,
          406.5961855333333,
          403.5221541519284,
          403.63123229115416,
          406.0805252468473,
          407.1118250194197,
          404.19644193071485,
          406.9432528615476,
          398.078125,
          386.4860143290133,
          370.1737522913565,
          367.486483305269,
          369.0036284494724,
          361.03098308594804,
          360.6883744980465,
          370.2889105384422,
          368.66556934032934,
          371.3645039167214,
          379.8098026748832,
          385.85498538676313,
          378.9732387064949,
          376.87189883102377,
          371.0358494624268,
          372.27076315463177,
          371.3744368394161,
          378.047067090451,
          381.7020200800238,
          384.08226030366467,
          381.9310870883159,
          377.4395342992379,
          373.127258498116,
          369.52206305495616,
          378.98322463302077,
          379.10272006385037,
          383.8133636257635,
          389.4302784858606,
          390.0278270867561,
          391.1432400346693,
          391.60136020227054,
          388.35470619513643,
          392.43792846497354,
          396.5211402271115,
          405.10588877053,
          406.7292087102475,
          405.155707562965,
          408.3226789963226,
          410.75271344845027,
          407.9243101442471,
          410.14518747689357,
          408.54179325446074,
          415.0151782306003,
          417.49498178666795,
          419.3075474968399,
          422.972483188537,
          425.13363748859143,
          422.8032181180557,
          423.7592588669933,
          419.49677528211595,
          410.7128404151961,
          410.08544169235375,
          409.70702033371197
         ],
         "open": [
          462.698421594101,
          462.32407813638133,
          458.63985090660196,
          458.27534859903824,
          458.1866814636852,
          461.6542345418459,
          460.18641404234324,
          462.008848102596,
          462.2453110373495,
          462.6097511659769,
          463.87070694484504,
          460.25536512881183,
          459.11267044699287,
          455.4481171600917,
          457.15234013278007,
          455.11320014550046,
          454.7585625872926,
          444.01119984453203,
          452.3253898476043,
          449.3307278595685,
          457.4872839626471,
          461.71336429127695,
          461.1715328043396,
          462.23546008133275,
          463.1811154492322,
          456.18694695355384,
          456.51202757900575,
          465.5256547758522,
          456.2672398674505,
          449.27821425542703,
          453.3609305057284,
          457.49309513220595,
          463.3848524971854,
          466.6569601891726,
          472.25217296117563,
          471.520676426014,
          472.45978286474065,
          470.1960436513577,
          470.84844425912456,
          473.7350054442367,
          471.69861022869173,
          462.53472131142144,
          462.5940369036953,
          457.4041104866488,
          459.90518843943073,
          466.1923589724666,
          466.78546443913797,
          455.911405158876,
          454.4779688856371,
          452.88638802340296,
          448.5565691896171,
          440.4603006900865,
          427.0851483078244,
          428.10335760369844,
          435.67569388631534,
          433.2438395533789,
          427.72771342285955,
          436.1897184269397,
          445.5217091767673,
          450.28652478956815,
          445.78862101585275,
          441.2412527498039,
          444.36508596280606,
          441.61694175756384,
          450.0097386724572,
          446.17411501257595,
          444.266213628056,
          434.8848708117567,
          438.6512410794835,
          438.84894978483493,
          438.147085436672,
          432.32447369113333,
          426.946743075598,
          427.7079224017071,
          406.3156087388995,
          424.6928078775693,
          427.08515110507835,
          430.06073790650487,
          427.4212730447816,
          435.4285509854193,
          426.8083351640208,
          426.6106384934223,
          414.81720238907917,
          420.2739979261272,
          417.68396488229035,
          423.21987420121394,
          416.07266383687795,
          414.9654641175031,
          424.9696361894637,
          428.6273001991835,
          434.331945744177,
          440.6188270864143,
          442.1260859856014,
          443.1673449891968,
          442.2054624289705,
          447.3817400586387,
          448.2741855384289,
          456.16753714400295,
          456.4848620839005,
          454.0554169741167,
          449.5137323511612,
          449.33523889932536,
          451.40772050749126,
          443.14750544454176,
          441.85835724877296,
          444.2184519870874,
          440.3907838600342,
          439.36937073292785,
          434.36169201086005,
          439.835460328614,
          433.1518959435267,
          434.1930947198821,
          443.17726233854705,
          444.78369474686116,
          433.25107052248364,
          420.1219538482033,
          422.2638527212785,
          413.74579565968503,
          418.75350303318476,
          420.04261787296315,
          408.6190902615176,
          411.5344833608006,
          413.58711354426896,
          420.9945602744624,
          407.657222216257,
          401.70746721179637,
          401.10257418673535,
          394.7363308640535,
          386.1091925233651,
          393.38772077558525,
          396.63034613002395,
          403.12549465904874,
          400.1208420908022,
          385.36546357658506,
          389.9566834536972,
          389.5402031563818,
          389.2724603968558,
          389.02458338337726,
          395.33133316910966,
          404.49392630422375,
          410.0866962528882,
          411.693168783268,
          405.9913057078747,
          408.9463069025536,
          411.3064116561258,
          404.6823589875329,
          410.46351106833333,
          405.9119600405998,
          391.5730576661437,
          376.6689168637618,
          373.6940684990385,
          374.1997357129782,
          367.40715777387805,
          364.01470689796395,
          370.36860027572,
          369.10377171155864,
          375.09916248890295,
          379.839678728561,
          389.45020228820897,
          388.63356786157743,
          379.6704007020671,
          374.7007872373399,
          375.01948165467763,
          374.3422564155411,
          380.54677804388876,
          383.5444577535018,
          385.6856591705736,
          384.2714792285503,
          382.0804737894117,
          373.5654608765115,
          372.08152594230745,
          380.9849810837629,
          386.79113868810555,
          384.50051283779845,
          390.86438981626435,
          392.54747551542175,
          397.2880116277475,
          394.13097751294976,
          392.2287761962975,
          392.7466578229037,
          400.24586034709495,
          405.9125726207121,
          407.47614042202906,
          407.4462861108971,
          408.6214395311792,
          412.6748105385001,
          407.98406224955716,
          413.551209607935,
          410.53361126449806,
          417.0667482330721,
          421.25951639625225,
          420.3034564551387,
          423.0322352943368,
          425.9801662145605,
          424.1676085940869,
          425.1136804525352,
          423.241402714664,
          415.3438109035657,
          411.21082373535467,
          410.4240456406023
         ],
         "type": "candlestick",
         "x": [
          0,
          1,
          2,
          3,
          4,
          5,
          6,
          7,
          8,
          9,
          10,
          11,
          12,
          13,
          14,
          15,
          16,
          17,
          18,
          19,
          20,
          21,
          22,
          23,
          24,
          25,
          26,
          27,
          28,
          29,
          30,
          31,
          32,
          33,
          34,
          35,
          36,
          37,
          38,
          39,
          40,
          41,
          42,
          43,
          44,
          45,
          46,
          47,
          48,
          49,
          50,
          51,
          52,
          53,
          54,
          55,
          56,
          57,
          58,
          59,
          60,
          61,
          62,
          63,
          64,
          65,
          66,
          67,
          68,
          69,
          70,
          71,
          72,
          73,
          74,
          75,
          76,
          77,
          78,
          79,
          80,
          81,
          82,
          83,
          84,
          85,
          86,
          87,
          88,
          89,
          90,
          91,
          92,
          93,
          94,
          95,
          96,
          97,
          98,
          99,
          100,
          101,
          102,
          103,
          104,
          105,
          106,
          107,
          108,
          109,
          110,
          111,
          112,
          113,
          114,
          115,
          116,
          117,
          118,
          119,
          120,
          121,
          122,
          123,
          124,
          125,
          126,
          127,
          128,
          129,
          130,
          131,
          132,
          133,
          134,
          135,
          136,
          137,
          138,
          139,
          140,
          141,
          142,
          143,
          144,
          145,
          146,
          147,
          148,
          149,
          150,
          151,
          152,
          153,
          154,
          155,
          156,
          157,
          158,
          159,
          160,
          161,
          162,
          163,
          164,
          165,
          166,
          167,
          168,
          169,
          170,
          171,
          172,
          173,
          174,
          175,
          176,
          177,
          178,
          179,
          180,
          181,
          182,
          183,
          184,
          185,
          186,
          187,
          188,
          189,
          190,
          191,
          192,
          193,
          194,
          195,
          196,
          197,
          198,
          199
         ]
        }
       ],
       "layout": {
        "autosize": true,
        "shapes": [
         {
          "type": "line",
          "x0": 0,
          "x1": 200,
          "y0": 415.9441512869428,
          "y1": 415.9441512869428
         },
         {
          "type": "line",
          "x0": 0,
          "x1": 200,
          "y0": 381.9245319583339,
          "y1": 381.9245319583339
         },
         {
          "type": "line",
          "x0": 0,
          "x1": 200,
          "y0": 389.0418979580837,
          "y1": 389.0418979580837
         },
         {
          "type": "line",
          "x0": 0,
          "x1": 200,
          "y0": 429.963802202433,
          "y1": 429.963802202433
         }
        ],
        "template": {
         "data": {
          "bar": [
           {
            "error_x": {
             "color": "#2a3f5f"
            },
            "error_y": {
             "color": "#2a3f5f"
            },
            "marker": {
             "line": {
              "color": "#E5ECF6",
              "width": 0.5
             },
             "pattern": {
              "fillmode": "overlay",
              "size": 10,
              "solidity": 0.2
             }
            },
            "type": "bar"
           }
          ],
          "barpolar": [
           {
            "marker": {
             "line": {
              "color": "#E5ECF6",
              "width": 0.5
             },
             "pattern": {
              "fillmode": "overlay",
              "size": 10,
              "solidity": 0.2
             }
            },
            "type": "barpolar"
           }
          ],
          "carpet": [
           {
            "aaxis": {
             "endlinecolor": "#2a3f5f",
             "gridcolor": "white",
             "linecolor": "white",
             "minorgridcolor": "white",
             "startlinecolor": "#2a3f5f"
            },
            "baxis": {
             "endlinecolor": "#2a3f5f",
             "gridcolor": "white",
             "linecolor": "white",
             "minorgridcolor": "white",
             "startlinecolor": "#2a3f5f"
            },
            "type": "carpet"
           }
          ],
          "choropleth": [
           {
            "colorbar": {
             "outlinewidth": 0,
             "ticks": ""
            },
            "type": "choropleth"
           }
          ],
          "contour": [
           {
            "colorbar": {
             "outlinewidth": 0,
             "ticks": ""
            },
            "colorscale": [
             [
              0,
              "#0d0887"
             ],
             [
              0.1111111111111111,
              "#46039f"
             ],
             [
              0.2222222222222222,
              "#7201a8"
             ],
             [
              0.3333333333333333,
              "#9c179e"
             ],
             [
              0.4444444444444444,
              "#bd3786"
             ],
             [
              0.5555555555555556,
              "#d8576b"
             ],
             [
              0.6666666666666666,
              "#ed7953"
             ],
             [
              0.7777777777777778,
              "#fb9f3a"
             ],
             [
              0.8888888888888888,
              "#fdca26"
             ],
             [
              1,
              "#f0f921"
             ]
            ],
            "type": "contour"
           }
          ],
          "contourcarpet": [
           {
            "colorbar": {
             "outlinewidth": 0,
             "ticks": ""
            },
            "type": "contourcarpet"
           }
          ],
          "heatmap": [
           {
            "colorbar": {
             "outlinewidth": 0,
             "ticks": ""
            },
            "colorscale": [
             [
              0,
              "#0d0887"
             ],
             [
              0.1111111111111111,
              "#46039f"
             ],
             [
              0.2222222222222222,
              "#7201a8"
             ],
             [
              0.3333333333333333,
              "#9c179e"
             ],
             [
              0.4444444444444444,
              "#bd3786"
             ],
             [
              0.5555555555555556,
              "#d8576b"
             ],
             [
              0.6666666666666666,
              "#ed7953"
             ],
             [
              0.7777777777777778,
              "#fb9f3a"
             ],
             [
              0.8888888888888888,
              "#fdca26"
             ],
             [
              1,
              "#f0f921"
             ]
            ],
            "type": "heatmap"
           }
          ],
          "heatmapgl": [
           {
            "colorbar": {
             "outlinewidth": 0,
             "ticks": ""
            },
            "colorscale": [
             [
              0,
              "#0d0887"
             ],
             [
              0.1111111111111111,
              "#46039f"
             ],
             [
              0.2222222222222222,
              "#7201a8"
             ],
             [
              0.3333333333333333,
              "#9c179e"
             ],
             [
              0.4444444444444444,
              "#bd3786"
             ],
             [
              0.5555555555555556,
              "#d8576b"
             ],
             [
              0.6666666666666666,
              "#ed7953"
             ],
             [
              0.7777777777777778,
              "#fb9f3a"
             ],
             [
              0.8888888888888888,
              "#fdca26"
             ],
             [
              1,
              "#f0f921"
             ]
            ],
            "type": "heatmapgl"
           }
          ],
          "histogram": [
           {
            "marker": {
             "pattern": {
              "fillmode": "overlay",
              "size": 10,
              "solidity": 0.2
             }
            },
            "type": "histogram"
           }
          ],
          "histogram2d": [
           {
            "colorbar": {
             "outlinewidth": 0,
             "ticks": ""
            },
            "colorscale": [
             [
              0,
              "#0d0887"
             ],
             [
              0.1111111111111111,
              "#46039f"
             ],
             [
              0.2222222222222222,
              "#7201a8"
             ],
             [
              0.3333333333333333,
              "#9c179e"
             ],
             [
              0.4444444444444444,
              "#bd3786"
             ],
             [
              0.5555555555555556,
              "#d8576b"
             ],
             [
              0.6666666666666666,
              "#ed7953"
             ],
             [
              0.7777777777777778,
              "#fb9f3a"
             ],
             [
              0.8888888888888888,
              "#fdca26"
             ],
             [
              1,
              "#f0f921"
             ]
            ],
            "type": "histogram2d"
           }
          ],
          "histogram2dcontour": [
           {
            "colorbar": {
             "outlinewidth": 0,
             "ticks": ""
            },
            "colorscale": [
             [
              0,
              "#0d0887"
             ],
             [
              0.1111111111111111,
              "#46039f"
             ],
             [
              0.2222222222222222,
              "#7201a8"
             ],
             [
              0.3333333333333333,
              "#9c179e"
             ],
             [
              0.4444444444444444,
              "#bd3786"
             ],
             [
              0.5555555555555556,
              "#d8576b"
             ],
             [
              0.6666666666666666,
              "#ed7953"
             ],
             [
              0.7777777777777778,
              "#fb9f3a"
             ],
             [
              0.8888888888888888,
              "#fdca26"
             ],
             [
              1,
              "#f0f921"
             ]
            ],
            "type": "histogram2dcontour"
           }
          ],
          "mesh3d": [
           {
            "colorbar": {
             "outlinewidth": 0,
             "ticks": ""
            },
            "type": "mesh3d"
           }
          ],
          "parcoords": [
           {
            "line": {
             "colorbar": {
              "outlinewidth": 0,
              "ticks": ""
             }
            },
            "type": "parcoords"
           }
          ],
          "pie": [
           {
            "automargin": true,
            "type": "pie"
           }
          ],
          "scatter": [
           {
            "marker": {
             "colorbar": {
              "outlinewidth": 0,
              "ticks": ""
             }
            },
            "type": "scatter"
           }
          ],
          "scatter3d": [
           {
            "line": {
             "colorbar": {
              "outlinewidth": 0,
              "ticks": ""
             }
            },
            "marker": {
             "colorbar": {
              "outlinewidth": 0,
              "ticks": ""
             }
            },
            "type": "scatter3d"
           }
          ],
          "scattercarpet": [
           {
            "marker": {
             "colorbar": {
              "outlinewidth": 0,
              "ticks": ""
             }
            },
            "type": "scattercarpet"
           }
          ],
          "scattergeo": [
           {
            "marker": {
             "colorbar": {
              "outlinewidth": 0,
              "ticks": ""
             }
            },
            "type": "scattergeo"
           }
          ],
          "scattergl": [
           {
            "marker": {
             "colorbar": {
              "outlinewidth": 0,
              "ticks": ""
             }
            },
            "type": "scattergl"
           }
          ],
          "scattermapbox": [
           {
            "marker": {
             "colorbar": {
              "outlinewidth": 0,
              "ticks": ""
             }
            },
            "type": "scattermapbox"
           }
          ],
          "scatterpolar": [
           {
            "marker": {
             "colorbar": {
              "outlinewidth": 0,
              "ticks": ""
             }
            },
            "type": "scatterpolar"
           }
          ],
          "scatterpolargl": [
           {
            "marker": {
             "colorbar": {
              "outlinewidth": 0,
              "ticks": ""
             }
            },
            "type": "scatterpolargl"
           }
          ],
          "scatterternary": [
           {
            "marker": {
             "colorbar": {
              "outlinewidth": 0,
              "ticks": ""
             }
            },
            "type": "scatterternary"
           }
          ],
          "surface": [
           {
            "colorbar": {
             "outlinewidth": 0,
             "ticks": ""
            },
            "colorscale": [
             [
              0,
              "#0d0887"
             ],
             [
              0.1111111111111111,
              "#46039f"
             ],
             [
              0.2222222222222222,
              "#7201a8"
             ],
             [
              0.3333333333333333,
              "#9c179e"
             ],
             [
              0.4444444444444444,
              "#bd3786"
             ],
             [
              0.5555555555555556,
              "#d8576b"
             ],
             [
              0.6666666666666666,
              "#ed7953"
             ],
             [
              0.7777777777777778,
              "#fb9f3a"
             ],
             [
              0.8888888888888888,
              "#fdca26"
             ],
             [
              1,
              "#f0f921"
             ]
            ],
            "type": "surface"
           }
          ],
          "table": [
           {
            "cells": {
             "fill": {
              "color": "#EBF0F8"
             },
             "line": {
              "color": "white"
             }
            },
            "header": {
             "fill": {
              "color": "#C8D4E3"
             },
             "line": {
              "color": "white"
             }
            },
            "type": "table"
           }
          ]
         },
         "layout": {
          "annotationdefaults": {
           "arrowcolor": "#2a3f5f",
           "arrowhead": 0,
           "arrowwidth": 1
          },
          "autotypenumbers": "strict",
          "coloraxis": {
           "colorbar": {
            "outlinewidth": 0,
            "ticks": ""
           }
          },
          "colorscale": {
           "diverging": [
            [
             0,
             "#8e0152"
            ],
            [
             0.1,
             "#c51b7d"
            ],
            [
             0.2,
             "#de77ae"
            ],
            [
             0.3,
             "#f1b6da"
            ],
            [
             0.4,
             "#fde0ef"
            ],
            [
             0.5,
             "#f7f7f7"
            ],
            [
             0.6,
             "#e6f5d0"
            ],
            [
             0.7,
             "#b8e186"
            ],
            [
             0.8,
             "#7fbc41"
            ],
            [
             0.9,
             "#4d9221"
            ],
            [
             1,
             "#276419"
            ]
           ],
           "sequential": [
            [
             0,
             "#0d0887"
            ],
            [
             0.1111111111111111,
             "#46039f"
            ],
            [
             0.2222222222222222,
             "#7201a8"
            ],
            [
             0.3333333333333333,
             "#9c179e"
            ],
            [
             0.4444444444444444,
             "#bd3786"
            ],
            [
             0.5555555555555556,
             "#d8576b"
            ],
            [
             0.6666666666666666,
             "#ed7953"
            ],
            [
             0.7777777777777778,
             "#fb9f3a"
            ],
            [
             0.8888888888888888,
             "#fdca26"
            ],
            [
             1,
             "#f0f921"
            ]
           ],
           "sequentialminus": [
            [
             0,
             "#0d0887"
            ],
            [
             0.1111111111111111,
             "#46039f"
            ],
            [
             0.2222222222222222,
             "#7201a8"
            ],
            [
             0.3333333333333333,
             "#9c179e"
            ],
            [
             0.4444444444444444,
             "#bd3786"
            ],
            [
             0.5555555555555556,
             "#d8576b"
            ],
            [
             0.6666666666666666,
             "#ed7953"
            ],
            [
             0.7777777777777778,
             "#fb9f3a"
            ],
            [
             0.8888888888888888,
             "#fdca26"
            ],
            [
             1,
             "#f0f921"
            ]
           ]
          },
          "colorway": [
           "#636efa",
           "#EF553B",
           "#00cc96",
           "#ab63fa",
           "#FFA15A",
           "#19d3f3",
           "#FF6692",
           "#B6E880",
           "#FF97FF",
           "#FECB52"
          ],
          "font": {
           "color": "#2a3f5f"
          },
          "geo": {
           "bgcolor": "white",
           "lakecolor": "white",
           "landcolor": "#E5ECF6",
           "showlakes": true,
           "showland": true,
           "subunitcolor": "white"
          },
          "hoverlabel": {
           "align": "left"
          },
          "hovermode": "closest",
          "mapbox": {
           "style": "light"
          },
          "paper_bgcolor": "white",
          "plot_bgcolor": "#E5ECF6",
          "polar": {
           "angularaxis": {
            "gridcolor": "white",
            "linecolor": "white",
            "ticks": ""
           },
           "bgcolor": "#E5ECF6",
           "radialaxis": {
            "gridcolor": "white",
            "linecolor": "white",
            "ticks": ""
           }
          },
          "scene": {
           "xaxis": {
            "backgroundcolor": "#E5ECF6",
            "gridcolor": "white",
            "gridwidth": 2,
            "linecolor": "white",
            "showbackground": true,
            "ticks": "",
            "zerolinecolor": "white"
           },
           "yaxis": {
            "backgroundcolor": "#E5ECF6",
            "gridcolor": "white",
            "gridwidth": 2,
            "linecolor": "white",
            "showbackground": true,
            "ticks": "",
            "zerolinecolor": "white"
           },
           "zaxis": {
            "backgroundcolor": "#E5ECF6",
            "gridcolor": "white",
            "gridwidth": 2,
            "linecolor": "white",
            "showbackground": true,
            "ticks": "",
            "zerolinecolor": "white"
           }
          },
          "shapedefaults": {
           "line": {
            "color": "#2a3f5f"
           }
          },
          "ternary": {
           "aaxis": {
            "gridcolor": "white",
            "linecolor": "white",
            "ticks": ""
           },
           "baxis": {
            "gridcolor": "white",
            "linecolor": "white",
            "ticks": ""
           },
           "bgcolor": "#E5ECF6",
           "caxis": {
            "gridcolor": "white",
            "linecolor": "white",
            "ticks": ""
           }
          },
          "title": {
           "x": 0.05
          },
          "xaxis": {
           "automargin": true,
           "gridcolor": "white",
           "linecolor": "white",
           "ticks": "",
           "title": {
            "standoff": 15
           },
           "zerolinecolor": "white",
           "zerolinewidth": 2
          },
          "yaxis": {
           "automargin": true,
           "gridcolor": "white",
           "linecolor": "white",
           "ticks": "",
           "title": {
            "standoff": 15
           },
           "zerolinecolor": "white",
           "zerolinewidth": 2
          }
         }
        },
        "xaxis": {
         "autorange": true,
         "range": [
          -0.5,
          200.2367178276269
         ],
         "rangeslider": {
          "autorange": true,
          "range": [
           -0.5,
           200.2367178276269
          ],
          "yaxis": {
           "_template": null,
           "rangemode": "match"
          }
         },
         "type": "linear"
        },
        "yaxis": {
         "autorange": true,
         "range": [
          354.3662666153793,
          480.8084242687238
         ]
        }
       }
      },
      "image/png": "[encoded data removed]",
      "text/html": [
       "<div>                            <div id=\"f68d30ea-5b9e-4857-af24-af74d8c0f497\" class=\"plotly-graph-div\" style=\"height:525px; width:100%;\"></div>            <script type=\"text/javascript\">                require([\"plotly\"], function(Plotly) {                    window.PLOTLYENV=window.PLOTLYENV || {};                                    if (document.getElementById(\"f68d30ea-5b9e-4857-af24-af74d8c0f497\")) {                    Plotly.newPlot(                        \"f68d30ea-5b9e-4857-af24-af74d8c0f497\",                        [{\"close\":[461.93988037109375,460.4129943847656,456.7090759277344,456.8568115234375,460.30462646484375,460.4622497558594,462.28466796875,461.16168212890625,462.72802734375,461.9005126953125,460.6001892089844,461.2109069824219,462.4422912597656,452.12835693359375,457.6744384765625,448.7691955566406,443.78460693359375,450.5817565917969,446.6611022949219,451.9510803222656,461.2995910644531,462.5211181640625,459.39837646484375,463.7229309082031,459.6150817871094,456.4529113769531,463.5849914550781,459.49688720703125,454.6064758300781,449.7724914550781,457.760009765625,462.3370056152344,465.21368408203125,471.7974548339844,471.4118957519531,472.01495361328125,470.7100524902344,469.5238037109375,472.2423095703125,472.0841064453125,463.01910400390625,462.5841369628906,460.75531005859375,460.18194580078125,464.3734436035156,465.6288757324219,459.213134765625,459.4010009765625,451.2651672363281,446.57940673828125,441.6366882324219,432.9670715332031,434.8057556152344,429.4972229003906,428.4197082519531,426.3041687011719,436.8916320800781,444.760498046875,447.7657470703125,452.1153564453125,441.4884033203125,443.5643615722656,442.1408386230469,445.77874755859375,452.3031921386719,444.17724609375,435.41864013671875,433.9951477050781,440.9941101074219,441.4884033203125,432.0575866699219,429.2599792480469,424.6532897949219,417.1205139160156,423.3978271484375,432.7396545410156,431.63250732421875,425.05865478515625,432.87811279296875,430.7230224609375,427.2235412597656,414.6293640136719,411.48577880859375,422.51800537109375,420.610107421875,415.26202392578125,412.2271728515625,421.292236328125,430.634033203125,436.0216979980469,440.7973327636719,440.6684265136719,445.8248596191406,440.0833740234375,446.71734619140625,448.89892578125,452.0919494628906,457.6847229003906,454.8586120605469,447.8577575683594,449.12701416015625,452.9744873046875,447.2528076171875,442.78057861328125,445.01171875,443.8218078613281,436.23590087890625,434.6195068359375,439.59747314453125,434.12371826171875,434.30218505859375,441.31298828125,440.9857482910156,434.3914489746094,422.47210693359375,424.9214172363281,412.6153564453125,413.7755432128906,424.2272644042969,408.5496826171875,411.0089111328125,412.89300537109375,425.466796875,410.3445129394531,407.89520263671875,394.83551025390625,395.747802734375,389.46087646484375,389.0543212890625,398.35577392578125,396.7394104003906,404.9005126953125,388.57830810546875,386.19842529296875,386.36700439453125,393.5959777832031,390.5913391113281,394.0422058105469,401.91571044921875,411.7823791503906,409.4718933105469,406.1598815917969,413.8945617675781,407.1018981933594,408.3414611816406,412.25836181640625,407.7762145996094,398.078125,386.53558349609375,371.8595275878906,370.739013671875,376.02435302734375,363.5794677734375,364.3632507324219,373.53558349609375,372.8583679199219,376.5133361816406,388.4841613769531,387.0002746582031,379.0927429199219,378.7840270996094,375.7066650390625,379.6803283691406,380.3973693847656,381.68212890625,387.39862060546875,387.0799560546875,382.6581115722656,379.2720031738281,377.2801818847656,376.36395263671875,383.554443359375,380.387451171875,390.6651916503906,393.15496826171875,397.1585388183594,393.4736633300781,393.95172119140625,389.2908630371094,399.39935302734375,404.40875244140625,410.3045349121094,409.0895080566406,406.390625,412.7544860839844,412.47564697265625,411.7784729003906,411.3004455566406,409.66717529296875,418.27178955078125,418.27178955078125,425.35272216796875,427.1054992675781,427.9421081542969,424.9045715332031,426.1394958496094,420.41302490234375,411.6589660644531,410.6630859375,411.9776916503906],\"high\":[463.22051993826574,462.57035150578884,460.4130373694832,458.35417291583184,460.8858280192206,461.8216836025759,463.476622664264,462.1960182712331,463.0038523491198,463.919942376069,466.4811987877852,462.1073456337604,462.5703582237442,456.9848605880097,459.6052132868019,457.11293876181486,457.7433945901328,452.2268759486868,453.43852023575164,453.9212674314211,461.89065318734845,462.99397389613455,462.62948205998595,463.88054948467556,463.5455952344251,458.7974387254398,463.8410953138141,465.8211708085714,459.4207305999944,450.1876674085448,457.9082868957625,462.45562731524785,466.78548188150756,471.8468704837619,473.32969355435415,473.08257906373285,473.51754328114333,471.40205109462113,472.3807216657983,474.48631638605656,472.5092320583563,465.43117839173607,463.8297298859487,460.4092939939143,464.47230508019663,467.78394722040724,467.46756932998835,459.76676127684203,454.6954520501679,454.3494290853147,453.489446103823,442.93168671611863,435.3395834284582,434.6871333979894,438.9577017159584,436.53571226839364,436.94104773309544,445.1262583350566,448.4379568512328,452.87653246527395,447.7854900534315,447.5976501613361,445.8281271274784,446.7475417833549,452.6392970170899,452.47120137121067,446.44101509500166,436.54563498586,441.17204265347874,442.931684304537,441.45874873347236,433.6392679106509,430.5154097178561,428.30106103664184,423.8525838825361,432.8286208098192,433.18454495400056,432.1663637194288,434.68715412147407,436.0612101040459,428.40978836365167,427.35205429210276,422.32032684373695,424.59397547596285,421.54921593492463,423.8624284809466,419.6907462879158,421.95455087309057,430.69334404957186,436.0216979980468,441.13448178417855,442.7210680947924,446.80655908056025,444.7340999255641,446.72727212990196,449.18650563408687,452.0919494628906,458.200387511717,457.33767571847,454.91812632147673,449.6624701169323,453.0835818389499,453.9958483027275,445.1703995445369,446.91565282851775,446.8561793032968,441.27334507595015,442.0170238771549,440.39076139490294,441.00560136960956,436.0672770902297,442.06660302722275,443.8218128328768,446.2413853915548,434.41125532958233,425.0999025485545,422.47211585475065,419.3782512500081,426.0419558520609,422.30352267308285,412.43685414522116,415.4216381372007,426.06177817463373,421.44080381860226,411.32621816707115,403.0064941024103,402.67925504280765,400.65633572187966,392.48533683625664,399.8035385983029,400.58692186942926,405.1484190588463,400.4183176009376,390.83925522997254,393.70502620623034,394.39919195807806,391.84076652366394,396.1048037225104,403.6312333794285,411.9013693581638,412.97232996852904,412.75418506046395,413.9441309353551,410.5725870763427,413.12107295279543,412.7343529347155,412.33769767547756,408.291855079743,392.4655145076387,378.61249418792625,374.7749366416902,380.68497411680744,367.83354945752603,367.8688698501164,374.98960207775144,377.1706403184424,377.28017513374607,388.49413019242246,389.75893164678683,391.5515738460968,380.7061241839131,379.10271832908796,380.1384683809683,380.41730701486875,384.2914056552444,388.23518049333734,389.0418979580837,385.2872954288367,384.5802150528634,380.35756734891146,377.49927302854667,383.67394757819767,387.4982255615694,391.2627430970632,394.6388932756416,397.208322108785,398.5428362374419,394.8480331918537,392.4478773804343,401.23182193635006,405.1357465196418,411.34028877128935,411.71872227062175,411.31041790220996,413.97943466962624,413.391866239546,412.4556836890572,415.9115090600188,411.0614418214487,418.4212002072381,423.21151981805826,425.4622575648715,427.6532674277152,429.963802202433,427.74291828019767,426.85652111767564,423.5202560090412,415.52309761108154,413.7205338893691,413.41177265690214],\"low\":[461.2207813676723,458.93535416832054,455.15264131534184,456.83712047557333,457.19172741394357,459.28015558764304,460.10761979136737,460.51151681616716,459.38854561116045,461.5163117943677,460.3834674297967,457.52666708172603,458.2556439190348,450.9462327293489,454.8472249887594,448.51306162481666,443.57774572304714,443.5974473509027,442.2281816015183,446.7990302092631,451.8131356831209,459.87121407866465,459.19151523985863,459.5560044066399,459.31953569933046,453.3892850109791,453.87195424054596,457.8714588390697,452.81719490262014,445.9764461819522,451.0872673948548,457.2854769888965,463.2761259992427,466.607544539395,470.6111691628179,470.4728112024703,470.2256705027333,469.23714464735207,468.42650410269573,470.1366532158194,462.92024253253254,460.1028558261161,459.331789329575,451.37392290910174,456.76156242338106,463.57269588491556,458.13561418240937,454.6361615385267,450.0986803394288,446.2927175430621,439.4124407818949,432.93741610762225,415.9441512869428,422.26099759477876,423.95142308177117,424.5346781339232,422.9233534873862,434.7760929251571,441.8245252134182,447.8645544659762,440.6085754190579,438.75007640900003,440.74697333660356,440.12421487931573,449.8021506939638,442.0815157066429,433.9160483867408,430.3572747041986,438.10751807548485,436.8817361726757,431.4249275370094,426.87755957227427,420.98573151795205,416.5273752810809,405.9399834174015,422.96283781372745,425.77038704288657,422.22147816219183,426.6304415699974,428.8348799661836,422.98263470528383,414.56015796540635,410.3687074830403,417.9805446642092,415.6277851487968,414.7281961413844,411.0310305093529,413.6309398298518,419.9378680923793,428.23188447143536,433.55847910607173,436.9894744870046,442.1260859856014,439.99413136206294,441.0353516427663,444.6745916954664,446.2909346958001,453.3513244447868,452.64727638335665,447.38176643167407,445.37867115268716,448.4725296114604,446.0529493440323,439.7561331394801,439.81561135084553,442.2054535434022,435.7103405772736,432.9932266474523,434.17328075554553,434.01462372496155,431.9619333384212,434.0146094059943,439.7660683471935,433.43949700113836,421.87712562282195,415.332386136087,412.58560889224606,411.53449026005103,414.102777437426,407.7662900436615,401.62811295868255,409.8982771759006,410.2453407475674,406.01111469269813,402.33219847437874,393.1794824727231,391.5135728980805,388.67748392424545,381.9245319583339,392.29692673655927,394.2702727900256,399.20856201041227,387.2792812745358,383.8680995174872,377.35313325777327,387.1107390175401,383.71935216445735,388.6081176351974,395.11317435868995,404.2856934406207,406.5961855333333,403.5221541519284,403.63123229115416,406.0805252468473,407.1118250194197,404.19644193071485,406.9432528615476,398.078125,386.4860143290133,370.1737522913565,367.486483305269,369.0036284494724,361.03098308594804,360.6883744980465,370.2889105384422,368.66556934032934,371.3645039167214,379.8098026748832,385.85498538676313,378.9732387064949,376.87189883102377,371.0358494624268,372.27076315463177,371.3744368394161,378.047067090451,381.7020200800238,384.08226030366467,381.9310870883159,377.4395342992379,373.127258498116,369.52206305495616,378.98322463302077,379.10272006385037,383.8133636257635,389.4302784858606,390.0278270867561,391.1432400346693,391.60136020227054,388.35470619513643,392.43792846497354,396.5211402271115,405.10588877053,406.7292087102475,405.155707562965,408.3226789963226,410.75271344845027,407.9243101442471,410.14518747689357,408.54179325446074,415.0151782306003,417.49498178666795,419.3075474968399,422.972483188537,425.13363748859143,422.8032181180557,423.7592588669933,419.49677528211595,410.7128404151961,410.08544169235375,409.70702033371197],\"open\":[462.698421594101,462.32407813638133,458.63985090660196,458.27534859903824,458.1866814636852,461.6542345418459,460.18641404234324,462.008848102596,462.2453110373495,462.6097511659769,463.87070694484504,460.25536512881183,459.11267044699287,455.4481171600917,457.15234013278007,455.11320014550046,454.7585625872926,444.01119984453203,452.3253898476043,449.3307278595685,457.4872839626471,461.71336429127695,461.1715328043396,462.23546008133275,463.1811154492322,456.18694695355384,456.51202757900575,465.5256547758522,456.2672398674505,449.27821425542703,453.3609305057284,457.49309513220595,463.3848524971854,466.6569601891726,472.25217296117563,471.520676426014,472.45978286474065,470.1960436513577,470.84844425912456,473.7350054442367,471.69861022869173,462.53472131142144,462.5940369036953,457.4041104866488,459.90518843943073,466.1923589724666,466.78546443913797,455.911405158876,454.4779688856371,452.88638802340296,448.5565691896171,440.4603006900865,427.0851483078244,428.10335760369844,435.67569388631534,433.2438395533789,427.72771342285955,436.1897184269397,445.5217091767673,450.28652478956815,445.78862101585275,441.2412527498039,444.36508596280606,441.61694175756384,450.0097386724572,446.17411501257595,444.266213628056,434.8848708117567,438.6512410794835,438.84894978483493,438.147085436672,432.32447369113333,426.946743075598,427.7079224017071,406.3156087388995,424.6928078775693,427.08515110507835,430.06073790650487,427.4212730447816,435.4285509854193,426.8083351640208,426.6106384934223,414.81720238907917,420.2739979261272,417.68396488229035,423.21987420121394,416.07266383687795,414.9654641175031,424.9696361894637,428.6273001991835,434.331945744177,440.6188270864143,442.1260859856014,443.1673449891968,442.2054624289705,447.3817400586387,448.2741855384289,456.16753714400295,456.4848620839005,454.0554169741167,449.5137323511612,449.33523889932536,451.40772050749126,443.14750544454176,441.85835724877296,444.2184519870874,440.3907838600342,439.36937073292785,434.36169201086005,439.835460328614,433.1518959435267,434.1930947198821,443.17726233854705,444.78369474686116,433.25107052248364,420.1219538482033,422.2638527212785,413.74579565968503,418.75350303318476,420.04261787296315,408.6190902615176,411.5344833608006,413.58711354426896,420.9945602744624,407.657222216257,401.70746721179637,401.10257418673535,394.7363308640535,386.1091925233651,393.38772077558525,396.63034613002395,403.12549465904874,400.1208420908022,385.36546357658506,389.9566834536972,389.5402031563818,389.2724603968558,389.02458338337726,395.33133316910966,404.49392630422375,410.0866962528882,411.693168783268,405.9913057078747,408.9463069025536,411.3064116561258,404.6823589875329,410.46351106833333,405.9119600405998,391.5730576661437,376.6689168637618,373.6940684990385,374.1997357129782,367.40715777387805,364.01470689796395,370.36860027572,369.10377171155864,375.09916248890295,379.839678728561,389.45020228820897,388.63356786157743,379.6704007020671,374.7007872373399,375.01948165467763,374.3422564155411,380.54677804388876,383.5444577535018,385.6856591705736,384.2714792285503,382.0804737894117,373.5654608765115,372.08152594230745,380.9849810837629,386.79113868810555,384.50051283779845,390.86438981626435,392.54747551542175,397.2880116277475,394.13097751294976,392.2287761962975,392.7466578229037,400.24586034709495,405.9125726207121,407.47614042202906,407.4462861108971,408.6214395311792,412.6748105385001,407.98406224955716,413.551209607935,410.53361126449806,417.0667482330721,421.25951639625225,420.3034564551387,423.0322352943368,425.9801662145605,424.1676085940869,425.1136804525352,423.241402714664,415.3438109035657,411.21082373535467,410.4240456406023],\"x\":[0,1,2,3,4,5,6,7,8,9,10,11,12,13,14,15,16,17,18,19,20,21,22,23,24,25,26,27,28,29,30,31,32,33,34,35,36,37,38,39,40,41,42,43,44,45,46,47,48,49,50,51,52,53,54,55,56,57,58,59,60,61,62,63,64,65,66,67,68,69,70,71,72,73,74,75,76,77,78,79,80,81,82,83,84,85,86,87,88,89,90,91,92,93,94,95,96,97,98,99,100,101,102,103,104,105,106,107,108,109,110,111,112,113,114,115,116,117,118,119,120,121,122,123,124,125,126,127,128,129,130,131,132,133,134,135,136,137,138,139,140,141,142,143,144,145,146,147,148,149,150,151,152,153,154,155,156,157,158,159,160,161,162,163,164,165,166,167,168,169,170,171,172,173,174,175,176,177,178,179,180,181,182,183,184,185,186,187,188,189,190,191,192,193,194,195,196,197,198,199],\"type\":\"candlestick\"}],                        {\"template\":{\"data\":{\"bar\":[{\"error_x\":{\"color\":\"#2a3f5f\"},\"error_y\":{\"color\":\"#2a3f5f\"},\"marker\":{\"line\":{\"color\":\"#E5ECF6\",\"width\":0.5},\"pattern\":{\"fillmode\":\"overlay\",\"size\":10,\"solidity\":0.2}},\"type\":\"bar\"}],\"barpolar\":[{\"marker\":{\"line\":{\"color\":\"#E5ECF6\",\"width\":0.5},\"pattern\":{\"fillmode\":\"overlay\",\"size\":10,\"solidity\":0.2}},\"type\":\"barpolar\"}],\"carpet\":[{\"aaxis\":{\"endlinecolor\":\"#2a3f5f\",\"gridcolor\":\"white\",\"linecolor\":\"white\",\"minorgridcolor\":\"white\",\"startlinecolor\":\"#2a3f5f\"},\"baxis\":{\"endlinecolor\":\"#2a3f5f\",\"gridcolor\":\"white\",\"linecolor\":\"white\",\"minorgridcolor\":\"white\",\"startlinecolor\":\"#2a3f5f\"},\"type\":\"carpet\"}],\"choropleth\":[{\"colorbar\":{\"outlinewidth\":0,\"ticks\":\"\"},\"type\":\"choropleth\"}],\"contour\":[{\"colorbar\":{\"outlinewidth\":0,\"ticks\":\"\"},\"colorscale\":[[0.0,\"#0d0887\"],[0.1111111111111111,\"#46039f\"],[0.2222222222222222,\"#7201a8\"],[0.3333333333333333,\"#9c179e\"],[0.4444444444444444,\"#bd3786\"],[0.5555555555555556,\"#d8576b\"],[0.6666666666666666,\"#ed7953\"],[0.7777777777777778,\"#fb9f3a\"],[0.8888888888888888,\"#fdca26\"],[1.0,\"#f0f921\"]],\"type\":\"contour\"}],\"contourcarpet\":[{\"colorbar\":{\"outlinewidth\":0,\"ticks\":\"\"},\"type\":\"contourcarpet\"}],\"heatmap\":[{\"colorbar\":{\"outlinewidth\":0,\"ticks\":\"\"},\"colorscale\":[[0.0,\"#0d0887\"],[0.1111111111111111,\"#46039f\"],[0.2222222222222222,\"#7201a8\"],[0.3333333333333333,\"#9c179e\"],[0.4444444444444444,\"#bd3786\"],[0.5555555555555556,\"#d8576b\"],[0.6666666666666666,\"#ed7953\"],[0.7777777777777778,\"#fb9f3a\"],[0.8888888888888888,\"#fdca26\"],[1.0,\"#f0f921\"]],\"type\":\"heatmap\"}],\"heatmapgl\":[{\"colorbar\":{\"outlinewidth\":0,\"ticks\":\"\"},\"colorscale\":[[0.0,\"#0d0887\"],[0.1111111111111111,\"#46039f\"],[0.2222222222222222,\"#7201a8\"],[0.3333333333333333,\"#9c179e\"],[0.4444444444444444,\"#bd3786\"],[0.5555555555555556,\"#d8576b\"],[0.6666666666666666,\"#ed7953\"],[0.7777777777777778,\"#fb9f3a\"],[0.8888888888888888,\"#fdca26\"],[1.0,\"#f0f921\"]],\"type\":\"heatmapgl\"}],\"histogram\":[{\"marker\":{\"pattern\":{\"fillmode\":\"overlay\",\"size\":10,\"solidity\":0.2}},\"type\":\"histogram\"}],\"histogram2d\":[{\"colorbar\":{\"outlinewidth\":0,\"ticks\":\"\"},\"colorscale\":[[0.0,\"#0d0887\"],[0.1111111111111111,\"#46039f\"],[0.2222222222222222,\"#7201a8\"],[0.3333333333333333,\"#9c179e\"],[0.4444444444444444,\"#bd3786\"],[0.5555555555555556,\"#d8576b\"],[0.6666666666666666,\"#ed7953\"],[0.7777777777777778,\"#fb9f3a\"],[0.8888888888888888,\"#fdca26\"],[1.0,\"#f0f921\"]],\"type\":\"histogram2d\"}],\"histogram2dcontour\":[{\"colorbar\":{\"outlinewidth\":0,\"ticks\":\"\"},\"colorscale\":[[0.0,\"#0d0887\"],[0.1111111111111111,\"#46039f\"],[0.2222222222222222,\"#7201a8\"],[0.3333333333333333,\"#9c179e\"],[0.4444444444444444,\"#bd3786\"],[0.5555555555555556,\"#d8576b\"],[0.6666666666666666,\"#ed7953\"],[0.7777777777777778,\"#fb9f3a\"],[0.8888888888888888,\"#fdca26\"],[1.0,\"#f0f921\"]],\"type\":\"histogram2dcontour\"}],\"mesh3d\":[{\"colorbar\":{\"outlinewidth\":0,\"ticks\":\"\"},\"type\":\"mesh3d\"}],\"parcoords\":[{\"line\":{\"colorbar\":{\"outlinewidth\":0,\"ticks\":\"\"}},\"type\":\"parcoords\"}],\"pie\":[{\"automargin\":true,\"type\":\"pie\"}],\"scatter\":[{\"marker\":{\"colorbar\":{\"outlinewidth\":0,\"ticks\":\"\"}},\"type\":\"scatter\"}],\"scatter3d\":[{\"line\":{\"colorbar\":{\"outlinewidth\":0,\"ticks\":\"\"}},\"marker\":{\"colorbar\":{\"outlinewidth\":0,\"ticks\":\"\"}},\"type\":\"scatter3d\"}],\"scattercarpet\":[{\"marker\":{\"colorbar\":{\"outlinewidth\":0,\"ticks\":\"\"}},\"type\":\"scattercarpet\"}],\"scattergeo\":[{\"marker\":{\"colorbar\":{\"outlinewidth\":0,\"ticks\":\"\"}},\"type\":\"scattergeo\"}],\"scattergl\":[{\"marker\":{\"colorbar\":{\"outlinewidth\":0,\"ticks\":\"\"}},\"type\":\"scattergl\"}],\"scattermapbox\":[{\"marker\":{\"colorbar\":{\"outlinewidth\":0,\"ticks\":\"\"}},\"type\":\"scattermapbox\"}],\"scatterpolar\":[{\"marker\":{\"colorbar\":{\"outlinewidth\":0,\"ticks\":\"\"}},\"type\":\"scatterpolar\"}],\"scatterpolargl\":[{\"marker\":{\"colorbar\":{\"outlinewidth\":0,\"ticks\":\"\"}},\"type\":\"scatterpolargl\"}],\"scatterternary\":[{\"marker\":{\"colorbar\":{\"outlinewidth\":0,\"ticks\":\"\"}},\"type\":\"scatterternary\"}],\"surface\":[{\"colorbar\":{\"outlinewidth\":0,\"ticks\":\"\"},\"colorscale\":[[0.0,\"#0d0887\"],[0.1111111111111111,\"#46039f\"],[0.2222222222222222,\"#7201a8\"],[0.3333333333333333,\"#9c179e\"],[0.4444444444444444,\"#bd3786\"],[0.5555555555555556,\"#d8576b\"],[0.6666666666666666,\"#ed7953\"],[0.7777777777777778,\"#fb9f3a\"],[0.8888888888888888,\"#fdca26\"],[1.0,\"#f0f921\"]],\"type\":\"surface\"}],\"table\":[{\"cells\":{\"fill\":{\"color\":\"#EBF0F8\"},\"line\":{\"color\":\"white\"}},\"header\":{\"fill\":{\"color\":\"#C8D4E3\"},\"line\":{\"color\":\"white\"}},\"type\":\"table\"}]},\"layout\":{\"annotationdefaults\":{\"arrowcolor\":\"#2a3f5f\",\"arrowhead\":0,\"arrowwidth\":1},\"autotypenumbers\":\"strict\",\"coloraxis\":{\"colorbar\":{\"outlinewidth\":0,\"ticks\":\"\"}},\"colorscale\":{\"diverging\":[[0,\"#8e0152\"],[0.1,\"#c51b7d\"],[0.2,\"#de77ae\"],[0.3,\"#f1b6da\"],[0.4,\"#fde0ef\"],[0.5,\"#f7f7f7\"],[0.6,\"#e6f5d0\"],[0.7,\"#b8e186\"],[0.8,\"#7fbc41\"],[0.9,\"#4d9221\"],[1,\"#276419\"]],\"sequential\":[[0.0,\"#0d0887\"],[0.1111111111111111,\"#46039f\"],[0.2222222222222222,\"#7201a8\"],[0.3333333333333333,\"#9c179e\"],[0.4444444444444444,\"#bd3786\"],[0.5555555555555556,\"#d8576b\"],[0.6666666666666666,\"#ed7953\"],[0.7777777777777778,\"#fb9f3a\"],[0.8888888888888888,\"#fdca26\"],[1.0,\"#f0f921\"]],\"sequentialminus\":[[0.0,\"#0d0887\"],[0.1111111111111111,\"#46039f\"],[0.2222222222222222,\"#7201a8\"],[0.3333333333333333,\"#9c179e\"],[0.4444444444444444,\"#bd3786\"],[0.5555555555555556,\"#d8576b\"],[0.6666666666666666,\"#ed7953\"],[0.7777777777777778,\"#fb9f3a\"],[0.8888888888888888,\"#fdca26\"],[1.0,\"#f0f921\"]]},\"colorway\":[\"#636efa\",\"#EF553B\",\"#00cc96\",\"#ab63fa\",\"#FFA15A\",\"#19d3f3\",\"#FF6692\",\"#B6E880\",\"#FF97FF\",\"#FECB52\"],\"font\":{\"color\":\"#2a3f5f\"},\"geo\":{\"bgcolor\":\"white\",\"lakecolor\":\"white\",\"landcolor\":\"#E5ECF6\",\"showlakes\":true,\"showland\":true,\"subunitcolor\":\"white\"},\"hoverlabel\":{\"align\":\"left\"},\"hovermode\":\"closest\",\"mapbox\":{\"style\":\"light\"},\"paper_bgcolor\":\"white\",\"plot_bgcolor\":\"#E5ECF6\",\"polar\":{\"angularaxis\":{\"gridcolor\":\"white\",\"linecolor\":\"white\",\"ticks\":\"\"},\"bgcolor\":\"#E5ECF6\",\"radialaxis\":{\"gridcolor\":\"white\",\"linecolor\":\"white\",\"ticks\":\"\"}},\"scene\":{\"xaxis\":{\"backgroundcolor\":\"#E5ECF6\",\"gridcolor\":\"white\",\"gridwidth\":2,\"linecolor\":\"white\",\"showbackground\":true,\"ticks\":\"\",\"zerolinecolor\":\"white\"},\"yaxis\":{\"backgroundcolor\":\"#E5ECF6\",\"gridcolor\":\"white\",\"gridwidth\":2,\"linecolor\":\"white\",\"showbackground\":true,\"ticks\":\"\",\"zerolinecolor\":\"white\"},\"zaxis\":{\"backgroundcolor\":\"#E5ECF6\",\"gridcolor\":\"white\",\"gridwidth\":2,\"linecolor\":\"white\",\"showbackground\":true,\"ticks\":\"\",\"zerolinecolor\":\"white\"}},\"shapedefaults\":{\"line\":{\"color\":\"#2a3f5f\"}},\"ternary\":{\"aaxis\":{\"gridcolor\":\"white\",\"linecolor\":\"white\",\"ticks\":\"\"},\"baxis\":{\"gridcolor\":\"white\",\"linecolor\":\"white\",\"ticks\":\"\"},\"bgcolor\":\"#E5ECF6\",\"caxis\":{\"gridcolor\":\"white\",\"linecolor\":\"white\",\"ticks\":\"\"}},\"title\":{\"x\":0.05},\"xaxis\":{\"automargin\":true,\"gridcolor\":\"white\",\"linecolor\":\"white\",\"ticks\":\"\",\"title\":{\"standoff\":15},\"zerolinecolor\":\"white\",\"zerolinewidth\":2},\"yaxis\":{\"automargin\":true,\"gridcolor\":\"white\",\"linecolor\":\"white\",\"ticks\":\"\",\"title\":{\"standoff\":15},\"zerolinecolor\":\"white\",\"zerolinewidth\":2}}},\"shapes\":[{\"type\":\"line\",\"x0\":0,\"x1\":200,\"y0\":415.9441512869428,\"y1\":415.9441512869428},{\"type\":\"line\",\"x0\":0,\"x1\":200,\"y0\":381.9245319583339,\"y1\":381.9245319583339},{\"type\":\"line\",\"x0\":0,\"x1\":200,\"y0\":389.0418979580837,\"y1\":389.0418979580837},{\"type\":\"line\",\"x0\":0,\"x1\":200,\"y0\":429.963802202433,\"y1\":429.963802202433}]},                        {\"responsive\": true}                    ).then(function(){\n",
       "                            \n",
       "var gd = document.getElementById('f68d30ea-5b9e-4857-af24-af74d8c0f497');\n",
       "var x = new MutationObserver(function (mutations, observer) {{\n",
       "        var display = window.getComputedStyle(gd).display;\n",
       "        if (!display || display === 'none') {{\n",
       "            console.log([gd, 'removed!']);\n",
       "            Plotly.purge(gd);\n",
       "            observer.disconnect();\n",
       "        }}\n",
       "}});\n",
       "\n",
       "// Listen for the removal of the full notebook cells\n",
       "var notebookContainer = gd.closest('#notebook-container');\n",
       "if (notebookContainer) {{\n",
       "    x.observe(notebookContainer, {childList: true});\n",
       "}}\n",
       "\n",
       "// Listen for the clearing of the current output cell\n",
       "var outputEl = gd.closest('.output');\n",
       "if (outputEl) {{\n",
       "    x.observe(outputEl, {childList: true});\n",
       "}}\n",
       "\n",
       "                        })                };                });            </script>        </div>"
      ]
     },
     "metadata": {},
     "output_type": "display_data"
    }
   ],
   "source": [
    "s = 0\n",
    "e = 200\n",
    "dfpl = sr_df[s:e]\n",
    "import plotly.graph_objects as go\n",
    "from datetime import datetime\n",
    "import matplotlib.pyplot as plt\n",
    "\n",
    "fig = go.Figure(data=[go.Candlestick(x=dfpl.index,\n",
    "                open=dfpl['Open'],\n",
    "                high=dfpl['High'],\n",
    "                low=dfpl['Low'],\n",
    "                close=dfpl['Close'])])\n",
    "\n",
    "c=0\n",
    "while (1):\n",
    "    if(c>len(sr)-1 ):#or sr[c][0]>e\n",
    "        break\n",
    "    fig.add_shape(type='line', x0=s, y0=sr[c][1],\n",
    "                  x1=e,\n",
    "                  y1=sr[c][1]\n",
    "                  )#x0=sr[c][0]-5 x1=sr[c][0]+5\n",
    "    c+=1\n",
    "fig.show()"
   ]
  },
  {
   "cell_type": "code",
   "execution_count": 144,
   "id": "f31d0df3-5943-4cb2-8eeb-395c71c7d31c",
   "metadata": {},
   "outputs": [
    {
     "data": {
      "text/plain": [
       "[389.0418979580837, 429.963802202433]"
      ]
     },
     "execution_count": 144,
     "metadata": {},
     "output_type": "execute_result"
    }
   ],
   "source": [
    "plotlist1 = [x[1] for x in sr if x[2]==1]\n",
    "plotlist2 = [x[1] for x in sr if x[2]==2]\n",
    "plotlist1.sort()\n",
    "plotlist2.sort()\n",
    "\n",
    "for i in range(1,len(plotlist1)):\n",
    "    if(i>=len(plotlist1)):\n",
    "        break\n",
    "    if abs(plotlist1[i]-plotlist1[i-1])<=0.005:\n",
    "        plotlist1.pop(i)\n",
    "\n",
    "for i in range(1,len(plotlist2)):\n",
    "    if(i>=len(plotlist2)):\n",
    "        break\n",
    "    if abs(plotlist2[i]-plotlist2[i-1])<=0.005:\n",
    "        plotlist2.pop(i)\n",
    "plotlist2\n",
    "#plt.hist(plotlist, bins=10, alpha=0.5)"
   ]
  },
  {
   "cell_type": "code",
   "execution_count": 145,
   "id": "d37280cb-021d-4a9b-81f7-b6acb44fced0",
   "metadata": {},
   "outputs": [
    {
     "data": {
      "application/vnd.plotly.v1+json": {
       "config": {
        "plotlyServerURL": "https://plot.ly"
       },
       "data": [
        {
         "close": [
          461.93988037109375,
          460.4129943847656,
          456.7090759277344,
          456.8568115234375,
          460.30462646484375,
          460.4622497558594,
          462.28466796875,
          461.16168212890625,
          462.72802734375,
          461.9005126953125,
          460.6001892089844,
          461.2109069824219,
          462.4422912597656,
          452.12835693359375,
          457.6744384765625,
          448.7691955566406,
          443.78460693359375,
          450.5817565917969,
          446.6611022949219,
          451.9510803222656,
          461.2995910644531,
          462.5211181640625,
          459.39837646484375,
          463.7229309082031,
          459.6150817871094,
          456.4529113769531,
          463.5849914550781,
          459.49688720703125,
          454.6064758300781,
          449.7724914550781,
          457.760009765625,
          462.3370056152344,
          465.21368408203125,
          471.7974548339844,
          471.4118957519531,
          472.01495361328125,
          470.7100524902344,
          469.5238037109375,
          472.2423095703125,
          472.0841064453125,
          463.01910400390625,
          462.5841369628906,
          460.75531005859375,
          460.18194580078125,
          464.3734436035156,
          465.6288757324219,
          459.213134765625,
          459.4010009765625,
          451.2651672363281,
          446.57940673828125,
          441.6366882324219,
          432.9670715332031,
          434.8057556152344,
          429.4972229003906,
          428.4197082519531,
          426.3041687011719,
          436.8916320800781,
          444.760498046875,
          447.7657470703125,
          452.1153564453125,
          441.4884033203125,
          443.5643615722656,
          442.1408386230469,
          445.77874755859375,
          452.3031921386719,
          444.17724609375,
          435.41864013671875,
          433.9951477050781,
          440.9941101074219,
          441.4884033203125,
          432.0575866699219,
          429.2599792480469,
          424.6532897949219,
          417.1205139160156,
          423.3978271484375,
          432.7396545410156,
          431.63250732421875,
          425.05865478515625,
          432.87811279296875,
          430.7230224609375,
          427.2235412597656,
          414.6293640136719,
          411.48577880859375,
          422.51800537109375,
          420.610107421875,
          415.26202392578125,
          412.2271728515625,
          421.292236328125,
          430.634033203125,
          436.0216979980469,
          440.7973327636719,
          440.6684265136719,
          445.8248596191406,
          440.0833740234375,
          446.71734619140625,
          448.89892578125,
          452.0919494628906,
          457.6847229003906,
          454.8586120605469,
          447.8577575683594,
          449.12701416015625,
          452.9744873046875,
          447.2528076171875,
          442.78057861328125,
          445.01171875,
          443.8218078613281,
          436.23590087890625,
          434.6195068359375,
          439.59747314453125,
          434.12371826171875,
          434.30218505859375,
          441.31298828125,
          440.9857482910156,
          434.3914489746094,
          422.47210693359375,
          424.9214172363281,
          412.6153564453125,
          413.7755432128906,
          424.2272644042969,
          408.5496826171875,
          411.0089111328125,
          412.89300537109375,
          425.466796875,
          410.3445129394531,
          407.89520263671875,
          394.83551025390625,
          395.747802734375,
          389.46087646484375,
          389.0543212890625,
          398.35577392578125,
          396.7394104003906,
          404.9005126953125,
          388.57830810546875,
          386.19842529296875,
          386.36700439453125,
          393.5959777832031,
          390.5913391113281,
          394.0422058105469,
          401.91571044921875,
          411.7823791503906,
          409.4718933105469,
          406.1598815917969,
          413.8945617675781,
          407.1018981933594,
          408.3414611816406,
          412.25836181640625,
          407.7762145996094,
          398.078125,
          386.53558349609375,
          371.8595275878906,
          370.739013671875,
          376.02435302734375,
          363.5794677734375,
          364.3632507324219,
          373.53558349609375,
          372.8583679199219,
          376.5133361816406,
          388.4841613769531,
          387.0002746582031,
          379.0927429199219,
          378.7840270996094,
          375.7066650390625,
          379.6803283691406,
          380.3973693847656,
          381.68212890625,
          387.39862060546875,
          387.0799560546875,
          382.6581115722656,
          379.2720031738281,
          377.2801818847656,
          376.36395263671875,
          383.554443359375,
          380.387451171875,
          390.6651916503906,
          393.15496826171875,
          397.1585388183594,
          393.4736633300781,
          393.95172119140625,
          389.2908630371094,
          399.39935302734375,
          404.40875244140625,
          410.3045349121094,
          409.0895080566406,
          406.390625,
          412.7544860839844,
          412.47564697265625,
          411.7784729003906,
          411.3004455566406,
          409.66717529296875,
          418.27178955078125,
          418.27178955078125,
          425.35272216796875,
          427.1054992675781,
          427.9421081542969,
          424.9045715332031,
          426.1394958496094,
          420.41302490234375,
          411.6589660644531,
          410.6630859375,
          411.9776916503906
         ],
         "high": [
          463.22051993826574,
          462.57035150578884,
          460.4130373694832,
          458.35417291583184,
          460.8858280192206,
          461.8216836025759,
          463.476622664264,
          462.1960182712331,
          463.0038523491198,
          463.919942376069,
          466.4811987877852,
          462.1073456337604,
          462.5703582237442,
          456.9848605880097,
          459.6052132868019,
          457.11293876181486,
          457.7433945901328,
          452.2268759486868,
          453.43852023575164,
          453.9212674314211,
          461.89065318734845,
          462.99397389613455,
          462.62948205998595,
          463.88054948467556,
          463.5455952344251,
          458.7974387254398,
          463.8410953138141,
          465.8211708085714,
          459.4207305999944,
          450.1876674085448,
          457.9082868957625,
          462.45562731524785,
          466.78548188150756,
          471.8468704837619,
          473.32969355435415,
          473.08257906373285,
          473.51754328114333,
          471.40205109462113,
          472.3807216657983,
          474.48631638605656,
          472.5092320583563,
          465.43117839173607,
          463.8297298859487,
          460.4092939939143,
          464.47230508019663,
          467.78394722040724,
          467.46756932998835,
          459.76676127684203,
          454.6954520501679,
          454.3494290853147,
          453.489446103823,
          442.93168671611863,
          435.3395834284582,
          434.6871333979894,
          438.9577017159584,
          436.53571226839364,
          436.94104773309544,
          445.1262583350566,
          448.4379568512328,
          452.87653246527395,
          447.7854900534315,
          447.5976501613361,
          445.8281271274784,
          446.7475417833549,
          452.6392970170899,
          452.47120137121067,
          446.44101509500166,
          436.54563498586,
          441.17204265347874,
          442.931684304537,
          441.45874873347236,
          433.6392679106509,
          430.5154097178561,
          428.30106103664184,
          423.8525838825361,
          432.8286208098192,
          433.18454495400056,
          432.1663637194288,
          434.68715412147407,
          436.0612101040459,
          428.40978836365167,
          427.35205429210276,
          422.32032684373695,
          424.59397547596285,
          421.54921593492463,
          423.8624284809466,
          419.6907462879158,
          421.95455087309057,
          430.69334404957186,
          436.0216979980468,
          441.13448178417855,
          442.7210680947924,
          446.80655908056025,
          444.7340999255641,
          446.72727212990196,
          449.18650563408687,
          452.0919494628906,
          458.200387511717,
          457.33767571847,
          454.91812632147673,
          449.6624701169323,
          453.0835818389499,
          453.9958483027275,
          445.1703995445369,
          446.91565282851775,
          446.8561793032968,
          441.27334507595015,
          442.0170238771549,
          440.39076139490294,
          441.00560136960956,
          436.0672770902297,
          442.06660302722275,
          443.8218128328768,
          446.2413853915548,
          434.41125532958233,
          425.0999025485545,
          422.47211585475065,
          419.3782512500081,
          426.0419558520609,
          422.30352267308285,
          412.43685414522116,
          415.4216381372007,
          426.06177817463373,
          421.44080381860226,
          411.32621816707115,
          403.0064941024103,
          402.67925504280765,
          400.65633572187966,
          392.48533683625664,
          399.8035385983029,
          400.58692186942926,
          405.1484190588463,
          400.4183176009376,
          390.83925522997254,
          393.70502620623034,
          394.39919195807806,
          391.84076652366394,
          396.1048037225104,
          403.6312333794285,
          411.9013693581638,
          412.97232996852904,
          412.75418506046395,
          413.9441309353551,
          410.5725870763427,
          413.12107295279543,
          412.7343529347155,
          412.33769767547756,
          408.291855079743,
          392.4655145076387,
          378.61249418792625,
          374.7749366416902,
          380.68497411680744,
          367.83354945752603,
          367.8688698501164,
          374.98960207775144,
          377.1706403184424,
          377.28017513374607,
          388.49413019242246,
          389.75893164678683,
          391.5515738460968,
          380.7061241839131,
          379.10271832908796,
          380.1384683809683,
          380.41730701486875,
          384.2914056552444,
          388.23518049333734,
          389.0418979580837,
          385.2872954288367,
          384.5802150528634,
          380.35756734891146,
          377.49927302854667,
          383.67394757819767,
          387.4982255615694,
          391.2627430970632,
          394.6388932756416,
          397.208322108785,
          398.5428362374419,
          394.8480331918537,
          392.4478773804343,
          401.23182193635006,
          405.1357465196418,
          411.34028877128935,
          411.71872227062175,
          411.31041790220996,
          413.97943466962624,
          413.391866239546,
          412.4556836890572,
          415.9115090600188,
          411.0614418214487,
          418.4212002072381,
          423.21151981805826,
          425.4622575648715,
          427.6532674277152,
          429.963802202433,
          427.74291828019767,
          426.85652111767564,
          423.5202560090412,
          415.52309761108154,
          413.7205338893691,
          413.41177265690214
         ],
         "low": [
          461.2207813676723,
          458.93535416832054,
          455.15264131534184,
          456.83712047557333,
          457.19172741394357,
          459.28015558764304,
          460.10761979136737,
          460.51151681616716,
          459.38854561116045,
          461.5163117943677,
          460.3834674297967,
          457.52666708172603,
          458.2556439190348,
          450.9462327293489,
          454.8472249887594,
          448.51306162481666,
          443.57774572304714,
          443.5974473509027,
          442.2281816015183,
          446.7990302092631,
          451.8131356831209,
          459.87121407866465,
          459.19151523985863,
          459.5560044066399,
          459.31953569933046,
          453.3892850109791,
          453.87195424054596,
          457.8714588390697,
          452.81719490262014,
          445.9764461819522,
          451.0872673948548,
          457.2854769888965,
          463.2761259992427,
          466.607544539395,
          470.6111691628179,
          470.4728112024703,
          470.2256705027333,
          469.23714464735207,
          468.42650410269573,
          470.1366532158194,
          462.92024253253254,
          460.1028558261161,
          459.331789329575,
          451.37392290910174,
          456.76156242338106,
          463.57269588491556,
          458.13561418240937,
          454.6361615385267,
          450.0986803394288,
          446.2927175430621,
          439.4124407818949,
          432.93741610762225,
          415.9441512869428,
          422.26099759477876,
          423.95142308177117,
          424.5346781339232,
          422.9233534873862,
          434.7760929251571,
          441.8245252134182,
          447.8645544659762,
          440.6085754190579,
          438.75007640900003,
          440.74697333660356,
          440.12421487931573,
          449.8021506939638,
          442.0815157066429,
          433.9160483867408,
          430.3572747041986,
          438.10751807548485,
          436.8817361726757,
          431.4249275370094,
          426.87755957227427,
          420.98573151795205,
          416.5273752810809,
          405.9399834174015,
          422.96283781372745,
          425.77038704288657,
          422.22147816219183,
          426.6304415699974,
          428.8348799661836,
          422.98263470528383,
          414.56015796540635,
          410.3687074830403,
          417.9805446642092,
          415.6277851487968,
          414.7281961413844,
          411.0310305093529,
          413.6309398298518,
          419.9378680923793,
          428.23188447143536,
          433.55847910607173,
          436.9894744870046,
          442.1260859856014,
          439.99413136206294,
          441.0353516427663,
          444.6745916954664,
          446.2909346958001,
          453.3513244447868,
          452.64727638335665,
          447.38176643167407,
          445.37867115268716,
          448.4725296114604,
          446.0529493440323,
          439.7561331394801,
          439.81561135084553,
          442.2054535434022,
          435.7103405772736,
          432.9932266474523,
          434.17328075554553,
          434.01462372496155,
          431.9619333384212,
          434.0146094059943,
          439.7660683471935,
          433.43949700113836,
          421.87712562282195,
          415.332386136087,
          412.58560889224606,
          411.53449026005103,
          414.102777437426,
          407.7662900436615,
          401.62811295868255,
          409.8982771759006,
          410.2453407475674,
          406.01111469269813,
          402.33219847437874,
          393.1794824727231,
          391.5135728980805,
          388.67748392424545,
          381.9245319583339,
          392.29692673655927,
          394.2702727900256,
          399.20856201041227,
          387.2792812745358,
          383.8680995174872,
          377.35313325777327,
          387.1107390175401,
          383.71935216445735,
          388.6081176351974,
          395.11317435868995,
          404.2856934406207,
          406.5961855333333,
          403.5221541519284,
          403.63123229115416,
          406.0805252468473,
          407.1118250194197,
          404.19644193071485,
          406.9432528615476,
          398.078125,
          386.4860143290133,
          370.1737522913565,
          367.486483305269,
          369.0036284494724,
          361.03098308594804,
          360.6883744980465,
          370.2889105384422,
          368.66556934032934,
          371.3645039167214,
          379.8098026748832,
          385.85498538676313,
          378.9732387064949,
          376.87189883102377,
          371.0358494624268,
          372.27076315463177,
          371.3744368394161,
          378.047067090451,
          381.7020200800238,
          384.08226030366467,
          381.9310870883159,
          377.4395342992379,
          373.127258498116,
          369.52206305495616,
          378.98322463302077,
          379.10272006385037,
          383.8133636257635,
          389.4302784858606,
          390.0278270867561,
          391.1432400346693,
          391.60136020227054,
          388.35470619513643,
          392.43792846497354,
          396.5211402271115,
          405.10588877053,
          406.7292087102475,
          405.155707562965,
          408.3226789963226,
          410.75271344845027,
          407.9243101442471,
          410.14518747689357,
          408.54179325446074,
          415.0151782306003,
          417.49498178666795,
          419.3075474968399,
          422.972483188537,
          425.13363748859143,
          422.8032181180557,
          423.7592588669933,
          419.49677528211595,
          410.7128404151961,
          410.08544169235375,
          409.70702033371197
         ],
         "open": [
          462.698421594101,
          462.32407813638133,
          458.63985090660196,
          458.27534859903824,
          458.1866814636852,
          461.6542345418459,
          460.18641404234324,
          462.008848102596,
          462.2453110373495,
          462.6097511659769,
          463.87070694484504,
          460.25536512881183,
          459.11267044699287,
          455.4481171600917,
          457.15234013278007,
          455.11320014550046,
          454.7585625872926,
          444.01119984453203,
          452.3253898476043,
          449.3307278595685,
          457.4872839626471,
          461.71336429127695,
          461.1715328043396,
          462.23546008133275,
          463.1811154492322,
          456.18694695355384,
          456.51202757900575,
          465.5256547758522,
          456.2672398674505,
          449.27821425542703,
          453.3609305057284,
          457.49309513220595,
          463.3848524971854,
          466.6569601891726,
          472.25217296117563,
          471.520676426014,
          472.45978286474065,
          470.1960436513577,
          470.84844425912456,
          473.7350054442367,
          471.69861022869173,
          462.53472131142144,
          462.5940369036953,
          457.4041104866488,
          459.90518843943073,
          466.1923589724666,
          466.78546443913797,
          455.911405158876,
          454.4779688856371,
          452.88638802340296,
          448.5565691896171,
          440.4603006900865,
          427.0851483078244,
          428.10335760369844,
          435.67569388631534,
          433.2438395533789,
          427.72771342285955,
          436.1897184269397,
          445.5217091767673,
          450.28652478956815,
          445.78862101585275,
          441.2412527498039,
          444.36508596280606,
          441.61694175756384,
          450.0097386724572,
          446.17411501257595,
          444.266213628056,
          434.8848708117567,
          438.6512410794835,
          438.84894978483493,
          438.147085436672,
          432.32447369113333,
          426.946743075598,
          427.7079224017071,
          406.3156087388995,
          424.6928078775693,
          427.08515110507835,
          430.06073790650487,
          427.4212730447816,
          435.4285509854193,
          426.8083351640208,
          426.6106384934223,
          414.81720238907917,
          420.2739979261272,
          417.68396488229035,
          423.21987420121394,
          416.07266383687795,
          414.9654641175031,
          424.9696361894637,
          428.6273001991835,
          434.331945744177,
          440.6188270864143,
          442.1260859856014,
          443.1673449891968,
          442.2054624289705,
          447.3817400586387,
          448.2741855384289,
          456.16753714400295,
          456.4848620839005,
          454.0554169741167,
          449.5137323511612,
          449.33523889932536,
          451.40772050749126,
          443.14750544454176,
          441.85835724877296,
          444.2184519870874,
          440.3907838600342,
          439.36937073292785,
          434.36169201086005,
          439.835460328614,
          433.1518959435267,
          434.1930947198821,
          443.17726233854705,
          444.78369474686116,
          433.25107052248364,
          420.1219538482033,
          422.2638527212785,
          413.74579565968503,
          418.75350303318476,
          420.04261787296315,
          408.6190902615176,
          411.5344833608006,
          413.58711354426896,
          420.9945602744624,
          407.657222216257,
          401.70746721179637,
          401.10257418673535,
          394.7363308640535,
          386.1091925233651,
          393.38772077558525,
          396.63034613002395,
          403.12549465904874,
          400.1208420908022,
          385.36546357658506,
          389.9566834536972,
          389.5402031563818,
          389.2724603968558,
          389.02458338337726,
          395.33133316910966,
          404.49392630422375,
          410.0866962528882,
          411.693168783268,
          405.9913057078747,
          408.9463069025536,
          411.3064116561258,
          404.6823589875329,
          410.46351106833333,
          405.9119600405998,
          391.5730576661437,
          376.6689168637618,
          373.6940684990385,
          374.1997357129782,
          367.40715777387805,
          364.01470689796395,
          370.36860027572,
          369.10377171155864,
          375.09916248890295,
          379.839678728561,
          389.45020228820897,
          388.63356786157743,
          379.6704007020671,
          374.7007872373399,
          375.01948165467763,
          374.3422564155411,
          380.54677804388876,
          383.5444577535018,
          385.6856591705736,
          384.2714792285503,
          382.0804737894117,
          373.5654608765115,
          372.08152594230745,
          380.9849810837629,
          386.79113868810555,
          384.50051283779845,
          390.86438981626435,
          392.54747551542175,
          397.2880116277475,
          394.13097751294976,
          392.2287761962975,
          392.7466578229037,
          400.24586034709495,
          405.9125726207121,
          407.47614042202906,
          407.4462861108971,
          408.6214395311792,
          412.6748105385001,
          407.98406224955716,
          413.551209607935,
          410.53361126449806,
          417.0667482330721,
          421.25951639625225,
          420.3034564551387,
          423.0322352943368,
          425.9801662145605,
          424.1676085940869,
          425.1136804525352,
          423.241402714664,
          415.3438109035657,
          411.21082373535467,
          410.4240456406023
         ],
         "type": "candlestick",
         "x": [
          0,
          1,
          2,
          3,
          4,
          5,
          6,
          7,
          8,
          9,
          10,
          11,
          12,
          13,
          14,
          15,
          16,
          17,
          18,
          19,
          20,
          21,
          22,
          23,
          24,
          25,
          26,
          27,
          28,
          29,
          30,
          31,
          32,
          33,
          34,
          35,
          36,
          37,
          38,
          39,
          40,
          41,
          42,
          43,
          44,
          45,
          46,
          47,
          48,
          49,
          50,
          51,
          52,
          53,
          54,
          55,
          56,
          57,
          58,
          59,
          60,
          61,
          62,
          63,
          64,
          65,
          66,
          67,
          68,
          69,
          70,
          71,
          72,
          73,
          74,
          75,
          76,
          77,
          78,
          79,
          80,
          81,
          82,
          83,
          84,
          85,
          86,
          87,
          88,
          89,
          90,
          91,
          92,
          93,
          94,
          95,
          96,
          97,
          98,
          99,
          100,
          101,
          102,
          103,
          104,
          105,
          106,
          107,
          108,
          109,
          110,
          111,
          112,
          113,
          114,
          115,
          116,
          117,
          118,
          119,
          120,
          121,
          122,
          123,
          124,
          125,
          126,
          127,
          128,
          129,
          130,
          131,
          132,
          133,
          134,
          135,
          136,
          137,
          138,
          139,
          140,
          141,
          142,
          143,
          144,
          145,
          146,
          147,
          148,
          149,
          150,
          151,
          152,
          153,
          154,
          155,
          156,
          157,
          158,
          159,
          160,
          161,
          162,
          163,
          164,
          165,
          166,
          167,
          168,
          169,
          170,
          171,
          172,
          173,
          174,
          175,
          176,
          177,
          178,
          179,
          180,
          181,
          182,
          183,
          184,
          185,
          186,
          187,
          188,
          189,
          190,
          191,
          192,
          193,
          194,
          195,
          196,
          197,
          198,
          199
         ]
        }
       ],
       "layout": {
        "autosize": true,
        "shapes": [
         {
          "line": {
           "color": "MediumPurple",
           "width": 3
          },
          "type": "line",
          "x0": 0,
          "x1": 200,
          "y0": 381.9245319583339,
          "y1": 381.9245319583339
         },
         {
          "line": {
           "color": "MediumPurple",
           "width": 3
          },
          "type": "line",
          "x0": 0,
          "x1": 200,
          "y0": 415.9441512869428,
          "y1": 415.9441512869428
         },
         {
          "line": {
           "color": "RoyalBlue",
           "width": 1
          },
          "type": "line",
          "x0": 0,
          "x1": 200,
          "y0": 389.0418979580837,
          "y1": 389.0418979580837
         },
         {
          "line": {
           "color": "RoyalBlue",
           "width": 1
          },
          "type": "line",
          "x0": 0,
          "x1": 200,
          "y0": 429.963802202433,
          "y1": 429.963802202433
         }
        ],
        "template": {
         "data": {
          "bar": [
           {
            "error_x": {
             "color": "#2a3f5f"
            },
            "error_y": {
             "color": "#2a3f5f"
            },
            "marker": {
             "line": {
              "color": "#E5ECF6",
              "width": 0.5
             },
             "pattern": {
              "fillmode": "overlay",
              "size": 10,
              "solidity": 0.2
             }
            },
            "type": "bar"
           }
          ],
          "barpolar": [
           {
            "marker": {
             "line": {
              "color": "#E5ECF6",
              "width": 0.5
             },
             "pattern": {
              "fillmode": "overlay",
              "size": 10,
              "solidity": 0.2
             }
            },
            "type": "barpolar"
           }
          ],
          "carpet": [
           {
            "aaxis": {
             "endlinecolor": "#2a3f5f",
             "gridcolor": "white",
             "linecolor": "white",
             "minorgridcolor": "white",
             "startlinecolor": "#2a3f5f"
            },
            "baxis": {
             "endlinecolor": "#2a3f5f",
             "gridcolor": "white",
             "linecolor": "white",
             "minorgridcolor": "white",
             "startlinecolor": "#2a3f5f"
            },
            "type": "carpet"
           }
          ],
          "choropleth": [
           {
            "colorbar": {
             "outlinewidth": 0,
             "ticks": ""
            },
            "type": "choropleth"
           }
          ],
          "contour": [
           {
            "colorbar": {
             "outlinewidth": 0,
             "ticks": ""
            },
            "colorscale": [
             [
              0,
              "#0d0887"
             ],
             [
              0.1111111111111111,
              "#46039f"
             ],
             [
              0.2222222222222222,
              "#7201a8"
             ],
             [
              0.3333333333333333,
              "#9c179e"
             ],
             [
              0.4444444444444444,
              "#bd3786"
             ],
             [
              0.5555555555555556,
              "#d8576b"
             ],
             [
              0.6666666666666666,
              "#ed7953"
             ],
             [
              0.7777777777777778,
              "#fb9f3a"
             ],
             [
              0.8888888888888888,
              "#fdca26"
             ],
             [
              1,
              "#f0f921"
             ]
            ],
            "type": "contour"
           }
          ],
          "contourcarpet": [
           {
            "colorbar": {
             "outlinewidth": 0,
             "ticks": ""
            },
            "type": "contourcarpet"
           }
          ],
          "heatmap": [
           {
            "colorbar": {
             "outlinewidth": 0,
             "ticks": ""
            },
            "colorscale": [
             [
              0,
              "#0d0887"
             ],
             [
              0.1111111111111111,
              "#46039f"
             ],
             [
              0.2222222222222222,
              "#7201a8"
             ],
             [
              0.3333333333333333,
              "#9c179e"
             ],
             [
              0.4444444444444444,
              "#bd3786"
             ],
             [
              0.5555555555555556,
              "#d8576b"
             ],
             [
              0.6666666666666666,
              "#ed7953"
             ],
             [
              0.7777777777777778,
              "#fb9f3a"
             ],
             [
              0.8888888888888888,
              "#fdca26"
             ],
             [
              1,
              "#f0f921"
             ]
            ],
            "type": "heatmap"
           }
          ],
          "heatmapgl": [
           {
            "colorbar": {
             "outlinewidth": 0,
             "ticks": ""
            },
            "colorscale": [
             [
              0,
              "#0d0887"
             ],
             [
              0.1111111111111111,
              "#46039f"
             ],
             [
              0.2222222222222222,
              "#7201a8"
             ],
             [
              0.3333333333333333,
              "#9c179e"
             ],
             [
              0.4444444444444444,
              "#bd3786"
             ],
             [
              0.5555555555555556,
              "#d8576b"
             ],
             [
              0.6666666666666666,
              "#ed7953"
             ],
             [
              0.7777777777777778,
              "#fb9f3a"
             ],
             [
              0.8888888888888888,
              "#fdca26"
             ],
             [
              1,
              "#f0f921"
             ]
            ],
            "type": "heatmapgl"
           }
          ],
          "histogram": [
           {
            "marker": {
             "pattern": {
              "fillmode": "overlay",
              "size": 10,
              "solidity": 0.2
             }
            },
            "type": "histogram"
           }
          ],
          "histogram2d": [
           {
            "colorbar": {
             "outlinewidth": 0,
             "ticks": ""
            },
            "colorscale": [
             [
              0,
              "#0d0887"
             ],
             [
              0.1111111111111111,
              "#46039f"
             ],
             [
              0.2222222222222222,
              "#7201a8"
             ],
             [
              0.3333333333333333,
              "#9c179e"
             ],
             [
              0.4444444444444444,
              "#bd3786"
             ],
             [
              0.5555555555555556,
              "#d8576b"
             ],
             [
              0.6666666666666666,
              "#ed7953"
             ],
             [
              0.7777777777777778,
              "#fb9f3a"
             ],
             [
              0.8888888888888888,
              "#fdca26"
             ],
             [
              1,
              "#f0f921"
             ]
            ],
            "type": "histogram2d"
           }
          ],
          "histogram2dcontour": [
           {
            "colorbar": {
             "outlinewidth": 0,
             "ticks": ""
            },
            "colorscale": [
             [
              0,
              "#0d0887"
             ],
             [
              0.1111111111111111,
              "#46039f"
             ],
             [
              0.2222222222222222,
              "#7201a8"
             ],
             [
              0.3333333333333333,
              "#9c179e"
             ],
             [
              0.4444444444444444,
              "#bd3786"
             ],
             [
              0.5555555555555556,
              "#d8576b"
             ],
             [
              0.6666666666666666,
              "#ed7953"
             ],
             [
              0.7777777777777778,
              "#fb9f3a"
             ],
             [
              0.8888888888888888,
              "#fdca26"
             ],
             [
              1,
              "#f0f921"
             ]
            ],
            "type": "histogram2dcontour"
           }
          ],
          "mesh3d": [
           {
            "colorbar": {
             "outlinewidth": 0,
             "ticks": ""
            },
            "type": "mesh3d"
           }
          ],
          "parcoords": [
           {
            "line": {
             "colorbar": {
              "outlinewidth": 0,
              "ticks": ""
             }
            },
            "type": "parcoords"
           }
          ],
          "pie": [
           {
            "automargin": true,
            "type": "pie"
           }
          ],
          "scatter": [
           {
            "marker": {
             "colorbar": {
              "outlinewidth": 0,
              "ticks": ""
             }
            },
            "type": "scatter"
           }
          ],
          "scatter3d": [
           {
            "line": {
             "colorbar": {
              "outlinewidth": 0,
              "ticks": ""
             }
            },
            "marker": {
             "colorbar": {
              "outlinewidth": 0,
              "ticks": ""
             }
            },
            "type": "scatter3d"
           }
          ],
          "scattercarpet": [
           {
            "marker": {
             "colorbar": {
              "outlinewidth": 0,
              "ticks": ""
             }
            },
            "type": "scattercarpet"
           }
          ],
          "scattergeo": [
           {
            "marker": {
             "colorbar": {
              "outlinewidth": 0,
              "ticks": ""
             }
            },
            "type": "scattergeo"
           }
          ],
          "scattergl": [
           {
            "marker": {
             "colorbar": {
              "outlinewidth": 0,
              "ticks": ""
             }
            },
            "type": "scattergl"
           }
          ],
          "scattermapbox": [
           {
            "marker": {
             "colorbar": {
              "outlinewidth": 0,
              "ticks": ""
             }
            },
            "type": "scattermapbox"
           }
          ],
          "scatterpolar": [
           {
            "marker": {
             "colorbar": {
              "outlinewidth": 0,
              "ticks": ""
             }
            },
            "type": "scatterpolar"
           }
          ],
          "scatterpolargl": [
           {
            "marker": {
             "colorbar": {
              "outlinewidth": 0,
              "ticks": ""
             }
            },
            "type": "scatterpolargl"
           }
          ],
          "scatterternary": [
           {
            "marker": {
             "colorbar": {
              "outlinewidth": 0,
              "ticks": ""
             }
            },
            "type": "scatterternary"
           }
          ],
          "surface": [
           {
            "colorbar": {
             "outlinewidth": 0,
             "ticks": ""
            },
            "colorscale": [
             [
              0,
              "#0d0887"
             ],
             [
              0.1111111111111111,
              "#46039f"
             ],
             [
              0.2222222222222222,
              "#7201a8"
             ],
             [
              0.3333333333333333,
              "#9c179e"
             ],
             [
              0.4444444444444444,
              "#bd3786"
             ],
             [
              0.5555555555555556,
              "#d8576b"
             ],
             [
              0.6666666666666666,
              "#ed7953"
             ],
             [
              0.7777777777777778,
              "#fb9f3a"
             ],
             [
              0.8888888888888888,
              "#fdca26"
             ],
             [
              1,
              "#f0f921"
             ]
            ],
            "type": "surface"
           }
          ],
          "table": [
           {
            "cells": {
             "fill": {
              "color": "#EBF0F8"
             },
             "line": {
              "color": "white"
             }
            },
            "header": {
             "fill": {
              "color": "#C8D4E3"
             },
             "line": {
              "color": "white"
             }
            },
            "type": "table"
           }
          ]
         },
         "layout": {
          "annotationdefaults": {
           "arrowcolor": "#2a3f5f",
           "arrowhead": 0,
           "arrowwidth": 1
          },
          "autotypenumbers": "strict",
          "coloraxis": {
           "colorbar": {
            "outlinewidth": 0,
            "ticks": ""
           }
          },
          "colorscale": {
           "diverging": [
            [
             0,
             "#8e0152"
            ],
            [
             0.1,
             "#c51b7d"
            ],
            [
             0.2,
             "#de77ae"
            ],
            [
             0.3,
             "#f1b6da"
            ],
            [
             0.4,
             "#fde0ef"
            ],
            [
             0.5,
             "#f7f7f7"
            ],
            [
             0.6,
             "#e6f5d0"
            ],
            [
             0.7,
             "#b8e186"
            ],
            [
             0.8,
             "#7fbc41"
            ],
            [
             0.9,
             "#4d9221"
            ],
            [
             1,
             "#276419"
            ]
           ],
           "sequential": [
            [
             0,
             "#0d0887"
            ],
            [
             0.1111111111111111,
             "#46039f"
            ],
            [
             0.2222222222222222,
             "#7201a8"
            ],
            [
             0.3333333333333333,
             "#9c179e"
            ],
            [
             0.4444444444444444,
             "#bd3786"
            ],
            [
             0.5555555555555556,
             "#d8576b"
            ],
            [
             0.6666666666666666,
             "#ed7953"
            ],
            [
             0.7777777777777778,
             "#fb9f3a"
            ],
            [
             0.8888888888888888,
             "#fdca26"
            ],
            [
             1,
             "#f0f921"
            ]
           ],
           "sequentialminus": [
            [
             0,
             "#0d0887"
            ],
            [
             0.1111111111111111,
             "#46039f"
            ],
            [
             0.2222222222222222,
             "#7201a8"
            ],
            [
             0.3333333333333333,
             "#9c179e"
            ],
            [
             0.4444444444444444,
             "#bd3786"
            ],
            [
             0.5555555555555556,
             "#d8576b"
            ],
            [
             0.6666666666666666,
             "#ed7953"
            ],
            [
             0.7777777777777778,
             "#fb9f3a"
            ],
            [
             0.8888888888888888,
             "#fdca26"
            ],
            [
             1,
             "#f0f921"
            ]
           ]
          },
          "colorway": [
           "#636efa",
           "#EF553B",
           "#00cc96",
           "#ab63fa",
           "#FFA15A",
           "#19d3f3",
           "#FF6692",
           "#B6E880",
           "#FF97FF",
           "#FECB52"
          ],
          "font": {
           "color": "#2a3f5f"
          },
          "geo": {
           "bgcolor": "white",
           "lakecolor": "white",
           "landcolor": "#E5ECF6",
           "showlakes": true,
           "showland": true,
           "subunitcolor": "white"
          },
          "hoverlabel": {
           "align": "left"
          },
          "hovermode": "closest",
          "mapbox": {
           "style": "light"
          },
          "paper_bgcolor": "white",
          "plot_bgcolor": "#E5ECF6",
          "polar": {
           "angularaxis": {
            "gridcolor": "white",
            "linecolor": "white",
            "ticks": ""
           },
           "bgcolor": "#E5ECF6",
           "radialaxis": {
            "gridcolor": "white",
            "linecolor": "white",
            "ticks": ""
           }
          },
          "scene": {
           "xaxis": {
            "backgroundcolor": "#E5ECF6",
            "gridcolor": "white",
            "gridwidth": 2,
            "linecolor": "white",
            "showbackground": true,
            "ticks": "",
            "zerolinecolor": "white"
           },
           "yaxis": {
            "backgroundcolor": "#E5ECF6",
            "gridcolor": "white",
            "gridwidth": 2,
            "linecolor": "white",
            "showbackground": true,
            "ticks": "",
            "zerolinecolor": "white"
           },
           "zaxis": {
            "backgroundcolor": "#E5ECF6",
            "gridcolor": "white",
            "gridwidth": 2,
            "linecolor": "white",
            "showbackground": true,
            "ticks": "",
            "zerolinecolor": "white"
           }
          },
          "shapedefaults": {
           "line": {
            "color": "#2a3f5f"
           }
          },
          "ternary": {
           "aaxis": {
            "gridcolor": "white",
            "linecolor": "white",
            "ticks": ""
           },
           "baxis": {
            "gridcolor": "white",
            "linecolor": "white",
            "ticks": ""
           },
           "bgcolor": "#E5ECF6",
           "caxis": {
            "gridcolor": "white",
            "linecolor": "white",
            "ticks": ""
           }
          },
          "title": {
           "x": 0.05
          },
          "xaxis": {
           "automargin": true,
           "gridcolor": "white",
           "linecolor": "white",
           "ticks": "",
           "title": {
            "standoff": 15
           },
           "zerolinecolor": "white",
           "zerolinewidth": 2
          },
          "yaxis": {
           "automargin": true,
           "gridcolor": "white",
           "linecolor": "white",
           "ticks": "",
           "title": {
            "standoff": 15
           },
           "zerolinecolor": "white",
           "zerolinewidth": 2
          }
         }
        },
        "xaxis": {
         "autorange": true,
         "range": [
          -0.5,
          200.3552864737153
         ],
         "rangeslider": {
          "autorange": true,
          "range": [
           -0.5,
           200.3552864737153
          ],
          "yaxis": {
           "_template": null,
           "rangemode": "match"
          }
         },
         "type": "linear"
        },
        "yaxis": {
         "autorange": true,
         "range": [
          354.3662666153793,
          480.8084242687238
         ]
        }
       }
      },
      "image/png": "[encoded data removed]",
      "text/html": [
       "<div>                            <div id=\"10111d9d-b4b9-4368-8a42-e81fd0c5c32b\" class=\"plotly-graph-div\" style=\"height:525px; width:100%;\"></div>            <script type=\"text/javascript\">                require([\"plotly\"], function(Plotly) {                    window.PLOTLYENV=window.PLOTLYENV || {};                                    if (document.getElementById(\"10111d9d-b4b9-4368-8a42-e81fd0c5c32b\")) {                    Plotly.newPlot(                        \"10111d9d-b4b9-4368-8a42-e81fd0c5c32b\",                        [{\"close\":[461.93988037109375,460.4129943847656,456.7090759277344,456.8568115234375,460.30462646484375,460.4622497558594,462.28466796875,461.16168212890625,462.72802734375,461.9005126953125,460.6001892089844,461.2109069824219,462.4422912597656,452.12835693359375,457.6744384765625,448.7691955566406,443.78460693359375,450.5817565917969,446.6611022949219,451.9510803222656,461.2995910644531,462.5211181640625,459.39837646484375,463.7229309082031,459.6150817871094,456.4529113769531,463.5849914550781,459.49688720703125,454.6064758300781,449.7724914550781,457.760009765625,462.3370056152344,465.21368408203125,471.7974548339844,471.4118957519531,472.01495361328125,470.7100524902344,469.5238037109375,472.2423095703125,472.0841064453125,463.01910400390625,462.5841369628906,460.75531005859375,460.18194580078125,464.3734436035156,465.6288757324219,459.213134765625,459.4010009765625,451.2651672363281,446.57940673828125,441.6366882324219,432.9670715332031,434.8057556152344,429.4972229003906,428.4197082519531,426.3041687011719,436.8916320800781,444.760498046875,447.7657470703125,452.1153564453125,441.4884033203125,443.5643615722656,442.1408386230469,445.77874755859375,452.3031921386719,444.17724609375,435.41864013671875,433.9951477050781,440.9941101074219,441.4884033203125,432.0575866699219,429.2599792480469,424.6532897949219,417.1205139160156,423.3978271484375,432.7396545410156,431.63250732421875,425.05865478515625,432.87811279296875,430.7230224609375,427.2235412597656,414.6293640136719,411.48577880859375,422.51800537109375,420.610107421875,415.26202392578125,412.2271728515625,421.292236328125,430.634033203125,436.0216979980469,440.7973327636719,440.6684265136719,445.8248596191406,440.0833740234375,446.71734619140625,448.89892578125,452.0919494628906,457.6847229003906,454.8586120605469,447.8577575683594,449.12701416015625,452.9744873046875,447.2528076171875,442.78057861328125,445.01171875,443.8218078613281,436.23590087890625,434.6195068359375,439.59747314453125,434.12371826171875,434.30218505859375,441.31298828125,440.9857482910156,434.3914489746094,422.47210693359375,424.9214172363281,412.6153564453125,413.7755432128906,424.2272644042969,408.5496826171875,411.0089111328125,412.89300537109375,425.466796875,410.3445129394531,407.89520263671875,394.83551025390625,395.747802734375,389.46087646484375,389.0543212890625,398.35577392578125,396.7394104003906,404.9005126953125,388.57830810546875,386.19842529296875,386.36700439453125,393.5959777832031,390.5913391113281,394.0422058105469,401.91571044921875,411.7823791503906,409.4718933105469,406.1598815917969,413.8945617675781,407.1018981933594,408.3414611816406,412.25836181640625,407.7762145996094,398.078125,386.53558349609375,371.8595275878906,370.739013671875,376.02435302734375,363.5794677734375,364.3632507324219,373.53558349609375,372.8583679199219,376.5133361816406,388.4841613769531,387.0002746582031,379.0927429199219,378.7840270996094,375.7066650390625,379.6803283691406,380.3973693847656,381.68212890625,387.39862060546875,387.0799560546875,382.6581115722656,379.2720031738281,377.2801818847656,376.36395263671875,383.554443359375,380.387451171875,390.6651916503906,393.15496826171875,397.1585388183594,393.4736633300781,393.95172119140625,389.2908630371094,399.39935302734375,404.40875244140625,410.3045349121094,409.0895080566406,406.390625,412.7544860839844,412.47564697265625,411.7784729003906,411.3004455566406,409.66717529296875,418.27178955078125,418.27178955078125,425.35272216796875,427.1054992675781,427.9421081542969,424.9045715332031,426.1394958496094,420.41302490234375,411.6589660644531,410.6630859375,411.9776916503906],\"high\":[463.22051993826574,462.57035150578884,460.4130373694832,458.35417291583184,460.8858280192206,461.8216836025759,463.476622664264,462.1960182712331,463.0038523491198,463.919942376069,466.4811987877852,462.1073456337604,462.5703582237442,456.9848605880097,459.6052132868019,457.11293876181486,457.7433945901328,452.2268759486868,453.43852023575164,453.9212674314211,461.89065318734845,462.99397389613455,462.62948205998595,463.88054948467556,463.5455952344251,458.7974387254398,463.8410953138141,465.8211708085714,459.4207305999944,450.1876674085448,457.9082868957625,462.45562731524785,466.78548188150756,471.8468704837619,473.32969355435415,473.08257906373285,473.51754328114333,471.40205109462113,472.3807216657983,474.48631638605656,472.5092320583563,465.43117839173607,463.8297298859487,460.4092939939143,464.47230508019663,467.78394722040724,467.46756932998835,459.76676127684203,454.6954520501679,454.3494290853147,453.489446103823,442.93168671611863,435.3395834284582,434.6871333979894,438.9577017159584,436.53571226839364,436.94104773309544,445.1262583350566,448.4379568512328,452.87653246527395,447.7854900534315,447.5976501613361,445.8281271274784,446.7475417833549,452.6392970170899,452.47120137121067,446.44101509500166,436.54563498586,441.17204265347874,442.931684304537,441.45874873347236,433.6392679106509,430.5154097178561,428.30106103664184,423.8525838825361,432.8286208098192,433.18454495400056,432.1663637194288,434.68715412147407,436.0612101040459,428.40978836365167,427.35205429210276,422.32032684373695,424.59397547596285,421.54921593492463,423.8624284809466,419.6907462879158,421.95455087309057,430.69334404957186,436.0216979980468,441.13448178417855,442.7210680947924,446.80655908056025,444.7340999255641,446.72727212990196,449.18650563408687,452.0919494628906,458.200387511717,457.33767571847,454.91812632147673,449.6624701169323,453.0835818389499,453.9958483027275,445.1703995445369,446.91565282851775,446.8561793032968,441.27334507595015,442.0170238771549,440.39076139490294,441.00560136960956,436.0672770902297,442.06660302722275,443.8218128328768,446.2413853915548,434.41125532958233,425.0999025485545,422.47211585475065,419.3782512500081,426.0419558520609,422.30352267308285,412.43685414522116,415.4216381372007,426.06177817463373,421.44080381860226,411.32621816707115,403.0064941024103,402.67925504280765,400.65633572187966,392.48533683625664,399.8035385983029,400.58692186942926,405.1484190588463,400.4183176009376,390.83925522997254,393.70502620623034,394.39919195807806,391.84076652366394,396.1048037225104,403.6312333794285,411.9013693581638,412.97232996852904,412.75418506046395,413.9441309353551,410.5725870763427,413.12107295279543,412.7343529347155,412.33769767547756,408.291855079743,392.4655145076387,378.61249418792625,374.7749366416902,380.68497411680744,367.83354945752603,367.8688698501164,374.98960207775144,377.1706403184424,377.28017513374607,388.49413019242246,389.75893164678683,391.5515738460968,380.7061241839131,379.10271832908796,380.1384683809683,380.41730701486875,384.2914056552444,388.23518049333734,389.0418979580837,385.2872954288367,384.5802150528634,380.35756734891146,377.49927302854667,383.67394757819767,387.4982255615694,391.2627430970632,394.6388932756416,397.208322108785,398.5428362374419,394.8480331918537,392.4478773804343,401.23182193635006,405.1357465196418,411.34028877128935,411.71872227062175,411.31041790220996,413.97943466962624,413.391866239546,412.4556836890572,415.9115090600188,411.0614418214487,418.4212002072381,423.21151981805826,425.4622575648715,427.6532674277152,429.963802202433,427.74291828019767,426.85652111767564,423.5202560090412,415.52309761108154,413.7205338893691,413.41177265690214],\"low\":[461.2207813676723,458.93535416832054,455.15264131534184,456.83712047557333,457.19172741394357,459.28015558764304,460.10761979136737,460.51151681616716,459.38854561116045,461.5163117943677,460.3834674297967,457.52666708172603,458.2556439190348,450.9462327293489,454.8472249887594,448.51306162481666,443.57774572304714,443.5974473509027,442.2281816015183,446.7990302092631,451.8131356831209,459.87121407866465,459.19151523985863,459.5560044066399,459.31953569933046,453.3892850109791,453.87195424054596,457.8714588390697,452.81719490262014,445.9764461819522,451.0872673948548,457.2854769888965,463.2761259992427,466.607544539395,470.6111691628179,470.4728112024703,470.2256705027333,469.23714464735207,468.42650410269573,470.1366532158194,462.92024253253254,460.1028558261161,459.331789329575,451.37392290910174,456.76156242338106,463.57269588491556,458.13561418240937,454.6361615385267,450.0986803394288,446.2927175430621,439.4124407818949,432.93741610762225,415.9441512869428,422.26099759477876,423.95142308177117,424.5346781339232,422.9233534873862,434.7760929251571,441.8245252134182,447.8645544659762,440.6085754190579,438.75007640900003,440.74697333660356,440.12421487931573,449.8021506939638,442.0815157066429,433.9160483867408,430.3572747041986,438.10751807548485,436.8817361726757,431.4249275370094,426.87755957227427,420.98573151795205,416.5273752810809,405.9399834174015,422.96283781372745,425.77038704288657,422.22147816219183,426.6304415699974,428.8348799661836,422.98263470528383,414.56015796540635,410.3687074830403,417.9805446642092,415.6277851487968,414.7281961413844,411.0310305093529,413.6309398298518,419.9378680923793,428.23188447143536,433.55847910607173,436.9894744870046,442.1260859856014,439.99413136206294,441.0353516427663,444.6745916954664,446.2909346958001,453.3513244447868,452.64727638335665,447.38176643167407,445.37867115268716,448.4725296114604,446.0529493440323,439.7561331394801,439.81561135084553,442.2054535434022,435.7103405772736,432.9932266474523,434.17328075554553,434.01462372496155,431.9619333384212,434.0146094059943,439.7660683471935,433.43949700113836,421.87712562282195,415.332386136087,412.58560889224606,411.53449026005103,414.102777437426,407.7662900436615,401.62811295868255,409.8982771759006,410.2453407475674,406.01111469269813,402.33219847437874,393.1794824727231,391.5135728980805,388.67748392424545,381.9245319583339,392.29692673655927,394.2702727900256,399.20856201041227,387.2792812745358,383.8680995174872,377.35313325777327,387.1107390175401,383.71935216445735,388.6081176351974,395.11317435868995,404.2856934406207,406.5961855333333,403.5221541519284,403.63123229115416,406.0805252468473,407.1118250194197,404.19644193071485,406.9432528615476,398.078125,386.4860143290133,370.1737522913565,367.486483305269,369.0036284494724,361.03098308594804,360.6883744980465,370.2889105384422,368.66556934032934,371.3645039167214,379.8098026748832,385.85498538676313,378.9732387064949,376.87189883102377,371.0358494624268,372.27076315463177,371.3744368394161,378.047067090451,381.7020200800238,384.08226030366467,381.9310870883159,377.4395342992379,373.127258498116,369.52206305495616,378.98322463302077,379.10272006385037,383.8133636257635,389.4302784858606,390.0278270867561,391.1432400346693,391.60136020227054,388.35470619513643,392.43792846497354,396.5211402271115,405.10588877053,406.7292087102475,405.155707562965,408.3226789963226,410.75271344845027,407.9243101442471,410.14518747689357,408.54179325446074,415.0151782306003,417.49498178666795,419.3075474968399,422.972483188537,425.13363748859143,422.8032181180557,423.7592588669933,419.49677528211595,410.7128404151961,410.08544169235375,409.70702033371197],\"open\":[462.698421594101,462.32407813638133,458.63985090660196,458.27534859903824,458.1866814636852,461.6542345418459,460.18641404234324,462.008848102596,462.2453110373495,462.6097511659769,463.87070694484504,460.25536512881183,459.11267044699287,455.4481171600917,457.15234013278007,455.11320014550046,454.7585625872926,444.01119984453203,452.3253898476043,449.3307278595685,457.4872839626471,461.71336429127695,461.1715328043396,462.23546008133275,463.1811154492322,456.18694695355384,456.51202757900575,465.5256547758522,456.2672398674505,449.27821425542703,453.3609305057284,457.49309513220595,463.3848524971854,466.6569601891726,472.25217296117563,471.520676426014,472.45978286474065,470.1960436513577,470.84844425912456,473.7350054442367,471.69861022869173,462.53472131142144,462.5940369036953,457.4041104866488,459.90518843943073,466.1923589724666,466.78546443913797,455.911405158876,454.4779688856371,452.88638802340296,448.5565691896171,440.4603006900865,427.0851483078244,428.10335760369844,435.67569388631534,433.2438395533789,427.72771342285955,436.1897184269397,445.5217091767673,450.28652478956815,445.78862101585275,441.2412527498039,444.36508596280606,441.61694175756384,450.0097386724572,446.17411501257595,444.266213628056,434.8848708117567,438.6512410794835,438.84894978483493,438.147085436672,432.32447369113333,426.946743075598,427.7079224017071,406.3156087388995,424.6928078775693,427.08515110507835,430.06073790650487,427.4212730447816,435.4285509854193,426.8083351640208,426.6106384934223,414.81720238907917,420.2739979261272,417.68396488229035,423.21987420121394,416.07266383687795,414.9654641175031,424.9696361894637,428.6273001991835,434.331945744177,440.6188270864143,442.1260859856014,443.1673449891968,442.2054624289705,447.3817400586387,448.2741855384289,456.16753714400295,456.4848620839005,454.0554169741167,449.5137323511612,449.33523889932536,451.40772050749126,443.14750544454176,441.85835724877296,444.2184519870874,440.3907838600342,439.36937073292785,434.36169201086005,439.835460328614,433.1518959435267,434.1930947198821,443.17726233854705,444.78369474686116,433.25107052248364,420.1219538482033,422.2638527212785,413.74579565968503,418.75350303318476,420.04261787296315,408.6190902615176,411.5344833608006,413.58711354426896,420.9945602744624,407.657222216257,401.70746721179637,401.10257418673535,394.7363308640535,386.1091925233651,393.38772077558525,396.63034613002395,403.12549465904874,400.1208420908022,385.36546357658506,389.9566834536972,389.5402031563818,389.2724603968558,389.02458338337726,395.33133316910966,404.49392630422375,410.0866962528882,411.693168783268,405.9913057078747,408.9463069025536,411.3064116561258,404.6823589875329,410.46351106833333,405.9119600405998,391.5730576661437,376.6689168637618,373.6940684990385,374.1997357129782,367.40715777387805,364.01470689796395,370.36860027572,369.10377171155864,375.09916248890295,379.839678728561,389.45020228820897,388.63356786157743,379.6704007020671,374.7007872373399,375.01948165467763,374.3422564155411,380.54677804388876,383.5444577535018,385.6856591705736,384.2714792285503,382.0804737894117,373.5654608765115,372.08152594230745,380.9849810837629,386.79113868810555,384.50051283779845,390.86438981626435,392.54747551542175,397.2880116277475,394.13097751294976,392.2287761962975,392.7466578229037,400.24586034709495,405.9125726207121,407.47614042202906,407.4462861108971,408.6214395311792,412.6748105385001,407.98406224955716,413.551209607935,410.53361126449806,417.0667482330721,421.25951639625225,420.3034564551387,423.0322352943368,425.9801662145605,424.1676085940869,425.1136804525352,423.241402714664,415.3438109035657,411.21082373535467,410.4240456406023],\"x\":[0,1,2,3,4,5,6,7,8,9,10,11,12,13,14,15,16,17,18,19,20,21,22,23,24,25,26,27,28,29,30,31,32,33,34,35,36,37,38,39,40,41,42,43,44,45,46,47,48,49,50,51,52,53,54,55,56,57,58,59,60,61,62,63,64,65,66,67,68,69,70,71,72,73,74,75,76,77,78,79,80,81,82,83,84,85,86,87,88,89,90,91,92,93,94,95,96,97,98,99,100,101,102,103,104,105,106,107,108,109,110,111,112,113,114,115,116,117,118,119,120,121,122,123,124,125,126,127,128,129,130,131,132,133,134,135,136,137,138,139,140,141,142,143,144,145,146,147,148,149,150,151,152,153,154,155,156,157,158,159,160,161,162,163,164,165,166,167,168,169,170,171,172,173,174,175,176,177,178,179,180,181,182,183,184,185,186,187,188,189,190,191,192,193,194,195,196,197,198,199],\"type\":\"candlestick\"}],                        {\"template\":{\"data\":{\"bar\":[{\"error_x\":{\"color\":\"#2a3f5f\"},\"error_y\":{\"color\":\"#2a3f5f\"},\"marker\":{\"line\":{\"color\":\"#E5ECF6\",\"width\":0.5},\"pattern\":{\"fillmode\":\"overlay\",\"size\":10,\"solidity\":0.2}},\"type\":\"bar\"}],\"barpolar\":[{\"marker\":{\"line\":{\"color\":\"#E5ECF6\",\"width\":0.5},\"pattern\":{\"fillmode\":\"overlay\",\"size\":10,\"solidity\":0.2}},\"type\":\"barpolar\"}],\"carpet\":[{\"aaxis\":{\"endlinecolor\":\"#2a3f5f\",\"gridcolor\":\"white\",\"linecolor\":\"white\",\"minorgridcolor\":\"white\",\"startlinecolor\":\"#2a3f5f\"},\"baxis\":{\"endlinecolor\":\"#2a3f5f\",\"gridcolor\":\"white\",\"linecolor\":\"white\",\"minorgridcolor\":\"white\",\"startlinecolor\":\"#2a3f5f\"},\"type\":\"carpet\"}],\"choropleth\":[{\"colorbar\":{\"outlinewidth\":0,\"ticks\":\"\"},\"type\":\"choropleth\"}],\"contour\":[{\"colorbar\":{\"outlinewidth\":0,\"ticks\":\"\"},\"colorscale\":[[0.0,\"#0d0887\"],[0.1111111111111111,\"#46039f\"],[0.2222222222222222,\"#7201a8\"],[0.3333333333333333,\"#9c179e\"],[0.4444444444444444,\"#bd3786\"],[0.5555555555555556,\"#d8576b\"],[0.6666666666666666,\"#ed7953\"],[0.7777777777777778,\"#fb9f3a\"],[0.8888888888888888,\"#fdca26\"],[1.0,\"#f0f921\"]],\"type\":\"contour\"}],\"contourcarpet\":[{\"colorbar\":{\"outlinewidth\":0,\"ticks\":\"\"},\"type\":\"contourcarpet\"}],\"heatmap\":[{\"colorbar\":{\"outlinewidth\":0,\"ticks\":\"\"},\"colorscale\":[[0.0,\"#0d0887\"],[0.1111111111111111,\"#46039f\"],[0.2222222222222222,\"#7201a8\"],[0.3333333333333333,\"#9c179e\"],[0.4444444444444444,\"#bd3786\"],[0.5555555555555556,\"#d8576b\"],[0.6666666666666666,\"#ed7953\"],[0.7777777777777778,\"#fb9f3a\"],[0.8888888888888888,\"#fdca26\"],[1.0,\"#f0f921\"]],\"type\":\"heatmap\"}],\"heatmapgl\":[{\"colorbar\":{\"outlinewidth\":0,\"ticks\":\"\"},\"colorscale\":[[0.0,\"#0d0887\"],[0.1111111111111111,\"#46039f\"],[0.2222222222222222,\"#7201a8\"],[0.3333333333333333,\"#9c179e\"],[0.4444444444444444,\"#bd3786\"],[0.5555555555555556,\"#d8576b\"],[0.6666666666666666,\"#ed7953\"],[0.7777777777777778,\"#fb9f3a\"],[0.8888888888888888,\"#fdca26\"],[1.0,\"#f0f921\"]],\"type\":\"heatmapgl\"}],\"histogram\":[{\"marker\":{\"pattern\":{\"fillmode\":\"overlay\",\"size\":10,\"solidity\":0.2}},\"type\":\"histogram\"}],\"histogram2d\":[{\"colorbar\":{\"outlinewidth\":0,\"ticks\":\"\"},\"colorscale\":[[0.0,\"#0d0887\"],[0.1111111111111111,\"#46039f\"],[0.2222222222222222,\"#7201a8\"],[0.3333333333333333,\"#9c179e\"],[0.4444444444444444,\"#bd3786\"],[0.5555555555555556,\"#d8576b\"],[0.6666666666666666,\"#ed7953\"],[0.7777777777777778,\"#fb9f3a\"],[0.8888888888888888,\"#fdca26\"],[1.0,\"#f0f921\"]],\"type\":\"histogram2d\"}],\"histogram2dcontour\":[{\"colorbar\":{\"outlinewidth\":0,\"ticks\":\"\"},\"colorscale\":[[0.0,\"#0d0887\"],[0.1111111111111111,\"#46039f\"],[0.2222222222222222,\"#7201a8\"],[0.3333333333333333,\"#9c179e\"],[0.4444444444444444,\"#bd3786\"],[0.5555555555555556,\"#d8576b\"],[0.6666666666666666,\"#ed7953\"],[0.7777777777777778,\"#fb9f3a\"],[0.8888888888888888,\"#fdca26\"],[1.0,\"#f0f921\"]],\"type\":\"histogram2dcontour\"}],\"mesh3d\":[{\"colorbar\":{\"outlinewidth\":0,\"ticks\":\"\"},\"type\":\"mesh3d\"}],\"parcoords\":[{\"line\":{\"colorbar\":{\"outlinewidth\":0,\"ticks\":\"\"}},\"type\":\"parcoords\"}],\"pie\":[{\"automargin\":true,\"type\":\"pie\"}],\"scatter\":[{\"marker\":{\"colorbar\":{\"outlinewidth\":0,\"ticks\":\"\"}},\"type\":\"scatter\"}],\"scatter3d\":[{\"line\":{\"colorbar\":{\"outlinewidth\":0,\"ticks\":\"\"}},\"marker\":{\"colorbar\":{\"outlinewidth\":0,\"ticks\":\"\"}},\"type\":\"scatter3d\"}],\"scattercarpet\":[{\"marker\":{\"colorbar\":{\"outlinewidth\":0,\"ticks\":\"\"}},\"type\":\"scattercarpet\"}],\"scattergeo\":[{\"marker\":{\"colorbar\":{\"outlinewidth\":0,\"ticks\":\"\"}},\"type\":\"scattergeo\"}],\"scattergl\":[{\"marker\":{\"colorbar\":{\"outlinewidth\":0,\"ticks\":\"\"}},\"type\":\"scattergl\"}],\"scattermapbox\":[{\"marker\":{\"colorbar\":{\"outlinewidth\":0,\"ticks\":\"\"}},\"type\":\"scattermapbox\"}],\"scatterpolar\":[{\"marker\":{\"colorbar\":{\"outlinewidth\":0,\"ticks\":\"\"}},\"type\":\"scatterpolar\"}],\"scatterpolargl\":[{\"marker\":{\"colorbar\":{\"outlinewidth\":0,\"ticks\":\"\"}},\"type\":\"scatterpolargl\"}],\"scatterternary\":[{\"marker\":{\"colorbar\":{\"outlinewidth\":0,\"ticks\":\"\"}},\"type\":\"scatterternary\"}],\"surface\":[{\"colorbar\":{\"outlinewidth\":0,\"ticks\":\"\"},\"colorscale\":[[0.0,\"#0d0887\"],[0.1111111111111111,\"#46039f\"],[0.2222222222222222,\"#7201a8\"],[0.3333333333333333,\"#9c179e\"],[0.4444444444444444,\"#bd3786\"],[0.5555555555555556,\"#d8576b\"],[0.6666666666666666,\"#ed7953\"],[0.7777777777777778,\"#fb9f3a\"],[0.8888888888888888,\"#fdca26\"],[1.0,\"#f0f921\"]],\"type\":\"surface\"}],\"table\":[{\"cells\":{\"fill\":{\"color\":\"#EBF0F8\"},\"line\":{\"color\":\"white\"}},\"header\":{\"fill\":{\"color\":\"#C8D4E3\"},\"line\":{\"color\":\"white\"}},\"type\":\"table\"}]},\"layout\":{\"annotationdefaults\":{\"arrowcolor\":\"#2a3f5f\",\"arrowhead\":0,\"arrowwidth\":1},\"autotypenumbers\":\"strict\",\"coloraxis\":{\"colorbar\":{\"outlinewidth\":0,\"ticks\":\"\"}},\"colorscale\":{\"diverging\":[[0,\"#8e0152\"],[0.1,\"#c51b7d\"],[0.2,\"#de77ae\"],[0.3,\"#f1b6da\"],[0.4,\"#fde0ef\"],[0.5,\"#f7f7f7\"],[0.6,\"#e6f5d0\"],[0.7,\"#b8e186\"],[0.8,\"#7fbc41\"],[0.9,\"#4d9221\"],[1,\"#276419\"]],\"sequential\":[[0.0,\"#0d0887\"],[0.1111111111111111,\"#46039f\"],[0.2222222222222222,\"#7201a8\"],[0.3333333333333333,\"#9c179e\"],[0.4444444444444444,\"#bd3786\"],[0.5555555555555556,\"#d8576b\"],[0.6666666666666666,\"#ed7953\"],[0.7777777777777778,\"#fb9f3a\"],[0.8888888888888888,\"#fdca26\"],[1.0,\"#f0f921\"]],\"sequentialminus\":[[0.0,\"#0d0887\"],[0.1111111111111111,\"#46039f\"],[0.2222222222222222,\"#7201a8\"],[0.3333333333333333,\"#9c179e\"],[0.4444444444444444,\"#bd3786\"],[0.5555555555555556,\"#d8576b\"],[0.6666666666666666,\"#ed7953\"],[0.7777777777777778,\"#fb9f3a\"],[0.8888888888888888,\"#fdca26\"],[1.0,\"#f0f921\"]]},\"colorway\":[\"#636efa\",\"#EF553B\",\"#00cc96\",\"#ab63fa\",\"#FFA15A\",\"#19d3f3\",\"#FF6692\",\"#B6E880\",\"#FF97FF\",\"#FECB52\"],\"font\":{\"color\":\"#2a3f5f\"},\"geo\":{\"bgcolor\":\"white\",\"lakecolor\":\"white\",\"landcolor\":\"#E5ECF6\",\"showlakes\":true,\"showland\":true,\"subunitcolor\":\"white\"},\"hoverlabel\":{\"align\":\"left\"},\"hovermode\":\"closest\",\"mapbox\":{\"style\":\"light\"},\"paper_bgcolor\":\"white\",\"plot_bgcolor\":\"#E5ECF6\",\"polar\":{\"angularaxis\":{\"gridcolor\":\"white\",\"linecolor\":\"white\",\"ticks\":\"\"},\"bgcolor\":\"#E5ECF6\",\"radialaxis\":{\"gridcolor\":\"white\",\"linecolor\":\"white\",\"ticks\":\"\"}},\"scene\":{\"xaxis\":{\"backgroundcolor\":\"#E5ECF6\",\"gridcolor\":\"white\",\"gridwidth\":2,\"linecolor\":\"white\",\"showbackground\":true,\"ticks\":\"\",\"zerolinecolor\":\"white\"},\"yaxis\":{\"backgroundcolor\":\"#E5ECF6\",\"gridcolor\":\"white\",\"gridwidth\":2,\"linecolor\":\"white\",\"showbackground\":true,\"ticks\":\"\",\"zerolinecolor\":\"white\"},\"zaxis\":{\"backgroundcolor\":\"#E5ECF6\",\"gridcolor\":\"white\",\"gridwidth\":2,\"linecolor\":\"white\",\"showbackground\":true,\"ticks\":\"\",\"zerolinecolor\":\"white\"}},\"shapedefaults\":{\"line\":{\"color\":\"#2a3f5f\"}},\"ternary\":{\"aaxis\":{\"gridcolor\":\"white\",\"linecolor\":\"white\",\"ticks\":\"\"},\"baxis\":{\"gridcolor\":\"white\",\"linecolor\":\"white\",\"ticks\":\"\"},\"bgcolor\":\"#E5ECF6\",\"caxis\":{\"gridcolor\":\"white\",\"linecolor\":\"white\",\"ticks\":\"\"}},\"title\":{\"x\":0.05},\"xaxis\":{\"automargin\":true,\"gridcolor\":\"white\",\"linecolor\":\"white\",\"ticks\":\"\",\"title\":{\"standoff\":15},\"zerolinecolor\":\"white\",\"zerolinewidth\":2},\"yaxis\":{\"automargin\":true,\"gridcolor\":\"white\",\"linecolor\":\"white\",\"ticks\":\"\",\"title\":{\"standoff\":15},\"zerolinecolor\":\"white\",\"zerolinewidth\":2}}},\"shapes\":[{\"line\":{\"color\":\"MediumPurple\",\"width\":3},\"type\":\"line\",\"x0\":0,\"x1\":200,\"y0\":381.9245319583339,\"y1\":381.9245319583339},{\"line\":{\"color\":\"MediumPurple\",\"width\":3},\"type\":\"line\",\"x0\":0,\"x1\":200,\"y0\":415.9441512869428,\"y1\":415.9441512869428},{\"line\":{\"color\":\"RoyalBlue\",\"width\":1},\"type\":\"line\",\"x0\":0,\"x1\":200,\"y0\":389.0418979580837,\"y1\":389.0418979580837},{\"line\":{\"color\":\"RoyalBlue\",\"width\":1},\"type\":\"line\",\"x0\":0,\"x1\":200,\"y0\":429.963802202433,\"y1\":429.963802202433}]},                        {\"responsive\": true}                    ).then(function(){\n",
       "                            \n",
       "var gd = document.getElementById('10111d9d-b4b9-4368-8a42-e81fd0c5c32b');\n",
       "var x = new MutationObserver(function (mutations, observer) {{\n",
       "        var display = window.getComputedStyle(gd).display;\n",
       "        if (!display || display === 'none') {{\n",
       "            console.log([gd, 'removed!']);\n",
       "            Plotly.purge(gd);\n",
       "            observer.disconnect();\n",
       "        }}\n",
       "}});\n",
       "\n",
       "// Listen for the removal of the full notebook cells\n",
       "var notebookContainer = gd.closest('#notebook-container');\n",
       "if (notebookContainer) {{\n",
       "    x.observe(notebookContainer, {childList: true});\n",
       "}}\n",
       "\n",
       "// Listen for the clearing of the current output cell\n",
       "var outputEl = gd.closest('.output');\n",
       "if (outputEl) {{\n",
       "    x.observe(outputEl, {childList: true});\n",
       "}}\n",
       "\n",
       "                        })                };                });            </script>        </div>"
      ]
     },
     "metadata": {},
     "output_type": "display_data"
    }
   ],
   "source": [
    "s = 0\n",
    "e = 200\n",
    "dfpl = sr_df[s:e]\n",
    "import plotly.graph_objects as go\n",
    "from datetime import datetime\n",
    "import matplotlib.pyplot as plt\n",
    "\n",
    "fig = go.Figure(data=[go.Candlestick(x=dfpl.index,\n",
    "                open=dfpl['Open'],\n",
    "                high=dfpl['High'],\n",
    "                low=dfpl['Low'],\n",
    "                close=dfpl['Close'])])\n",
    "\n",
    "c=0\n",
    "while (1):\n",
    "    if(c>len(plotlist1)-1 ):#or sr[c][0]>e\n",
    "        break\n",
    "    fig.add_shape(type='line', x0=s, y0=plotlist1[c],\n",
    "                  x1=e,\n",
    "                  y1=plotlist1[c],\n",
    "                  line=dict(color=\"MediumPurple\",width=3)\n",
    "                  )\n",
    "    c+=1\n",
    "\n",
    "c=0\n",
    "while (1):\n",
    "    if(c>len(plotlist2)-1 ):#or sr[c][0]>e\n",
    "        break\n",
    "    fig.add_shape(type='line', x0=s, y0=plotlist2[c],\n",
    "                  x1=e,\n",
    "                  y1=plotlist2[c],\n",
    "                  line=dict(color=\"RoyalBlue\",width=1)\n",
    "                  )\n",
    "    c+=1    \n",
    "\n",
    "fig.show()"
   ]
  },
  {
   "cell_type": "code",
   "execution_count": 146,
   "id": "86a2d654-b2b0-472c-af42-3f59f57e7ec2",
   "metadata": {},
   "outputs": [],
   "source": [
    "ss = []\n",
    "rr = []\n",
    "n1=4\n",
    "n2=3\n",
    "for row in range(n1, (len(sr_df)-n2)): #len(df)-n2\n",
    "    if support(sr_df, row, n1, n2):\n",
    "        ss.append((row,sr_df.Low[row]))\n",
    "    if resistance(df, row, n1, n2):\n",
    "        rr.append((row,sr_df.High[row]))"
   ]
  },
  {
   "cell_type": "code",
   "execution_count": 147,
   "id": "8cddf318-62e7-438f-a68d-28abf735c70f",
   "metadata": {},
   "outputs": [
    {
     "data": {
      "application/vnd.plotly.v1+json": {
       "config": {
        "plotlyServerURL": "https://plot.ly"
       },
       "data": [
        {
         "close": [
          461.93988037109375,
          460.4129943847656,
          456.7090759277344,
          456.8568115234375,
          460.30462646484375,
          460.4622497558594,
          462.28466796875,
          461.16168212890625,
          462.72802734375,
          461.9005126953125,
          460.6001892089844,
          461.2109069824219,
          462.4422912597656,
          452.12835693359375,
          457.6744384765625,
          448.7691955566406,
          443.78460693359375,
          450.5817565917969,
          446.6611022949219,
          451.9510803222656,
          461.2995910644531,
          462.5211181640625,
          459.39837646484375,
          463.7229309082031,
          459.6150817871094,
          456.4529113769531,
          463.5849914550781,
          459.49688720703125,
          454.6064758300781,
          449.7724914550781,
          457.760009765625,
          462.3370056152344,
          465.21368408203125,
          471.7974548339844,
          471.4118957519531,
          472.01495361328125,
          470.7100524902344,
          469.5238037109375,
          472.2423095703125,
          472.0841064453125,
          463.01910400390625,
          462.5841369628906,
          460.75531005859375,
          460.18194580078125,
          464.3734436035156,
          465.6288757324219,
          459.213134765625,
          459.4010009765625,
          451.2651672363281,
          446.57940673828125,
          441.6366882324219,
          432.9670715332031,
          434.8057556152344,
          429.4972229003906,
          428.4197082519531,
          426.3041687011719,
          436.8916320800781,
          444.760498046875,
          447.7657470703125,
          452.1153564453125,
          441.4884033203125,
          443.5643615722656,
          442.1408386230469,
          445.77874755859375,
          452.3031921386719,
          444.17724609375,
          435.41864013671875,
          433.9951477050781,
          440.9941101074219,
          441.4884033203125,
          432.0575866699219,
          429.2599792480469,
          424.6532897949219,
          417.1205139160156,
          423.3978271484375,
          432.7396545410156,
          431.63250732421875,
          425.05865478515625,
          432.87811279296875,
          430.7230224609375,
          427.2235412597656,
          414.6293640136719,
          411.48577880859375,
          422.51800537109375,
          420.610107421875,
          415.26202392578125,
          412.2271728515625,
          421.292236328125,
          430.634033203125,
          436.0216979980469,
          440.7973327636719,
          440.6684265136719,
          445.8248596191406,
          440.0833740234375,
          446.71734619140625,
          448.89892578125,
          452.0919494628906,
          457.6847229003906,
          454.8586120605469,
          447.8577575683594,
          449.12701416015625,
          452.9744873046875,
          447.2528076171875,
          442.78057861328125,
          445.01171875,
          443.8218078613281,
          436.23590087890625,
          434.6195068359375,
          439.59747314453125,
          434.12371826171875,
          434.30218505859375,
          441.31298828125,
          440.9857482910156,
          434.3914489746094,
          422.47210693359375,
          424.9214172363281,
          412.6153564453125,
          413.7755432128906,
          424.2272644042969,
          408.5496826171875,
          411.0089111328125,
          412.89300537109375,
          425.466796875,
          410.3445129394531,
          407.89520263671875,
          394.83551025390625,
          395.747802734375,
          389.46087646484375,
          389.0543212890625,
          398.35577392578125,
          396.7394104003906,
          404.9005126953125,
          388.57830810546875,
          386.19842529296875,
          386.36700439453125,
          393.5959777832031,
          390.5913391113281,
          394.0422058105469,
          401.91571044921875,
          411.7823791503906,
          409.4718933105469,
          406.1598815917969,
          413.8945617675781,
          407.1018981933594,
          408.3414611816406,
          412.25836181640625,
          407.7762145996094,
          398.078125,
          386.53558349609375,
          371.8595275878906,
          370.739013671875,
          376.02435302734375,
          363.5794677734375,
          364.3632507324219,
          373.53558349609375,
          372.8583679199219,
          376.5133361816406,
          388.4841613769531,
          387.0002746582031,
          379.0927429199219,
          378.7840270996094,
          375.7066650390625,
          379.6803283691406,
          380.3973693847656,
          381.68212890625,
          387.39862060546875,
          387.0799560546875,
          382.6581115722656,
          379.2720031738281,
          377.2801818847656,
          376.36395263671875,
          383.554443359375,
          380.387451171875,
          390.6651916503906,
          393.15496826171875,
          397.1585388183594,
          393.4736633300781,
          393.95172119140625,
          389.2908630371094,
          399.39935302734375,
          404.40875244140625,
          410.3045349121094,
          409.0895080566406,
          406.390625,
          412.7544860839844,
          412.47564697265625,
          411.7784729003906,
          411.3004455566406,
          409.66717529296875,
          418.27178955078125,
          418.27178955078125,
          425.35272216796875,
          427.1054992675781,
          427.9421081542969,
          424.9045715332031,
          426.1394958496094,
          420.41302490234375,
          411.6589660644531,
          410.6630859375,
          411.9776916503906
         ],
         "high": [
          463.22051993826574,
          462.57035150578884,
          460.4130373694832,
          458.35417291583184,
          460.8858280192206,
          461.8216836025759,
          463.476622664264,
          462.1960182712331,
          463.0038523491198,
          463.919942376069,
          466.4811987877852,
          462.1073456337604,
          462.5703582237442,
          456.9848605880097,
          459.6052132868019,
          457.11293876181486,
          457.7433945901328,
          452.2268759486868,
          453.43852023575164,
          453.9212674314211,
          461.89065318734845,
          462.99397389613455,
          462.62948205998595,
          463.88054948467556,
          463.5455952344251,
          458.7974387254398,
          463.8410953138141,
          465.8211708085714,
          459.4207305999944,
          450.1876674085448,
          457.9082868957625,
          462.45562731524785,
          466.78548188150756,
          471.8468704837619,
          473.32969355435415,
          473.08257906373285,
          473.51754328114333,
          471.40205109462113,
          472.3807216657983,
          474.48631638605656,
          472.5092320583563,
          465.43117839173607,
          463.8297298859487,
          460.4092939939143,
          464.47230508019663,
          467.78394722040724,
          467.46756932998835,
          459.76676127684203,
          454.6954520501679,
          454.3494290853147,
          453.489446103823,
          442.93168671611863,
          435.3395834284582,
          434.6871333979894,
          438.9577017159584,
          436.53571226839364,
          436.94104773309544,
          445.1262583350566,
          448.4379568512328,
          452.87653246527395,
          447.7854900534315,
          447.5976501613361,
          445.8281271274784,
          446.7475417833549,
          452.6392970170899,
          452.47120137121067,
          446.44101509500166,
          436.54563498586,
          441.17204265347874,
          442.931684304537,
          441.45874873347236,
          433.6392679106509,
          430.5154097178561,
          428.30106103664184,
          423.8525838825361,
          432.8286208098192,
          433.18454495400056,
          432.1663637194288,
          434.68715412147407,
          436.0612101040459,
          428.40978836365167,
          427.35205429210276,
          422.32032684373695,
          424.59397547596285,
          421.54921593492463,
          423.8624284809466,
          419.6907462879158,
          421.95455087309057,
          430.69334404957186,
          436.0216979980468,
          441.13448178417855,
          442.7210680947924,
          446.80655908056025,
          444.7340999255641,
          446.72727212990196,
          449.18650563408687,
          452.0919494628906,
          458.200387511717,
          457.33767571847,
          454.91812632147673,
          449.6624701169323,
          453.0835818389499,
          453.9958483027275,
          445.1703995445369,
          446.91565282851775,
          446.8561793032968,
          441.27334507595015,
          442.0170238771549,
          440.39076139490294,
          441.00560136960956,
          436.0672770902297,
          442.06660302722275,
          443.8218128328768,
          446.2413853915548,
          434.41125532958233,
          425.0999025485545,
          422.47211585475065,
          419.3782512500081,
          426.0419558520609,
          422.30352267308285,
          412.43685414522116,
          415.4216381372007,
          426.06177817463373,
          421.44080381860226,
          411.32621816707115,
          403.0064941024103,
          402.67925504280765,
          400.65633572187966,
          392.48533683625664,
          399.8035385983029,
          400.58692186942926,
          405.1484190588463,
          400.4183176009376,
          390.83925522997254,
          393.70502620623034,
          394.39919195807806,
          391.84076652366394,
          396.1048037225104,
          403.6312333794285,
          411.9013693581638,
          412.97232996852904,
          412.75418506046395,
          413.9441309353551,
          410.5725870763427,
          413.12107295279543,
          412.7343529347155,
          412.33769767547756,
          408.291855079743,
          392.4655145076387,
          378.61249418792625,
          374.7749366416902,
          380.68497411680744,
          367.83354945752603,
          367.8688698501164,
          374.98960207775144,
          377.1706403184424,
          377.28017513374607,
          388.49413019242246,
          389.75893164678683,
          391.5515738460968,
          380.7061241839131,
          379.10271832908796,
          380.1384683809683,
          380.41730701486875,
          384.2914056552444,
          388.23518049333734,
          389.0418979580837,
          385.2872954288367,
          384.5802150528634,
          380.35756734891146,
          377.49927302854667,
          383.67394757819767,
          387.4982255615694,
          391.2627430970632,
          394.6388932756416,
          397.208322108785,
          398.5428362374419,
          394.8480331918537,
          392.4478773804343,
          401.23182193635006,
          405.1357465196418,
          411.34028877128935,
          411.71872227062175,
          411.31041790220996,
          413.97943466962624,
          413.391866239546,
          412.4556836890572,
          415.9115090600188,
          411.0614418214487,
          418.4212002072381,
          423.21151981805826,
          425.4622575648715,
          427.6532674277152,
          429.963802202433,
          427.74291828019767,
          426.85652111767564,
          423.5202560090412,
          415.52309761108154,
          413.7205338893691,
          413.41177265690214
         ],
         "low": [
          461.2207813676723,
          458.93535416832054,
          455.15264131534184,
          456.83712047557333,
          457.19172741394357,
          459.28015558764304,
          460.10761979136737,
          460.51151681616716,
          459.38854561116045,
          461.5163117943677,
          460.3834674297967,
          457.52666708172603,
          458.2556439190348,
          450.9462327293489,
          454.8472249887594,
          448.51306162481666,
          443.57774572304714,
          443.5974473509027,
          442.2281816015183,
          446.7990302092631,
          451.8131356831209,
          459.87121407866465,
          459.19151523985863,
          459.5560044066399,
          459.31953569933046,
          453.3892850109791,
          453.87195424054596,
          457.8714588390697,
          452.81719490262014,
          445.9764461819522,
          451.0872673948548,
          457.2854769888965,
          463.2761259992427,
          466.607544539395,
          470.6111691628179,
          470.4728112024703,
          470.2256705027333,
          469.23714464735207,
          468.42650410269573,
          470.1366532158194,
          462.92024253253254,
          460.1028558261161,
          459.331789329575,
          451.37392290910174,
          456.76156242338106,
          463.57269588491556,
          458.13561418240937,
          454.6361615385267,
          450.0986803394288,
          446.2927175430621,
          439.4124407818949,
          432.93741610762225,
          415.9441512869428,
          422.26099759477876,
          423.95142308177117,
          424.5346781339232,
          422.9233534873862,
          434.7760929251571,
          441.8245252134182,
          447.8645544659762,
          440.6085754190579,
          438.75007640900003,
          440.74697333660356,
          440.12421487931573,
          449.8021506939638,
          442.0815157066429,
          433.9160483867408,
          430.3572747041986,
          438.10751807548485,
          436.8817361726757,
          431.4249275370094,
          426.87755957227427,
          420.98573151795205,
          416.5273752810809,
          405.9399834174015,
          422.96283781372745,
          425.77038704288657,
          422.22147816219183,
          426.6304415699974,
          428.8348799661836,
          422.98263470528383,
          414.56015796540635,
          410.3687074830403,
          417.9805446642092,
          415.6277851487968,
          414.7281961413844,
          411.0310305093529,
          413.6309398298518,
          419.9378680923793,
          428.23188447143536,
          433.55847910607173,
          436.9894744870046,
          442.1260859856014,
          439.99413136206294,
          441.0353516427663,
          444.6745916954664,
          446.2909346958001,
          453.3513244447868,
          452.64727638335665,
          447.38176643167407,
          445.37867115268716,
          448.4725296114604,
          446.0529493440323,
          439.7561331394801,
          439.81561135084553,
          442.2054535434022,
          435.7103405772736,
          432.9932266474523,
          434.17328075554553,
          434.01462372496155,
          431.9619333384212,
          434.0146094059943,
          439.7660683471935,
          433.43949700113836,
          421.87712562282195,
          415.332386136087,
          412.58560889224606,
          411.53449026005103,
          414.102777437426,
          407.7662900436615,
          401.62811295868255,
          409.8982771759006,
          410.2453407475674,
          406.01111469269813,
          402.33219847437874,
          393.1794824727231,
          391.5135728980805,
          388.67748392424545,
          381.9245319583339,
          392.29692673655927,
          394.2702727900256,
          399.20856201041227,
          387.2792812745358,
          383.8680995174872,
          377.35313325777327,
          387.1107390175401,
          383.71935216445735,
          388.6081176351974,
          395.11317435868995,
          404.2856934406207,
          406.5961855333333,
          403.5221541519284,
          403.63123229115416,
          406.0805252468473,
          407.1118250194197,
          404.19644193071485,
          406.9432528615476,
          398.078125,
          386.4860143290133,
          370.1737522913565,
          367.486483305269,
          369.0036284494724,
          361.03098308594804,
          360.6883744980465,
          370.2889105384422,
          368.66556934032934,
          371.3645039167214,
          379.8098026748832,
          385.85498538676313,
          378.9732387064949,
          376.87189883102377,
          371.0358494624268,
          372.27076315463177,
          371.3744368394161,
          378.047067090451,
          381.7020200800238,
          384.08226030366467,
          381.9310870883159,
          377.4395342992379,
          373.127258498116,
          369.52206305495616,
          378.98322463302077,
          379.10272006385037,
          383.8133636257635,
          389.4302784858606,
          390.0278270867561,
          391.1432400346693,
          391.60136020227054,
          388.35470619513643,
          392.43792846497354,
          396.5211402271115,
          405.10588877053,
          406.7292087102475,
          405.155707562965,
          408.3226789963226,
          410.75271344845027,
          407.9243101442471,
          410.14518747689357,
          408.54179325446074,
          415.0151782306003,
          417.49498178666795,
          419.3075474968399,
          422.972483188537,
          425.13363748859143,
          422.8032181180557,
          423.7592588669933,
          419.49677528211595,
          410.7128404151961,
          410.08544169235375,
          409.70702033371197
         ],
         "open": [
          462.698421594101,
          462.32407813638133,
          458.63985090660196,
          458.27534859903824,
          458.1866814636852,
          461.6542345418459,
          460.18641404234324,
          462.008848102596,
          462.2453110373495,
          462.6097511659769,
          463.87070694484504,
          460.25536512881183,
          459.11267044699287,
          455.4481171600917,
          457.15234013278007,
          455.11320014550046,
          454.7585625872926,
          444.01119984453203,
          452.3253898476043,
          449.3307278595685,
          457.4872839626471,
          461.71336429127695,
          461.1715328043396,
          462.23546008133275,
          463.1811154492322,
          456.18694695355384,
          456.51202757900575,
          465.5256547758522,
          456.2672398674505,
          449.27821425542703,
          453.3609305057284,
          457.49309513220595,
          463.3848524971854,
          466.6569601891726,
          472.25217296117563,
          471.520676426014,
          472.45978286474065,
          470.1960436513577,
          470.84844425912456,
          473.7350054442367,
          471.69861022869173,
          462.53472131142144,
          462.5940369036953,
          457.4041104866488,
          459.90518843943073,
          466.1923589724666,
          466.78546443913797,
          455.911405158876,
          454.4779688856371,
          452.88638802340296,
          448.5565691896171,
          440.4603006900865,
          427.0851483078244,
          428.10335760369844,
          435.67569388631534,
          433.2438395533789,
          427.72771342285955,
          436.1897184269397,
          445.5217091767673,
          450.28652478956815,
          445.78862101585275,
          441.2412527498039,
          444.36508596280606,
          441.61694175756384,
          450.0097386724572,
          446.17411501257595,
          444.266213628056,
          434.8848708117567,
          438.6512410794835,
          438.84894978483493,
          438.147085436672,
          432.32447369113333,
          426.946743075598,
          427.7079224017071,
          406.3156087388995,
          424.6928078775693,
          427.08515110507835,
          430.06073790650487,
          427.4212730447816,
          435.4285509854193,
          426.8083351640208,
          426.6106384934223,
          414.81720238907917,
          420.2739979261272,
          417.68396488229035,
          423.21987420121394,
          416.07266383687795,
          414.9654641175031,
          424.9696361894637,
          428.6273001991835,
          434.331945744177,
          440.6188270864143,
          442.1260859856014,
          443.1673449891968,
          442.2054624289705,
          447.3817400586387,
          448.2741855384289,
          456.16753714400295,
          456.4848620839005,
          454.0554169741167,
          449.5137323511612,
          449.33523889932536,
          451.40772050749126,
          443.14750544454176,
          441.85835724877296,
          444.2184519870874,
          440.3907838600342,
          439.36937073292785,
          434.36169201086005,
          439.835460328614,
          433.1518959435267,
          434.1930947198821,
          443.17726233854705,
          444.78369474686116,
          433.25107052248364,
          420.1219538482033,
          422.2638527212785,
          413.74579565968503,
          418.75350303318476,
          420.04261787296315,
          408.6190902615176,
          411.5344833608006,
          413.58711354426896,
          420.9945602744624,
          407.657222216257,
          401.70746721179637,
          401.10257418673535,
          394.7363308640535,
          386.1091925233651,
          393.38772077558525,
          396.63034613002395,
          403.12549465904874,
          400.1208420908022,
          385.36546357658506,
          389.9566834536972,
          389.5402031563818,
          389.2724603968558,
          389.02458338337726,
          395.33133316910966,
          404.49392630422375,
          410.0866962528882,
          411.693168783268,
          405.9913057078747,
          408.9463069025536,
          411.3064116561258,
          404.6823589875329,
          410.46351106833333,
          405.9119600405998,
          391.5730576661437,
          376.6689168637618,
          373.6940684990385,
          374.1997357129782,
          367.40715777387805,
          364.01470689796395,
          370.36860027572,
          369.10377171155864,
          375.09916248890295,
          379.839678728561,
          389.45020228820897,
          388.63356786157743,
          379.6704007020671,
          374.7007872373399,
          375.01948165467763,
          374.3422564155411,
          380.54677804388876,
          383.5444577535018,
          385.6856591705736,
          384.2714792285503,
          382.0804737894117,
          373.5654608765115,
          372.08152594230745,
          380.9849810837629,
          386.79113868810555,
          384.50051283779845,
          390.86438981626435,
          392.54747551542175,
          397.2880116277475,
          394.13097751294976,
          392.2287761962975,
          392.7466578229037,
          400.24586034709495,
          405.9125726207121,
          407.47614042202906,
          407.4462861108971,
          408.6214395311792,
          412.6748105385001,
          407.98406224955716,
          413.551209607935,
          410.53361126449806,
          417.0667482330721,
          421.25951639625225,
          420.3034564551387,
          423.0322352943368,
          425.9801662145605,
          424.1676085940869,
          425.1136804525352,
          423.241402714664,
          415.3438109035657,
          411.21082373535467,
          410.4240456406023
         ],
         "type": "candlestick",
         "x": [
          0,
          1,
          2,
          3,
          4,
          5,
          6,
          7,
          8,
          9,
          10,
          11,
          12,
          13,
          14,
          15,
          16,
          17,
          18,
          19,
          20,
          21,
          22,
          23,
          24,
          25,
          26,
          27,
          28,
          29,
          30,
          31,
          32,
          33,
          34,
          35,
          36,
          37,
          38,
          39,
          40,
          41,
          42,
          43,
          44,
          45,
          46,
          47,
          48,
          49,
          50,
          51,
          52,
          53,
          54,
          55,
          56,
          57,
          58,
          59,
          60,
          61,
          62,
          63,
          64,
          65,
          66,
          67,
          68,
          69,
          70,
          71,
          72,
          73,
          74,
          75,
          76,
          77,
          78,
          79,
          80,
          81,
          82,
          83,
          84,
          85,
          86,
          87,
          88,
          89,
          90,
          91,
          92,
          93,
          94,
          95,
          96,
          97,
          98,
          99,
          100,
          101,
          102,
          103,
          104,
          105,
          106,
          107,
          108,
          109,
          110,
          111,
          112,
          113,
          114,
          115,
          116,
          117,
          118,
          119,
          120,
          121,
          122,
          123,
          124,
          125,
          126,
          127,
          128,
          129,
          130,
          131,
          132,
          133,
          134,
          135,
          136,
          137,
          138,
          139,
          140,
          141,
          142,
          143,
          144,
          145,
          146,
          147,
          148,
          149,
          150,
          151,
          152,
          153,
          154,
          155,
          156,
          157,
          158,
          159,
          160,
          161,
          162,
          163,
          164,
          165,
          166,
          167,
          168,
          169,
          170,
          171,
          172,
          173,
          174,
          175,
          176,
          177,
          178,
          179,
          180,
          181,
          182,
          183,
          184,
          185,
          186,
          187,
          188,
          189,
          190,
          191,
          192,
          193,
          194,
          195,
          196,
          197,
          198,
          199
         ]
        }
       ],
       "layout": {
        "autosize": true,
        "shapes": [
         {
          "line": {
           "color": "MediumPurple",
           "width": 3
          },
          "type": "line",
          "x0": 52,
          "x1": 200,
          "y0": 415.9441512869428,
          "y1": 415.9441512869428
         },
         {
          "line": {
           "color": "MediumPurple",
           "width": 3
          },
          "type": "line",
          "x0": 128,
          "x1": 200,
          "y0": 381.9245319583339,
          "y1": 381.9245319583339
         },
         {
          "line": {
           "color": "MediumPurple",
           "width": 3
          },
          "type": "line",
          "x0": 170,
          "x1": 200,
          "y0": 369.52206305495616,
          "y1": 369.52206305495616
         },
         {
          "line": {
           "color": "RoyalBlue",
           "width": 1
          },
          "type": "line",
          "x0": 59,
          "x1": 200,
          "y0": 452.87653246527395,
          "y1": 452.87653246527395
         },
         {
          "line": {
           "color": "RoyalBlue",
           "width": 1
          },
          "type": "line",
          "x0": 97,
          "x1": 200,
          "y0": 458.200387511717,
          "y1": 458.200387511717
         },
         {
          "line": {
           "color": "RoyalBlue",
           "width": 1
          },
          "type": "line",
          "x0": 166,
          "x1": 200,
          "y0": 389.0418979580837,
          "y1": 389.0418979580837
         },
         {
          "line": {
           "color": "RoyalBlue",
           "width": 1
          },
          "type": "line",
          "x0": 193,
          "x1": 200,
          "y0": 429.963802202433,
          "y1": 429.963802202433
         },
         {
          "line": {
           "color": "RoyalBlue",
           "width": 1
          },
          "type": "line",
          "x0": 211,
          "x1": 200,
          "y0": 410.0456273794545,
          "y1": 410.0456273794545
         }
        ],
        "template": {
         "data": {
          "bar": [
           {
            "error_x": {
             "color": "#2a3f5f"
            },
            "error_y": {
             "color": "#2a3f5f"
            },
            "marker": {
             "line": {
              "color": "#E5ECF6",
              "width": 0.5
             },
             "pattern": {
              "fillmode": "overlay",
              "size": 10,
              "solidity": 0.2
             }
            },
            "type": "bar"
           }
          ],
          "barpolar": [
           {
            "marker": {
             "line": {
              "color": "#E5ECF6",
              "width": 0.5
             },
             "pattern": {
              "fillmode": "overlay",
              "size": 10,
              "solidity": 0.2
             }
            },
            "type": "barpolar"
           }
          ],
          "carpet": [
           {
            "aaxis": {
             "endlinecolor": "#2a3f5f",
             "gridcolor": "white",
             "linecolor": "white",
             "minorgridcolor": "white",
             "startlinecolor": "#2a3f5f"
            },
            "baxis": {
             "endlinecolor": "#2a3f5f",
             "gridcolor": "white",
             "linecolor": "white",
             "minorgridcolor": "white",
             "startlinecolor": "#2a3f5f"
            },
            "type": "carpet"
           }
          ],
          "choropleth": [
           {
            "colorbar": {
             "outlinewidth": 0,
             "ticks": ""
            },
            "type": "choropleth"
           }
          ],
          "contour": [
           {
            "colorbar": {
             "outlinewidth": 0,
             "ticks": ""
            },
            "colorscale": [
             [
              0,
              "#0d0887"
             ],
             [
              0.1111111111111111,
              "#46039f"
             ],
             [
              0.2222222222222222,
              "#7201a8"
             ],
             [
              0.3333333333333333,
              "#9c179e"
             ],
             [
              0.4444444444444444,
              "#bd3786"
             ],
             [
              0.5555555555555556,
              "#d8576b"
             ],
             [
              0.6666666666666666,
              "#ed7953"
             ],
             [
              0.7777777777777778,
              "#fb9f3a"
             ],
             [
              0.8888888888888888,
              "#fdca26"
             ],
             [
              1,
              "#f0f921"
             ]
            ],
            "type": "contour"
           }
          ],
          "contourcarpet": [
           {
            "colorbar": {
             "outlinewidth": 0,
             "ticks": ""
            },
            "type": "contourcarpet"
           }
          ],
          "heatmap": [
           {
            "colorbar": {
             "outlinewidth": 0,
             "ticks": ""
            },
            "colorscale": [
             [
              0,
              "#0d0887"
             ],
             [
              0.1111111111111111,
              "#46039f"
             ],
             [
              0.2222222222222222,
              "#7201a8"
             ],
             [
              0.3333333333333333,
              "#9c179e"
             ],
             [
              0.4444444444444444,
              "#bd3786"
             ],
             [
              0.5555555555555556,
              "#d8576b"
             ],
             [
              0.6666666666666666,
              "#ed7953"
             ],
             [
              0.7777777777777778,
              "#fb9f3a"
             ],
             [
              0.8888888888888888,
              "#fdca26"
             ],
             [
              1,
              "#f0f921"
             ]
            ],
            "type": "heatmap"
           }
          ],
          "heatmapgl": [
           {
            "colorbar": {
             "outlinewidth": 0,
             "ticks": ""
            },
            "colorscale": [
             [
              0,
              "#0d0887"
             ],
             [
              0.1111111111111111,
              "#46039f"
             ],
             [
              0.2222222222222222,
              "#7201a8"
             ],
             [
              0.3333333333333333,
              "#9c179e"
             ],
             [
              0.4444444444444444,
              "#bd3786"
             ],
             [
              0.5555555555555556,
              "#d8576b"
             ],
             [
              0.6666666666666666,
              "#ed7953"
             ],
             [
              0.7777777777777778,
              "#fb9f3a"
             ],
             [
              0.8888888888888888,
              "#fdca26"
             ],
             [
              1,
              "#f0f921"
             ]
            ],
            "type": "heatmapgl"
           }
          ],
          "histogram": [
           {
            "marker": {
             "pattern": {
              "fillmode": "overlay",
              "size": 10,
              "solidity": 0.2
             }
            },
            "type": "histogram"
           }
          ],
          "histogram2d": [
           {
            "colorbar": {
             "outlinewidth": 0,
             "ticks": ""
            },
            "colorscale": [
             [
              0,
              "#0d0887"
             ],
             [
              0.1111111111111111,
              "#46039f"
             ],
             [
              0.2222222222222222,
              "#7201a8"
             ],
             [
              0.3333333333333333,
              "#9c179e"
             ],
             [
              0.4444444444444444,
              "#bd3786"
             ],
             [
              0.5555555555555556,
              "#d8576b"
             ],
             [
              0.6666666666666666,
              "#ed7953"
             ],
             [
              0.7777777777777778,
              "#fb9f3a"
             ],
             [
              0.8888888888888888,
              "#fdca26"
             ],
             [
              1,
              "#f0f921"
             ]
            ],
            "type": "histogram2d"
           }
          ],
          "histogram2dcontour": [
           {
            "colorbar": {
             "outlinewidth": 0,
             "ticks": ""
            },
            "colorscale": [
             [
              0,
              "#0d0887"
             ],
             [
              0.1111111111111111,
              "#46039f"
             ],
             [
              0.2222222222222222,
              "#7201a8"
             ],
             [
              0.3333333333333333,
              "#9c179e"
             ],
             [
              0.4444444444444444,
              "#bd3786"
             ],
             [
              0.5555555555555556,
              "#d8576b"
             ],
             [
              0.6666666666666666,
              "#ed7953"
             ],
             [
              0.7777777777777778,
              "#fb9f3a"
             ],
             [
              0.8888888888888888,
              "#fdca26"
             ],
             [
              1,
              "#f0f921"
             ]
            ],
            "type": "histogram2dcontour"
           }
          ],
          "mesh3d": [
           {
            "colorbar": {
             "outlinewidth": 0,
             "ticks": ""
            },
            "type": "mesh3d"
           }
          ],
          "parcoords": [
           {
            "line": {
             "colorbar": {
              "outlinewidth": 0,
              "ticks": ""
             }
            },
            "type": "parcoords"
           }
          ],
          "pie": [
           {
            "automargin": true,
            "type": "pie"
           }
          ],
          "scatter": [
           {
            "marker": {
             "colorbar": {
              "outlinewidth": 0,
              "ticks": ""
             }
            },
            "type": "scatter"
           }
          ],
          "scatter3d": [
           {
            "line": {
             "colorbar": {
              "outlinewidth": 0,
              "ticks": ""
             }
            },
            "marker": {
             "colorbar": {
              "outlinewidth": 0,
              "ticks": ""
             }
            },
            "type": "scatter3d"
           }
          ],
          "scattercarpet": [
           {
            "marker": {
             "colorbar": {
              "outlinewidth": 0,
              "ticks": ""
             }
            },
            "type": "scattercarpet"
           }
          ],
          "scattergeo": [
           {
            "marker": {
             "colorbar": {
              "outlinewidth": 0,
              "ticks": ""
             }
            },
            "type": "scattergeo"
           }
          ],
          "scattergl": [
           {
            "marker": {
             "colorbar": {
              "outlinewidth": 0,
              "ticks": ""
             }
            },
            "type": "scattergl"
           }
          ],
          "scattermapbox": [
           {
            "marker": {
             "colorbar": {
              "outlinewidth": 0,
              "ticks": ""
             }
            },
            "type": "scattermapbox"
           }
          ],
          "scatterpolar": [
           {
            "marker": {
             "colorbar": {
              "outlinewidth": 0,
              "ticks": ""
             }
            },
            "type": "scatterpolar"
           }
          ],
          "scatterpolargl": [
           {
            "marker": {
             "colorbar": {
              "outlinewidth": 0,
              "ticks": ""
             }
            },
            "type": "scatterpolargl"
           }
          ],
          "scatterternary": [
           {
            "marker": {
             "colorbar": {
              "outlinewidth": 0,
              "ticks": ""
             }
            },
            "type": "scatterternary"
           }
          ],
          "surface": [
           {
            "colorbar": {
             "outlinewidth": 0,
             "ticks": ""
            },
            "colorscale": [
             [
              0,
              "#0d0887"
             ],
             [
              0.1111111111111111,
              "#46039f"
             ],
             [
              0.2222222222222222,
              "#7201a8"
             ],
             [
              0.3333333333333333,
              "#9c179e"
             ],
             [
              0.4444444444444444,
              "#bd3786"
             ],
             [
              0.5555555555555556,
              "#d8576b"
             ],
             [
              0.6666666666666666,
              "#ed7953"
             ],
             [
              0.7777777777777778,
              "#fb9f3a"
             ],
             [
              0.8888888888888888,
              "#fdca26"
             ],
             [
              1,
              "#f0f921"
             ]
            ],
            "type": "surface"
           }
          ],
          "table": [
           {
            "cells": {
             "fill": {
              "color": "#EBF0F8"
             },
             "line": {
              "color": "white"
             }
            },
            "header": {
             "fill": {
              "color": "#C8D4E3"
             },
             "line": {
              "color": "white"
             }
            },
            "type": "table"
           }
          ]
         },
         "layout": {
          "annotationdefaults": {
           "arrowcolor": "#2a3f5f",
           "arrowhead": 0,
           "arrowwidth": 1
          },
          "autotypenumbers": "strict",
          "coloraxis": {
           "colorbar": {
            "outlinewidth": 0,
            "ticks": ""
           }
          },
          "colorscale": {
           "diverging": [
            [
             0,
             "#8e0152"
            ],
            [
             0.1,
             "#c51b7d"
            ],
            [
             0.2,
             "#de77ae"
            ],
            [
             0.3,
             "#f1b6da"
            ],
            [
             0.4,
             "#fde0ef"
            ],
            [
             0.5,
             "#f7f7f7"
            ],
            [
             0.6,
             "#e6f5d0"
            ],
            [
             0.7,
             "#b8e186"
            ],
            [
             0.8,
             "#7fbc41"
            ],
            [
             0.9,
             "#4d9221"
            ],
            [
             1,
             "#276419"
            ]
           ],
           "sequential": [
            [
             0,
             "#0d0887"
            ],
            [
             0.1111111111111111,
             "#46039f"
            ],
            [
             0.2222222222222222,
             "#7201a8"
            ],
            [
             0.3333333333333333,
             "#9c179e"
            ],
            [
             0.4444444444444444,
             "#bd3786"
            ],
            [
             0.5555555555555556,
             "#d8576b"
            ],
            [
             0.6666666666666666,
             "#ed7953"
            ],
            [
             0.7777777777777778,
             "#fb9f3a"
            ],
            [
             0.8888888888888888,
             "#fdca26"
            ],
            [
             1,
             "#f0f921"
            ]
           ],
           "sequentialminus": [
            [
             0,
             "#0d0887"
            ],
            [
             0.1111111111111111,
             "#46039f"
            ],
            [
             0.2222222222222222,
             "#7201a8"
            ],
            [
             0.3333333333333333,
             "#9c179e"
            ],
            [
             0.4444444444444444,
             "#bd3786"
            ],
            [
             0.5555555555555556,
             "#d8576b"
            ],
            [
             0.6666666666666666,
             "#ed7953"
            ],
            [
             0.7777777777777778,
             "#fb9f3a"
            ],
            [
             0.8888888888888888,
             "#fdca26"
            ],
            [
             1,
             "#f0f921"
            ]
           ]
          },
          "colorway": [
           "#636efa",
           "#EF553B",
           "#00cc96",
           "#ab63fa",
           "#FFA15A",
           "#19d3f3",
           "#FF6692",
           "#B6E880",
           "#FF97FF",
           "#FECB52"
          ],
          "font": {
           "color": "#2a3f5f"
          },
          "geo": {
           "bgcolor": "white",
           "lakecolor": "white",
           "landcolor": "#E5ECF6",
           "showlakes": true,
           "showland": true,
           "subunitcolor": "white"
          },
          "hoverlabel": {
           "align": "left"
          },
          "hovermode": "closest",
          "mapbox": {
           "style": "light"
          },
          "paper_bgcolor": "white",
          "plot_bgcolor": "#E5ECF6",
          "polar": {
           "angularaxis": {
            "gridcolor": "white",
            "linecolor": "white",
            "ticks": ""
           },
           "bgcolor": "#E5ECF6",
           "radialaxis": {
            "gridcolor": "white",
            "linecolor": "white",
            "ticks": ""
           }
          },
          "scene": {
           "xaxis": {
            "backgroundcolor": "#E5ECF6",
            "gridcolor": "white",
            "gridwidth": 2,
            "linecolor": "white",
            "showbackground": true,
            "ticks": "",
            "zerolinecolor": "white"
           },
           "yaxis": {
            "backgroundcolor": "#E5ECF6",
            "gridcolor": "white",
            "gridwidth": 2,
            "linecolor": "white",
            "showbackground": true,
            "ticks": "",
            "zerolinecolor": "white"
           },
           "zaxis": {
            "backgroundcolor": "#E5ECF6",
            "gridcolor": "white",
            "gridwidth": 2,
            "linecolor": "white",
            "showbackground": true,
            "ticks": "",
            "zerolinecolor": "white"
           }
          },
          "shapedefaults": {
           "line": {
            "color": "#2a3f5f"
           }
          },
          "ternary": {
           "aaxis": {
            "gridcolor": "white",
            "linecolor": "white",
            "ticks": ""
           },
           "baxis": {
            "gridcolor": "white",
            "linecolor": "white",
            "ticks": ""
           },
           "bgcolor": "#E5ECF6",
           "caxis": {
            "gridcolor": "white",
            "linecolor": "white",
            "ticks": ""
           }
          },
          "title": {
           "x": 0.05
          },
          "xaxis": {
           "automargin": true,
           "gridcolor": "white",
           "linecolor": "white",
           "ticks": "",
           "title": {
            "standoff": 15
           },
           "zerolinecolor": "white",
           "zerolinewidth": 2
          },
          "yaxis": {
           "automargin": true,
           "gridcolor": "white",
           "linecolor": "white",
           "ticks": "",
           "title": {
            "standoff": 15
           },
           "zerolinecolor": "white",
           "zerolinewidth": 2
          }
         }
        },
        "xaxis": {
         "autorange": true,
         "range": [
          -0.5,
          211.12477876106195
         ],
         "rangeslider": {
          "autorange": true,
          "range": [
           -0.5,
           211.12477876106195
          ],
          "yaxis": {
           "_template": null,
           "rangemode": "match"
          }
         },
         "type": "linear"
        },
        "yaxis": {
         "autorange": true,
         "range": [
          354.3662666153793,
          480.8084242687238
         ]
        }
       }
      },
      "image/png": "[encoded data removed]",
      "text/html": [
       "<div>                            <div id=\"bf08e401-c6f8-4697-a147-90754506ec82\" class=\"plotly-graph-div\" style=\"height:525px; width:100%;\"></div>            <script type=\"text/javascript\">                require([\"plotly\"], function(Plotly) {                    window.PLOTLYENV=window.PLOTLYENV || {};                                    if (document.getElementById(\"bf08e401-c6f8-4697-a147-90754506ec82\")) {                    Plotly.newPlot(                        \"bf08e401-c6f8-4697-a147-90754506ec82\",                        [{\"close\":[461.93988037109375,460.4129943847656,456.7090759277344,456.8568115234375,460.30462646484375,460.4622497558594,462.28466796875,461.16168212890625,462.72802734375,461.9005126953125,460.6001892089844,461.2109069824219,462.4422912597656,452.12835693359375,457.6744384765625,448.7691955566406,443.78460693359375,450.5817565917969,446.6611022949219,451.9510803222656,461.2995910644531,462.5211181640625,459.39837646484375,463.7229309082031,459.6150817871094,456.4529113769531,463.5849914550781,459.49688720703125,454.6064758300781,449.7724914550781,457.760009765625,462.3370056152344,465.21368408203125,471.7974548339844,471.4118957519531,472.01495361328125,470.7100524902344,469.5238037109375,472.2423095703125,472.0841064453125,463.01910400390625,462.5841369628906,460.75531005859375,460.18194580078125,464.3734436035156,465.6288757324219,459.213134765625,459.4010009765625,451.2651672363281,446.57940673828125,441.6366882324219,432.9670715332031,434.8057556152344,429.4972229003906,428.4197082519531,426.3041687011719,436.8916320800781,444.760498046875,447.7657470703125,452.1153564453125,441.4884033203125,443.5643615722656,442.1408386230469,445.77874755859375,452.3031921386719,444.17724609375,435.41864013671875,433.9951477050781,440.9941101074219,441.4884033203125,432.0575866699219,429.2599792480469,424.6532897949219,417.1205139160156,423.3978271484375,432.7396545410156,431.63250732421875,425.05865478515625,432.87811279296875,430.7230224609375,427.2235412597656,414.6293640136719,411.48577880859375,422.51800537109375,420.610107421875,415.26202392578125,412.2271728515625,421.292236328125,430.634033203125,436.0216979980469,440.7973327636719,440.6684265136719,445.8248596191406,440.0833740234375,446.71734619140625,448.89892578125,452.0919494628906,457.6847229003906,454.8586120605469,447.8577575683594,449.12701416015625,452.9744873046875,447.2528076171875,442.78057861328125,445.01171875,443.8218078613281,436.23590087890625,434.6195068359375,439.59747314453125,434.12371826171875,434.30218505859375,441.31298828125,440.9857482910156,434.3914489746094,422.47210693359375,424.9214172363281,412.6153564453125,413.7755432128906,424.2272644042969,408.5496826171875,411.0089111328125,412.89300537109375,425.466796875,410.3445129394531,407.89520263671875,394.83551025390625,395.747802734375,389.46087646484375,389.0543212890625,398.35577392578125,396.7394104003906,404.9005126953125,388.57830810546875,386.19842529296875,386.36700439453125,393.5959777832031,390.5913391113281,394.0422058105469,401.91571044921875,411.7823791503906,409.4718933105469,406.1598815917969,413.8945617675781,407.1018981933594,408.3414611816406,412.25836181640625,407.7762145996094,398.078125,386.53558349609375,371.8595275878906,370.739013671875,376.02435302734375,363.5794677734375,364.3632507324219,373.53558349609375,372.8583679199219,376.5133361816406,388.4841613769531,387.0002746582031,379.0927429199219,378.7840270996094,375.7066650390625,379.6803283691406,380.3973693847656,381.68212890625,387.39862060546875,387.0799560546875,382.6581115722656,379.2720031738281,377.2801818847656,376.36395263671875,383.554443359375,380.387451171875,390.6651916503906,393.15496826171875,397.1585388183594,393.4736633300781,393.95172119140625,389.2908630371094,399.39935302734375,404.40875244140625,410.3045349121094,409.0895080566406,406.390625,412.7544860839844,412.47564697265625,411.7784729003906,411.3004455566406,409.66717529296875,418.27178955078125,418.27178955078125,425.35272216796875,427.1054992675781,427.9421081542969,424.9045715332031,426.1394958496094,420.41302490234375,411.6589660644531,410.6630859375,411.9776916503906],\"high\":[463.22051993826574,462.57035150578884,460.4130373694832,458.35417291583184,460.8858280192206,461.8216836025759,463.476622664264,462.1960182712331,463.0038523491198,463.919942376069,466.4811987877852,462.1073456337604,462.5703582237442,456.9848605880097,459.6052132868019,457.11293876181486,457.7433945901328,452.2268759486868,453.43852023575164,453.9212674314211,461.89065318734845,462.99397389613455,462.62948205998595,463.88054948467556,463.5455952344251,458.7974387254398,463.8410953138141,465.8211708085714,459.4207305999944,450.1876674085448,457.9082868957625,462.45562731524785,466.78548188150756,471.8468704837619,473.32969355435415,473.08257906373285,473.51754328114333,471.40205109462113,472.3807216657983,474.48631638605656,472.5092320583563,465.43117839173607,463.8297298859487,460.4092939939143,464.47230508019663,467.78394722040724,467.46756932998835,459.76676127684203,454.6954520501679,454.3494290853147,453.489446103823,442.93168671611863,435.3395834284582,434.6871333979894,438.9577017159584,436.53571226839364,436.94104773309544,445.1262583350566,448.4379568512328,452.87653246527395,447.7854900534315,447.5976501613361,445.8281271274784,446.7475417833549,452.6392970170899,452.47120137121067,446.44101509500166,436.54563498586,441.17204265347874,442.931684304537,441.45874873347236,433.6392679106509,430.5154097178561,428.30106103664184,423.8525838825361,432.8286208098192,433.18454495400056,432.1663637194288,434.68715412147407,436.0612101040459,428.40978836365167,427.35205429210276,422.32032684373695,424.59397547596285,421.54921593492463,423.8624284809466,419.6907462879158,421.95455087309057,430.69334404957186,436.0216979980468,441.13448178417855,442.7210680947924,446.80655908056025,444.7340999255641,446.72727212990196,449.18650563408687,452.0919494628906,458.200387511717,457.33767571847,454.91812632147673,449.6624701169323,453.0835818389499,453.9958483027275,445.1703995445369,446.91565282851775,446.8561793032968,441.27334507595015,442.0170238771549,440.39076139490294,441.00560136960956,436.0672770902297,442.06660302722275,443.8218128328768,446.2413853915548,434.41125532958233,425.0999025485545,422.47211585475065,419.3782512500081,426.0419558520609,422.30352267308285,412.43685414522116,415.4216381372007,426.06177817463373,421.44080381860226,411.32621816707115,403.0064941024103,402.67925504280765,400.65633572187966,392.48533683625664,399.8035385983029,400.58692186942926,405.1484190588463,400.4183176009376,390.83925522997254,393.70502620623034,394.39919195807806,391.84076652366394,396.1048037225104,403.6312333794285,411.9013693581638,412.97232996852904,412.75418506046395,413.9441309353551,410.5725870763427,413.12107295279543,412.7343529347155,412.33769767547756,408.291855079743,392.4655145076387,378.61249418792625,374.7749366416902,380.68497411680744,367.83354945752603,367.8688698501164,374.98960207775144,377.1706403184424,377.28017513374607,388.49413019242246,389.75893164678683,391.5515738460968,380.7061241839131,379.10271832908796,380.1384683809683,380.41730701486875,384.2914056552444,388.23518049333734,389.0418979580837,385.2872954288367,384.5802150528634,380.35756734891146,377.49927302854667,383.67394757819767,387.4982255615694,391.2627430970632,394.6388932756416,397.208322108785,398.5428362374419,394.8480331918537,392.4478773804343,401.23182193635006,405.1357465196418,411.34028877128935,411.71872227062175,411.31041790220996,413.97943466962624,413.391866239546,412.4556836890572,415.9115090600188,411.0614418214487,418.4212002072381,423.21151981805826,425.4622575648715,427.6532674277152,429.963802202433,427.74291828019767,426.85652111767564,423.5202560090412,415.52309761108154,413.7205338893691,413.41177265690214],\"low\":[461.2207813676723,458.93535416832054,455.15264131534184,456.83712047557333,457.19172741394357,459.28015558764304,460.10761979136737,460.51151681616716,459.38854561116045,461.5163117943677,460.3834674297967,457.52666708172603,458.2556439190348,450.9462327293489,454.8472249887594,448.51306162481666,443.57774572304714,443.5974473509027,442.2281816015183,446.7990302092631,451.8131356831209,459.87121407866465,459.19151523985863,459.5560044066399,459.31953569933046,453.3892850109791,453.87195424054596,457.8714588390697,452.81719490262014,445.9764461819522,451.0872673948548,457.2854769888965,463.2761259992427,466.607544539395,470.6111691628179,470.4728112024703,470.2256705027333,469.23714464735207,468.42650410269573,470.1366532158194,462.92024253253254,460.1028558261161,459.331789329575,451.37392290910174,456.76156242338106,463.57269588491556,458.13561418240937,454.6361615385267,450.0986803394288,446.2927175430621,439.4124407818949,432.93741610762225,415.9441512869428,422.26099759477876,423.95142308177117,424.5346781339232,422.9233534873862,434.7760929251571,441.8245252134182,447.8645544659762,440.6085754190579,438.75007640900003,440.74697333660356,440.12421487931573,449.8021506939638,442.0815157066429,433.9160483867408,430.3572747041986,438.10751807548485,436.8817361726757,431.4249275370094,426.87755957227427,420.98573151795205,416.5273752810809,405.9399834174015,422.96283781372745,425.77038704288657,422.22147816219183,426.6304415699974,428.8348799661836,422.98263470528383,414.56015796540635,410.3687074830403,417.9805446642092,415.6277851487968,414.7281961413844,411.0310305093529,413.6309398298518,419.9378680923793,428.23188447143536,433.55847910607173,436.9894744870046,442.1260859856014,439.99413136206294,441.0353516427663,444.6745916954664,446.2909346958001,453.3513244447868,452.64727638335665,447.38176643167407,445.37867115268716,448.4725296114604,446.0529493440323,439.7561331394801,439.81561135084553,442.2054535434022,435.7103405772736,432.9932266474523,434.17328075554553,434.01462372496155,431.9619333384212,434.0146094059943,439.7660683471935,433.43949700113836,421.87712562282195,415.332386136087,412.58560889224606,411.53449026005103,414.102777437426,407.7662900436615,401.62811295868255,409.8982771759006,410.2453407475674,406.01111469269813,402.33219847437874,393.1794824727231,391.5135728980805,388.67748392424545,381.9245319583339,392.29692673655927,394.2702727900256,399.20856201041227,387.2792812745358,383.8680995174872,377.35313325777327,387.1107390175401,383.71935216445735,388.6081176351974,395.11317435868995,404.2856934406207,406.5961855333333,403.5221541519284,403.63123229115416,406.0805252468473,407.1118250194197,404.19644193071485,406.9432528615476,398.078125,386.4860143290133,370.1737522913565,367.486483305269,369.0036284494724,361.03098308594804,360.6883744980465,370.2889105384422,368.66556934032934,371.3645039167214,379.8098026748832,385.85498538676313,378.9732387064949,376.87189883102377,371.0358494624268,372.27076315463177,371.3744368394161,378.047067090451,381.7020200800238,384.08226030366467,381.9310870883159,377.4395342992379,373.127258498116,369.52206305495616,378.98322463302077,379.10272006385037,383.8133636257635,389.4302784858606,390.0278270867561,391.1432400346693,391.60136020227054,388.35470619513643,392.43792846497354,396.5211402271115,405.10588877053,406.7292087102475,405.155707562965,408.3226789963226,410.75271344845027,407.9243101442471,410.14518747689357,408.54179325446074,415.0151782306003,417.49498178666795,419.3075474968399,422.972483188537,425.13363748859143,422.8032181180557,423.7592588669933,419.49677528211595,410.7128404151961,410.08544169235375,409.70702033371197],\"open\":[462.698421594101,462.32407813638133,458.63985090660196,458.27534859903824,458.1866814636852,461.6542345418459,460.18641404234324,462.008848102596,462.2453110373495,462.6097511659769,463.87070694484504,460.25536512881183,459.11267044699287,455.4481171600917,457.15234013278007,455.11320014550046,454.7585625872926,444.01119984453203,452.3253898476043,449.3307278595685,457.4872839626471,461.71336429127695,461.1715328043396,462.23546008133275,463.1811154492322,456.18694695355384,456.51202757900575,465.5256547758522,456.2672398674505,449.27821425542703,453.3609305057284,457.49309513220595,463.3848524971854,466.6569601891726,472.25217296117563,471.520676426014,472.45978286474065,470.1960436513577,470.84844425912456,473.7350054442367,471.69861022869173,462.53472131142144,462.5940369036953,457.4041104866488,459.90518843943073,466.1923589724666,466.78546443913797,455.911405158876,454.4779688856371,452.88638802340296,448.5565691896171,440.4603006900865,427.0851483078244,428.10335760369844,435.67569388631534,433.2438395533789,427.72771342285955,436.1897184269397,445.5217091767673,450.28652478956815,445.78862101585275,441.2412527498039,444.36508596280606,441.61694175756384,450.0097386724572,446.17411501257595,444.266213628056,434.8848708117567,438.6512410794835,438.84894978483493,438.147085436672,432.32447369113333,426.946743075598,427.7079224017071,406.3156087388995,424.6928078775693,427.08515110507835,430.06073790650487,427.4212730447816,435.4285509854193,426.8083351640208,426.6106384934223,414.81720238907917,420.2739979261272,417.68396488229035,423.21987420121394,416.07266383687795,414.9654641175031,424.9696361894637,428.6273001991835,434.331945744177,440.6188270864143,442.1260859856014,443.1673449891968,442.2054624289705,447.3817400586387,448.2741855384289,456.16753714400295,456.4848620839005,454.0554169741167,449.5137323511612,449.33523889932536,451.40772050749126,443.14750544454176,441.85835724877296,444.2184519870874,440.3907838600342,439.36937073292785,434.36169201086005,439.835460328614,433.1518959435267,434.1930947198821,443.17726233854705,444.78369474686116,433.25107052248364,420.1219538482033,422.2638527212785,413.74579565968503,418.75350303318476,420.04261787296315,408.6190902615176,411.5344833608006,413.58711354426896,420.9945602744624,407.657222216257,401.70746721179637,401.10257418673535,394.7363308640535,386.1091925233651,393.38772077558525,396.63034613002395,403.12549465904874,400.1208420908022,385.36546357658506,389.9566834536972,389.5402031563818,389.2724603968558,389.02458338337726,395.33133316910966,404.49392630422375,410.0866962528882,411.693168783268,405.9913057078747,408.9463069025536,411.3064116561258,404.6823589875329,410.46351106833333,405.9119600405998,391.5730576661437,376.6689168637618,373.6940684990385,374.1997357129782,367.40715777387805,364.01470689796395,370.36860027572,369.10377171155864,375.09916248890295,379.839678728561,389.45020228820897,388.63356786157743,379.6704007020671,374.7007872373399,375.01948165467763,374.3422564155411,380.54677804388876,383.5444577535018,385.6856591705736,384.2714792285503,382.0804737894117,373.5654608765115,372.08152594230745,380.9849810837629,386.79113868810555,384.50051283779845,390.86438981626435,392.54747551542175,397.2880116277475,394.13097751294976,392.2287761962975,392.7466578229037,400.24586034709495,405.9125726207121,407.47614042202906,407.4462861108971,408.6214395311792,412.6748105385001,407.98406224955716,413.551209607935,410.53361126449806,417.0667482330721,421.25951639625225,420.3034564551387,423.0322352943368,425.9801662145605,424.1676085940869,425.1136804525352,423.241402714664,415.3438109035657,411.21082373535467,410.4240456406023],\"x\":[0,1,2,3,4,5,6,7,8,9,10,11,12,13,14,15,16,17,18,19,20,21,22,23,24,25,26,27,28,29,30,31,32,33,34,35,36,37,38,39,40,41,42,43,44,45,46,47,48,49,50,51,52,53,54,55,56,57,58,59,60,61,62,63,64,65,66,67,68,69,70,71,72,73,74,75,76,77,78,79,80,81,82,83,84,85,86,87,88,89,90,91,92,93,94,95,96,97,98,99,100,101,102,103,104,105,106,107,108,109,110,111,112,113,114,115,116,117,118,119,120,121,122,123,124,125,126,127,128,129,130,131,132,133,134,135,136,137,138,139,140,141,142,143,144,145,146,147,148,149,150,151,152,153,154,155,156,157,158,159,160,161,162,163,164,165,166,167,168,169,170,171,172,173,174,175,176,177,178,179,180,181,182,183,184,185,186,187,188,189,190,191,192,193,194,195,196,197,198,199],\"type\":\"candlestick\"}],                        {\"template\":{\"data\":{\"bar\":[{\"error_x\":{\"color\":\"#2a3f5f\"},\"error_y\":{\"color\":\"#2a3f5f\"},\"marker\":{\"line\":{\"color\":\"#E5ECF6\",\"width\":0.5},\"pattern\":{\"fillmode\":\"overlay\",\"size\":10,\"solidity\":0.2}},\"type\":\"bar\"}],\"barpolar\":[{\"marker\":{\"line\":{\"color\":\"#E5ECF6\",\"width\":0.5},\"pattern\":{\"fillmode\":\"overlay\",\"size\":10,\"solidity\":0.2}},\"type\":\"barpolar\"}],\"carpet\":[{\"aaxis\":{\"endlinecolor\":\"#2a3f5f\",\"gridcolor\":\"white\",\"linecolor\":\"white\",\"minorgridcolor\":\"white\",\"startlinecolor\":\"#2a3f5f\"},\"baxis\":{\"endlinecolor\":\"#2a3f5f\",\"gridcolor\":\"white\",\"linecolor\":\"white\",\"minorgridcolor\":\"white\",\"startlinecolor\":\"#2a3f5f\"},\"type\":\"carpet\"}],\"choropleth\":[{\"colorbar\":{\"outlinewidth\":0,\"ticks\":\"\"},\"type\":\"choropleth\"}],\"contour\":[{\"colorbar\":{\"outlinewidth\":0,\"ticks\":\"\"},\"colorscale\":[[0.0,\"#0d0887\"],[0.1111111111111111,\"#46039f\"],[0.2222222222222222,\"#7201a8\"],[0.3333333333333333,\"#9c179e\"],[0.4444444444444444,\"#bd3786\"],[0.5555555555555556,\"#d8576b\"],[0.6666666666666666,\"#ed7953\"],[0.7777777777777778,\"#fb9f3a\"],[0.8888888888888888,\"#fdca26\"],[1.0,\"#f0f921\"]],\"type\":\"contour\"}],\"contourcarpet\":[{\"colorbar\":{\"outlinewidth\":0,\"ticks\":\"\"},\"type\":\"contourcarpet\"}],\"heatmap\":[{\"colorbar\":{\"outlinewidth\":0,\"ticks\":\"\"},\"colorscale\":[[0.0,\"#0d0887\"],[0.1111111111111111,\"#46039f\"],[0.2222222222222222,\"#7201a8\"],[0.3333333333333333,\"#9c179e\"],[0.4444444444444444,\"#bd3786\"],[0.5555555555555556,\"#d8576b\"],[0.6666666666666666,\"#ed7953\"],[0.7777777777777778,\"#fb9f3a\"],[0.8888888888888888,\"#fdca26\"],[1.0,\"#f0f921\"]],\"type\":\"heatmap\"}],\"heatmapgl\":[{\"colorbar\":{\"outlinewidth\":0,\"ticks\":\"\"},\"colorscale\":[[0.0,\"#0d0887\"],[0.1111111111111111,\"#46039f\"],[0.2222222222222222,\"#7201a8\"],[0.3333333333333333,\"#9c179e\"],[0.4444444444444444,\"#bd3786\"],[0.5555555555555556,\"#d8576b\"],[0.6666666666666666,\"#ed7953\"],[0.7777777777777778,\"#fb9f3a\"],[0.8888888888888888,\"#fdca26\"],[1.0,\"#f0f921\"]],\"type\":\"heatmapgl\"}],\"histogram\":[{\"marker\":{\"pattern\":{\"fillmode\":\"overlay\",\"size\":10,\"solidity\":0.2}},\"type\":\"histogram\"}],\"histogram2d\":[{\"colorbar\":{\"outlinewidth\":0,\"ticks\":\"\"},\"colorscale\":[[0.0,\"#0d0887\"],[0.1111111111111111,\"#46039f\"],[0.2222222222222222,\"#7201a8\"],[0.3333333333333333,\"#9c179e\"],[0.4444444444444444,\"#bd3786\"],[0.5555555555555556,\"#d8576b\"],[0.6666666666666666,\"#ed7953\"],[0.7777777777777778,\"#fb9f3a\"],[0.8888888888888888,\"#fdca26\"],[1.0,\"#f0f921\"]],\"type\":\"histogram2d\"}],\"histogram2dcontour\":[{\"colorbar\":{\"outlinewidth\":0,\"ticks\":\"\"},\"colorscale\":[[0.0,\"#0d0887\"],[0.1111111111111111,\"#46039f\"],[0.2222222222222222,\"#7201a8\"],[0.3333333333333333,\"#9c179e\"],[0.4444444444444444,\"#bd3786\"],[0.5555555555555556,\"#d8576b\"],[0.6666666666666666,\"#ed7953\"],[0.7777777777777778,\"#fb9f3a\"],[0.8888888888888888,\"#fdca26\"],[1.0,\"#f0f921\"]],\"type\":\"histogram2dcontour\"}],\"mesh3d\":[{\"colorbar\":{\"outlinewidth\":0,\"ticks\":\"\"},\"type\":\"mesh3d\"}],\"parcoords\":[{\"line\":{\"colorbar\":{\"outlinewidth\":0,\"ticks\":\"\"}},\"type\":\"parcoords\"}],\"pie\":[{\"automargin\":true,\"type\":\"pie\"}],\"scatter\":[{\"marker\":{\"colorbar\":{\"outlinewidth\":0,\"ticks\":\"\"}},\"type\":\"scatter\"}],\"scatter3d\":[{\"line\":{\"colorbar\":{\"outlinewidth\":0,\"ticks\":\"\"}},\"marker\":{\"colorbar\":{\"outlinewidth\":0,\"ticks\":\"\"}},\"type\":\"scatter3d\"}],\"scattercarpet\":[{\"marker\":{\"colorbar\":{\"outlinewidth\":0,\"ticks\":\"\"}},\"type\":\"scattercarpet\"}],\"scattergeo\":[{\"marker\":{\"colorbar\":{\"outlinewidth\":0,\"ticks\":\"\"}},\"type\":\"scattergeo\"}],\"scattergl\":[{\"marker\":{\"colorbar\":{\"outlinewidth\":0,\"ticks\":\"\"}},\"type\":\"scattergl\"}],\"scattermapbox\":[{\"marker\":{\"colorbar\":{\"outlinewidth\":0,\"ticks\":\"\"}},\"type\":\"scattermapbox\"}],\"scatterpolar\":[{\"marker\":{\"colorbar\":{\"outlinewidth\":0,\"ticks\":\"\"}},\"type\":\"scatterpolar\"}],\"scatterpolargl\":[{\"marker\":{\"colorbar\":{\"outlinewidth\":0,\"ticks\":\"\"}},\"type\":\"scatterpolargl\"}],\"scatterternary\":[{\"marker\":{\"colorbar\":{\"outlinewidth\":0,\"ticks\":\"\"}},\"type\":\"scatterternary\"}],\"surface\":[{\"colorbar\":{\"outlinewidth\":0,\"ticks\":\"\"},\"colorscale\":[[0.0,\"#0d0887\"],[0.1111111111111111,\"#46039f\"],[0.2222222222222222,\"#7201a8\"],[0.3333333333333333,\"#9c179e\"],[0.4444444444444444,\"#bd3786\"],[0.5555555555555556,\"#d8576b\"],[0.6666666666666666,\"#ed7953\"],[0.7777777777777778,\"#fb9f3a\"],[0.8888888888888888,\"#fdca26\"],[1.0,\"#f0f921\"]],\"type\":\"surface\"}],\"table\":[{\"cells\":{\"fill\":{\"color\":\"#EBF0F8\"},\"line\":{\"color\":\"white\"}},\"header\":{\"fill\":{\"color\":\"#C8D4E3\"},\"line\":{\"color\":\"white\"}},\"type\":\"table\"}]},\"layout\":{\"annotationdefaults\":{\"arrowcolor\":\"#2a3f5f\",\"arrowhead\":0,\"arrowwidth\":1},\"autotypenumbers\":\"strict\",\"coloraxis\":{\"colorbar\":{\"outlinewidth\":0,\"ticks\":\"\"}},\"colorscale\":{\"diverging\":[[0,\"#8e0152\"],[0.1,\"#c51b7d\"],[0.2,\"#de77ae\"],[0.3,\"#f1b6da\"],[0.4,\"#fde0ef\"],[0.5,\"#f7f7f7\"],[0.6,\"#e6f5d0\"],[0.7,\"#b8e186\"],[0.8,\"#7fbc41\"],[0.9,\"#4d9221\"],[1,\"#276419\"]],\"sequential\":[[0.0,\"#0d0887\"],[0.1111111111111111,\"#46039f\"],[0.2222222222222222,\"#7201a8\"],[0.3333333333333333,\"#9c179e\"],[0.4444444444444444,\"#bd3786\"],[0.5555555555555556,\"#d8576b\"],[0.6666666666666666,\"#ed7953\"],[0.7777777777777778,\"#fb9f3a\"],[0.8888888888888888,\"#fdca26\"],[1.0,\"#f0f921\"]],\"sequentialminus\":[[0.0,\"#0d0887\"],[0.1111111111111111,\"#46039f\"],[0.2222222222222222,\"#7201a8\"],[0.3333333333333333,\"#9c179e\"],[0.4444444444444444,\"#bd3786\"],[0.5555555555555556,\"#d8576b\"],[0.6666666666666666,\"#ed7953\"],[0.7777777777777778,\"#fb9f3a\"],[0.8888888888888888,\"#fdca26\"],[1.0,\"#f0f921\"]]},\"colorway\":[\"#636efa\",\"#EF553B\",\"#00cc96\",\"#ab63fa\",\"#FFA15A\",\"#19d3f3\",\"#FF6692\",\"#B6E880\",\"#FF97FF\",\"#FECB52\"],\"font\":{\"color\":\"#2a3f5f\"},\"geo\":{\"bgcolor\":\"white\",\"lakecolor\":\"white\",\"landcolor\":\"#E5ECF6\",\"showlakes\":true,\"showland\":true,\"subunitcolor\":\"white\"},\"hoverlabel\":{\"align\":\"left\"},\"hovermode\":\"closest\",\"mapbox\":{\"style\":\"light\"},\"paper_bgcolor\":\"white\",\"plot_bgcolor\":\"#E5ECF6\",\"polar\":{\"angularaxis\":{\"gridcolor\":\"white\",\"linecolor\":\"white\",\"ticks\":\"\"},\"bgcolor\":\"#E5ECF6\",\"radialaxis\":{\"gridcolor\":\"white\",\"linecolor\":\"white\",\"ticks\":\"\"}},\"scene\":{\"xaxis\":{\"backgroundcolor\":\"#E5ECF6\",\"gridcolor\":\"white\",\"gridwidth\":2,\"linecolor\":\"white\",\"showbackground\":true,\"ticks\":\"\",\"zerolinecolor\":\"white\"},\"yaxis\":{\"backgroundcolor\":\"#E5ECF6\",\"gridcolor\":\"white\",\"gridwidth\":2,\"linecolor\":\"white\",\"showbackground\":true,\"ticks\":\"\",\"zerolinecolor\":\"white\"},\"zaxis\":{\"backgroundcolor\":\"#E5ECF6\",\"gridcolor\":\"white\",\"gridwidth\":2,\"linecolor\":\"white\",\"showbackground\":true,\"ticks\":\"\",\"zerolinecolor\":\"white\"}},\"shapedefaults\":{\"line\":{\"color\":\"#2a3f5f\"}},\"ternary\":{\"aaxis\":{\"gridcolor\":\"white\",\"linecolor\":\"white\",\"ticks\":\"\"},\"baxis\":{\"gridcolor\":\"white\",\"linecolor\":\"white\",\"ticks\":\"\"},\"bgcolor\":\"#E5ECF6\",\"caxis\":{\"gridcolor\":\"white\",\"linecolor\":\"white\",\"ticks\":\"\"}},\"title\":{\"x\":0.05},\"xaxis\":{\"automargin\":true,\"gridcolor\":\"white\",\"linecolor\":\"white\",\"ticks\":\"\",\"title\":{\"standoff\":15},\"zerolinecolor\":\"white\",\"zerolinewidth\":2},\"yaxis\":{\"automargin\":true,\"gridcolor\":\"white\",\"linecolor\":\"white\",\"ticks\":\"\",\"title\":{\"standoff\":15},\"zerolinecolor\":\"white\",\"zerolinewidth\":2}}},\"shapes\":[{\"line\":{\"color\":\"MediumPurple\",\"width\":3},\"type\":\"line\",\"x0\":52,\"x1\":200,\"y0\":415.9441512869428,\"y1\":415.9441512869428},{\"line\":{\"color\":\"MediumPurple\",\"width\":3},\"type\":\"line\",\"x0\":128,\"x1\":200,\"y0\":381.9245319583339,\"y1\":381.9245319583339},{\"line\":{\"color\":\"MediumPurple\",\"width\":3},\"type\":\"line\",\"x0\":170,\"x1\":200,\"y0\":369.52206305495616,\"y1\":369.52206305495616},{\"line\":{\"color\":\"RoyalBlue\",\"width\":1},\"type\":\"line\",\"x0\":59,\"x1\":200,\"y0\":452.87653246527395,\"y1\":452.87653246527395},{\"line\":{\"color\":\"RoyalBlue\",\"width\":1},\"type\":\"line\",\"x0\":97,\"x1\":200,\"y0\":458.200387511717,\"y1\":458.200387511717},{\"line\":{\"color\":\"RoyalBlue\",\"width\":1},\"type\":\"line\",\"x0\":166,\"x1\":200,\"y0\":389.0418979580837,\"y1\":389.0418979580837},{\"line\":{\"color\":\"RoyalBlue\",\"width\":1},\"type\":\"line\",\"x0\":193,\"x1\":200,\"y0\":429.963802202433,\"y1\":429.963802202433},{\"line\":{\"color\":\"RoyalBlue\",\"width\":1},\"type\":\"line\",\"x0\":211,\"x1\":200,\"y0\":410.0456273794545,\"y1\":410.0456273794545}]},                        {\"responsive\": true}                    ).then(function(){\n",
       "                            \n",
       "var gd = document.getElementById('bf08e401-c6f8-4697-a147-90754506ec82');\n",
       "var x = new MutationObserver(function (mutations, observer) {{\n",
       "        var display = window.getComputedStyle(gd).display;\n",
       "        if (!display || display === 'none') {{\n",
       "            console.log([gd, 'removed!']);\n",
       "            Plotly.purge(gd);\n",
       "            observer.disconnect();\n",
       "        }}\n",
       "}});\n",
       "\n",
       "// Listen for the removal of the full notebook cells\n",
       "var notebookContainer = gd.closest('#notebook-container');\n",
       "if (notebookContainer) {{\n",
       "    x.observe(notebookContainer, {childList: true});\n",
       "}}\n",
       "\n",
       "// Listen for the clearing of the current output cell\n",
       "var outputEl = gd.closest('.output');\n",
       "if (outputEl) {{\n",
       "    x.observe(outputEl, {childList: true});\n",
       "}}\n",
       "\n",
       "                        })                };                });            </script>        </div>"
      ]
     },
     "metadata": {},
     "output_type": "display_data"
    }
   ],
   "source": [
    "s = 0\n",
    "e = 200\n",
    "dfpl = sr_df[s:e]\n",
    "import plotly.graph_objects as go\n",
    "from datetime import datetime\n",
    "import matplotlib.pyplot as plt\n",
    "\n",
    "fig = go.Figure(data=[go.Candlestick(x=dfpl.index,\n",
    "                open=dfpl['Open'],\n",
    "                high=dfpl['High'],\n",
    "                low=dfpl['Low'],\n",
    "                close=dfpl['Close'])])\n",
    "\n",
    "c=0\n",
    "while (1):\n",
    "    if(c>len(ss)-1 ):\n",
    "        break\n",
    "    fig.add_shape(type='line', x0=ss[c][0], y0=ss[c][1],\n",
    "                  x1=e,\n",
    "                  y1=ss[c][1],\n",
    "                  line=dict(color=\"MediumPurple\",width=3)\n",
    "                  )\n",
    "    c+=1\n",
    "\n",
    "c=0\n",
    "while (1):\n",
    "    if(c>len(rr)-1 ):\n",
    "        break\n",
    "    fig.add_shape(type='line', x0=rr[c][0], y0=rr[c][1],\n",
    "                  x1=e,\n",
    "                  y1=rr[c][1],\n",
    "                  line=dict(color=\"RoyalBlue\",width=1)\n",
    "                  )\n",
    "    c+=1    \n",
    "\n",
    "    \n",
    "fig.show()"
   ]
  },
  {
   "cell_type": "code",
   "execution_count": 148,
   "id": "6c835cee-291d-4245-a1f0-246536301e39",
   "metadata": {},
   "outputs": [],
   "source": [
    "import MeanRevBacktester as MeanRev"
   ]
  },
  {
   "cell_type": "code",
   "execution_count": 149,
   "id": "e6d3c0ef-dba2-41e7-b6c1-396256761f72",
   "metadata": {},
   "outputs": [
    {
     "data": {
      "text/plain": [
       "Timestamp('2021-11-08 00:00:00')"
      ]
     },
     "metadata": {},
     "output_type": "display_data"
    },
    {
     "data": {
      "text/plain": [
       "Timestamp('2022-11-07 00:00:00')"
      ]
     },
     "metadata": {},
     "output_type": "display_data"
    }
   ],
   "source": [
    "date = df.copy()\n",
    "date = date.reset_index()\n",
    "beg = date.iloc[0][\"Date\"]\n",
    "end = date.iloc[-1][\"Date\"]\n",
    "display(beg)\n",
    "display(end)"
   ]
  },
  {
   "cell_type": "code",
   "execution_count": 150,
   "id": "d0107761-3bb5-456d-a7c4-56b5253d0cb4",
   "metadata": {},
   "outputs": [],
   "source": [
    "# Spread /fee \n",
    "trading_costs = 0.00007\n",
    "\n",
    "tester = MeanRev.MeanRevBacktester('Close', 30, 2, beg, end, trading_costs)"
   ]
  },
  {
   "cell_type": "code",
   "execution_count": 151,
   "id": "b27ae65a-e36e-48ab-8c17-ab54fa08a05e",
   "metadata": {},
   "outputs": [
    {
     "data": {
      "text/plain": [
       "(30, 2)"
      ]
     },
     "execution_count": 151,
     "metadata": {},
     "output_type": "execute_result"
    }
   ],
   "source": [
    "optimize = tester.optimize_parameters((25, 100, 1), (1, 5, 1))\n",
    "num = optimize[0]\n",
    "num"
   ]
  },
  {
   "cell_type": "code",
   "execution_count": 152,
   "id": "9e8edf1f-bb7d-4079-abd7-ae84abe29d53",
   "metadata": {},
   "outputs": [
    {
     "data": {
      "text/html": [
       "<div>\n",
       "<style scoped>\n",
       "    .dataframe tbody tr th:only-of-type {\n",
       "        vertical-align: middle;\n",
       "    }\n",
       "\n",
       "    .dataframe tbody tr th {\n",
       "        vertical-align: top;\n",
       "    }\n",
       "\n",
       "    .dataframe thead th {\n",
       "        text-align: right;\n",
       "    }\n",
       "</style>\n",
       "<table border=\"1\" class=\"dataframe\">\n",
       "  <thead>\n",
       "    <tr style=\"text-align: right;\">\n",
       "      <th></th>\n",
       "      <th>Open</th>\n",
       "      <th>High</th>\n",
       "      <th>Low</th>\n",
       "      <th>Close</th>\n",
       "      <th>Volume</th>\n",
       "    </tr>\n",
       "    <tr>\n",
       "      <th>Date</th>\n",
       "      <th></th>\n",
       "      <th></th>\n",
       "      <th></th>\n",
       "      <th></th>\n",
       "      <th></th>\n",
       "    </tr>\n",
       "  </thead>\n",
       "  <tbody>\n",
       "    <tr>\n",
       "      <th>2022-11-01</th>\n",
       "      <td>390.140015</td>\n",
       "      <td>390.390015</td>\n",
       "      <td>383.290009</td>\n",
       "      <td>384.519989</td>\n",
       "      <td>85407600</td>\n",
       "    </tr>\n",
       "    <tr>\n",
       "      <th>2022-11-02</th>\n",
       "      <td>383.899994</td>\n",
       "      <td>388.630005</td>\n",
       "      <td>374.760010</td>\n",
       "      <td>374.869995</td>\n",
       "      <td>126990400</td>\n",
       "    </tr>\n",
       "    <tr>\n",
       "      <th>2022-11-03</th>\n",
       "      <td>371.470001</td>\n",
       "      <td>374.200012</td>\n",
       "      <td>368.790009</td>\n",
       "      <td>371.010010</td>\n",
       "      <td>87100100</td>\n",
       "    </tr>\n",
       "    <tr>\n",
       "      <th>2022-11-04</th>\n",
       "      <td>377.000000</td>\n",
       "      <td>378.869995</td>\n",
       "      <td>370.000000</td>\n",
       "      <td>376.350006</td>\n",
       "      <td>103449600</td>\n",
       "    </tr>\n",
       "    <tr>\n",
       "      <th>2022-11-07</th>\n",
       "      <td>377.709991</td>\n",
       "      <td>380.570007</td>\n",
       "      <td>375.529999</td>\n",
       "      <td>379.950012</td>\n",
       "      <td>68116400</td>\n",
       "    </tr>\n",
       "  </tbody>\n",
       "</table>\n",
       "</div>"
      ],
      "text/plain": [
       "                  Open        High         Low       Close     Volume\n",
       "Date                                                                 \n",
       "2022-11-01  390.140015  390.390015  383.290009  384.519989   85407600\n",
       "2022-11-02  383.899994  388.630005  374.760010  374.869995  126990400\n",
       "2022-11-03  371.470001  374.200012  368.790009  371.010010   87100100\n",
       "2022-11-04  377.000000  378.869995  370.000000  376.350006  103449600\n",
       "2022-11-07  377.709991  380.570007  375.529999  379.950012   68116400"
      ]
     },
     "execution_count": 152,
     "metadata": {},
     "output_type": "execute_result"
    }
   ],
   "source": [
    "data = pd.read_csv(\"SPY.csv\", index_col=\"Date\")\n",
    "data.tail()"
   ]
  },
  {
   "cell_type": "code",
   "execution_count": 153,
   "id": "aecb242b-299f-49bd-9219-db9c5ab5f83d",
   "metadata": {},
   "outputs": [],
   "source": [
    "data = data.drop(columns = ['Volume', 'Open', 'High', 'Low'])"
   ]
  },
  {
   "cell_type": "code",
   "execution_count": 154,
   "id": "ad3389ae-0f1c-472b-8553-463c10a404b7",
   "metadata": {},
   "outputs": [
    {
     "data": {
      "text/html": [
       "<div>\n",
       "<style scoped>\n",
       "    .dataframe tbody tr th:only-of-type {\n",
       "        vertical-align: middle;\n",
       "    }\n",
       "\n",
       "    .dataframe tbody tr th {\n",
       "        vertical-align: top;\n",
       "    }\n",
       "\n",
       "    .dataframe thead th {\n",
       "        text-align: right;\n",
       "    }\n",
       "</style>\n",
       "<table border=\"1\" class=\"dataframe\">\n",
       "  <thead>\n",
       "    <tr style=\"text-align: right;\">\n",
       "      <th></th>\n",
       "      <th>Close</th>\n",
       "      <th>daily_returns</th>\n",
       "    </tr>\n",
       "    <tr>\n",
       "      <th>Date</th>\n",
       "      <th></th>\n",
       "      <th></th>\n",
       "    </tr>\n",
       "  </thead>\n",
       "  <tbody>\n",
       "    <tr>\n",
       "      <th>2021-11-08</th>\n",
       "      <td>461.939880</td>\n",
       "      <td>NaN</td>\n",
       "    </tr>\n",
       "    <tr>\n",
       "      <th>2021-11-09</th>\n",
       "      <td>460.412994</td>\n",
       "      <td>-0.003305</td>\n",
       "    </tr>\n",
       "    <tr>\n",
       "      <th>2021-11-10</th>\n",
       "      <td>456.709076</td>\n",
       "      <td>-0.008045</td>\n",
       "    </tr>\n",
       "    <tr>\n",
       "      <th>2021-11-11</th>\n",
       "      <td>456.856812</td>\n",
       "      <td>0.000323</td>\n",
       "    </tr>\n",
       "    <tr>\n",
       "      <th>2021-11-12</th>\n",
       "      <td>460.304626</td>\n",
       "      <td>0.007547</td>\n",
       "    </tr>\n",
       "  </tbody>\n",
       "</table>\n",
       "</div>"
      ],
      "text/plain": [
       "                 Close  daily_returns\n",
       "Date                                 \n",
       "2021-11-08  461.939880            NaN\n",
       "2021-11-09  460.412994      -0.003305\n",
       "2021-11-10  456.709076      -0.008045\n",
       "2021-11-11  456.856812       0.000323\n",
       "2021-11-12  460.304626       0.007547"
      ]
     },
     "execution_count": 154,
     "metadata": {},
     "output_type": "execute_result"
    }
   ],
   "source": [
    "data['daily_returns'] = data.Close.pct_change()\n",
    "data.head()"
   ]
  },
  {
   "cell_type": "code",
   "execution_count": 155,
   "id": "9eba3701-bb5c-41d9-b87b-212d7690d94a",
   "metadata": {},
   "outputs": [],
   "source": [
    "import numpy as np"
   ]
  },
  {
   "cell_type": "code",
   "execution_count": 156,
   "id": "42c52155-884e-45a3-b943-b6223c2ae636",
   "metadata": {},
   "outputs": [],
   "source": [
    "# Bollinger Bands Trading Strategy \n",
    "\n",
    "# Set SMA and standard deviations \n",
    "SMA = num[0]\n",
    "dev = num[1]\n",
    "\n",
    "\n",
    "# Creating column to hold SMA\n",
    "data[\"SMA\"] = data[\"Close\"].rolling(SMA).mean()\n",
    "\n",
    "# Creating the lower band \n",
    "data[\"Lower\"] = data[\"SMA\"] - data[\"Close\"].rolling(SMA).std() * dev \n",
    "\n",
    "# Creating the upper band\n",
    "data[\"Upper\"] = data[\"SMA\"] + data[\"Close\"].rolling(SMA).std() * dev \n",
    "\n",
    "# Creating a column for distance between closing price and the SMA\n",
    "data[\"distance\"] = data.Close - data.SMA # helper Column\n",
    "\n",
    "# Creating a column to add a 1 if oversold to go long \n",
    "data[\"position\"] = np.where(data.Close < data.Lower, 1, np.nan) # 1. oversold -> go long\n",
    "\n",
    "# Adding a -1 to the 'position' row if overbought to go short \n",
    "data[\"position\"] = np.where(data.Close > data.Upper, -1, data[\"position\"]) # 2. overbought -> go short\n",
    "\n",
    "# Adding a 0 to the 'position' column to close position when passes SMA \n",
    "data[\"position\"] = np.where(data.distance * data.distance.shift(1) < 0, 0, data[\"position\"])\n",
    "\n",
    "# If 1-3 isn't met the previous position is held \n",
    "data[\"position\"] = data.position.ffill().fillna(0) # where 1-3 isn´t applicable -> hold previous position\n",
    "\n",
    "# Creating a column for strategy returns\n",
    "data[\"strategy_returns\"] = data.position.shift(1) * data[\"daily_returns\"]"
   ]
  },
  {
   "cell_type": "code",
   "execution_count": 157,
   "id": "36eb4acd-1b34-4792-8932-ebcf01edde9e",
   "metadata": {},
   "outputs": [],
   "source": [
    "# data.dropna(inplace=True)"
   ]
  },
  {
   "cell_type": "code",
   "execution_count": 158,
   "id": "1287820e-e89f-43e0-b8a5-8a1d23bfb108",
   "metadata": {},
   "outputs": [
    {
     "data": {
      "text/html": [
       "<div>\n",
       "<style scoped>\n",
       "    .dataframe tbody tr th:only-of-type {\n",
       "        vertical-align: middle;\n",
       "    }\n",
       "\n",
       "    .dataframe tbody tr th {\n",
       "        vertical-align: top;\n",
       "    }\n",
       "\n",
       "    .dataframe thead th {\n",
       "        text-align: right;\n",
       "    }\n",
       "</style>\n",
       "<table border=\"1\" class=\"dataframe\">\n",
       "  <thead>\n",
       "    <tr style=\"text-align: right;\">\n",
       "      <th></th>\n",
       "      <th>Date</th>\n",
       "      <th>Close</th>\n",
       "      <th>daily_returns</th>\n",
       "      <th>SMA</th>\n",
       "      <th>Lower</th>\n",
       "      <th>Upper</th>\n",
       "      <th>distance</th>\n",
       "      <th>position</th>\n",
       "      <th>strategy_returns</th>\n",
       "    </tr>\n",
       "  </thead>\n",
       "  <tbody>\n",
       "    <tr>\n",
       "      <th>247</th>\n",
       "      <td>2022-11-01</td>\n",
       "      <td>384.519989</td>\n",
       "      <td>-0.004376</td>\n",
       "      <td>370.834001</td>\n",
       "      <td>352.007353</td>\n",
       "      <td>389.660648</td>\n",
       "      <td>13.685988</td>\n",
       "      <td>0.0</td>\n",
       "      <td>-0.0</td>\n",
       "    </tr>\n",
       "    <tr>\n",
       "      <th>248</th>\n",
       "      <td>2022-11-02</td>\n",
       "      <td>374.869995</td>\n",
       "      <td>-0.025096</td>\n",
       "      <td>370.750000</td>\n",
       "      <td>352.022166</td>\n",
       "      <td>389.477834</td>\n",
       "      <td>4.119995</td>\n",
       "      <td>0.0</td>\n",
       "      <td>-0.0</td>\n",
       "    </tr>\n",
       "    <tr>\n",
       "      <th>249</th>\n",
       "      <td>2022-11-03</td>\n",
       "      <td>371.010010</td>\n",
       "      <td>-0.010297</td>\n",
       "      <td>370.643000</td>\n",
       "      <td>351.960578</td>\n",
       "      <td>389.325423</td>\n",
       "      <td>0.367009</td>\n",
       "      <td>0.0</td>\n",
       "      <td>-0.0</td>\n",
       "    </tr>\n",
       "    <tr>\n",
       "      <th>250</th>\n",
       "      <td>2022-11-04</td>\n",
       "      <td>376.350006</td>\n",
       "      <td>0.014393</td>\n",
       "      <td>370.923000</td>\n",
       "      <td>352.155992</td>\n",
       "      <td>389.690008</td>\n",
       "      <td>5.427006</td>\n",
       "      <td>0.0</td>\n",
       "      <td>0.0</td>\n",
       "    </tr>\n",
       "    <tr>\n",
       "      <th>251</th>\n",
       "      <td>2022-11-07</td>\n",
       "      <td>379.950012</td>\n",
       "      <td>0.009566</td>\n",
       "      <td>371.444334</td>\n",
       "      <td>352.568859</td>\n",
       "      <td>390.319809</td>\n",
       "      <td>8.505678</td>\n",
       "      <td>0.0</td>\n",
       "      <td>0.0</td>\n",
       "    </tr>\n",
       "  </tbody>\n",
       "</table>\n",
       "</div>"
      ],
      "text/plain": [
       "           Date       Close  daily_returns         SMA       Lower  \\\n",
       "247  2022-11-01  384.519989      -0.004376  370.834001  352.007353   \n",
       "248  2022-11-02  374.869995      -0.025096  370.750000  352.022166   \n",
       "249  2022-11-03  371.010010      -0.010297  370.643000  351.960578   \n",
       "250  2022-11-04  376.350006       0.014393  370.923000  352.155992   \n",
       "251  2022-11-07  379.950012       0.009566  371.444334  352.568859   \n",
       "\n",
       "          Upper   distance  position  strategy_returns  \n",
       "247  389.660648  13.685988       0.0              -0.0  \n",
       "248  389.477834   4.119995       0.0              -0.0  \n",
       "249  389.325423   0.367009       0.0              -0.0  \n",
       "250  389.690008   5.427006       0.0               0.0  \n",
       "251  390.319809   8.505678       0.0               0.0  "
      ]
     },
     "execution_count": 158,
     "metadata": {},
     "output_type": "execute_result"
    }
   ],
   "source": [
    "data = data.reset_index()\n",
    "data.tail()"
   ]
  },
  {
   "cell_type": "code",
   "execution_count": 159,
   "id": "ebdb3c1a-1c65-4959-9670-335982f4a167",
   "metadata": {},
   "outputs": [
    {
     "data": {
      "application/vnd.plotly.v1+json": {
       "config": {
        "plotlyServerURL": "https://plot.ly"
       },
       "data": [
        {
         "close": [
          461.93988037109375,
          460.4129943847656,
          456.7090759277344,
          456.8568115234375,
          460.30462646484375,
          460.4622497558594,
          462.28466796875,
          461.16168212890625,
          462.72802734375,
          461.9005126953125,
          460.6001892089844,
          461.2109069824219,
          462.4422912597656,
          452.12835693359375,
          457.6744384765625,
          448.7691955566406,
          443.78460693359375,
          450.5817565917969,
          446.6611022949219,
          451.9510803222656,
          461.2995910644531,
          462.5211181640625,
          459.39837646484375,
          463.7229309082031,
          459.6150817871094,
          456.4529113769531,
          463.5849914550781,
          459.49688720703125,
          454.6064758300781,
          449.7724914550781,
          457.760009765625,
          462.3370056152344,
          465.21368408203125,
          471.7974548339844,
          471.4118957519531,
          472.01495361328125,
          470.7100524902344,
          469.5238037109375,
          472.2423095703125,
          472.0841064453125,
          463.01910400390625,
          462.5841369628906,
          460.75531005859375,
          460.18194580078125,
          464.3734436035156,
          465.6288757324219,
          459.213134765625,
          459.4010009765625,
          451.2651672363281,
          446.57940673828125,
          441.6366882324219,
          432.9670715332031,
          434.8057556152344,
          429.4972229003906,
          428.4197082519531,
          426.3041687011719,
          436.8916320800781,
          444.760498046875,
          447.7657470703125,
          452.1153564453125,
          441.4884033203125,
          443.5643615722656,
          442.1408386230469,
          445.77874755859375,
          452.3031921386719,
          444.17724609375,
          435.41864013671875,
          433.9951477050781,
          440.9941101074219,
          441.4884033203125,
          432.0575866699219,
          429.2599792480469,
          424.6532897949219,
          417.1205139160156,
          423.3978271484375,
          432.7396545410156,
          431.63250732421875,
          425.05865478515625,
          432.87811279296875,
          430.7230224609375,
          427.2235412597656,
          414.6293640136719,
          411.48577880859375,
          422.51800537109375,
          420.610107421875,
          415.26202392578125,
          412.2271728515625,
          421.292236328125,
          430.634033203125,
          436.0216979980469,
          440.7973327636719,
          440.6684265136719,
          445.8248596191406,
          440.0833740234375,
          446.71734619140625,
          448.89892578125,
          452.0919494628906,
          457.6847229003906,
          454.8586120605469,
          447.8577575683594,
          449.12701416015625,
          452.9744873046875,
          447.2528076171875,
          442.78057861328125,
          445.01171875,
          443.8218078613281,
          436.23590087890625,
          434.6195068359375,
          439.59747314453125,
          434.12371826171875,
          434.30218505859375,
          441.31298828125,
          440.9857482910156,
          434.3914489746094,
          422.47210693359375,
          424.9214172363281,
          412.6153564453125,
          413.7755432128906,
          424.2272644042969,
          408.5496826171875,
          411.0089111328125,
          412.89300537109375,
          425.466796875,
          410.3445129394531,
          407.89520263671875,
          394.83551025390625,
          395.747802734375,
          389.46087646484375,
          389.0543212890625,
          398.35577392578125,
          396.7394104003906,
          404.9005126953125,
          388.57830810546875,
          386.19842529296875,
          386.36700439453125,
          393.5959777832031,
          390.5913391113281,
          394.0422058105469,
          401.91571044921875,
          411.7823791503906,
          409.4718933105469,
          406.1598815917969,
          413.8945617675781,
          407.1018981933594,
          408.3414611816406,
          412.25836181640625,
          407.7762145996094,
          398.078125,
          386.53558349609375,
          371.8595275878906,
          370.739013671875,
          376.02435302734375,
          363.5794677734375,
          364.3632507324219,
          373.53558349609375,
          372.8583679199219,
          376.5133361816406,
          388.4841613769531,
          387.0002746582031,
          379.0927429199219,
          378.7840270996094,
          375.7066650390625,
          379.6803283691406,
          380.3973693847656,
          381.68212890625,
          387.39862060546875,
          387.0799560546875,
          382.6581115722656,
          379.2720031738281,
          377.2801818847656,
          376.36395263671875,
          383.554443359375,
          380.387451171875,
          390.6651916503906,
          393.15496826171875,
          397.1585388183594,
          393.4736633300781,
          393.95172119140625,
          389.2908630371094,
          399.39935302734375,
          404.40875244140625,
          410.3045349121094,
          409.0895080566406,
          406.390625,
          412.7544860839844,
          412.47564697265625,
          411.7784729003906,
          411.3004455566406,
          409.66717529296875,
          418.27178955078125,
          418.27178955078125,
          425.35272216796875,
          427.1054992675781,
          427.9421081542969,
          424.9045715332031,
          426.1394958496094,
          420.41302490234375,
          411.6589660644531,
          410.6630859375,
          411.9776916503906,
          417.7937927246094,
          403.65185546875,
          400.98284912109375,
          396.5809020996094,
          393.56329345703125,
          394.7982482910156,
          390.63531494140625,
          389.1614074707031,
          396.1526794433594,
          398.7420349121094,
          404.93658447265625,
          409.2887268066406,
          391.4918212890625,
          392.9856872558594,
          388.5240173339844,
          385.55999755859375,
          388.54998779296875,
          384.0899963378906,
          377.3900146484375,
          374.2200012207031,
          367.95001220703125,
          364.30999755859375,
          363.3800048828125,
          370.5299987792969,
          362.7900085449219,
          357.17999267578125,
          366.6099853515625,
          377.9700012207031,
          377.0899963378906,
          373.20001220703125,
          362.7900085449219,
          360.0199890136719,
          357.739990234375,
          356.55999755859375,
          365.9700012207031,
          357.6300048828125,
          366.82000732421875,
          371.1300048828125,
          368.5,
          365.4100036621094,
          374.2900085449219,
          378.8699951171875,
          384.9200134277344,
          382.0199890136719,
          379.9800109863281,
          389.0199890136719,
          386.2099914550781,
          384.5199890136719,
          374.8699951171875,
          371.010009765625,
          376.3500061035156,
          379.95001220703125
         ],
         "high": [
          463.22051993826574,
          462.57035150578884,
          460.4130373694832,
          458.35417291583184,
          460.8858280192206,
          461.8216836025759,
          463.476622664264,
          462.1960182712331,
          463.0038523491198,
          463.919942376069,
          466.4811987877852,
          462.1073456337604,
          462.5703582237442,
          456.9848605880097,
          459.6052132868019,
          457.11293876181486,
          457.7433945901328,
          452.2268759486868,
          453.43852023575164,
          453.9212674314211,
          461.89065318734845,
          462.99397389613455,
          462.62948205998595,
          463.88054948467556,
          463.5455952344251,
          458.7974387254398,
          463.8410953138141,
          465.8211708085714,
          459.4207305999944,
          450.1876674085448,
          457.9082868957625,
          462.45562731524785,
          466.78548188150756,
          471.8468704837619,
          473.32969355435415,
          473.08257906373285,
          473.51754328114333,
          471.40205109462113,
          472.3807216657983,
          474.48631638605656,
          472.5092320583563,
          465.43117839173607,
          463.8297298859487,
          460.4092939939143,
          464.47230508019663,
          467.78394722040724,
          467.46756932998835,
          459.76676127684203,
          454.6954520501679,
          454.3494290853147,
          453.489446103823,
          442.93168671611863,
          435.3395834284582,
          434.6871333979894,
          438.9577017159584,
          436.53571226839364,
          436.94104773309544,
          445.1262583350566,
          448.4379568512328,
          452.87653246527395,
          447.7854900534315,
          447.5976501613361,
          445.8281271274784,
          446.7475417833549,
          452.6392970170899,
          452.47120137121067,
          446.44101509500166,
          436.54563498586,
          441.17204265347874,
          442.931684304537,
          441.45874873347236,
          433.6392679106509,
          430.5154097178561,
          428.30106103664184,
          423.8525838825361,
          432.8286208098192,
          433.18454495400056,
          432.1663637194288,
          434.68715412147407,
          436.0612101040459,
          428.40978836365167,
          427.35205429210276,
          422.32032684373695,
          424.59397547596285,
          421.54921593492463,
          423.8624284809466,
          419.6907462879158,
          421.95455087309057,
          430.69334404957186,
          436.0216979980468,
          441.13448178417855,
          442.7210680947924,
          446.80655908056025,
          444.7340999255641,
          446.72727212990196,
          449.18650563408687,
          452.0919494628906,
          458.200387511717,
          457.33767571847,
          454.91812632147673,
          449.6624701169323,
          453.0835818389499,
          453.9958483027275,
          445.1703995445369,
          446.91565282851775,
          446.8561793032968,
          441.27334507595015,
          442.0170238771549,
          440.39076139490294,
          441.00560136960956,
          436.0672770902297,
          442.06660302722275,
          443.8218128328768,
          446.2413853915548,
          434.41125532958233,
          425.0999025485545,
          422.47211585475065,
          419.3782512500081,
          426.0419558520609,
          422.30352267308285,
          412.43685414522116,
          415.4216381372007,
          426.06177817463373,
          421.44080381860226,
          411.32621816707115,
          403.0064941024103,
          402.67925504280765,
          400.65633572187966,
          392.48533683625664,
          399.8035385983029,
          400.58692186942926,
          405.1484190588463,
          400.4183176009376,
          390.83925522997254,
          393.70502620623034,
          394.39919195807806,
          391.84076652366394,
          396.1048037225104,
          403.6312333794285,
          411.9013693581638,
          412.97232996852904,
          412.75418506046395,
          413.9441309353551,
          410.5725870763427,
          413.12107295279543,
          412.7343529347155,
          412.33769767547756,
          408.291855079743,
          392.4655145076387,
          378.61249418792625,
          374.7749366416902,
          380.68497411680744,
          367.83354945752603,
          367.8688698501164,
          374.98960207775144,
          377.1706403184424,
          377.28017513374607,
          388.49413019242246,
          389.75893164678683,
          391.5515738460968,
          380.7061241839131,
          379.10271832908796,
          380.1384683809683,
          380.41730701486875,
          384.2914056552444,
          388.23518049333734,
          389.0418979580837,
          385.2872954288367,
          384.5802150528634,
          380.35756734891146,
          377.49927302854667,
          383.67394757819767,
          387.4982255615694,
          391.2627430970632,
          394.6388932756416,
          397.208322108785,
          398.5428362374419,
          394.8480331918537,
          392.4478773804343,
          401.23182193635006,
          405.1357465196418,
          411.34028877128935,
          411.71872227062175,
          411.31041790220996,
          413.97943466962624,
          413.391866239546,
          412.4556836890572,
          415.9115090600188,
          411.0614418214487,
          418.4212002072381,
          423.21151981805826,
          425.4622575648715,
          427.6532674277152,
          429.963802202433,
          427.74291828019767,
          426.85652111767564,
          423.5202560090412,
          415.52309761108154,
          413.7205338893691,
          413.41177265690214,
          417.8435760173275,
          418.2419155574279,
          404.17970852973673,
          402.4468205164776,
          399.59849929160004,
          395.1567609326414,
          399.91719360496876,
          392.50764709558,
          396.95936329916964,
          399.22005176233506,
          405.84286526277106,
          410.0456273794545,
          401.450910966257,
          394.579147692955,
          394.34012229351475,
          386.25,
          388.54998779296875,
          386.1199951171875,
          389.30999755859375,
          378.29998779296875,
          370.6199951171875,
          370.2099914550781,
          370.3999938964844,
          372.29998779296875,
          367.1099853515625,
          365.9100036621094,
          368.54998779296875,
          378,
          379.4599914550781,
          378.7200012207031,
          373.2900085449219,
          364.2099914550781,
          363.0299987792969,
          359.82000732421875,
          367.510009765625,
          370.260009765625,
          367.9800109863281,
          375.45001220703125,
          371.8500061035156,
          372.6700134277344,
          374.79998779296875,
          380.05999755859375,
          385.25,
          387.5799865722656,
          385,
          389.5199890136719,
          388.3999938964844,
          390.3900146484375,
          388.6300048828125,
          374.20001220703125,
          378.8699951171875,
          380.57000732421875
         ],
         "low": [
          461.2207813676723,
          458.93535416832054,
          455.15264131534184,
          456.83712047557333,
          457.19172741394357,
          459.28015558764304,
          460.10761979136737,
          460.51151681616716,
          459.38854561116045,
          461.5163117943677,
          460.3834674297967,
          457.52666708172603,
          458.2556439190348,
          450.9462327293489,
          454.8472249887594,
          448.51306162481666,
          443.57774572304714,
          443.5974473509027,
          442.2281816015183,
          446.7990302092631,
          451.8131356831209,
          459.87121407866465,
          459.19151523985863,
          459.5560044066399,
          459.31953569933046,
          453.3892850109791,
          453.87195424054596,
          457.8714588390697,
          452.81719490262014,
          445.9764461819522,
          451.0872673948548,
          457.2854769888965,
          463.2761259992427,
          466.607544539395,
          470.6111691628179,
          470.4728112024703,
          470.2256705027333,
          469.23714464735207,
          468.42650410269573,
          470.1366532158194,
          462.92024253253254,
          460.1028558261161,
          459.331789329575,
          451.37392290910174,
          456.76156242338106,
          463.57269588491556,
          458.13561418240937,
          454.6361615385267,
          450.0986803394288,
          446.2927175430621,
          439.4124407818949,
          432.93741610762225,
          415.9441512869428,
          422.26099759477876,
          423.95142308177117,
          424.5346781339232,
          422.9233534873862,
          434.7760929251571,
          441.8245252134182,
          447.8645544659762,
          440.6085754190579,
          438.75007640900003,
          440.74697333660356,
          440.12421487931573,
          449.8021506939638,
          442.0815157066429,
          433.9160483867408,
          430.3572747041986,
          438.10751807548485,
          436.8817361726757,
          431.4249275370094,
          426.87755957227427,
          420.98573151795205,
          416.5273752810809,
          405.9399834174015,
          422.96283781372745,
          425.77038704288657,
          422.22147816219183,
          426.6304415699974,
          428.8348799661836,
          422.98263470528383,
          414.56015796540635,
          410.3687074830403,
          417.9805446642092,
          415.6277851487968,
          414.7281961413844,
          411.0310305093529,
          413.6309398298518,
          419.9378680923793,
          428.23188447143536,
          433.55847910607173,
          436.9894744870046,
          442.1260859856014,
          439.99413136206294,
          441.0353516427663,
          444.6745916954664,
          446.2909346958001,
          453.3513244447868,
          452.64727638335665,
          447.38176643167407,
          445.37867115268716,
          448.4725296114604,
          446.0529493440323,
          439.7561331394801,
          439.81561135084553,
          442.2054535434022,
          435.7103405772736,
          432.9932266474523,
          434.17328075554553,
          434.01462372496155,
          431.9619333384212,
          434.0146094059943,
          439.7660683471935,
          433.43949700113836,
          421.87712562282195,
          415.332386136087,
          412.58560889224606,
          411.53449026005103,
          414.102777437426,
          407.7662900436615,
          401.62811295868255,
          409.8982771759006,
          410.2453407475674,
          406.01111469269813,
          402.33219847437874,
          393.1794824727231,
          391.5135728980805,
          388.67748392424545,
          381.9245319583339,
          392.29692673655927,
          394.2702727900256,
          399.20856201041227,
          387.2792812745358,
          383.8680995174872,
          377.35313325777327,
          387.1107390175401,
          383.71935216445735,
          388.6081176351974,
          395.11317435868995,
          404.2856934406207,
          406.5961855333333,
          403.5221541519284,
          403.63123229115416,
          406.0805252468473,
          407.1118250194197,
          404.19644193071485,
          406.9432528615476,
          398.078125,
          386.4860143290133,
          370.1737522913565,
          367.486483305269,
          369.0036284494724,
          361.03098308594804,
          360.6883744980465,
          370.2889105384422,
          368.66556934032934,
          371.3645039167214,
          379.8098026748832,
          385.85498538676313,
          378.9732387064949,
          376.87189883102377,
          371.0358494624268,
          372.27076315463177,
          371.3744368394161,
          378.047067090451,
          381.7020200800238,
          384.08226030366467,
          381.9310870883159,
          377.4395342992379,
          373.127258498116,
          369.52206305495616,
          378.98322463302077,
          379.10272006385037,
          383.8133636257635,
          389.4302784858606,
          390.0278270867561,
          391.1432400346693,
          391.60136020227054,
          388.35470619513643,
          392.43792846497354,
          396.5211402271115,
          405.10588877053,
          406.7292087102475,
          405.155707562965,
          408.3226789963226,
          410.75271344845027,
          407.9243101442471,
          410.14518747689357,
          408.54179325446074,
          415.0151782306003,
          417.49498178666795,
          419.3075474968399,
          422.972483188537,
          425.13363748859143,
          422.8032181180557,
          423.7592588669933,
          419.49677528211595,
          410.7128404151961,
          410.08544169235375,
          409.70702033371197,
          412.3959525923642,
          403.5921033629647,
          399.55870653260496,
          394.3799517877281,
          393.4238820075808,
          388.4443441829889,
          388.73312520893785,
          386.8309840763645,
          388.60370262209443,
          392.5076350867595,
          400.81350683802816,
          406.78898546738606,
          390.3166560014087,
          389.519913084631,
          387.1895029104063,
          382.1099853515625,
          382.17999267578125,
          381.20001220703125,
          377.3800048828125,
          373.44000244140625,
          363.2900085449219,
          363.0299987792969,
          360.8699951171875,
          362.6000061035156,
          359.70001220703125,
          357.0400085449219,
          359.2099914550781,
          366.57000732421875,
          370.95001220703125,
          372.67999267578125,
          360.94000244140625,
          357.6700134277344,
          355.7099914550781,
          356.29998779296875,
          348.1099853515625,
          356.9599914550781,
          357.2799987792969,
          367.5199890136719,
          365.54998779296875,
          364.6099853515625,
          363.5400085449219,
          373.1099853515625,
          378.6700134277344,
          381.3500061035156,
          379.3299865722656,
          379.67999267578125,
          385.260009765625,
          383.2900085449219,
          374.760009765625,
          368.7900085449219,
          370,
          375.5299987792969
         ],
         "open": [
          462.698421594101,
          462.32407813638133,
          458.63985090660196,
          458.27534859903824,
          458.1866814636852,
          461.6542345418459,
          460.18641404234324,
          462.008848102596,
          462.2453110373495,
          462.6097511659769,
          463.87070694484504,
          460.25536512881183,
          459.11267044699287,
          455.4481171600917,
          457.15234013278007,
          455.11320014550046,
          454.7585625872926,
          444.01119984453203,
          452.3253898476043,
          449.3307278595685,
          457.4872839626471,
          461.71336429127695,
          461.1715328043396,
          462.23546008133275,
          463.1811154492322,
          456.18694695355384,
          456.51202757900575,
          465.5256547758522,
          456.2672398674505,
          449.27821425542703,
          453.3609305057284,
          457.49309513220595,
          463.3848524971854,
          466.6569601891726,
          472.25217296117563,
          471.520676426014,
          472.45978286474065,
          470.1960436513577,
          470.84844425912456,
          473.7350054442367,
          471.69861022869173,
          462.53472131142144,
          462.5940369036953,
          457.4041104866488,
          459.90518843943073,
          466.1923589724666,
          466.78546443913797,
          455.911405158876,
          454.4779688856371,
          452.88638802340296,
          448.5565691896171,
          440.4603006900865,
          427.0851483078244,
          428.10335760369844,
          435.67569388631534,
          433.2438395533789,
          427.72771342285955,
          436.1897184269397,
          445.5217091767673,
          450.28652478956815,
          445.78862101585275,
          441.2412527498039,
          444.36508596280606,
          441.61694175756384,
          450.0097386724572,
          446.17411501257595,
          444.266213628056,
          434.8848708117567,
          438.6512410794835,
          438.84894978483493,
          438.147085436672,
          432.32447369113333,
          426.946743075598,
          427.7079224017071,
          406.3156087388995,
          424.6928078775693,
          427.08515110507835,
          430.06073790650487,
          427.4212730447816,
          435.4285509854193,
          426.8083351640208,
          426.6106384934223,
          414.81720238907917,
          420.2739979261272,
          417.68396488229035,
          423.21987420121394,
          416.07266383687795,
          414.9654641175031,
          424.9696361894637,
          428.6273001991835,
          434.331945744177,
          440.6188270864143,
          442.1260859856014,
          443.1673449891968,
          442.2054624289705,
          447.3817400586387,
          448.2741855384289,
          456.16753714400295,
          456.4848620839005,
          454.0554169741167,
          449.5137323511612,
          449.33523889932536,
          451.40772050749126,
          443.14750544454176,
          441.85835724877296,
          444.2184519870874,
          440.3907838600342,
          439.36937073292785,
          434.36169201086005,
          439.835460328614,
          433.1518959435267,
          434.1930947198821,
          443.17726233854705,
          444.78369474686116,
          433.25107052248364,
          420.1219538482033,
          422.2638527212785,
          413.74579565968503,
          418.75350303318476,
          420.04261787296315,
          408.6190902615176,
          411.5344833608006,
          413.58711354426896,
          420.9945602744624,
          407.657222216257,
          401.70746721179637,
          401.10257418673535,
          394.7363308640535,
          386.1091925233651,
          393.38772077558525,
          396.63034613002395,
          403.12549465904874,
          400.1208420908022,
          385.36546357658506,
          389.9566834536972,
          389.5402031563818,
          389.2724603968558,
          389.02458338337726,
          395.33133316910966,
          404.49392630422375,
          410.0866962528882,
          411.693168783268,
          405.9913057078747,
          408.9463069025536,
          411.3064116561258,
          404.6823589875329,
          410.46351106833333,
          405.9119600405998,
          391.5730576661437,
          376.6689168637618,
          373.6940684990385,
          374.1997357129782,
          367.40715777387805,
          364.01470689796395,
          370.36860027572,
          369.10377171155864,
          375.09916248890295,
          379.839678728561,
          389.45020228820897,
          388.63356786157743,
          379.6704007020671,
          374.7007872373399,
          375.01948165467763,
          374.3422564155411,
          380.54677804388876,
          383.5444577535018,
          385.6856591705736,
          384.2714792285503,
          382.0804737894117,
          373.5654608765115,
          372.08152594230745,
          380.9849810837629,
          386.79113868810555,
          384.50051283779845,
          390.86438981626435,
          392.54747551542175,
          397.2880116277475,
          394.13097751294976,
          392.2287761962975,
          392.7466578229037,
          400.24586034709495,
          405.9125726207121,
          407.47614042202906,
          407.4462861108971,
          408.6214395311792,
          412.6748105385001,
          407.98406224955716,
          413.551209607935,
          410.53361126449806,
          417.0667482330721,
          421.25951639625225,
          420.3034564551387,
          423.0322352943368,
          425.9801662145605,
          424.1676085940869,
          425.1136804525352,
          423.241402714664,
          415.3438109035657,
          411.21082373535467,
          410.4240456406023,
          413.5412418594565,
          417.6742705524675,
          400.554615541517,
          402.19784327418733,
          398.2938609922522,
          391.28269083344577,
          398.6424313708159,
          391.5217069190949,
          388.83274223995994,
          393.77245891935064,
          401.09236012785357,
          407.1076836446478,
          400.18608712590634,
          392.8562142263904,
          391.35239526954655,
          384.1400146484375,
          382.260009765625,
          385.05999755859375,
          386.1099853515625,
          376.5799865722656,
          370.5799865722656,
          366.4100036621094,
          368.0199890136719,
          364.3800048828125,
          366.80999755859375,
          361.79998779296875,
          361.0799865722656,
          372.3999938964844,
          373.3900146484375,
          375.6199951171875,
          368.9700012207031,
          363.9599914550781,
          358.239990234375,
          358.1700134277344,
          349.2099914550781,
          368.54998779296875,
          364.010009765625,
          375.1300048828125,
          368.989990234375,
          368.0299987792969,
          365.1199951171875,
          375.8900146484375,
          378.7900085449219,
          381.6199951171875,
          383.07000732421875,
          379.8699951171875,
          386.44000244140625,
          390.1400146484375,
          383.8999938964844,
          371.4700012207031,
          377,
          377.7099914550781
         ],
         "type": "candlestick",
         "x": [
          0,
          1,
          2,
          3,
          4,
          5,
          6,
          7,
          8,
          9,
          10,
          11,
          12,
          13,
          14,
          15,
          16,
          17,
          18,
          19,
          20,
          21,
          22,
          23,
          24,
          25,
          26,
          27,
          28,
          29,
          30,
          31,
          32,
          33,
          34,
          35,
          36,
          37,
          38,
          39,
          40,
          41,
          42,
          43,
          44,
          45,
          46,
          47,
          48,
          49,
          50,
          51,
          52,
          53,
          54,
          55,
          56,
          57,
          58,
          59,
          60,
          61,
          62,
          63,
          64,
          65,
          66,
          67,
          68,
          69,
          70,
          71,
          72,
          73,
          74,
          75,
          76,
          77,
          78,
          79,
          80,
          81,
          82,
          83,
          84,
          85,
          86,
          87,
          88,
          89,
          90,
          91,
          92,
          93,
          94,
          95,
          96,
          97,
          98,
          99,
          100,
          101,
          102,
          103,
          104,
          105,
          106,
          107,
          108,
          109,
          110,
          111,
          112,
          113,
          114,
          115,
          116,
          117,
          118,
          119,
          120,
          121,
          122,
          123,
          124,
          125,
          126,
          127,
          128,
          129,
          130,
          131,
          132,
          133,
          134,
          135,
          136,
          137,
          138,
          139,
          140,
          141,
          142,
          143,
          144,
          145,
          146,
          147,
          148,
          149,
          150,
          151,
          152,
          153,
          154,
          155,
          156,
          157,
          158,
          159,
          160,
          161,
          162,
          163,
          164,
          165,
          166,
          167,
          168,
          169,
          170,
          171,
          172,
          173,
          174,
          175,
          176,
          177,
          178,
          179,
          180,
          181,
          182,
          183,
          184,
          185,
          186,
          187,
          188,
          189,
          190,
          191,
          192,
          193,
          194,
          195,
          196,
          197,
          198,
          199,
          200,
          201,
          202,
          203,
          204,
          205,
          206,
          207,
          208,
          209,
          210,
          211,
          212,
          213,
          214,
          215,
          216,
          217,
          218,
          219,
          220,
          221,
          222,
          223,
          224,
          225,
          226,
          227,
          228,
          229,
          230,
          231,
          232,
          233,
          234,
          235,
          236,
          237,
          238,
          239,
          240,
          241,
          242,
          243,
          244,
          245,
          246,
          247,
          248,
          249,
          250,
          251
         ]
        },
        {
         "line": {
          "color": "yellow"
         },
         "mode": "lines",
         "name": "SMA",
         "type": "scatter",
         "x": [
          0,
          1,
          2,
          3,
          4,
          5,
          6,
          7,
          8,
          9,
          10,
          11,
          12,
          13,
          14,
          15,
          16,
          17,
          18,
          19,
          20,
          21,
          22,
          23,
          24,
          25,
          26,
          27,
          28,
          29,
          30,
          31,
          32,
          33,
          34,
          35,
          36,
          37,
          38,
          39,
          40,
          41,
          42,
          43,
          44,
          45,
          46,
          47,
          48,
          49,
          50,
          51,
          52,
          53,
          54,
          55,
          56,
          57,
          58,
          59,
          60,
          61,
          62,
          63,
          64,
          65,
          66,
          67,
          68,
          69,
          70,
          71,
          72,
          73,
          74,
          75,
          76,
          77,
          78,
          79,
          80,
          81,
          82,
          83,
          84,
          85,
          86,
          87,
          88,
          89,
          90,
          91,
          92,
          93,
          94,
          95,
          96,
          97,
          98,
          99,
          100,
          101,
          102,
          103,
          104,
          105,
          106,
          107,
          108,
          109,
          110,
          111,
          112,
          113,
          114,
          115,
          116,
          117,
          118,
          119,
          120,
          121,
          122,
          123,
          124,
          125,
          126,
          127,
          128,
          129,
          130,
          131,
          132,
          133,
          134,
          135,
          136,
          137,
          138,
          139,
          140,
          141,
          142,
          143,
          144,
          145,
          146,
          147,
          148,
          149,
          150,
          151,
          152,
          153,
          154,
          155,
          156,
          157,
          158,
          159,
          160,
          161,
          162,
          163,
          164,
          165,
          166,
          167,
          168,
          169,
          170,
          171,
          172,
          173,
          174,
          175,
          176,
          177,
          178,
          179,
          180,
          181,
          182,
          183,
          184,
          185,
          186,
          187,
          188,
          189,
          190,
          191,
          192,
          193,
          194,
          195,
          196,
          197,
          198,
          199,
          200,
          201,
          202,
          203,
          204,
          205,
          206,
          207,
          208,
          209,
          210,
          211,
          212,
          213,
          214,
          215,
          216,
          217,
          218,
          219,
          220,
          221,
          222,
          223,
          224,
          225,
          226,
          227,
          228,
          229,
          230,
          231,
          232,
          233,
          234,
          235,
          236,
          237,
          238,
          239,
          240,
          241,
          242,
          243,
          244,
          245,
          246,
          247,
          248,
          249,
          250,
          251
         ],
         "y": [
          null,
          null,
          null,
          null,
          null,
          null,
          null,
          null,
          null,
          null,
          null,
          null,
          null,
          null,
          null,
          null,
          null,
          null,
          null,
          null,
          null,
          null,
          null,
          null,
          null,
          null,
          null,
          null,
          null,
          457.701176961263,
          457.5618479410807,
          457.625981648763,
          457.9094685872396,
          458.40749003092446,
          458.77773234049477,
          459.16282246907554,
          459.44366861979165,
          459.7224060058594,
          460.0395487467448,
          460.3790018717448,
          460.4596323649088,
          460.5054066975911,
          460.4491739908854,
          460.717626953125,
          460.94092712402346,
          461.50291646321614,
          462.01720072428384,
          462.31117553710936,
          462.4646443684896,
          462.28558858235675,
          461.6301584879557,
          460.6450236002604,
          459.8252695719401,
          458.6844126383464,
          457.6445668538411,
          456.6396087646484,
          455.7498301188151,
          455.2586171468099,
          455.0305928548177,
          455.1086883544922,
          454.56630147298176,
          453.9405466715495,
          453.17145182291665,
          452.3041615804037,
          451.6672047932943,
          450.7392812093099,
          449.562900797526,
          448.3786122639974,
          447.3370056152344,
          446.31714884440106,
          445.28509826660155,
          444.1742930094401,
          442.97089233398435,
          441.53551127115884,
          440.16965738932294,
          439.07335001627604,
          438.15399576822915,
          437.0092508951823,
          436.39634908040364,
          435.8678029378255,
          435.3873647054036,
          434.77610778808594,
          433.9987752278646,
          433.76613464355466,
          433.5058146158854,
          433.1377431233724,
          432.3155944824219,
          431.5333190917969,
          430.96226196289064,
          430.4258066813151,
          430.40277099609375,
          430.306239827474,
          430.4290405273438,
          430.23919474283855,
          430.05299987792966,
          430.21038920084635,
          430.7661661783854,
          431.5558186848958,
          432.01796875,
          432.23028055826825,
          432.79926147460935,
          433.5897450764974,
          434.3430623372396,
          435.1983978271484,
          435.9188608805338,
          436.28826599121095,
          436.44171244303385,
          436.7604075113932,
          436.98438618977866,
          437.0977427164714,
          437.3336975097656,
          438.2231516520182,
          439.20648396809895,
          439.6022654215495,
          439.6643320719401,
          439.98631184895834,
          439.99925130208334,
          439.7486948649088,
          439.53513590494794,
          438.61940205891926,
          437.62645467122394,
          436.7006072998047,
          436.0220052083333,
          435.0307098388672,
          433.7366383870443,
          431.93452453613287,
          430.056386311849,
          427.7822580973308,
          425.5887817382813,
          423.93871561686205,
          422.19246215820317,
          420.5899963378907,
          418.6341796875001,
          416.7481079101563,
          414.79328409830737,
          413.11908976236987,
          411.59760437011727,
          410.2450276692709,
          408.98896891276047,
          408.2442576090495,
          407.4165812174479,
          406.24481099446615,
          405.3417714436849,
          404.43211975097654,
          403.9610982259115,
          403.53899637858075,
          403.3776916503906,
          402.8544443766276,
          401.5980550130208,
          400.3750498453776,
          399.032719930013,
          397.80376485188805,
          395.74085388183596,
          394.20814514160156,
          393.0628245035807,
          392.3302530924479,
          391.68910420735676,
          391.6565470377604,
          391.58807881673175,
          390.94597778320315,
          390.3474650065104,
          389.3743367513021,
          389.07773742675784,
          388.8843688964844,
          388.72820638020835,
          388.52162780761716,
          388.4045817057292,
          388.0251118977865,
          387.27032165527345,
          386.12024841308596,
          385.016650390625,
          384.2631357828776,
          383.14623209635414,
          382.5983418782552,
          382.0921254475912,
          381.5887980143229,
          381.11204630533854,
          380.97449951171876,
          381.06634216308595,
          381.984336344401,
          383.1066609700521,
          384.24933369954425,
          385.76633504231773,
          387.16724751790366,
          388.47454427083335,
          389.7951202392578,
          390.9706247965495,
          391.7311676025391,
          392.4867309570312,
          393.7926991780599,
          395.1089579264323,
          396.7638264973958,
          398.34466552734375,
          399.9294901529948,
          401.3702382405599,
          402.66160074869794,
          403.7727030436198,
          404.73939819335936,
          405.7857676188151,
          406.9423512776693,
          408.32334594726564,
          408.9932596842448,
          409.6797729492188,
          409.87696329752606,
          409.8905741373698,
          409.81189778645836,
          409.7172861735026,
          409.55760904947914,
          409.7863362630208,
          409.76442565917966,
          409.7820200602213,
          409.74815979003904,
          409.1615702311198,
          408.71473897298176,
          407.9070566813151,
          407.00986836751304,
          406.23558553059894,
          405.3285705566406,
          404.25266520182294,
          402.784272257487,
          401.10687967936195,
          399.07212219238284,
          396.94793904622395,
          395.03420206705727,
          392.9637166341146,
          390.6650665283203,
          388.8716318766276,
          387.74866638183596,
          386.6295633951823,
          385.33697408040365,
          383.5035146077474,
          382.0491190592448,
          380.6076904296875,
          379.27366027832034,
          378.3538838704427,
          377.1149424235026,
          376.32109883626305,
          375.7200520833333,
          374.798296101888,
          373.6872283935547,
          372.6656758626302,
          371.65171813964844,
          371.4326578776042,
          371.0671346028646,
          370.78233439127604,
          370.8976674397787,
          370.819667561849,
          370.83400065104166,
          370.75,
          370.64300028483075,
          370.9230000813802,
          371.4443339029948
         ]
        },
        {
         "line": {
          "color": "Black"
         },
         "mode": "lines",
         "name": "Lower Bound",
         "type": "scatter",
         "x": [
          0,
          1,
          2,
          3,
          4,
          5,
          6,
          7,
          8,
          9,
          10,
          11,
          12,
          13,
          14,
          15,
          16,
          17,
          18,
          19,
          20,
          21,
          22,
          23,
          24,
          25,
          26,
          27,
          28,
          29,
          30,
          31,
          32,
          33,
          34,
          35,
          36,
          37,
          38,
          39,
          40,
          41,
          42,
          43,
          44,
          45,
          46,
          47,
          48,
          49,
          50,
          51,
          52,
          53,
          54,
          55,
          56,
          57,
          58,
          59,
          60,
          61,
          62,
          63,
          64,
          65,
          66,
          67,
          68,
          69,
          70,
          71,
          72,
          73,
          74,
          75,
          76,
          77,
          78,
          79,
          80,
          81,
          82,
          83,
          84,
          85,
          86,
          87,
          88,
          89,
          90,
          91,
          92,
          93,
          94,
          95,
          96,
          97,
          98,
          99,
          100,
          101,
          102,
          103,
          104,
          105,
          106,
          107,
          108,
          109,
          110,
          111,
          112,
          113,
          114,
          115,
          116,
          117,
          118,
          119,
          120,
          121,
          122,
          123,
          124,
          125,
          126,
          127,
          128,
          129,
          130,
          131,
          132,
          133,
          134,
          135,
          136,
          137,
          138,
          139,
          140,
          141,
          142,
          143,
          144,
          145,
          146,
          147,
          148,
          149,
          150,
          151,
          152,
          153,
          154,
          155,
          156,
          157,
          158,
          159,
          160,
          161,
          162,
          163,
          164,
          165,
          166,
          167,
          168,
          169,
          170,
          171,
          172,
          173,
          174,
          175,
          176,
          177,
          178,
          179,
          180,
          181,
          182,
          183,
          184,
          185,
          186,
          187,
          188,
          189,
          190,
          191,
          192,
          193,
          194,
          195,
          196,
          197,
          198,
          199,
          200,
          201,
          202,
          203,
          204,
          205,
          206,
          207,
          208,
          209,
          210,
          211,
          212,
          213,
          214,
          215,
          216,
          217,
          218,
          219,
          220,
          221,
          222,
          223,
          224,
          225,
          226,
          227,
          228,
          229,
          230,
          231,
          232,
          233,
          234,
          235,
          236,
          237,
          238,
          239,
          240,
          241,
          242,
          243,
          244,
          245,
          246,
          247,
          248,
          249,
          250,
          251
         ],
         "y": [
          null,
          null,
          null,
          null,
          null,
          null,
          null,
          null,
          null,
          null,
          null,
          null,
          null,
          null,
          null,
          null,
          null,
          null,
          null,
          null,
          null,
          null,
          null,
          null,
          null,
          null,
          null,
          null,
          null,
          446.8005159224351,
          446.77915774012337,
          446.7506304704328,
          446.6949292229357,
          446.11154149880565,
          445.6075827056416,
          445.140816630615,
          444.837590238908,
          444.6683710181857,
          444.3366141722587,
          444.0806120679218,
          444.1328060116944,
          444.1621728403388,
          444.12191546313653,
          444.6944805721989,
          444.9065590574419,
          446.06300933837707,
          448.063075066795,
          448.99701274515843,
          449.8069866067557,
          448.8824901681929,
          446.25023728386134,
          442.0510188193613,
          438.97259392817,
          435.14252303077984,
          431.64523817682533,
          428.2306514466048,
          426.5791261883919,
          425.85364795950045,
          425.4988764038278,
          425.6221525359111,
          424.68559229056893,
          423.94716020378115,
          423.19093468501967,
          423.05685454449366,
          423.3234793391541,
          423.34523092288316,
          422.691506838165,
          422.02069973644456,
          422.4528096930638,
          423.18349769364994,
          422.4743986650993,
          421.6051374680889,
          420.2109656237314,
          417.85424979495536,
          417.22368402359865,
          418.10299416667436,
          418.4575806540325,
          418.46436380001006,
          418.60082944586327,
          418.3846291387952,
          417.7685522686424,
          415.6057599136235,
          413.02686498153344,
          412.4358167533346,
          411.71974938902,
          410.49206294718005,
          408.47452028388545,
          407.84232824198693,
          408.0781735179515,
          408.8780990268802,
          408.90257548130273,
          409.0256833117778,
          408.8258238065896,
          409.09900925247746,
          409.6307388769031,
          409.2714637372719,
          408.41754898100606,
          407.1552368688571,
          406.38367813110796,
          406.16946390829133,
          406.0186398210351,
          405.85832486348846,
          406.38922348149885,
          407.8616685449982,
          408.73017825596094,
          408.97745527409023,
          409.1874738011619,
          409.8353455190647,
          410.08117725534055,
          410.2751648010268,
          410.74704666702576,
          413.0307153010655,
          416.11741141401006,
          417.3033767124315,
          417.5748030520879,
          419.12093503340907,
          419.2047460134394,
          417.8686768518955,
          417.1673646372346,
          413.5680158257251,
          410.64519899361704,
          408.28330255244856,
          407.53408941978483,
          405.094735273363,
          402.56039121776297,
          398.23673438886425,
          394.7644850229144,
          391.0924524789722,
          387.7471657076485,
          385.79929771185107,
          384.02797248347326,
          383.7599645218036,
          381.43322005770597,
          378.88142851581006,
          376.9092343573378,
          376.1143525399092,
          374.7728436938209,
          373.94216969253796,
          374.3176296265898,
          374.8714471079203,
          375.5189268975292,
          377.0297722029651,
          379.04077994864855,
          380.50833009262925,
          380.9687250263199,
          381.7030203858691,
          381.7486418219129,
          381.5086187077277,
          381.0350371870881,
          377.3106543012657,
          373.9317757952575,
          371.91305651511215,
          369.1189164371296,
          365.8287305512607,
          364.19988446227717,
          362.55238510954666,
          361.3919702473674,
          361.347408264642,
          361.24535400063087,
          360.38140556669146,
          359.5500122485027,
          358.6348195195711,
          358.13539745880877,
          357.7954141468195,
          357.5400210315306,
          357.3848031241142,
          357.27355241006444,
          356.90090835512143,
          356.4431767214071,
          356.52749499974084,
          356.5806404961011,
          356.97042721615355,
          358.23247220471563,
          359.18688819614823,
          360.3896110458786,
          362.2047002219281,
          363.80034401336127,
          364.16222622771045,
          364.0989736470433,
          364.12177093293025,
          363.98139228807054,
          362.9072285685376,
          364.0375312277566,
          365.7311700311245,
          365.73455048784024,
          366.221615560763,
          366.633039083288,
          366.3130843870117,
          366.3141863443663,
          366.4997320286051,
          367.0141469689491,
          367.5709198803786,
          367.8715305789583,
          368.39190499654467,
          369.33683841281197,
          369.84489533684354,
          370.88192019060557,
          372.72343609250197,
          375.1937617660594,
          378.2448699690783,
          381.8106155703821,
          384.1043587437043,
          387.0194583744246,
          387.8060398285142,
          387.86185869856797,
          387.57910411336775,
          387.1747930765446,
          386.49124251958494,
          387.42628311975074,
          387.3610096650731,
          387.3951854824073,
          387.36152261690523,
          385.8024296515449,
          384.6345573668776,
          382.7846666871673,
          380.6696654490359,
          379.12117204525805,
          377.1169764275424,
          374.3165399621179,
          371.406740690907,
          367.8323955380652,
          364.49271950771487,
          361.672135500835,
          360.494531398265,
          358.38644503228085,
          356.0452800544465,
          355.06374995569803,
          354.8469217758601,
          354.6829059907594,
          354.51608709634434,
          354.1635462011422,
          352.5168876857434,
          350.6808298915377,
          348.7314744948454,
          347.93067101360856,
          346.43661379104515,
          345.8587116675204,
          345.5963423315668,
          345.58310740848606,
          345.7319048527062,
          347.3173172003141,
          350.2368916969876,
          350.7351964847181,
          351.593577390774,
          352.1327373835405,
          351.8317642649517,
          352.03552844712203,
          352.0073534850187,
          352.02216560196587,
          351.96057763152476,
          352.1559916982818,
          352.56885865100924
         ]
        },
        {
         "line": {
          "color": "Purple"
         },
         "mode": "lines",
         "name": "Upper Bound",
         "type": "scatter",
         "x": [
          0,
          1,
          2,
          3,
          4,
          5,
          6,
          7,
          8,
          9,
          10,
          11,
          12,
          13,
          14,
          15,
          16,
          17,
          18,
          19,
          20,
          21,
          22,
          23,
          24,
          25,
          26,
          27,
          28,
          29,
          30,
          31,
          32,
          33,
          34,
          35,
          36,
          37,
          38,
          39,
          40,
          41,
          42,
          43,
          44,
          45,
          46,
          47,
          48,
          49,
          50,
          51,
          52,
          53,
          54,
          55,
          56,
          57,
          58,
          59,
          60,
          61,
          62,
          63,
          64,
          65,
          66,
          67,
          68,
          69,
          70,
          71,
          72,
          73,
          74,
          75,
          76,
          77,
          78,
          79,
          80,
          81,
          82,
          83,
          84,
          85,
          86,
          87,
          88,
          89,
          90,
          91,
          92,
          93,
          94,
          95,
          96,
          97,
          98,
          99,
          100,
          101,
          102,
          103,
          104,
          105,
          106,
          107,
          108,
          109,
          110,
          111,
          112,
          113,
          114,
          115,
          116,
          117,
          118,
          119,
          120,
          121,
          122,
          123,
          124,
          125,
          126,
          127,
          128,
          129,
          130,
          131,
          132,
          133,
          134,
          135,
          136,
          137,
          138,
          139,
          140,
          141,
          142,
          143,
          144,
          145,
          146,
          147,
          148,
          149,
          150,
          151,
          152,
          153,
          154,
          155,
          156,
          157,
          158,
          159,
          160,
          161,
          162,
          163,
          164,
          165,
          166,
          167,
          168,
          169,
          170,
          171,
          172,
          173,
          174,
          175,
          176,
          177,
          178,
          179,
          180,
          181,
          182,
          183,
          184,
          185,
          186,
          187,
          188,
          189,
          190,
          191,
          192,
          193,
          194,
          195,
          196,
          197,
          198,
          199,
          200,
          201,
          202,
          203,
          204,
          205,
          206,
          207,
          208,
          209,
          210,
          211,
          212,
          213,
          214,
          215,
          216,
          217,
          218,
          219,
          220,
          221,
          222,
          223,
          224,
          225,
          226,
          227,
          228,
          229,
          230,
          231,
          232,
          233,
          234,
          235,
          236,
          237,
          238,
          239,
          240,
          241,
          242,
          243,
          244,
          245,
          246,
          247,
          248,
          249,
          250,
          251
         ],
         "y": [
          null,
          null,
          null,
          null,
          null,
          null,
          null,
          null,
          null,
          null,
          null,
          null,
          null,
          null,
          null,
          null,
          null,
          null,
          null,
          null,
          null,
          null,
          null,
          null,
          null,
          null,
          null,
          null,
          null,
          468.6018380000909,
          468.34453814203806,
          468.5013328270932,
          469.1240079515435,
          470.7034385630433,
          471.9478819753479,
          473.18482830753607,
          474.0497470006753,
          474.7764409935331,
          475.7424833212309,
          476.6773916755678,
          476.78645871812324,
          476.8486405548434,
          476.7764325186343,
          476.740773334051,
          476.97529519060504,
          476.9428235880552,
          475.97132638177266,
          475.6253383290603,
          475.1223021302235,
          475.68868699652063,
          477.0100796920501,
          479.2390283811595,
          480.6779452157102,
          482.2263022459129,
          483.6438955308569,
          485.04856608269205,
          484.9205340492383,
          484.6635863341194,
          484.5623093058076,
          484.5952241730733,
          484.4470106553946,
          483.93393313931784,
          483.15196896081363,
          481.5514686163137,
          480.01093024743443,
          478.1333314957367,
          476.434294756887,
          474.73652479155027,
          472.22120153740497,
          469.4507999951522,
          468.09579786810383,
          466.74344855079124,
          465.7308190442373,
          465.2167727473623,
          463.1156307550472,
          460.0437058658777,
          457.8504108824258,
          455.5541379903545,
          454.191868714944,
          453.3509767368558,
          453.00617714216486,
          453.9464556625484,
          454.97068547419576,
          455.0964525337747,
          455.2918798427508,
          455.78342329956473,
          456.1566686809583,
          455.22430994160686,
          453.8463504078298,
          451.97351433575005,
          451.90296651088477,
          451.58679634317014,
          452.03225724809795,
          451.37938023319964,
          450.47526087895625,
          451.1493146644208,
          453.1147833757647,
          455.95640050093454,
          457.6522593688921,
          458.29109720824516,
          459.5798831281836,
          461.3211652895064,
          462.29690119298033,
          462.5351271092986,
          463.1075435051067,
          463.59907670833167,
          463.6959510849058,
          463.6854695037218,
          463.8875951242168,
          463.92032063191596,
          463.92034835250547,
          463.4155880029709,
          462.29555652218784,
          461.90115413066746,
          461.7538610917924,
          460.8516886645076,
          460.7937565907273,
          461.62871287792217,
          461.9029071726613,
          463.6707882921134,
          464.60771034883084,
          465.1179120471608,
          464.5099209968818,
          464.9666844043714,
          464.91288555632565,
          465.6323146834015,
          465.3482876007836,
          464.4720637156894,
          463.4303977689141,
          462.07813352187304,
          460.3569518329331,
          457.42002815397774,
          455.8351393172942,
          454.61478730450256,
          452.6773338392769,
          450.12382698483054,
          448.42236504641363,
          446.5478856460038,
          443.66030819893115,
          441.6170681101787,
          439.31423553736664,
          435.4598497859672,
          431.6427629387212,
          428.35590940932383,
          426.9534714255031,
          425.3749723712924,
          425.0067414788683,
          424.20027004552753,
          422.16107283895354,
          423.4394453894895,
          424.1336640647685,
          423.69447318866395,
          422.3627913265423,
          422.5875597319424,
          421.92576454488426,
          422.1081210753491,
          421.98623816734613,
          421.96568581087877,
          421.93080363283264,
          421.51054999971484,
          421.1449177645181,
          420.1138539830331,
          420.0200773947069,
          419.97332364614925,
          419.9163917288861,
          419.6584524911201,
          419.53561100139393,
          419.1493154404515,
          418.0974665891398,
          415.7130018264311,
          413.45266028514885,
          411.55584434960167,
          408.05999198799265,
          406.0097955603622,
          403.79463984930373,
          400.9728958067177,
          398.4237485973158,
          397.7867727957271,
          398.0337106791286,
          399.8469017558718,
          402.2319296520336,
          405.5914388305509,
          407.4951388568789,
          408.6033250046828,
          411.21453805382646,
          413.36862491775264,
          415.308210509811,
          417.14925081806643,
          418.65927556969615,
          421.0856663275147,
          423.20376888391553,
          425.95673311441305,
          428.8178004757292,
          431.4670753094449,
          433.4036380683078,
          435.47830616055234,
          436.66348589663403,
          436.75536029421676,
          436.3777734715708,
          435.63983258626024,
          434.8360763241492,
          433.88216062478523,
          432.340087524013,
          431.9478867665379,
          431.91928957617165,
          432.044691459549,
          432.2597792704606,
          432.62397557937334,
          432.1463894062909,
          432.16784165328625,
          432.1688546380353,
          432.13479696317285,
          432.5207108106947,
          432.79492057908595,
          433.0294466754629,
          433.35007128599017,
          433.34999901593983,
          433.54016468573883,
          434.188790441528,
          434.16180382406696,
          434.3813638206587,
          433.6515248770508,
          432.2237425916129,
          429.57387273584953,
          427.5409882359483,
          425.28485300219415,
          422.67951379755715,
          420.6504109878118,
          418.57622079960515,
          416.15786106446296,
          412.84348301435256,
          411.58135043274615,
          410.53455096783733,
          409.8158460617953,
          408.77709672727684,
          407.7932710559601,
          406.78348600500567,
          405.8437618350998,
          404.01348479528997,
          401.6425519344032,
          398.01403452494634,
          393.0665445823093,
          392.1301192704903,
          390.5406918149552,
          389.4319313990116,
          389.96357061460566,
          389.6038066765759,
          389.6606478170646,
          389.47783439803413,
          389.32542293813674,
          389.69000846447864,
          390.31980915498036
         ]
        }
       ],
       "layout": {
        "autosize": true,
        "shapes": [
         {
          "line": {
           "color": "gray",
           "width": 1
          },
          "type": "line",
          "x0": 52,
          "x1": 253,
          "y0": 415.9441512869428,
          "y1": 415.9441512869428
         },
         {
          "line": {
           "color": "gray",
           "width": 1
          },
          "type": "line",
          "x0": 128,
          "x1": 253,
          "y0": 381.9245319583339,
          "y1": 381.9245319583339
         },
         {
          "line": {
           "color": "gray",
           "width": 1
          },
          "type": "line",
          "x0": 170,
          "x1": 253,
          "y0": 369.52206305495616,
          "y1": 369.52206305495616
         },
         {
          "line": {
           "color": "violet",
           "width": 1
          },
          "type": "line",
          "x0": 59,
          "x1": 253,
          "y0": 452.87653246527395,
          "y1": 452.87653246527395
         },
         {
          "line": {
           "color": "violet",
           "width": 1
          },
          "type": "line",
          "x0": 97,
          "x1": 253,
          "y0": 458.200387511717,
          "y1": 458.200387511717
         },
         {
          "line": {
           "color": "violet",
           "width": 1
          },
          "type": "line",
          "x0": 166,
          "x1": 253,
          "y0": 389.0418979580837,
          "y1": 389.0418979580837
         },
         {
          "line": {
           "color": "violet",
           "width": 1
          },
          "type": "line",
          "x0": 193,
          "x1": 253,
          "y0": 429.963802202433,
          "y1": 429.963802202433
         },
         {
          "line": {
           "color": "violet",
           "width": 1
          },
          "type": "line",
          "x0": 211,
          "x1": 253,
          "y0": 410.0456273794545,
          "y1": 410.0456273794545
         }
        ],
        "template": {
         "data": {
          "bar": [
           {
            "error_x": {
             "color": "#2a3f5f"
            },
            "error_y": {
             "color": "#2a3f5f"
            },
            "marker": {
             "line": {
              "color": "#E5ECF6",
              "width": 0.5
             },
             "pattern": {
              "fillmode": "overlay",
              "size": 10,
              "solidity": 0.2
             }
            },
            "type": "bar"
           }
          ],
          "barpolar": [
           {
            "marker": {
             "line": {
              "color": "#E5ECF6",
              "width": 0.5
             },
             "pattern": {
              "fillmode": "overlay",
              "size": 10,
              "solidity": 0.2
             }
            },
            "type": "barpolar"
           }
          ],
          "carpet": [
           {
            "aaxis": {
             "endlinecolor": "#2a3f5f",
             "gridcolor": "white",
             "linecolor": "white",
             "minorgridcolor": "white",
             "startlinecolor": "#2a3f5f"
            },
            "baxis": {
             "endlinecolor": "#2a3f5f",
             "gridcolor": "white",
             "linecolor": "white",
             "minorgridcolor": "white",
             "startlinecolor": "#2a3f5f"
            },
            "type": "carpet"
           }
          ],
          "choropleth": [
           {
            "colorbar": {
             "outlinewidth": 0,
             "ticks": ""
            },
            "type": "choropleth"
           }
          ],
          "contour": [
           {
            "colorbar": {
             "outlinewidth": 0,
             "ticks": ""
            },
            "colorscale": [
             [
              0,
              "#0d0887"
             ],
             [
              0.1111111111111111,
              "#46039f"
             ],
             [
              0.2222222222222222,
              "#7201a8"
             ],
             [
              0.3333333333333333,
              "#9c179e"
             ],
             [
              0.4444444444444444,
              "#bd3786"
             ],
             [
              0.5555555555555556,
              "#d8576b"
             ],
             [
              0.6666666666666666,
              "#ed7953"
             ],
             [
              0.7777777777777778,
              "#fb9f3a"
             ],
             [
              0.8888888888888888,
              "#fdca26"
             ],
             [
              1,
              "#f0f921"
             ]
            ],
            "type": "contour"
           }
          ],
          "contourcarpet": [
           {
            "colorbar": {
             "outlinewidth": 0,
             "ticks": ""
            },
            "type": "contourcarpet"
           }
          ],
          "heatmap": [
           {
            "colorbar": {
             "outlinewidth": 0,
             "ticks": ""
            },
            "colorscale": [
             [
              0,
              "#0d0887"
             ],
             [
              0.1111111111111111,
              "#46039f"
             ],
             [
              0.2222222222222222,
              "#7201a8"
             ],
             [
              0.3333333333333333,
              "#9c179e"
             ],
             [
              0.4444444444444444,
              "#bd3786"
             ],
             [
              0.5555555555555556,
              "#d8576b"
             ],
             [
              0.6666666666666666,
              "#ed7953"
             ],
             [
              0.7777777777777778,
              "#fb9f3a"
             ],
             [
              0.8888888888888888,
              "#fdca26"
             ],
             [
              1,
              "#f0f921"
             ]
            ],
            "type": "heatmap"
           }
          ],
          "heatmapgl": [
           {
            "colorbar": {
             "outlinewidth": 0,
             "ticks": ""
            },
            "colorscale": [
             [
              0,
              "#0d0887"
             ],
             [
              0.1111111111111111,
              "#46039f"
             ],
             [
              0.2222222222222222,
              "#7201a8"
             ],
             [
              0.3333333333333333,
              "#9c179e"
             ],
             [
              0.4444444444444444,
              "#bd3786"
             ],
             [
              0.5555555555555556,
              "#d8576b"
             ],
             [
              0.6666666666666666,
              "#ed7953"
             ],
             [
              0.7777777777777778,
              "#fb9f3a"
             ],
             [
              0.8888888888888888,
              "#fdca26"
             ],
             [
              1,
              "#f0f921"
             ]
            ],
            "type": "heatmapgl"
           }
          ],
          "histogram": [
           {
            "marker": {
             "pattern": {
              "fillmode": "overlay",
              "size": 10,
              "solidity": 0.2
             }
            },
            "type": "histogram"
           }
          ],
          "histogram2d": [
           {
            "colorbar": {
             "outlinewidth": 0,
             "ticks": ""
            },
            "colorscale": [
             [
              0,
              "#0d0887"
             ],
             [
              0.1111111111111111,
              "#46039f"
             ],
             [
              0.2222222222222222,
              "#7201a8"
             ],
             [
              0.3333333333333333,
              "#9c179e"
             ],
             [
              0.4444444444444444,
              "#bd3786"
             ],
             [
              0.5555555555555556,
              "#d8576b"
             ],
             [
              0.6666666666666666,
              "#ed7953"
             ],
             [
              0.7777777777777778,
              "#fb9f3a"
             ],
             [
              0.8888888888888888,
              "#fdca26"
             ],
             [
              1,
              "#f0f921"
             ]
            ],
            "type": "histogram2d"
           }
          ],
          "histogram2dcontour": [
           {
            "colorbar": {
             "outlinewidth": 0,
             "ticks": ""
            },
            "colorscale": [
             [
              0,
              "#0d0887"
             ],
             [
              0.1111111111111111,
              "#46039f"
             ],
             [
              0.2222222222222222,
              "#7201a8"
             ],
             [
              0.3333333333333333,
              "#9c179e"
             ],
             [
              0.4444444444444444,
              "#bd3786"
             ],
             [
              0.5555555555555556,
              "#d8576b"
             ],
             [
              0.6666666666666666,
              "#ed7953"
             ],
             [
              0.7777777777777778,
              "#fb9f3a"
             ],
             [
              0.8888888888888888,
              "#fdca26"
             ],
             [
              1,
              "#f0f921"
             ]
            ],
            "type": "histogram2dcontour"
           }
          ],
          "mesh3d": [
           {
            "colorbar": {
             "outlinewidth": 0,
             "ticks": ""
            },
            "type": "mesh3d"
           }
          ],
          "parcoords": [
           {
            "line": {
             "colorbar": {
              "outlinewidth": 0,
              "ticks": ""
             }
            },
            "type": "parcoords"
           }
          ],
          "pie": [
           {
            "automargin": true,
            "type": "pie"
           }
          ],
          "scatter": [
           {
            "marker": {
             "colorbar": {
              "outlinewidth": 0,
              "ticks": ""
             }
            },
            "type": "scatter"
           }
          ],
          "scatter3d": [
           {
            "line": {
             "colorbar": {
              "outlinewidth": 0,
              "ticks": ""
             }
            },
            "marker": {
             "colorbar": {
              "outlinewidth": 0,
              "ticks": ""
             }
            },
            "type": "scatter3d"
           }
          ],
          "scattercarpet": [
           {
            "marker": {
             "colorbar": {
              "outlinewidth": 0,
              "ticks": ""
             }
            },
            "type": "scattercarpet"
           }
          ],
          "scattergeo": [
           {
            "marker": {
             "colorbar": {
              "outlinewidth": 0,
              "ticks": ""
             }
            },
            "type": "scattergeo"
           }
          ],
          "scattergl": [
           {
            "marker": {
             "colorbar": {
              "outlinewidth": 0,
              "ticks": ""
             }
            },
            "type": "scattergl"
           }
          ],
          "scattermapbox": [
           {
            "marker": {
             "colorbar": {
              "outlinewidth": 0,
              "ticks": ""
             }
            },
            "type": "scattermapbox"
           }
          ],
          "scatterpolar": [
           {
            "marker": {
             "colorbar": {
              "outlinewidth": 0,
              "ticks": ""
             }
            },
            "type": "scatterpolar"
           }
          ],
          "scatterpolargl": [
           {
            "marker": {
             "colorbar": {
              "outlinewidth": 0,
              "ticks": ""
             }
            },
            "type": "scatterpolargl"
           }
          ],
          "scatterternary": [
           {
            "marker": {
             "colorbar": {
              "outlinewidth": 0,
              "ticks": ""
             }
            },
            "type": "scatterternary"
           }
          ],
          "surface": [
           {
            "colorbar": {
             "outlinewidth": 0,
             "ticks": ""
            },
            "colorscale": [
             [
              0,
              "#0d0887"
             ],
             [
              0.1111111111111111,
              "#46039f"
             ],
             [
              0.2222222222222222,
              "#7201a8"
             ],
             [
              0.3333333333333333,
              "#9c179e"
             ],
             [
              0.4444444444444444,
              "#bd3786"
             ],
             [
              0.5555555555555556,
              "#d8576b"
             ],
             [
              0.6666666666666666,
              "#ed7953"
             ],
             [
              0.7777777777777778,
              "#fb9f3a"
             ],
             [
              0.8888888888888888,
              "#fdca26"
             ],
             [
              1,
              "#f0f921"
             ]
            ],
            "type": "surface"
           }
          ],
          "table": [
           {
            "cells": {
             "fill": {
              "color": "#EBF0F8"
             },
             "line": {
              "color": "white"
             }
            },
            "header": {
             "fill": {
              "color": "#C8D4E3"
             },
             "line": {
              "color": "white"
             }
            },
            "type": "table"
           }
          ]
         },
         "layout": {
          "annotationdefaults": {
           "arrowcolor": "#2a3f5f",
           "arrowhead": 0,
           "arrowwidth": 1
          },
          "autotypenumbers": "strict",
          "coloraxis": {
           "colorbar": {
            "outlinewidth": 0,
            "ticks": ""
           }
          },
          "colorscale": {
           "diverging": [
            [
             0,
             "#8e0152"
            ],
            [
             0.1,
             "#c51b7d"
            ],
            [
             0.2,
             "#de77ae"
            ],
            [
             0.3,
             "#f1b6da"
            ],
            [
             0.4,
             "#fde0ef"
            ],
            [
             0.5,
             "#f7f7f7"
            ],
            [
             0.6,
             "#e6f5d0"
            ],
            [
             0.7,
             "#b8e186"
            ],
            [
             0.8,
             "#7fbc41"
            ],
            [
             0.9,
             "#4d9221"
            ],
            [
             1,
             "#276419"
            ]
           ],
           "sequential": [
            [
             0,
             "#0d0887"
            ],
            [
             0.1111111111111111,
             "#46039f"
            ],
            [
             0.2222222222222222,
             "#7201a8"
            ],
            [
             0.3333333333333333,
             "#9c179e"
            ],
            [
             0.4444444444444444,
             "#bd3786"
            ],
            [
             0.5555555555555556,
             "#d8576b"
            ],
            [
             0.6666666666666666,
             "#ed7953"
            ],
            [
             0.7777777777777778,
             "#fb9f3a"
            ],
            [
             0.8888888888888888,
             "#fdca26"
            ],
            [
             1,
             "#f0f921"
            ]
           ],
           "sequentialminus": [
            [
             0,
             "#0d0887"
            ],
            [
             0.1111111111111111,
             "#46039f"
            ],
            [
             0.2222222222222222,
             "#7201a8"
            ],
            [
             0.3333333333333333,
             "#9c179e"
            ],
            [
             0.4444444444444444,
             "#bd3786"
            ],
            [
             0.5555555555555556,
             "#d8576b"
            ],
            [
             0.6666666666666666,
             "#ed7953"
            ],
            [
             0.7777777777777778,
             "#fb9f3a"
            ],
            [
             0.8888888888888888,
             "#fdca26"
            ],
            [
             1,
             "#f0f921"
            ]
           ]
          },
          "colorway": [
           "#636efa",
           "#EF553B",
           "#00cc96",
           "#ab63fa",
           "#FFA15A",
           "#19d3f3",
           "#FF6692",
           "#B6E880",
           "#FF97FF",
           "#FECB52"
          ],
          "font": {
           "color": "#2a3f5f"
          },
          "geo": {
           "bgcolor": "white",
           "lakecolor": "white",
           "landcolor": "#E5ECF6",
           "showlakes": true,
           "showland": true,
           "subunitcolor": "white"
          },
          "hoverlabel": {
           "align": "left"
          },
          "hovermode": "closest",
          "mapbox": {
           "style": "light"
          },
          "paper_bgcolor": "white",
          "plot_bgcolor": "#E5ECF6",
          "polar": {
           "angularaxis": {
            "gridcolor": "white",
            "linecolor": "white",
            "ticks": ""
           },
           "bgcolor": "#E5ECF6",
           "radialaxis": {
            "gridcolor": "white",
            "linecolor": "white",
            "ticks": ""
           }
          },
          "scene": {
           "xaxis": {
            "backgroundcolor": "#E5ECF6",
            "gridcolor": "white",
            "gridwidth": 2,
            "linecolor": "white",
            "showbackground": true,
            "ticks": "",
            "zerolinecolor": "white"
           },
           "yaxis": {
            "backgroundcolor": "#E5ECF6",
            "gridcolor": "white",
            "gridwidth": 2,
            "linecolor": "white",
            "showbackground": true,
            "ticks": "",
            "zerolinecolor": "white"
           },
           "zaxis": {
            "backgroundcolor": "#E5ECF6",
            "gridcolor": "white",
            "gridwidth": 2,
            "linecolor": "white",
            "showbackground": true,
            "ticks": "",
            "zerolinecolor": "white"
           }
          },
          "shapedefaults": {
           "line": {
            "color": "#2a3f5f"
           }
          },
          "ternary": {
           "aaxis": {
            "gridcolor": "white",
            "linecolor": "white",
            "ticks": ""
           },
           "baxis": {
            "gridcolor": "white",
            "linecolor": "white",
            "ticks": ""
           },
           "bgcolor": "#E5ECF6",
           "caxis": {
            "gridcolor": "white",
            "linecolor": "white",
            "ticks": ""
           }
          },
          "title": {
           "x": 0.05
          },
          "xaxis": {
           "automargin": true,
           "gridcolor": "white",
           "linecolor": "white",
           "ticks": "",
           "title": {
            "standoff": 15
           },
           "zerolinecolor": "white",
           "zerolinewidth": 2
          },
          "yaxis": {
           "automargin": true,
           "gridcolor": "white",
           "linecolor": "white",
           "ticks": "",
           "title": {
            "standoff": 15
           },
           "zerolinecolor": "white",
           "zerolinewidth": 2
          }
         }
        },
        "xaxis": {
         "autorange": true,
         "range": [
          -0.5,
          253.1634429400387
         ],
         "rangeslider": {
          "autorange": true,
          "range": [
           -0.5,
           253.1634429400387
          ],
          "yaxis": {
           "_template": null,
           "rangemode": "match"
          }
         },
         "type": "linear"
        },
        "yaxis": {
         "autorange": true,
         "range": [
          337.83502637103015,
          492.79664712014795
         ],
         "type": "linear"
        }
       }
      },
      "image/png": "[encoded data removed]",
      "text/html": [
       "<div>                            <div id=\"008feec9-3cef-469c-9b42-5815218db7b2\" class=\"plotly-graph-div\" style=\"height:525px; width:100%;\"></div>            <script type=\"text/javascript\">                require([\"plotly\"], function(Plotly) {                    window.PLOTLYENV=window.PLOTLYENV || {};                                    if (document.getElementById(\"008feec9-3cef-469c-9b42-5815218db7b2\")) {                    Plotly.newPlot(                        \"008feec9-3cef-469c-9b42-5815218db7b2\",                        [{\"close\":[461.93988037109375,460.4129943847656,456.7090759277344,456.8568115234375,460.30462646484375,460.4622497558594,462.28466796875,461.16168212890625,462.72802734375,461.9005126953125,460.6001892089844,461.2109069824219,462.4422912597656,452.12835693359375,457.6744384765625,448.7691955566406,443.78460693359375,450.5817565917969,446.6611022949219,451.9510803222656,461.2995910644531,462.5211181640625,459.39837646484375,463.7229309082031,459.6150817871094,456.4529113769531,463.5849914550781,459.49688720703125,454.6064758300781,449.7724914550781,457.760009765625,462.3370056152344,465.21368408203125,471.7974548339844,471.4118957519531,472.01495361328125,470.7100524902344,469.5238037109375,472.2423095703125,472.0841064453125,463.01910400390625,462.5841369628906,460.75531005859375,460.18194580078125,464.3734436035156,465.6288757324219,459.213134765625,459.4010009765625,451.2651672363281,446.57940673828125,441.6366882324219,432.9670715332031,434.8057556152344,429.4972229003906,428.4197082519531,426.3041687011719,436.8916320800781,444.760498046875,447.7657470703125,452.1153564453125,441.4884033203125,443.5643615722656,442.1408386230469,445.77874755859375,452.3031921386719,444.17724609375,435.41864013671875,433.9951477050781,440.9941101074219,441.4884033203125,432.0575866699219,429.2599792480469,424.6532897949219,417.1205139160156,423.3978271484375,432.7396545410156,431.63250732421875,425.05865478515625,432.87811279296875,430.7230224609375,427.2235412597656,414.6293640136719,411.48577880859375,422.51800537109375,420.610107421875,415.26202392578125,412.2271728515625,421.292236328125,430.634033203125,436.0216979980469,440.7973327636719,440.6684265136719,445.8248596191406,440.0833740234375,446.71734619140625,448.89892578125,452.0919494628906,457.6847229003906,454.8586120605469,447.8577575683594,449.12701416015625,452.9744873046875,447.2528076171875,442.78057861328125,445.01171875,443.8218078613281,436.23590087890625,434.6195068359375,439.59747314453125,434.12371826171875,434.30218505859375,441.31298828125,440.9857482910156,434.3914489746094,422.47210693359375,424.9214172363281,412.6153564453125,413.7755432128906,424.2272644042969,408.5496826171875,411.0089111328125,412.89300537109375,425.466796875,410.3445129394531,407.89520263671875,394.83551025390625,395.747802734375,389.46087646484375,389.0543212890625,398.35577392578125,396.7394104003906,404.9005126953125,388.57830810546875,386.19842529296875,386.36700439453125,393.5959777832031,390.5913391113281,394.0422058105469,401.91571044921875,411.7823791503906,409.4718933105469,406.1598815917969,413.8945617675781,407.1018981933594,408.3414611816406,412.25836181640625,407.7762145996094,398.078125,386.53558349609375,371.8595275878906,370.739013671875,376.02435302734375,363.5794677734375,364.3632507324219,373.53558349609375,372.8583679199219,376.5133361816406,388.4841613769531,387.0002746582031,379.0927429199219,378.7840270996094,375.7066650390625,379.6803283691406,380.3973693847656,381.68212890625,387.39862060546875,387.0799560546875,382.6581115722656,379.2720031738281,377.2801818847656,376.36395263671875,383.554443359375,380.387451171875,390.6651916503906,393.15496826171875,397.1585388183594,393.4736633300781,393.95172119140625,389.2908630371094,399.39935302734375,404.40875244140625,410.3045349121094,409.0895080566406,406.390625,412.7544860839844,412.47564697265625,411.7784729003906,411.3004455566406,409.66717529296875,418.27178955078125,418.27178955078125,425.35272216796875,427.1054992675781,427.9421081542969,424.9045715332031,426.1394958496094,420.41302490234375,411.6589660644531,410.6630859375,411.9776916503906,417.7937927246094,403.65185546875,400.98284912109375,396.5809020996094,393.56329345703125,394.7982482910156,390.63531494140625,389.1614074707031,396.1526794433594,398.7420349121094,404.93658447265625,409.2887268066406,391.4918212890625,392.9856872558594,388.5240173339844,385.55999755859375,388.54998779296875,384.0899963378906,377.3900146484375,374.2200012207031,367.95001220703125,364.30999755859375,363.3800048828125,370.5299987792969,362.7900085449219,357.17999267578125,366.6099853515625,377.9700012207031,377.0899963378906,373.20001220703125,362.7900085449219,360.0199890136719,357.739990234375,356.55999755859375,365.9700012207031,357.6300048828125,366.82000732421875,371.1300048828125,368.5,365.4100036621094,374.2900085449219,378.8699951171875,384.9200134277344,382.0199890136719,379.9800109863281,389.0199890136719,386.2099914550781,384.5199890136719,374.8699951171875,371.010009765625,376.3500061035156,379.95001220703125],\"high\":[463.22051993826574,462.57035150578884,460.4130373694832,458.35417291583184,460.8858280192206,461.8216836025759,463.476622664264,462.1960182712331,463.0038523491198,463.919942376069,466.4811987877852,462.1073456337604,462.5703582237442,456.9848605880097,459.6052132868019,457.11293876181486,457.7433945901328,452.2268759486868,453.43852023575164,453.9212674314211,461.89065318734845,462.99397389613455,462.62948205998595,463.88054948467556,463.5455952344251,458.7974387254398,463.8410953138141,465.8211708085714,459.4207305999944,450.1876674085448,457.9082868957625,462.45562731524785,466.78548188150756,471.8468704837619,473.32969355435415,473.08257906373285,473.51754328114333,471.40205109462113,472.3807216657983,474.48631638605656,472.5092320583563,465.43117839173607,463.8297298859487,460.4092939939143,464.47230508019663,467.78394722040724,467.46756932998835,459.76676127684203,454.6954520501679,454.3494290853147,453.489446103823,442.93168671611863,435.3395834284582,434.6871333979894,438.9577017159584,436.53571226839364,436.94104773309544,445.1262583350566,448.4379568512328,452.87653246527395,447.7854900534315,447.5976501613361,445.8281271274784,446.7475417833549,452.6392970170899,452.47120137121067,446.44101509500166,436.54563498586,441.17204265347874,442.931684304537,441.45874873347236,433.6392679106509,430.5154097178561,428.30106103664184,423.8525838825361,432.8286208098192,433.18454495400056,432.1663637194288,434.68715412147407,436.0612101040459,428.40978836365167,427.35205429210276,422.32032684373695,424.59397547596285,421.54921593492463,423.8624284809466,419.6907462879158,421.95455087309057,430.69334404957186,436.0216979980468,441.13448178417855,442.7210680947924,446.80655908056025,444.7340999255641,446.72727212990196,449.18650563408687,452.0919494628906,458.200387511717,457.33767571847,454.91812632147673,449.6624701169323,453.0835818389499,453.9958483027275,445.1703995445369,446.91565282851775,446.8561793032968,441.27334507595015,442.0170238771549,440.39076139490294,441.00560136960956,436.0672770902297,442.06660302722275,443.8218128328768,446.2413853915548,434.41125532958233,425.0999025485545,422.47211585475065,419.3782512500081,426.0419558520609,422.30352267308285,412.43685414522116,415.4216381372007,426.06177817463373,421.44080381860226,411.32621816707115,403.0064941024103,402.67925504280765,400.65633572187966,392.48533683625664,399.8035385983029,400.58692186942926,405.1484190588463,400.4183176009376,390.83925522997254,393.70502620623034,394.39919195807806,391.84076652366394,396.1048037225104,403.6312333794285,411.9013693581638,412.97232996852904,412.75418506046395,413.9441309353551,410.5725870763427,413.12107295279543,412.7343529347155,412.33769767547756,408.291855079743,392.4655145076387,378.61249418792625,374.7749366416902,380.68497411680744,367.83354945752603,367.8688698501164,374.98960207775144,377.1706403184424,377.28017513374607,388.49413019242246,389.75893164678683,391.5515738460968,380.7061241839131,379.10271832908796,380.1384683809683,380.41730701486875,384.2914056552444,388.23518049333734,389.0418979580837,385.2872954288367,384.5802150528634,380.35756734891146,377.49927302854667,383.67394757819767,387.4982255615694,391.2627430970632,394.6388932756416,397.208322108785,398.5428362374419,394.8480331918537,392.4478773804343,401.23182193635006,405.1357465196418,411.34028877128935,411.71872227062175,411.31041790220996,413.97943466962624,413.391866239546,412.4556836890572,415.9115090600188,411.0614418214487,418.4212002072381,423.21151981805826,425.4622575648715,427.6532674277152,429.963802202433,427.74291828019767,426.85652111767564,423.5202560090412,415.52309761108154,413.7205338893691,413.41177265690214,417.8435760173275,418.2419155574279,404.17970852973673,402.4468205164776,399.59849929160004,395.1567609326414,399.91719360496876,392.50764709558,396.95936329916964,399.22005176233506,405.84286526277106,410.0456273794545,401.450910966257,394.579147692955,394.34012229351475,386.25,388.54998779296875,386.1199951171875,389.30999755859375,378.29998779296875,370.6199951171875,370.2099914550781,370.3999938964844,372.29998779296875,367.1099853515625,365.9100036621094,368.54998779296875,378.0,379.4599914550781,378.7200012207031,373.2900085449219,364.2099914550781,363.0299987792969,359.82000732421875,367.510009765625,370.260009765625,367.9800109863281,375.45001220703125,371.8500061035156,372.6700134277344,374.79998779296875,380.05999755859375,385.25,387.5799865722656,385.0,389.5199890136719,388.3999938964844,390.3900146484375,388.6300048828125,374.20001220703125,378.8699951171875,380.57000732421875],\"low\":[461.2207813676723,458.93535416832054,455.15264131534184,456.83712047557333,457.19172741394357,459.28015558764304,460.10761979136737,460.51151681616716,459.38854561116045,461.5163117943677,460.3834674297967,457.52666708172603,458.2556439190348,450.9462327293489,454.8472249887594,448.51306162481666,443.57774572304714,443.5974473509027,442.2281816015183,446.7990302092631,451.8131356831209,459.87121407866465,459.19151523985863,459.5560044066399,459.31953569933046,453.3892850109791,453.87195424054596,457.8714588390697,452.81719490262014,445.9764461819522,451.0872673948548,457.2854769888965,463.2761259992427,466.607544539395,470.6111691628179,470.4728112024703,470.2256705027333,469.23714464735207,468.42650410269573,470.1366532158194,462.92024253253254,460.1028558261161,459.331789329575,451.37392290910174,456.76156242338106,463.57269588491556,458.13561418240937,454.6361615385267,450.0986803394288,446.2927175430621,439.4124407818949,432.93741610762225,415.9441512869428,422.26099759477876,423.95142308177117,424.5346781339232,422.9233534873862,434.7760929251571,441.8245252134182,447.8645544659762,440.6085754190579,438.75007640900003,440.74697333660356,440.12421487931573,449.8021506939638,442.0815157066429,433.9160483867408,430.3572747041986,438.10751807548485,436.8817361726757,431.4249275370094,426.87755957227427,420.98573151795205,416.5273752810809,405.9399834174015,422.96283781372745,425.77038704288657,422.22147816219183,426.6304415699974,428.8348799661836,422.98263470528383,414.56015796540635,410.3687074830403,417.9805446642092,415.6277851487968,414.7281961413844,411.0310305093529,413.6309398298518,419.9378680923793,428.23188447143536,433.55847910607173,436.9894744870046,442.1260859856014,439.99413136206294,441.0353516427663,444.6745916954664,446.2909346958001,453.3513244447868,452.64727638335665,447.38176643167407,445.37867115268716,448.4725296114604,446.0529493440323,439.7561331394801,439.81561135084553,442.2054535434022,435.7103405772736,432.9932266474523,434.17328075554553,434.01462372496155,431.9619333384212,434.0146094059943,439.7660683471935,433.43949700113836,421.87712562282195,415.332386136087,412.58560889224606,411.53449026005103,414.102777437426,407.7662900436615,401.62811295868255,409.8982771759006,410.2453407475674,406.01111469269813,402.33219847437874,393.1794824727231,391.5135728980805,388.67748392424545,381.9245319583339,392.29692673655927,394.2702727900256,399.20856201041227,387.2792812745358,383.8680995174872,377.35313325777327,387.1107390175401,383.71935216445735,388.6081176351974,395.11317435868995,404.2856934406207,406.5961855333333,403.5221541519284,403.63123229115416,406.0805252468473,407.1118250194197,404.19644193071485,406.9432528615476,398.078125,386.4860143290133,370.1737522913565,367.486483305269,369.0036284494724,361.03098308594804,360.6883744980465,370.2889105384422,368.66556934032934,371.3645039167214,379.8098026748832,385.85498538676313,378.9732387064949,376.87189883102377,371.0358494624268,372.27076315463177,371.3744368394161,378.047067090451,381.7020200800238,384.08226030366467,381.9310870883159,377.4395342992379,373.127258498116,369.52206305495616,378.98322463302077,379.10272006385037,383.8133636257635,389.4302784858606,390.0278270867561,391.1432400346693,391.60136020227054,388.35470619513643,392.43792846497354,396.5211402271115,405.10588877053,406.7292087102475,405.155707562965,408.3226789963226,410.75271344845027,407.9243101442471,410.14518747689357,408.54179325446074,415.0151782306003,417.49498178666795,419.3075474968399,422.972483188537,425.13363748859143,422.8032181180557,423.7592588669933,419.49677528211595,410.7128404151961,410.08544169235375,409.70702033371197,412.3959525923642,403.5921033629647,399.55870653260496,394.3799517877281,393.4238820075808,388.4443441829889,388.73312520893785,386.8309840763645,388.60370262209443,392.5076350867595,400.81350683802816,406.78898546738606,390.3166560014087,389.519913084631,387.1895029104063,382.1099853515625,382.17999267578125,381.20001220703125,377.3800048828125,373.44000244140625,363.2900085449219,363.0299987792969,360.8699951171875,362.6000061035156,359.70001220703125,357.0400085449219,359.2099914550781,366.57000732421875,370.95001220703125,372.67999267578125,360.94000244140625,357.6700134277344,355.7099914550781,356.29998779296875,348.1099853515625,356.9599914550781,357.2799987792969,367.5199890136719,365.54998779296875,364.6099853515625,363.5400085449219,373.1099853515625,378.6700134277344,381.3500061035156,379.3299865722656,379.67999267578125,385.260009765625,383.2900085449219,374.760009765625,368.7900085449219,370.0,375.5299987792969],\"open\":[462.698421594101,462.32407813638133,458.63985090660196,458.27534859903824,458.1866814636852,461.6542345418459,460.18641404234324,462.008848102596,462.2453110373495,462.6097511659769,463.87070694484504,460.25536512881183,459.11267044699287,455.4481171600917,457.15234013278007,455.11320014550046,454.7585625872926,444.01119984453203,452.3253898476043,449.3307278595685,457.4872839626471,461.71336429127695,461.1715328043396,462.23546008133275,463.1811154492322,456.18694695355384,456.51202757900575,465.5256547758522,456.2672398674505,449.27821425542703,453.3609305057284,457.49309513220595,463.3848524971854,466.6569601891726,472.25217296117563,471.520676426014,472.45978286474065,470.1960436513577,470.84844425912456,473.7350054442367,471.69861022869173,462.53472131142144,462.5940369036953,457.4041104866488,459.90518843943073,466.1923589724666,466.78546443913797,455.911405158876,454.4779688856371,452.88638802340296,448.5565691896171,440.4603006900865,427.0851483078244,428.10335760369844,435.67569388631534,433.2438395533789,427.72771342285955,436.1897184269397,445.5217091767673,450.28652478956815,445.78862101585275,441.2412527498039,444.36508596280606,441.61694175756384,450.0097386724572,446.17411501257595,444.266213628056,434.8848708117567,438.6512410794835,438.84894978483493,438.147085436672,432.32447369113333,426.946743075598,427.7079224017071,406.3156087388995,424.6928078775693,427.08515110507835,430.06073790650487,427.4212730447816,435.4285509854193,426.8083351640208,426.6106384934223,414.81720238907917,420.2739979261272,417.68396488229035,423.21987420121394,416.07266383687795,414.9654641175031,424.9696361894637,428.6273001991835,434.331945744177,440.6188270864143,442.1260859856014,443.1673449891968,442.2054624289705,447.3817400586387,448.2741855384289,456.16753714400295,456.4848620839005,454.0554169741167,449.5137323511612,449.33523889932536,451.40772050749126,443.14750544454176,441.85835724877296,444.2184519870874,440.3907838600342,439.36937073292785,434.36169201086005,439.835460328614,433.1518959435267,434.1930947198821,443.17726233854705,444.78369474686116,433.25107052248364,420.1219538482033,422.2638527212785,413.74579565968503,418.75350303318476,420.04261787296315,408.6190902615176,411.5344833608006,413.58711354426896,420.9945602744624,407.657222216257,401.70746721179637,401.10257418673535,394.7363308640535,386.1091925233651,393.38772077558525,396.63034613002395,403.12549465904874,400.1208420908022,385.36546357658506,389.9566834536972,389.5402031563818,389.2724603968558,389.02458338337726,395.33133316910966,404.49392630422375,410.0866962528882,411.693168783268,405.9913057078747,408.9463069025536,411.3064116561258,404.6823589875329,410.46351106833333,405.9119600405998,391.5730576661437,376.6689168637618,373.6940684990385,374.1997357129782,367.40715777387805,364.01470689796395,370.36860027572,369.10377171155864,375.09916248890295,379.839678728561,389.45020228820897,388.63356786157743,379.6704007020671,374.7007872373399,375.01948165467763,374.3422564155411,380.54677804388876,383.5444577535018,385.6856591705736,384.2714792285503,382.0804737894117,373.5654608765115,372.08152594230745,380.9849810837629,386.79113868810555,384.50051283779845,390.86438981626435,392.54747551542175,397.2880116277475,394.13097751294976,392.2287761962975,392.7466578229037,400.24586034709495,405.9125726207121,407.47614042202906,407.4462861108971,408.6214395311792,412.6748105385001,407.98406224955716,413.551209607935,410.53361126449806,417.0667482330721,421.25951639625225,420.3034564551387,423.0322352943368,425.9801662145605,424.1676085940869,425.1136804525352,423.241402714664,415.3438109035657,411.21082373535467,410.4240456406023,413.5412418594565,417.6742705524675,400.554615541517,402.19784327418733,398.2938609922522,391.28269083344577,398.6424313708159,391.5217069190949,388.83274223995994,393.77245891935064,401.09236012785357,407.1076836446478,400.18608712590634,392.8562142263904,391.35239526954655,384.1400146484375,382.260009765625,385.05999755859375,386.1099853515625,376.5799865722656,370.5799865722656,366.4100036621094,368.0199890136719,364.3800048828125,366.80999755859375,361.79998779296875,361.0799865722656,372.3999938964844,373.3900146484375,375.6199951171875,368.9700012207031,363.9599914550781,358.239990234375,358.1700134277344,349.2099914550781,368.54998779296875,364.010009765625,375.1300048828125,368.989990234375,368.0299987792969,365.1199951171875,375.8900146484375,378.7900085449219,381.6199951171875,383.07000732421875,379.8699951171875,386.44000244140625,390.1400146484375,383.8999938964844,371.4700012207031,377.0,377.7099914550781],\"x\":[0,1,2,3,4,5,6,7,8,9,10,11,12,13,14,15,16,17,18,19,20,21,22,23,24,25,26,27,28,29,30,31,32,33,34,35,36,37,38,39,40,41,42,43,44,45,46,47,48,49,50,51,52,53,54,55,56,57,58,59,60,61,62,63,64,65,66,67,68,69,70,71,72,73,74,75,76,77,78,79,80,81,82,83,84,85,86,87,88,89,90,91,92,93,94,95,96,97,98,99,100,101,102,103,104,105,106,107,108,109,110,111,112,113,114,115,116,117,118,119,120,121,122,123,124,125,126,127,128,129,130,131,132,133,134,135,136,137,138,139,140,141,142,143,144,145,146,147,148,149,150,151,152,153,154,155,156,157,158,159,160,161,162,163,164,165,166,167,168,169,170,171,172,173,174,175,176,177,178,179,180,181,182,183,184,185,186,187,188,189,190,191,192,193,194,195,196,197,198,199,200,201,202,203,204,205,206,207,208,209,210,211,212,213,214,215,216,217,218,219,220,221,222,223,224,225,226,227,228,229,230,231,232,233,234,235,236,237,238,239,240,241,242,243,244,245,246,247,248,249,250,251],\"type\":\"candlestick\"},{\"line\":{\"color\":\"yellow\"},\"mode\":\"lines\",\"name\":\"SMA\",\"x\":[0,1,2,3,4,5,6,7,8,9,10,11,12,13,14,15,16,17,18,19,20,21,22,23,24,25,26,27,28,29,30,31,32,33,34,35,36,37,38,39,40,41,42,43,44,45,46,47,48,49,50,51,52,53,54,55,56,57,58,59,60,61,62,63,64,65,66,67,68,69,70,71,72,73,74,75,76,77,78,79,80,81,82,83,84,85,86,87,88,89,90,91,92,93,94,95,96,97,98,99,100,101,102,103,104,105,106,107,108,109,110,111,112,113,114,115,116,117,118,119,120,121,122,123,124,125,126,127,128,129,130,131,132,133,134,135,136,137,138,139,140,141,142,143,144,145,146,147,148,149,150,151,152,153,154,155,156,157,158,159,160,161,162,163,164,165,166,167,168,169,170,171,172,173,174,175,176,177,178,179,180,181,182,183,184,185,186,187,188,189,190,191,192,193,194,195,196,197,198,199,200,201,202,203,204,205,206,207,208,209,210,211,212,213,214,215,216,217,218,219,220,221,222,223,224,225,226,227,228,229,230,231,232,233,234,235,236,237,238,239,240,241,242,243,244,245,246,247,248,249,250,251],\"y\":[null,null,null,null,null,null,null,null,null,null,null,null,null,null,null,null,null,null,null,null,null,null,null,null,null,null,null,null,null,457.701176961263,457.5618479410807,457.625981648763,457.9094685872396,458.40749003092446,458.77773234049477,459.16282246907554,459.44366861979165,459.7224060058594,460.0395487467448,460.3790018717448,460.4596323649088,460.5054066975911,460.4491739908854,460.717626953125,460.94092712402346,461.50291646321614,462.01720072428384,462.31117553710936,462.4646443684896,462.28558858235675,461.6301584879557,460.6450236002604,459.8252695719401,458.6844126383464,457.6445668538411,456.6396087646484,455.7498301188151,455.2586171468099,455.0305928548177,455.1086883544922,454.56630147298176,453.9405466715495,453.17145182291665,452.3041615804037,451.6672047932943,450.7392812093099,449.562900797526,448.3786122639974,447.3370056152344,446.31714884440106,445.28509826660155,444.1742930094401,442.97089233398435,441.53551127115884,440.16965738932294,439.07335001627604,438.15399576822915,437.0092508951823,436.39634908040364,435.8678029378255,435.3873647054036,434.77610778808594,433.9987752278646,433.76613464355466,433.5058146158854,433.1377431233724,432.3155944824219,431.5333190917969,430.96226196289064,430.4258066813151,430.40277099609375,430.306239827474,430.4290405273438,430.23919474283855,430.05299987792966,430.21038920084635,430.7661661783854,431.5558186848958,432.01796875,432.23028055826825,432.79926147460935,433.5897450764974,434.3430623372396,435.1983978271484,435.9188608805338,436.28826599121095,436.44171244303385,436.7604075113932,436.98438618977866,437.0977427164714,437.3336975097656,438.2231516520182,439.20648396809895,439.6022654215495,439.6643320719401,439.98631184895834,439.99925130208334,439.7486948649088,439.53513590494794,438.61940205891926,437.62645467122394,436.7006072998047,436.0220052083333,435.0307098388672,433.7366383870443,431.93452453613287,430.056386311849,427.7822580973308,425.5887817382813,423.93871561686205,422.19246215820317,420.5899963378907,418.6341796875001,416.7481079101563,414.79328409830737,413.11908976236987,411.59760437011727,410.2450276692709,408.98896891276047,408.2442576090495,407.4165812174479,406.24481099446615,405.3417714436849,404.43211975097654,403.9610982259115,403.53899637858075,403.3776916503906,402.8544443766276,401.5980550130208,400.3750498453776,399.032719930013,397.80376485188805,395.74085388183596,394.20814514160156,393.0628245035807,392.3302530924479,391.68910420735676,391.6565470377604,391.58807881673175,390.94597778320315,390.3474650065104,389.3743367513021,389.07773742675784,388.8843688964844,388.72820638020835,388.52162780761716,388.4045817057292,388.0251118977865,387.27032165527345,386.12024841308596,385.016650390625,384.2631357828776,383.14623209635414,382.5983418782552,382.0921254475912,381.5887980143229,381.11204630533854,380.97449951171876,381.06634216308595,381.984336344401,383.1066609700521,384.24933369954425,385.76633504231773,387.16724751790366,388.47454427083335,389.7951202392578,390.9706247965495,391.7311676025391,392.4867309570312,393.7926991780599,395.1089579264323,396.7638264973958,398.34466552734375,399.9294901529948,401.3702382405599,402.66160074869794,403.7727030436198,404.73939819335936,405.7857676188151,406.9423512776693,408.32334594726564,408.9932596842448,409.6797729492188,409.87696329752606,409.8905741373698,409.81189778645836,409.7172861735026,409.55760904947914,409.7863362630208,409.76442565917966,409.7820200602213,409.74815979003904,409.1615702311198,408.71473897298176,407.9070566813151,407.00986836751304,406.23558553059894,405.3285705566406,404.25266520182294,402.784272257487,401.10687967936195,399.07212219238284,396.94793904622395,395.03420206705727,392.9637166341146,390.6650665283203,388.8716318766276,387.74866638183596,386.6295633951823,385.33697408040365,383.5035146077474,382.0491190592448,380.6076904296875,379.27366027832034,378.3538838704427,377.1149424235026,376.32109883626305,375.7200520833333,374.798296101888,373.6872283935547,372.6656758626302,371.65171813964844,371.4326578776042,371.0671346028646,370.78233439127604,370.8976674397787,370.819667561849,370.83400065104166,370.75,370.64300028483075,370.9230000813802,371.4443339029948],\"type\":\"scatter\"},{\"line\":{\"color\":\"Black\"},\"mode\":\"lines\",\"name\":\"Lower Bound\",\"x\":[0,1,2,3,4,5,6,7,8,9,10,11,12,13,14,15,16,17,18,19,20,21,22,23,24,25,26,27,28,29,30,31,32,33,34,35,36,37,38,39,40,41,42,43,44,45,46,47,48,49,50,51,52,53,54,55,56,57,58,59,60,61,62,63,64,65,66,67,68,69,70,71,72,73,74,75,76,77,78,79,80,81,82,83,84,85,86,87,88,89,90,91,92,93,94,95,96,97,98,99,100,101,102,103,104,105,106,107,108,109,110,111,112,113,114,115,116,117,118,119,120,121,122,123,124,125,126,127,128,129,130,131,132,133,134,135,136,137,138,139,140,141,142,143,144,145,146,147,148,149,150,151,152,153,154,155,156,157,158,159,160,161,162,163,164,165,166,167,168,169,170,171,172,173,174,175,176,177,178,179,180,181,182,183,184,185,186,187,188,189,190,191,192,193,194,195,196,197,198,199,200,201,202,203,204,205,206,207,208,209,210,211,212,213,214,215,216,217,218,219,220,221,222,223,224,225,226,227,228,229,230,231,232,233,234,235,236,237,238,239,240,241,242,243,244,245,246,247,248,249,250,251],\"y\":[null,null,null,null,null,null,null,null,null,null,null,null,null,null,null,null,null,null,null,null,null,null,null,null,null,null,null,null,null,446.8005159224351,446.77915774012337,446.7506304704328,446.6949292229357,446.11154149880565,445.6075827056416,445.140816630615,444.837590238908,444.6683710181857,444.3366141722587,444.0806120679218,444.1328060116944,444.1621728403388,444.12191546313653,444.6944805721989,444.9065590574419,446.06300933837707,448.063075066795,448.99701274515843,449.8069866067557,448.8824901681929,446.25023728386134,442.0510188193613,438.97259392817,435.14252303077984,431.64523817682533,428.2306514466048,426.5791261883919,425.85364795950045,425.4988764038278,425.6221525359111,424.68559229056893,423.94716020378115,423.19093468501967,423.05685454449366,423.3234793391541,423.34523092288316,422.691506838165,422.02069973644456,422.4528096930638,423.18349769364994,422.4743986650993,421.6051374680889,420.2109656237314,417.85424979495536,417.22368402359865,418.10299416667436,418.4575806540325,418.46436380001006,418.60082944586327,418.3846291387952,417.7685522686424,415.6057599136235,413.02686498153344,412.4358167533346,411.71974938902,410.49206294718005,408.47452028388545,407.84232824198693,408.0781735179515,408.8780990268802,408.90257548130273,409.0256833117778,408.8258238065896,409.09900925247746,409.6307388769031,409.2714637372719,408.41754898100606,407.1552368688571,406.38367813110796,406.16946390829133,406.0186398210351,405.85832486348846,406.38922348149885,407.8616685449982,408.73017825596094,408.97745527409023,409.1874738011619,409.8353455190647,410.08117725534055,410.2751648010268,410.74704666702576,413.0307153010655,416.11741141401006,417.3033767124315,417.5748030520879,419.12093503340907,419.2047460134394,417.8686768518955,417.1673646372346,413.5680158257251,410.64519899361704,408.28330255244856,407.53408941978483,405.094735273363,402.56039121776297,398.23673438886425,394.7644850229144,391.0924524789722,387.7471657076485,385.79929771185107,384.02797248347326,383.7599645218036,381.43322005770597,378.88142851581006,376.9092343573378,376.1143525399092,374.7728436938209,373.94216969253796,374.3176296265898,374.8714471079203,375.5189268975292,377.0297722029651,379.04077994864855,380.50833009262925,380.9687250263199,381.7030203858691,381.7486418219129,381.5086187077277,381.0350371870881,377.3106543012657,373.9317757952575,371.91305651511215,369.1189164371296,365.8287305512607,364.19988446227717,362.55238510954666,361.3919702473674,361.347408264642,361.24535400063087,360.38140556669146,359.5500122485027,358.6348195195711,358.13539745880877,357.7954141468195,357.5400210315306,357.3848031241142,357.27355241006444,356.90090835512143,356.4431767214071,356.52749499974084,356.5806404961011,356.97042721615355,358.23247220471563,359.18688819614823,360.3896110458786,362.2047002219281,363.80034401336127,364.16222622771045,364.0989736470433,364.12177093293025,363.98139228807054,362.9072285685376,364.0375312277566,365.7311700311245,365.73455048784024,366.221615560763,366.633039083288,366.3130843870117,366.3141863443663,366.4997320286051,367.0141469689491,367.5709198803786,367.8715305789583,368.39190499654467,369.33683841281197,369.84489533684354,370.88192019060557,372.72343609250197,375.1937617660594,378.2448699690783,381.8106155703821,384.1043587437043,387.0194583744246,387.8060398285142,387.86185869856797,387.57910411336775,387.1747930765446,386.49124251958494,387.42628311975074,387.3610096650731,387.3951854824073,387.36152261690523,385.8024296515449,384.6345573668776,382.7846666871673,380.6696654490359,379.12117204525805,377.1169764275424,374.3165399621179,371.406740690907,367.8323955380652,364.49271950771487,361.672135500835,360.494531398265,358.38644503228085,356.0452800544465,355.06374995569803,354.8469217758601,354.6829059907594,354.51608709634434,354.1635462011422,352.5168876857434,350.6808298915377,348.7314744948454,347.93067101360856,346.43661379104515,345.8587116675204,345.5963423315668,345.58310740848606,345.7319048527062,347.3173172003141,350.2368916969876,350.7351964847181,351.593577390774,352.1327373835405,351.8317642649517,352.03552844712203,352.0073534850187,352.02216560196587,351.96057763152476,352.1559916982818,352.56885865100924],\"type\":\"scatter\"},{\"line\":{\"color\":\"Purple\"},\"mode\":\"lines\",\"name\":\"Upper Bound\",\"x\":[0,1,2,3,4,5,6,7,8,9,10,11,12,13,14,15,16,17,18,19,20,21,22,23,24,25,26,27,28,29,30,31,32,33,34,35,36,37,38,39,40,41,42,43,44,45,46,47,48,49,50,51,52,53,54,55,56,57,58,59,60,61,62,63,64,65,66,67,68,69,70,71,72,73,74,75,76,77,78,79,80,81,82,83,84,85,86,87,88,89,90,91,92,93,94,95,96,97,98,99,100,101,102,103,104,105,106,107,108,109,110,111,112,113,114,115,116,117,118,119,120,121,122,123,124,125,126,127,128,129,130,131,132,133,134,135,136,137,138,139,140,141,142,143,144,145,146,147,148,149,150,151,152,153,154,155,156,157,158,159,160,161,162,163,164,165,166,167,168,169,170,171,172,173,174,175,176,177,178,179,180,181,182,183,184,185,186,187,188,189,190,191,192,193,194,195,196,197,198,199,200,201,202,203,204,205,206,207,208,209,210,211,212,213,214,215,216,217,218,219,220,221,222,223,224,225,226,227,228,229,230,231,232,233,234,235,236,237,238,239,240,241,242,243,244,245,246,247,248,249,250,251],\"y\":[null,null,null,null,null,null,null,null,null,null,null,null,null,null,null,null,null,null,null,null,null,null,null,null,null,null,null,null,null,468.6018380000909,468.34453814203806,468.5013328270932,469.1240079515435,470.7034385630433,471.9478819753479,473.18482830753607,474.0497470006753,474.7764409935331,475.7424833212309,476.6773916755678,476.78645871812324,476.8486405548434,476.7764325186343,476.740773334051,476.97529519060504,476.9428235880552,475.97132638177266,475.6253383290603,475.1223021302235,475.68868699652063,477.0100796920501,479.2390283811595,480.6779452157102,482.2263022459129,483.6438955308569,485.04856608269205,484.9205340492383,484.6635863341194,484.5623093058076,484.5952241730733,484.4470106553946,483.93393313931784,483.15196896081363,481.5514686163137,480.01093024743443,478.1333314957367,476.434294756887,474.73652479155027,472.22120153740497,469.4507999951522,468.09579786810383,466.74344855079124,465.7308190442373,465.2167727473623,463.1156307550472,460.0437058658777,457.8504108824258,455.5541379903545,454.191868714944,453.3509767368558,453.00617714216486,453.9464556625484,454.97068547419576,455.0964525337747,455.2918798427508,455.78342329956473,456.1566686809583,455.22430994160686,453.8463504078298,451.97351433575005,451.90296651088477,451.58679634317014,452.03225724809795,451.37938023319964,450.47526087895625,451.1493146644208,453.1147833757647,455.95640050093454,457.6522593688921,458.29109720824516,459.5798831281836,461.3211652895064,462.29690119298033,462.5351271092986,463.1075435051067,463.59907670833167,463.6959510849058,463.6854695037218,463.8875951242168,463.92032063191596,463.92034835250547,463.4155880029709,462.29555652218784,461.90115413066746,461.7538610917924,460.8516886645076,460.7937565907273,461.62871287792217,461.9029071726613,463.6707882921134,464.60771034883084,465.1179120471608,464.5099209968818,464.9666844043714,464.91288555632565,465.6323146834015,465.3482876007836,464.4720637156894,463.4303977689141,462.07813352187304,460.3569518329331,457.42002815397774,455.8351393172942,454.61478730450256,452.6773338392769,450.12382698483054,448.42236504641363,446.5478856460038,443.66030819893115,441.6170681101787,439.31423553736664,435.4598497859672,431.6427629387212,428.35590940932383,426.9534714255031,425.3749723712924,425.0067414788683,424.20027004552753,422.16107283895354,423.4394453894895,424.1336640647685,423.69447318866395,422.3627913265423,422.5875597319424,421.92576454488426,422.1081210753491,421.98623816734613,421.96568581087877,421.93080363283264,421.51054999971484,421.1449177645181,420.1138539830331,420.0200773947069,419.97332364614925,419.9163917288861,419.6584524911201,419.53561100139393,419.1493154404515,418.0974665891398,415.7130018264311,413.45266028514885,411.55584434960167,408.05999198799265,406.0097955603622,403.79463984930373,400.9728958067177,398.4237485973158,397.7867727957271,398.0337106791286,399.8469017558718,402.2319296520336,405.5914388305509,407.4951388568789,408.6033250046828,411.21453805382646,413.36862491775264,415.308210509811,417.14925081806643,418.65927556969615,421.0856663275147,423.20376888391553,425.95673311441305,428.8178004757292,431.4670753094449,433.4036380683078,435.47830616055234,436.66348589663403,436.75536029421676,436.3777734715708,435.63983258626024,434.8360763241492,433.88216062478523,432.340087524013,431.9478867665379,431.91928957617165,432.044691459549,432.2597792704606,432.62397557937334,432.1463894062909,432.16784165328625,432.1688546380353,432.13479696317285,432.5207108106947,432.79492057908595,433.0294466754629,433.35007128599017,433.34999901593983,433.54016468573883,434.188790441528,434.16180382406696,434.3813638206587,433.6515248770508,432.2237425916129,429.57387273584953,427.5409882359483,425.28485300219415,422.67951379755715,420.6504109878118,418.57622079960515,416.15786106446296,412.84348301435256,411.58135043274615,410.53455096783733,409.8158460617953,408.77709672727684,407.7932710559601,406.78348600500567,405.8437618350998,404.01348479528997,401.6425519344032,398.01403452494634,393.0665445823093,392.1301192704903,390.5406918149552,389.4319313990116,389.96357061460566,389.6038066765759,389.6606478170646,389.47783439803413,389.32542293813674,389.69000846447864,390.31980915498036],\"type\":\"scatter\"}],                        {\"template\":{\"data\":{\"bar\":[{\"error_x\":{\"color\":\"#2a3f5f\"},\"error_y\":{\"color\":\"#2a3f5f\"},\"marker\":{\"line\":{\"color\":\"#E5ECF6\",\"width\":0.5},\"pattern\":{\"fillmode\":\"overlay\",\"size\":10,\"solidity\":0.2}},\"type\":\"bar\"}],\"barpolar\":[{\"marker\":{\"line\":{\"color\":\"#E5ECF6\",\"width\":0.5},\"pattern\":{\"fillmode\":\"overlay\",\"size\":10,\"solidity\":0.2}},\"type\":\"barpolar\"}],\"carpet\":[{\"aaxis\":{\"endlinecolor\":\"#2a3f5f\",\"gridcolor\":\"white\",\"linecolor\":\"white\",\"minorgridcolor\":\"white\",\"startlinecolor\":\"#2a3f5f\"},\"baxis\":{\"endlinecolor\":\"#2a3f5f\",\"gridcolor\":\"white\",\"linecolor\":\"white\",\"minorgridcolor\":\"white\",\"startlinecolor\":\"#2a3f5f\"},\"type\":\"carpet\"}],\"choropleth\":[{\"colorbar\":{\"outlinewidth\":0,\"ticks\":\"\"},\"type\":\"choropleth\"}],\"contour\":[{\"colorbar\":{\"outlinewidth\":0,\"ticks\":\"\"},\"colorscale\":[[0.0,\"#0d0887\"],[0.1111111111111111,\"#46039f\"],[0.2222222222222222,\"#7201a8\"],[0.3333333333333333,\"#9c179e\"],[0.4444444444444444,\"#bd3786\"],[0.5555555555555556,\"#d8576b\"],[0.6666666666666666,\"#ed7953\"],[0.7777777777777778,\"#fb9f3a\"],[0.8888888888888888,\"#fdca26\"],[1.0,\"#f0f921\"]],\"type\":\"contour\"}],\"contourcarpet\":[{\"colorbar\":{\"outlinewidth\":0,\"ticks\":\"\"},\"type\":\"contourcarpet\"}],\"heatmap\":[{\"colorbar\":{\"outlinewidth\":0,\"ticks\":\"\"},\"colorscale\":[[0.0,\"#0d0887\"],[0.1111111111111111,\"#46039f\"],[0.2222222222222222,\"#7201a8\"],[0.3333333333333333,\"#9c179e\"],[0.4444444444444444,\"#bd3786\"],[0.5555555555555556,\"#d8576b\"],[0.6666666666666666,\"#ed7953\"],[0.7777777777777778,\"#fb9f3a\"],[0.8888888888888888,\"#fdca26\"],[1.0,\"#f0f921\"]],\"type\":\"heatmap\"}],\"heatmapgl\":[{\"colorbar\":{\"outlinewidth\":0,\"ticks\":\"\"},\"colorscale\":[[0.0,\"#0d0887\"],[0.1111111111111111,\"#46039f\"],[0.2222222222222222,\"#7201a8\"],[0.3333333333333333,\"#9c179e\"],[0.4444444444444444,\"#bd3786\"],[0.5555555555555556,\"#d8576b\"],[0.6666666666666666,\"#ed7953\"],[0.7777777777777778,\"#fb9f3a\"],[0.8888888888888888,\"#fdca26\"],[1.0,\"#f0f921\"]],\"type\":\"heatmapgl\"}],\"histogram\":[{\"marker\":{\"pattern\":{\"fillmode\":\"overlay\",\"size\":10,\"solidity\":0.2}},\"type\":\"histogram\"}],\"histogram2d\":[{\"colorbar\":{\"outlinewidth\":0,\"ticks\":\"\"},\"colorscale\":[[0.0,\"#0d0887\"],[0.1111111111111111,\"#46039f\"],[0.2222222222222222,\"#7201a8\"],[0.3333333333333333,\"#9c179e\"],[0.4444444444444444,\"#bd3786\"],[0.5555555555555556,\"#d8576b\"],[0.6666666666666666,\"#ed7953\"],[0.7777777777777778,\"#fb9f3a\"],[0.8888888888888888,\"#fdca26\"],[1.0,\"#f0f921\"]],\"type\":\"histogram2d\"}],\"histogram2dcontour\":[{\"colorbar\":{\"outlinewidth\":0,\"ticks\":\"\"},\"colorscale\":[[0.0,\"#0d0887\"],[0.1111111111111111,\"#46039f\"],[0.2222222222222222,\"#7201a8\"],[0.3333333333333333,\"#9c179e\"],[0.4444444444444444,\"#bd3786\"],[0.5555555555555556,\"#d8576b\"],[0.6666666666666666,\"#ed7953\"],[0.7777777777777778,\"#fb9f3a\"],[0.8888888888888888,\"#fdca26\"],[1.0,\"#f0f921\"]],\"type\":\"histogram2dcontour\"}],\"mesh3d\":[{\"colorbar\":{\"outlinewidth\":0,\"ticks\":\"\"},\"type\":\"mesh3d\"}],\"parcoords\":[{\"line\":{\"colorbar\":{\"outlinewidth\":0,\"ticks\":\"\"}},\"type\":\"parcoords\"}],\"pie\":[{\"automargin\":true,\"type\":\"pie\"}],\"scatter\":[{\"marker\":{\"colorbar\":{\"outlinewidth\":0,\"ticks\":\"\"}},\"type\":\"scatter\"}],\"scatter3d\":[{\"line\":{\"colorbar\":{\"outlinewidth\":0,\"ticks\":\"\"}},\"marker\":{\"colorbar\":{\"outlinewidth\":0,\"ticks\":\"\"}},\"type\":\"scatter3d\"}],\"scattercarpet\":[{\"marker\":{\"colorbar\":{\"outlinewidth\":0,\"ticks\":\"\"}},\"type\":\"scattercarpet\"}],\"scattergeo\":[{\"marker\":{\"colorbar\":{\"outlinewidth\":0,\"ticks\":\"\"}},\"type\":\"scattergeo\"}],\"scattergl\":[{\"marker\":{\"colorbar\":{\"outlinewidth\":0,\"ticks\":\"\"}},\"type\":\"scattergl\"}],\"scattermapbox\":[{\"marker\":{\"colorbar\":{\"outlinewidth\":0,\"ticks\":\"\"}},\"type\":\"scattermapbox\"}],\"scatterpolar\":[{\"marker\":{\"colorbar\":{\"outlinewidth\":0,\"ticks\":\"\"}},\"type\":\"scatterpolar\"}],\"scatterpolargl\":[{\"marker\":{\"colorbar\":{\"outlinewidth\":0,\"ticks\":\"\"}},\"type\":\"scatterpolargl\"}],\"scatterternary\":[{\"marker\":{\"colorbar\":{\"outlinewidth\":0,\"ticks\":\"\"}},\"type\":\"scatterternary\"}],\"surface\":[{\"colorbar\":{\"outlinewidth\":0,\"ticks\":\"\"},\"colorscale\":[[0.0,\"#0d0887\"],[0.1111111111111111,\"#46039f\"],[0.2222222222222222,\"#7201a8\"],[0.3333333333333333,\"#9c179e\"],[0.4444444444444444,\"#bd3786\"],[0.5555555555555556,\"#d8576b\"],[0.6666666666666666,\"#ed7953\"],[0.7777777777777778,\"#fb9f3a\"],[0.8888888888888888,\"#fdca26\"],[1.0,\"#f0f921\"]],\"type\":\"surface\"}],\"table\":[{\"cells\":{\"fill\":{\"color\":\"#EBF0F8\"},\"line\":{\"color\":\"white\"}},\"header\":{\"fill\":{\"color\":\"#C8D4E3\"},\"line\":{\"color\":\"white\"}},\"type\":\"table\"}]},\"layout\":{\"annotationdefaults\":{\"arrowcolor\":\"#2a3f5f\",\"arrowhead\":0,\"arrowwidth\":1},\"autotypenumbers\":\"strict\",\"coloraxis\":{\"colorbar\":{\"outlinewidth\":0,\"ticks\":\"\"}},\"colorscale\":{\"diverging\":[[0,\"#8e0152\"],[0.1,\"#c51b7d\"],[0.2,\"#de77ae\"],[0.3,\"#f1b6da\"],[0.4,\"#fde0ef\"],[0.5,\"#f7f7f7\"],[0.6,\"#e6f5d0\"],[0.7,\"#b8e186\"],[0.8,\"#7fbc41\"],[0.9,\"#4d9221\"],[1,\"#276419\"]],\"sequential\":[[0.0,\"#0d0887\"],[0.1111111111111111,\"#46039f\"],[0.2222222222222222,\"#7201a8\"],[0.3333333333333333,\"#9c179e\"],[0.4444444444444444,\"#bd3786\"],[0.5555555555555556,\"#d8576b\"],[0.6666666666666666,\"#ed7953\"],[0.7777777777777778,\"#fb9f3a\"],[0.8888888888888888,\"#fdca26\"],[1.0,\"#f0f921\"]],\"sequentialminus\":[[0.0,\"#0d0887\"],[0.1111111111111111,\"#46039f\"],[0.2222222222222222,\"#7201a8\"],[0.3333333333333333,\"#9c179e\"],[0.4444444444444444,\"#bd3786\"],[0.5555555555555556,\"#d8576b\"],[0.6666666666666666,\"#ed7953\"],[0.7777777777777778,\"#fb9f3a\"],[0.8888888888888888,\"#fdca26\"],[1.0,\"#f0f921\"]]},\"colorway\":[\"#636efa\",\"#EF553B\",\"#00cc96\",\"#ab63fa\",\"#FFA15A\",\"#19d3f3\",\"#FF6692\",\"#B6E880\",\"#FF97FF\",\"#FECB52\"],\"font\":{\"color\":\"#2a3f5f\"},\"geo\":{\"bgcolor\":\"white\",\"lakecolor\":\"white\",\"landcolor\":\"#E5ECF6\",\"showlakes\":true,\"showland\":true,\"subunitcolor\":\"white\"},\"hoverlabel\":{\"align\":\"left\"},\"hovermode\":\"closest\",\"mapbox\":{\"style\":\"light\"},\"paper_bgcolor\":\"white\",\"plot_bgcolor\":\"#E5ECF6\",\"polar\":{\"angularaxis\":{\"gridcolor\":\"white\",\"linecolor\":\"white\",\"ticks\":\"\"},\"bgcolor\":\"#E5ECF6\",\"radialaxis\":{\"gridcolor\":\"white\",\"linecolor\":\"white\",\"ticks\":\"\"}},\"scene\":{\"xaxis\":{\"backgroundcolor\":\"#E5ECF6\",\"gridcolor\":\"white\",\"gridwidth\":2,\"linecolor\":\"white\",\"showbackground\":true,\"ticks\":\"\",\"zerolinecolor\":\"white\"},\"yaxis\":{\"backgroundcolor\":\"#E5ECF6\",\"gridcolor\":\"white\",\"gridwidth\":2,\"linecolor\":\"white\",\"showbackground\":true,\"ticks\":\"\",\"zerolinecolor\":\"white\"},\"zaxis\":{\"backgroundcolor\":\"#E5ECF6\",\"gridcolor\":\"white\",\"gridwidth\":2,\"linecolor\":\"white\",\"showbackground\":true,\"ticks\":\"\",\"zerolinecolor\":\"white\"}},\"shapedefaults\":{\"line\":{\"color\":\"#2a3f5f\"}},\"ternary\":{\"aaxis\":{\"gridcolor\":\"white\",\"linecolor\":\"white\",\"ticks\":\"\"},\"baxis\":{\"gridcolor\":\"white\",\"linecolor\":\"white\",\"ticks\":\"\"},\"bgcolor\":\"#E5ECF6\",\"caxis\":{\"gridcolor\":\"white\",\"linecolor\":\"white\",\"ticks\":\"\"}},\"title\":{\"x\":0.05},\"xaxis\":{\"automargin\":true,\"gridcolor\":\"white\",\"linecolor\":\"white\",\"ticks\":\"\",\"title\":{\"standoff\":15},\"zerolinecolor\":\"white\",\"zerolinewidth\":2},\"yaxis\":{\"automargin\":true,\"gridcolor\":\"white\",\"linecolor\":\"white\",\"ticks\":\"\",\"title\":{\"standoff\":15},\"zerolinecolor\":\"white\",\"zerolinewidth\":2}}},\"shapes\":[{\"line\":{\"color\":\"gray\",\"width\":1},\"type\":\"line\",\"x0\":52,\"x1\":253,\"y0\":415.9441512869428,\"y1\":415.9441512869428},{\"line\":{\"color\":\"gray\",\"width\":1},\"type\":\"line\",\"x0\":128,\"x1\":253,\"y0\":381.9245319583339,\"y1\":381.9245319583339},{\"line\":{\"color\":\"gray\",\"width\":1},\"type\":\"line\",\"x0\":170,\"x1\":253,\"y0\":369.52206305495616,\"y1\":369.52206305495616},{\"line\":{\"color\":\"violet\",\"width\":1},\"type\":\"line\",\"x0\":59,\"x1\":253,\"y0\":452.87653246527395,\"y1\":452.87653246527395},{\"line\":{\"color\":\"violet\",\"width\":1},\"type\":\"line\",\"x0\":97,\"x1\":253,\"y0\":458.200387511717,\"y1\":458.200387511717},{\"line\":{\"color\":\"violet\",\"width\":1},\"type\":\"line\",\"x0\":166,\"x1\":253,\"y0\":389.0418979580837,\"y1\":389.0418979580837},{\"line\":{\"color\":\"violet\",\"width\":1},\"type\":\"line\",\"x0\":193,\"x1\":253,\"y0\":429.963802202433,\"y1\":429.963802202433},{\"line\":{\"color\":\"violet\",\"width\":1},\"type\":\"line\",\"x0\":211,\"x1\":253,\"y0\":410.0456273794545,\"y1\":410.0456273794545}]},                        {\"responsive\": true}                    ).then(function(){\n",
       "                            \n",
       "var gd = document.getElementById('008feec9-3cef-469c-9b42-5815218db7b2');\n",
       "var x = new MutationObserver(function (mutations, observer) {{\n",
       "        var display = window.getComputedStyle(gd).display;\n",
       "        if (!display || display === 'none') {{\n",
       "            console.log([gd, 'removed!']);\n",
       "            Plotly.purge(gd);\n",
       "            observer.disconnect();\n",
       "        }}\n",
       "}});\n",
       "\n",
       "// Listen for the removal of the full notebook cells\n",
       "var notebookContainer = gd.closest('#notebook-container');\n",
       "if (notebookContainer) {{\n",
       "    x.observe(notebookContainer, {childList: true});\n",
       "}}\n",
       "\n",
       "// Listen for the clearing of the current output cell\n",
       "var outputEl = gd.closest('.output');\n",
       "if (outputEl) {{\n",
       "    x.observe(outputEl, {childList: true});\n",
       "}}\n",
       "\n",
       "                        })                };                });            </script>        </div>"
      ]
     },
     "metadata": {},
     "output_type": "display_data"
    }
   ],
   "source": [
    "s = 0\n",
    "e = (len(data.index) + 1)\n",
    "dfpl = sr_df[s:e]\n",
    "import plotly.graph_objects as go\n",
    "from datetime import datetime\n",
    "import matplotlib.pyplot as plt\n",
    "\n",
    "fig = go.Figure(data=[go.Candlestick(x=dfpl.index,\n",
    "                open=dfpl['Open'],\n",
    "                high=dfpl['High'],\n",
    "                low=dfpl['Low'],\n",
    "                close=dfpl['Close'])])\n",
    "\n",
    "fig.add_trace(go.Scatter(\n",
    "    x=data.index,\n",
    "    y=data['SMA'],\n",
    "    mode=\"lines\",\n",
    "    name=\"SMA\",\n",
    "    line_color=\"yellow\", \n",
    "))\n",
    "\n",
    "fig.add_trace(go.Scatter(\n",
    "    x=data.index,\n",
    "    y=data['Lower'],\n",
    "    mode=\"lines\",\n",
    "    name=\"Lower Bound\",\n",
    "    line_color=\"Black\", \n",
    "    \n",
    "))\n",
    "\n",
    "fig.add_trace(go.Scatter(\n",
    "    x=data.index,\n",
    "    y=data['Upper'],\n",
    "    mode=\"lines\",\n",
    "    name=\"Upper Bound\",\n",
    "    line_color=\"Purple\"\n",
    "))\n",
    "\n",
    "c=0\n",
    "while (1):\n",
    "    if(c>len(ss)-1 ):\n",
    "        break\n",
    "    fig.add_shape(type='line', x0=ss[c][0], y0=ss[c][1],\n",
    "                  x1=e,\n",
    "                  y1=ss[c][1],\n",
    "                  line=dict(color=\"gray\",width=1)\n",
    "                  )\n",
    "    c+=1\n",
    "\n",
    "c=0\n",
    "while (1):\n",
    "    if(c>len(rr)-1 ):\n",
    "        break\n",
    "    fig.add_shape(type='line', x0=rr[c][0], y0=rr[c][1],\n",
    "                  x1=e,\n",
    "                  y1=rr[c][1],\n",
    "                  line=dict(color=\"violet\",width=1)\n",
    "                  )\n",
    "    c+=1    \n",
    "\n",
    "# fig.add_shape(go.Scatter(\n",
    "#     x=(data[data[\"position\"]==1].index),\n",
    "#     y=data['Close'],\n",
    "#     text=\"dot\",\n",
    "# ))\n",
    "    \n",
    "fig.show()"
   ]
  },
  {
   "cell_type": "code",
   "execution_count": null,
   "id": "363d4df8-8f83-4e26-a503-2bf90185622d",
   "metadata": {},
   "outputs": [],
   "source": []
  }
 ],
 "metadata": {
  "kernelspec": {
   "display_name": "Python 3 (ipykernel)",
   "language": "python",
   "name": "python3"
  },
  "language_info": {
   "codemirror_mode": {
    "name": "ipython",
    "version": 3
   },
   "file_extension": ".py",
   "mimetype": "text/x-python",
   "name": "python",
   "nbconvert_exporter": "python",
   "pygments_lexer": "ipython3",
   "version": "3.7.13"
  }
 },
 "nbformat": 4,
 "nbformat_minor": 5
}
